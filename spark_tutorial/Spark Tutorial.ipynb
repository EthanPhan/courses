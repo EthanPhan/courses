{
 "cells": [
  {
   "cell_type": "code",
   "execution_count": 1,
   "metadata": {},
   "outputs": [],
   "source": [
    "import findspark\n",
    "findspark.init()\n",
    "from pyspark import SparkContext\n",
    "from pyspark import SparkConf"
   ]
  },
  {
   "cell_type": "code",
   "execution_count": 2,
   "metadata": {},
   "outputs": [
    {
     "data": {
      "text/plain": [
       "<pyspark.conf.SparkConf at 0x107393f60>"
      ]
     },
     "execution_count": 2,
     "metadata": {},
     "output_type": "execute_result"
    }
   ],
   "source": [
    "# Config spark setting (optionally)\n",
    "conf = SparkConf()\n",
    "conf.set('spark.executor.memory', '1g')\n",
    "conf.set('spark.core.max', '2')\n",
    "\n",
    "conf.setAppName('Spark Tutorial')"
   ]
  },
  {
   "cell_type": "code",
   "execution_count": 3,
   "metadata": {},
   "outputs": [],
   "source": [
    "# Initialize spark context. run only 1 or otherwise you get an error\n",
    "sc = SparkContext('local', conf)"
   ]
  },
  {
   "cell_type": "markdown",
   "metadata": {},
   "source": [
    "## Data transformation\n",
    "\n",
    "* Perform operation on one RDD and create a new RDD.\n",
    "* Operate on one element at a time.\n",
    "\n",
    "### Map transformation\n",
    "\n",
    "`newrdd = rdd.map(function)`\n",
    "\n",
    "* Works similar to MapReduce `Map`\n",
    "\n",
    "* Result can be of different type.\n",
    "\n",
    "* Use cases:\n",
    "    * Data standardization\n",
    "    * Element level computation\n",
    "    * Add new atribute\n",
    "\n",
    "### flatMap\n",
    "\n",
    "`newrdd = rdd.flatMap(function)`\n",
    "\n",
    "* Works the same way as `map`.\n",
    "\n",
    "* Can return more element than the original map.\n",
    "\n",
    "* Use to break up elements in the original map and create a new map.\n",
    "\n",
    "### filter\n",
    "\n",
    "`newrdd = rdd.filter(function)`\n",
    "* Select elements in RDD that match a condition\n",
    "\n",
    "### Set Operations\n",
    "\n",
    "Set operations are performed on two RDDs.\n",
    "* Union - Return a new dataset that contains the union of the elements in the source dataset and the argument. `unionrdd = firstrdd.union(secondrdd)`\n",
    "* Intersection - Return a new dataset that contains the intersection of the elements in the source dataset and the argument. `unionrdd = firstrdd.intersection(secondrdd)`\n",
    "\n",
    "### Pair RDDs\n",
    "A special type of RDDs that can store key value pairs.\n",
    "\n",
    "All transformations for regular RDD are available for Pair RDDs.\n",
    "\n",
    "Some special operations:\n",
    "* mapValues - transform each value without changing the key.\n",
    "* flatMapValues - generate multiple values with the same key."
   ]
  },
  {
   "cell_type": "markdown",
   "metadata": {},
   "source": [
    "## Actions\n",
    "\n",
    "* Act on a RDD and produce a result (not and RDD).\n",
    "* Lazy evaluation.\n",
    "* Simple actions:\n",
    "    * collect - return all elements in the RDD as an array. Use to trigger execution or print values.\n",
    "    * count - use to count the number of element in the RDD.\n",
    "    * first - return the first element of the RDD.\n",
    "    * take(n) - return the first n elements.\n",
    "\n",
    "### reduce\n",
    "* Perform an operation across all elements of and RDD:\n",
    "    * sum, count, etc.\n",
    "* The operation is a function that take as input two values.\n",
    "* The function is call for every element in the RDD.\n",
    "```\n",
    "if the inputrdd = [a, b, c, d, e] and the function is func(x, y)\n",
    "=> func( func( func( func(a, b), c), d), e)\n",
    "```\n",
    "\n",
    "### aggregate\n",
    "* Performs parallel computation on partitions and combine them.\n",
    "* A sequence operation happens on each partition.\n",
    "* A combine operation help combine the results.\n",
    "* Can do multiple computations at the same time.\n",
    "* Take an initial value for each operation - it should be an identity value.\n",
    "    * rdd = [3, 5, 4, 7, 4]\n",
    "    * seqOp = (lambda x, y: (x[0] + y, x[1] * y))\n",
    "    * combOp = (lambda x, y: (x[0] + y[0], x[1] * y[1]))\n",
    "    * colldata.aggregate((0, 1), seqOp, combOp)\n",
    "    * if there are 2 partitions: rdd1 = [3, 5, 4], rdd2= [7, 4]. sequence operation will produce [(12, 60), (11, 28)] and combine operation will produce (23, 1680)\n",
    "    \n",
    "### Pair RDD actions\n",
    "* `countByKey` - produces a count by each key in the RDD\n",
    "* `groupByKey` - perform agregation like sum, average by key\n",
    "* `reduceByKey` - perform reduce by by key\n",
    "* `aggregateByKey`"
   ]
  },
  {
   "cell_type": "markdown",
   "metadata": {},
   "source": [
    "\n",
    "## Loading and Storing data\n",
    "\n",
    "* RDDs can be create from number of sources:\n",
    "    * Text file\n",
    "    * JSON\n",
    "    * Parallelize() on collections\n",
    "    * Sequence file\n",
    "* For optimization, use language specific library for persistent than using Spark library."
   ]
  },
  {
   "cell_type": "markdown",
   "metadata": {},
   "source": [
    "## Partitioning\n",
    "\n",
    "* By default all RDDs are partitioned\n",
    "    * spark.default.parallelism parameter\n",
    "    * Default is the total number of core available across the entire cluster.\n",
    "* Can be specified during RDD creation\n",
    "* Derived RDD take the same number as the source RDD\n",
    "\n",
    "## Persistent\n",
    "\n",
    "* By defalt, Spark loads an RDD whenever it is required, It drops it once the action is over.\n",
    "    * It will load and re-compute an RDD chain, each time a different operation is performed.\n",
    "* Persistent allowes intermediate RDD to be persisted so it doesn't need to be re-computed."
   ]
  },
  {
   "cell_type": "markdown",
   "metadata": {},
   "source": [
    "## Advance Spark\n",
    "\n",
    "### Broadcast variables\n",
    "\n",
    "* A read-only variable that is shared by all nodes\n",
    "* Used for lookup table or similar functions\n",
    "* Spark optimizes distribution and storage for better performance\n",
    "\n",
    "### Accumulators\n",
    "\n",
    "* A shared variable that can be updated by all nodes\n",
    "* Help compute items not done through reduce operations\n",
    "* Spark optimizes distribution and takes care of race condition"
   ]
  },
  {
   "cell_type": "markdown",
   "metadata": {},
   "source": [
    "### Example"
   ]
  },
  {
   "cell_type": "markdown",
   "metadata": {},
   "source": [
    "**Loading data from text file**"
   ]
  },
  {
   "cell_type": "code",
   "execution_count": 4,
   "metadata": {},
   "outputs": [
    {
     "data": {
      "text/plain": [
       "data/auto-data.csv MapPartitionsRDD[1] at textFile at NativeMethodAccessorImpl.java:0"
      ]
     },
     "execution_count": 4,
     "metadata": {},
     "output_type": "execute_result"
    }
   ],
   "source": [
    "# Load the file, lazy initialization\n",
    "autoData = sc.textFile('data/auto-data.csv')\n",
    "autoData.cache()"
   ]
  },
  {
   "cell_type": "code",
   "execution_count": 5,
   "metadata": {
    "scrolled": false
   },
   "outputs": [
    {
     "data": {
      "text/plain": [
       "198"
      ]
     },
     "execution_count": 5,
     "metadata": {},
     "output_type": "execute_result"
    }
   ],
   "source": [
    "autoData.count()"
   ]
  },
  {
   "cell_type": "code",
   "execution_count": 6,
   "metadata": {},
   "outputs": [
    {
     "data": {
      "text/plain": [
       "'MAKE,FUELTYPE,ASPIRE,DOORS,BODY,DRIVE,CYLINDERS,HP,RPM,MPG-CITY,MPG-HWY,PRICE'"
      ]
     },
     "execution_count": 6,
     "metadata": {},
     "output_type": "execute_result"
    }
   ],
   "source": [
    "autoData.first()"
   ]
  },
  {
   "cell_type": "code",
   "execution_count": 7,
   "metadata": {},
   "outputs": [
    {
     "data": {
      "text/plain": [
       "['MAKE,FUELTYPE,ASPIRE,DOORS,BODY,DRIVE,CYLINDERS,HP,RPM,MPG-CITY,MPG-HWY,PRICE',\n",
       " 'subaru,gas,std,two,hatchback,fwd,four,69,4900,31,36,5118',\n",
       " 'chevrolet,gas,std,two,hatchback,fwd,three,48,5100,47,53,5151',\n",
       " 'mazda,gas,std,two,hatchback,fwd,four,68,5000,30,31,5195',\n",
       " 'toyota,gas,std,two,hatchback,fwd,four,62,4800,35,39,5348']"
      ]
     },
     "execution_count": 7,
     "metadata": {},
     "output_type": "execute_result"
    }
   ],
   "source": [
    "autoData.take(5)"
   ]
  },
  {
   "cell_type": "code",
   "execution_count": 8,
   "metadata": {},
   "outputs": [
    {
     "name": "stdout",
     "output_type": "stream",
     "text": [
      "MAKE,FUELTYPE,ASPIRE,DOORS,BODY,DRIVE,CYLINDERS,HP,RPM,MPG-CITY,MPG-HWY,PRICE\n",
      "subaru,gas,std,two,hatchback,fwd,four,69,4900,31,36,5118\n",
      "chevrolet,gas,std,two,hatchback,fwd,three,48,5100,47,53,5151\n",
      "mazda,gas,std,two,hatchback,fwd,four,68,5000,30,31,5195\n",
      "toyota,gas,std,two,hatchback,fwd,four,62,4800,35,39,5348\n",
      "mitsubishi,gas,std,two,hatchback,fwd,four,68,5500,37,41,5389\n",
      "honda,gas,std,two,hatchback,fwd,four,60,5500,38,42,5399\n",
      "nissan,gas,std,two,sedan,fwd,four,69,5200,31,37,5499\n",
      "dodge,gas,std,two,hatchback,fwd,four,68,5500,37,41,5572\n",
      "plymouth,gas,std,two,hatchback,fwd,four,68,5500,37,41,5572\n",
      "mazda,gas,std,two,hatchback,fwd,four,68,5000,31,38,6095\n",
      "mitsubishi,gas,std,two,hatchback,fwd,four,68,5500,31,38,6189\n",
      "dodge,gas,std,four,hatchback,fwd,four,68,5500,31,38,6229\n",
      "plymouth,gas,std,four,hatchback,fwd,four,68,5500,31,38,6229\n",
      "chevrolet,gas,std,two,hatchback,fwd,four,70,5400,38,43,6295\n",
      "toyota,gas,std,two,hatchback,fwd,four,62,4800,31,38,6338\n",
      "dodge,gas,std,two,hatchback,fwd,four,68,5500,31,38,6377\n",
      "honda,gas,std,two,hatchback,fwd,four,58,4800,49,54,6479\n",
      "toyota,gas,std,four,hatchback,fwd,four,62,4800,31,38,6488\n",
      "honda,gas,std,two,hatchback,fwd,four,76,6000,30,34,6529\n",
      "chevrolet,gas,std,four,sedan,fwd,four,70,5400,38,43,6575\n",
      "nissan,gas,std,two,sedan,fwd,four,69,5200,31,37,6649\n",
      "mitsubishi,gas,std,two,hatchback,fwd,four,68,5500,31,38,6669\n",
      "dodge,gas,std,four,sedan,fwd,four,68,5500,31,38,6692\n",
      "plymouth,gas,std,four,sedan,fwd,four,68,5500,31,38,6692\n",
      "mazda,gas,std,four,sedan,fwd,four,68,5000,31,38,6695\n",
      "isuzu,gas,std,four,sedan,rwd,four,78,4800,24,29,6785\n",
      "mazda,gas,std,two,hatchback,fwd,four,68,5000,31,38,6795\n",
      "nissan,gas,std,four,sedan,fwd,four,69,5200,31,37,6849\n",
      "honda,gas,std,two,hatchback,fwd,four,76,6000,31,38,6855\n",
      "toyota,gas,std,four,wagon,fwd,four,62,4800,31,37,6918\n",
      "toyota,gas,std,four,sedan,fwd,four,70,4800,30,37,6938\n",
      "mitsubishi,gas,std,four,sedan,fwd,four,88,5000,25,32,6989\n",
      "subaru,gas,std,two,hatchback,fwd,four,73,4400,26,31,7053\n",
      "nissan,diesel,std,two,sedan,fwd,four,55,4800,45,50,7099\n",
      "subaru,gas,std,four,sedan,fwd,four,82,4800,32,37,7126\n",
      "honda,gas,std,two,hatchback,fwd,four,76,6000,30,34,7129\n",
      "toyota,gas,std,four,hatchback,fwd,four,70,4800,30,37,7198\n",
      "honda,gas,std,four,sedan,fwd,four,76,6000,30,34,7295\n",
      "honda,gas,std,four,wagon,fwd,four,76,6000,30,34,7295\n",
      "nissan,gas,std,two,sedan,fwd,four,69,5200,31,37,7299\n",
      "nissan,gas,std,four,wagon,fwd,four,69,5200,31,37,7349\n",
      "mazda,gas,std,four,sedan,fwd,four,68,5000,31,38,7395\n",
      "subaru,gas,std,four,wagon,fwd,four,82,4800,28,32,7463\n",
      "nissan,gas,std,four,sedan,fwd,four,69,5200,31,37,7499\n",
      "subaru,gas,std,two,hatchback,4wd,four,73,4400,26,31,7603\n",
      "dodge,gas,std,four,sedan,fwd,four,68,5500,31,38,7609\n",
      "plymouth,gas,std,four,sedan,fwd,four,68,5500,31,38,7609\n",
      "mitsubishi,gas,turbo,two,hatchback,fwd,four,102,5500,24,30,7689\n",
      "toyota,gas,std,four,sedan,fwd,four,70,4800,38,47,7738\n",
      "subaru,gas,std,four,sedan,fwd,four,82,4400,28,33,7775\n",
      "volkswagen,diesel,std,two,sedan,fwd,four,52,4800,37,46,7775\n",
      "toyota,diesel,std,four,hatchback,fwd,four,56,4500,38,47,7788\n",
      "nissan,gas,std,two,hatchback,fwd,four,69,5200,31,37,7799\n",
      "honda,gas,std,two,hatchback,fwd,four,86,5800,27,33,7895\n",
      "toyota,gas,std,four,wagon,4wd,four,62,4800,27,32,7898\n",
      "toyota,diesel,std,four,sedan,fwd,four,56,4500,34,36,7898\n",
      "dodge,gas,turbo,two,hatchback,fwd,four,102,5500,24,30,7957\n",
      "plymouth,gas,turbo,two,hatchback,fwd,four,102,5500,24,30,7957\n",
      "volkswagen,gas,std,two,sedan,fwd,four,85,5250,27,34,7975\n",
      "volkswagen,diesel,std,four,sedan,fwd,four,52,4800,37,46,7995\n",
      "nissan,gas,std,four,wagon,fwd,four,69,5200,31,37,7999\n",
      "subaru,gas,std,four,wagon,4wd,four,82,4800,23,29,8013\n",
      "toyota,gas,std,two,sedan,rwd,four,70,4800,29,34,8058\n",
      "mitsubishi,gas,std,four,sedan,fwd,four,88,5000,25,32,8189\n",
      "volkswagen,gas,std,four,sedan,fwd,four,85,5250,27,34,8195\n",
      "toyota,gas,std,two,hatchback,rwd,four,70,4800,29,34,8238\n",
      "nissan,gas,std,two,hardtop,fwd,four,69,5200,31,37,8249\n",
      "toyota,gas,std,four,hatchback,fwd,four,70,4800,28,34,8358\n",
      "toyota,gas,std,two,hardtop,rwd,four,116,4800,24,30,8449\n",
      "mazda,gas,std,four,sedan,fwd,four,84,4800,26,32,8495\n",
      "volkswagen,gas,std,four,sedan,fwd,four,85,5250,27,34,8495\n",
      "mitsubishi,gas,std,two,hatchback,fwd,four,88,5000,25,32,8499\n",
      "toyota,gas,std,four,wagon,4wd,four,62,4800,27,32,8778\n",
      "honda,gas,std,four,sedan,fwd,four,86,5800,27,33,8845\n",
      "mazda,gas,std,two,hatchback,fwd,four,84,4800,26,32,8845\n",
      "dodge,gas,std,four,wagon,fwd,four,88,5000,24,30,8921\n",
      "plymouth,gas,std,four,wagon,fwd,four,88,5000,24,30,8921\n",
      "toyota,gas,std,four,sedan,fwd,four,92,4200,29,34,8948\n",
      "nissan,gas,std,four,hatchback,fwd,four,97,5200,27,34,8949\n",
      "honda,gas,std,two,hatchback,fwd,four,86,5800,27,33,9095\n",
      "subaru,gas,std,four,sedan,4wd,four,82,4800,24,25,9233\n",
      "toyota,gas,std,four,sedan,fwd,four,70,4800,28,34,9258\n",
      "mitsubishi,gas,turbo,four,sedan,fwd,four,116,5500,23,30,9279\n",
      "mitsubishi,gas,std,four,sedan,fwd,four,116,5500,23,30,9279\n",
      "toyota,gas,std,two,sedan,rwd,four,112,6600,26,29,9298\n",
      "volkswagen,diesel,turbo,four,sedan,fwd,four,68,4500,37,42,9495\n",
      "toyota,gas,std,two,hatchback,rwd,four,112,6600,26,29,9538\n",
      "nissan,gas,std,four,sedan,fwd,four,97,5200,27,34,9549\n",
      "toyota,gas,std,two,hardtop,rwd,four,116,4800,24,30,9639\n",
      "mitsubishi,gas,turbo,two,hatchback,fwd,four,116,5500,23,30,9959\n",
      "subaru,gas,std,four,sedan,fwd,four,94,5200,26,32,9960\n",
      "volkswagen,gas,std,two,hatchback,fwd,four,90,5500,24,29,9980\n",
      "toyota,gas,std,four,hatchback,fwd,four,92,4200,27,32,9988\n",
      "toyota,gas,std,two,hatchback,rwd,four,116,4800,24,30,9989\n",
      "volkswagen,gas,std,four,sedan,fwd,four,100,5500,26,32,9995\n",
      "subaru,gas,std,four,wagon,fwd,four,94,5200,25,31,10198\n",
      "mazda,gas,std,four,sedan,fwd,four,84,4800,26,32,10245\n",
      "honda,gas,std,four,sedan,fwd,four,86,5800,27,33,10295\n",
      "honda,gas,std,two,sedan,fwd,four,100,5500,25,31,10345\n",
      "mazda,gas,std,two,hatchback,fwd,four,84,4800,26,32,10595\n",
      "toyota,diesel,turbo,four,sedan,fwd,four,73,4500,30,33,10698\n",
      "toyota,gas,std,four,sedan,fwd,four,92,4200,27,32,10898\n",
      "mazda,gas,std,two,hatchback,rwd,two,101,6000,17,23,10945\n",
      "isuzu,gas,std,two,hatchback,rwd,four,90,5000,24,29,11048\n",
      "toyota,gas,std,two,hardtop,rwd,four,116,4800,24,30,11199\n",
      "mazda,gas,std,four,hatchback,fwd,four,84,4800,26,32,11245\n",
      "toyota,gas,std,four,hatchback,fwd,four,92,4200,27,32,11248\n",
      "subaru,gas,turbo,four,sedan,4wd,four,111,4800,24,29,11259\n",
      "toyota,gas,std,two,hatchback,rwd,four,116,4800,24,30,11549\n",
      "volkswagen,gas,std,two,convertible,fwd,four,90,5500,24,29,11595\n",
      "subaru,gas,turbo,four,wagon,4wd,four,111,4800,23,23,11694\n",
      "mazda,gas,std,two,hatchback,rwd,two,101,6000,17,23,11845\n",
      "saab,gas,std,two,hatchback,fwd,four,110,5250,21,28,11850\n",
      "peugot,gas,std,four,sedan,rwd,four,97,5000,19,24,11900\n",
      "saab,gas,std,four,sedan,fwd,four,110,5250,21,28,12170\n",
      "volkswagen,gas,std,four,wagon,fwd,four,88,5500,25,31,12290\n",
      "peugot,gas,std,four,wagon,rwd,four,97,5000,19,24,12440\n",
      "mitsubishi,gas,turbo,two,hatchback,fwd,four,145,5000,19,24,12629\n",
      "plymouth,gas,turbo,two,hatchback,rwd,four,145,5000,19,24,12764\n",
      "volvo,gas,std,four,sedan,rwd,four,114,5400,23,28,12940\n",
      "honda,gas,std,four,sedan,fwd,four,101,5800,24,28,12945\n",
      "dodge,gas,turbo,two,hatchback,fwd,four,145,5000,19,24,12964\n",
      "peugot,diesel,turbo,four,sedan,rwd,four,95,4150,28,33,13200\n",
      "volkswagen,gas,std,four,sedan,fwd,five,110,5500,19,24,13295\n",
      "volvo,gas,std,four,wagon,rwd,four,114,5400,23,28,13415\n",
      "alfa-romero,gas,std,two,convertible,rwd,four,111,5000,21,27,13495\n",
      "nissan,gas,std,four,sedan,fwd,six,152,5200,17,22,13499\n",
      "nissan,gas,std,four,sedan,fwd,six,152,5200,19,25,13499\n",
      "mazda,gas,std,two,hatchback,rwd,two,101,6000,17,23,13645\n",
      "volkswagen,diesel,turbo,four,sedan,fwd,four,68,4500,33,38,13845\n",
      "peugot,diesel,turbo,four,wagon,rwd,four,95,4150,25,25,13860\n",
      "audi,gas,std,four,sedan,fwd,four,102,5500,24,30,13950\n",
      "nissan,gas,std,four,wagon,fwd,six,152,5200,17,22,14399\n",
      "mitsubishi,gas,turbo,two,hatchback,fwd,four,145,5000,19,24,14489\n",
      "mitsubishi,gas,turbo,two,hatchback,fwd,four,145,5000,19,24,14869\n",
      "saab,gas,std,two,hatchback,fwd,four,110,5250,21,28,15040\n",
      "audi,gas,std,two,sedan,fwd,five,110,5500,19,25,15250\n",
      "saab,gas,std,four,sedan,fwd,four,110,5250,21,28,15510\n",
      "peugot,gas,std,four,sedan,rwd,four,95,5000,19,24,15580\n",
      "mazda,gas,std,two,hatchback,rwd,two,135,6000,16,23,15645\n",
      "toyota,gas,std,four,sedan,rwd,six,156,5200,20,24,15690\n",
      "toyota,gas,std,four,wagon,rwd,six,156,5200,19,24,15750\n",
      "volvo,gas,std,four,sedan,rwd,four,114,5400,24,28,15985\n",
      "toyota,gas,std,two,hatchback,rwd,six,161,5200,19,24,15998\n",
      "bmw,gas,std,two,sedan,rwd,four,101,5800,23,29,16430\n",
      "alfa-romero,gas,std,two,convertible,rwd,four,111,5000,21,27,16500\n",
      "alfa-romero,gas,std,two,hatchback,rwd,six,154,5000,19,26,16500\n",
      "mercury,gas,turbo,two,hatchback,rwd,four,175,5000,19,24,16503\n",
      "volvo,gas,std,four,wagon,rwd,four,114,5400,24,28,16515\n",
      "toyota,gas,std,two,hatchback,rwd,six,161,5200,20,24,16558\n",
      "peugot,gas,std,four,sedan,rwd,four,97,5000,19,24,16630\n",
      "peugot,gas,std,four,wagon,rwd,four,95,5000,19,24,16695\n",
      "volvo,gas,std,four,sedan,rwd,four,114,5400,23,28,16845\n",
      "peugot,diesel,turbo,four,sedan,rwd,four,95,4150,28,33,16900\n",
      "bmw,gas,std,four,sedan,rwd,four,101,5800,23,29,16925\n",
      "peugot,diesel,turbo,four,wagon,rwd,four,95,4150,25,25,17075\n",
      "nissan,gas,std,two,hatchback,rwd,six,160,5200,19,25,17199\n",
      "audi,gas,std,four,sedan,4wd,five,115,5500,18,22,17450\n",
      "toyota,gas,std,two,convertible,rwd,four,116,4800,24,30,17669\n",
      "audi,gas,std,four,sedan,fwd,five,110,5500,19,25,17710\n",
      "peugot,diesel,turbo,four,sedan,rwd,four,95,4150,28,33,17950\n",
      "peugot,gas,turbo,four,sedan,rwd,four,142,5600,18,24,18150\n",
      "saab,gas,turbo,two,hatchback,fwd,four,160,5500,19,26,18150\n",
      "mazda,gas,std,four,sedan,rwd,four,120,5000,19,27,18280\n",
      "mazda,diesel,std,four,sedan,rwd,four,72,4200,31,39,18344\n",
      "nissan,gas,std,two,hatchback,rwd,six,160,5200,19,25,18399\n",
      "volvo,gas,turbo,four,sedan,rwd,four,162,5100,17,22,18420\n",
      "saab,gas,turbo,four,sedan,fwd,four,160,5500,19,26,18620\n",
      "audi,gas,std,four,wagon,fwd,five,110,5500,19,25,18920\n",
      "volvo,gas,turbo,four,wagon,rwd,four,162,5100,17,22,18950\n",
      "volvo,gas,turbo,four,sedan,rwd,four,160,5300,19,25,19045\n",
      "nissan,gas,turbo,two,hatchback,rwd,six,200,5200,17,23,19699\n",
      "bmw,gas,std,two,sedan,rwd,six,121,4250,21,28,20970\n",
      "bmw,gas,std,four,sedan,rwd,six,121,4250,21,28,21105\n",
      "volvo,gas,std,four,sedan,rwd,six,134,5500,18,23,21485\n",
      "porsche,gas,std,two,hatchback,rwd,four,143,5500,19,27,22018\n",
      "volvo,diesel,turbo,four,sedan,rwd,six,106,4800,26,27,22470\n",
      "volvo,gas,turbo,four,sedan,rwd,four,114,5400,19,25,22625\n",
      "audi,gas,turbo,four,sedan,fwd,five,140,5500,17,20,23875\n",
      "bmw,gas,std,four,sedan,rwd,six,121,4250,20,25,24565\n",
      "mercedes-benz,diesel,turbo,four,sedan,rwd,five,123,4350,22,25,25552\n",
      "mercedes-benz,diesel,turbo,two,hardtop,rwd,five,123,4350,22,25,28176\n",
      "mercedes-benz,diesel,turbo,four,wagon,rwd,five,123,4350,22,25,28248\n",
      "bmw,gas,std,four,sedan,rwd,six,182,5400,16,22,30760\n",
      "mercedes-benz,diesel,turbo,four,sedan,rwd,five,123,4350,22,25,31600\n",
      "jaguar,gas,std,four,sedan,rwd,six,176,4750,15,19,32250\n",
      "porsche,gas,std,two,hardtop,rwd,six,207,5900,17,25,32528\n",
      "porsche,gas,std,two,hardtop,rwd,six,207,5900,17,25,34028\n",
      "mercedes-benz,gas,std,four,sedan,rwd,eight,155,4750,16,18,34184\n",
      "mercedes-benz,gas,std,two,convertible,rwd,eight,155,4750,16,18,35056\n",
      "jaguar,gas,std,four,sedan,rwd,six,176,4750,15,19,35550\n",
      "jaguar,gas,std,two,sedan,rwd,twelve,262,5000,13,17,36000\n",
      "bmw,gas,std,four,sedan,rwd,six,182,5400,15,20,36880\n",
      "porsche,gas,std,two,convertible,rwd,six,207,5900,17,25,37028\n",
      "mercedes-benz,gas,std,four,sedan,rwd,eight,184,4500,14,16,40960\n",
      "bmw,gas,std,two,sedan,rwd,six,182,5400,16,22,41315\n",
      "mercedes-benz,gas,std,two,hardtop,rwd,eight,184,4500,14,16,45400\n"
     ]
    }
   ],
   "source": [
    "for line in autoData.collect():\n",
    "    print(line)"
   ]
  },
  {
   "cell_type": "markdown",
   "metadata": {},
   "source": [
    "**Loading data from collections**"
   ]
  },
  {
   "cell_type": "code",
   "execution_count": 9,
   "metadata": {},
   "outputs": [
    {
     "data": {
      "text/plain": [
       "6"
      ]
     },
     "execution_count": 9,
     "metadata": {},
     "output_type": "execute_result"
    }
   ],
   "source": [
    "collData = sc.parallelize([1, 3, 2, 5, 7, 8])\n",
    "collData.cache()\n",
    "collData.count()"
   ]
  },
  {
   "cell_type": "markdown",
   "metadata": {},
   "source": [
    "**Data transformation**"
   ]
  },
  {
   "cell_type": "code",
   "execution_count": 10,
   "metadata": {},
   "outputs": [
    {
     "data": {
      "text/plain": [
       "['MAKE\\tFUELTYPE\\tASPIRE\\tDOORS\\tBODY\\tDRIVE\\tCYLINDERS\\tHP\\tRPM\\tMPG-CITY\\tMPG-HWY\\tPRICE',\n",
       " 'subaru\\tgas\\tstd\\ttwo\\thatchback\\tfwd\\tfour\\t69\\t4900\\t31\\t36\\t5118',\n",
       " 'chevrolet\\tgas\\tstd\\ttwo\\thatchback\\tfwd\\tthree\\t48\\t5100\\t47\\t53\\t5151',\n",
       " 'mazda\\tgas\\tstd\\ttwo\\thatchback\\tfwd\\tfour\\t68\\t5000\\t30\\t31\\t5195',\n",
       " 'toyota\\tgas\\tstd\\ttwo\\thatchback\\tfwd\\tfour\\t62\\t4800\\t35\\t39\\t5348']"
      ]
     },
     "execution_count": 10,
     "metadata": {},
     "output_type": "execute_result"
    }
   ],
   "source": [
    "# Map and create a new RDD from autoData\n",
    "tsvData = autoData.map(lambda x: x.replace(',', '\\t'))\n",
    "tsvData.take(5)"
   ]
  },
  {
   "cell_type": "code",
   "execution_count": 11,
   "metadata": {},
   "outputs": [
    {
     "data": {
      "text/plain": [
       "['toyota,gas,std,two,hatchback,fwd,four,62,4800,35,39,5348',\n",
       " 'toyota,gas,std,two,hatchback,fwd,four,62,4800,31,38,6338',\n",
       " 'toyota,gas,std,four,hatchback,fwd,four,62,4800,31,38,6488',\n",
       " 'toyota,gas,std,four,wagon,fwd,four,62,4800,31,37,6918',\n",
       " 'toyota,gas,std,four,sedan,fwd,four,70,4800,30,37,6938']"
      ]
     },
     "execution_count": 11,
     "metadata": {},
     "output_type": "execute_result"
    }
   ],
   "source": [
    "# Filter and create a new RDD\n",
    "toyotaData = autoData.filter(lambda x: 'toyota' in x)\n",
    "toyotaData.take(5)"
   ]
  },
  {
   "cell_type": "code",
   "execution_count": 19,
   "metadata": {
    "scrolled": true
   },
   "outputs": [
    {
     "name": "stdout",
     "output_type": "stream",
     "text": [
      "output by map:\n",
      "[['MAKE', 'FUELTYPE', 'ASPIRE', 'DOORS', 'BODY', 'DRIVE', 'CYLINDERS', 'HP', 'RPM', 'MPG-CITY', 'MPG-HWY', 'PRICE'], ['subaru', 'gas', 'std', 'two', 'hatchback', 'fwd', 'four', '69', '4900', '31', '36', '5118'], ['chevrolet', 'gas', 'std', 'two', 'hatchback', 'fwd', 'three', '48', '5100', '47', '53', '5151'], ['mazda', 'gas', 'std', 'two', 'hatchback', 'fwd', 'four', '68', '5000', '30', '31', '5195'], ['toyota', 'gas', 'std', 'two', 'hatchback', 'fwd', 'four', '62', '4800', '35', '39', '5348']]\n",
      "198\n",
      "output by flatMap:\n",
      "['MAKE', 'FUELTYPE', 'ASPIRE', 'DOORS', 'BODY']\n",
      "2376\n"
     ]
    }
   ],
   "source": [
    "# map vs flatMap\n",
    "words = autoData.map(lambda x: x.split(','))\n",
    "print('output by map:')\n",
    "print(words.take(5))\n",
    "print(words.count())\n",
    "\n",
    "words = autoData.flatMap(lambda x: x.split(','))\n",
    "print('output by flatMap:')\n",
    "print(words.take(5))\n",
    "print(words.count())"
   ]
  },
  {
   "cell_type": "code",
   "execution_count": 27,
   "metadata": {},
   "outputs": [
    {
     "name": "stdout",
     "output_type": "stream",
     "text": [
      "1\n",
      "3\n",
      "1\n",
      "1\n",
      "5\n",
      "3\n",
      "8\n",
      "[1, 3, 1, 1, 5, 3, 8]\n",
      "[1, 3, 5, 8]\n"
     ]
    }
   ],
   "source": [
    "# distinct\n",
    "collData = sc.parallelize([1, 3, 1, 1, 5, 3, 8])\n",
    "for numdata in collData.collect():\n",
    "    print(numdata)\n",
    "    \n",
    "    \n",
    "# Can we use list comprehension?\n",
    "print([n for n in collData.collect()])\n",
    "print([n for n in collData.distinct().collect()])\n",
    "# I guess we can"
   ]
  },
  {
   "cell_type": "code",
   "execution_count": 29,
   "metadata": {},
   "outputs": [
    {
     "name": "stdout",
     "output_type": "stream",
     "text": [
      "['hanoi', 'vung tau', 'khanh hoa', 'ha long', 'ha giang', 'vieng chan', 'hcm city', 'kuala lumpua', 'singapore']\n",
      "['hanoi', 'vung tau', 'hcm city']\n"
     ]
    }
   ],
   "source": [
    "# Set operations\n",
    "cities1 = sc.parallelize(['hanoi', 'hcm city', 'vung tau', 'khanh hoa', 'ha long', 'ha giang'])\n",
    "cities2 = sc.parallelize(['hanoi', 'vieng chan', 'kuala lumpua', 'singapore', 'hcm city', 'vung tau'])\n",
    "\n",
    "print([c for c in cities1.union(cities2).distinct().collect()])\n",
    "print([c for c in cities1.intersection(cities2).distinct().collect()])"
   ]
  },
  {
   "cell_type": "markdown",
   "metadata": {},
   "source": [
    "**Action**"
   ]
  },
  {
   "cell_type": "code",
   "execution_count": 30,
   "metadata": {},
   "outputs": [
    {
     "data": {
      "text/plain": [
       "22"
      ]
     },
     "execution_count": 30,
     "metadata": {},
     "output_type": "execute_result"
    }
   ],
   "source": [
    "# reduce\n",
    "collData.reduce(lambda x, y: x + y)"
   ]
  },
  {
   "cell_type": "code",
   "execution_count": 31,
   "metadata": {},
   "outputs": [
    {
     "data": {
      "text/plain": [
       "'bmw,gas,std,two,sedan,rwd,six,182,5400,16,22,41315'"
      ]
     },
     "execution_count": 31,
     "metadata": {},
     "output_type": "execute_result"
    }
   ],
   "source": [
    "# find the shortest line\n",
    "autoData.reduce(lambda x, y: x if len(x) < len(y) else y)"
   ]
  },
  {
   "cell_type": "code",
   "execution_count": 34,
   "metadata": {},
   "outputs": [
    {
     "data": {
      "text/plain": [
       "44"
      ]
     },
     "execution_count": 34,
     "metadata": {},
     "output_type": "execute_result"
    }
   ],
   "source": [
    "# aggregation - sum\n",
    "collData = sc.parallelize([1, 3, 1, 1, 5, 3, 8, 4, 6, 12])\n",
    "seqOp = (lambda x, y: x + y)\n",
    "combOp = (lambda x, y: x + y)\n",
    "collData.aggregate((0), seqOp, combOp)"
   ]
  },
  {
   "cell_type": "code",
   "execution_count": 36,
   "metadata": {},
   "outputs": [
    {
     "data": {
      "text/plain": [
       "(44, 103680)"
      ]
     },
     "execution_count": 36,
     "metadata": {},
     "output_type": "execute_result"
    }
   ],
   "source": [
    "# aggregation - sum and product at the same time\n",
    "seqOp = (lambda x, y: (x[0] + y, x[1] * y))\n",
    "combOp = (lambda x, y: (x[0] + y[0], x[1] * y[1]))\n",
    "collData.aggregate((0, 1), seqOp, combOp)"
   ]
  },
  {
   "cell_type": "markdown",
   "metadata": {},
   "source": [
    "**Function**"
   ]
  },
  {
   "cell_type": "code",
   "execution_count": 41,
   "metadata": {},
   "outputs": [
    {
     "data": {
      "text/plain": [
       "['MAKE,FUELTYPE,ASPIRE,DOORS,BODY,DRIVE,CYLINDERS,HP,RPM,MPG-CITY,MPG-HWY,PRICE',\n",
       " 'subaru,gas,std,2,hatchback,FWD,four,69,4900,31,36,5118',\n",
       " 'chevrolet,gas,std,2,hatchback,FWD,three,48,5100,47,53,5151',\n",
       " 'mazda,gas,std,2,hatchback,FWD,four,68,5000,30,31,5195',\n",
       " 'toyota,gas,std,2,hatchback,FWD,four,62,4800,35,39,5348',\n",
       " 'mitsubishi,gas,std,2,hatchback,FWD,four,68,5500,37,41,5389',\n",
       " 'honda,gas,std,2,hatchback,FWD,four,60,5500,38,42,5399',\n",
       " 'nissan,gas,std,2,sedan,FWD,four,69,5200,31,37,5499',\n",
       " 'dodge,gas,std,2,hatchback,FWD,four,68,5500,37,41,5572',\n",
       " 'plymouth,gas,std,2,hatchback,FWD,four,68,5500,37,41,5572',\n",
       " 'mazda,gas,std,2,hatchback,FWD,four,68,5000,31,38,6095',\n",
       " 'mitsubishi,gas,std,2,hatchback,FWD,four,68,5500,31,38,6189',\n",
       " 'dodge,gas,std,4,hatchback,FWD,four,68,5500,31,38,6229',\n",
       " 'plymouth,gas,std,4,hatchback,FWD,four,68,5500,31,38,6229',\n",
       " 'chevrolet,gas,std,2,hatchback,FWD,four,70,5400,38,43,6295',\n",
       " 'toyota,gas,std,2,hatchback,FWD,four,62,4800,31,38,6338',\n",
       " 'dodge,gas,std,2,hatchback,FWD,four,68,5500,31,38,6377',\n",
       " 'honda,gas,std,2,hatchback,FWD,four,58,4800,49,54,6479',\n",
       " 'toyota,gas,std,4,hatchback,FWD,four,62,4800,31,38,6488',\n",
       " 'honda,gas,std,2,hatchback,FWD,four,76,6000,30,34,6529',\n",
       " 'chevrolet,gas,std,4,sedan,FWD,four,70,5400,38,43,6575',\n",
       " 'nissan,gas,std,2,sedan,FWD,four,69,5200,31,37,6649',\n",
       " 'mitsubishi,gas,std,2,hatchback,FWD,four,68,5500,31,38,6669',\n",
       " 'dodge,gas,std,4,sedan,FWD,four,68,5500,31,38,6692',\n",
       " 'plymouth,gas,std,4,sedan,FWD,four,68,5500,31,38,6692',\n",
       " 'mazda,gas,std,4,sedan,FWD,four,68,5000,31,38,6695',\n",
       " 'isuzu,gas,std,4,sedan,RWD,four,78,4800,24,29,6785',\n",
       " 'mazda,gas,std,2,hatchback,FWD,four,68,5000,31,38,6795',\n",
       " 'nissan,gas,std,4,sedan,FWD,four,69,5200,31,37,6849',\n",
       " 'honda,gas,std,2,hatchback,FWD,four,76,6000,31,38,6855',\n",
       " 'toyota,gas,std,4,wagon,FWD,four,62,4800,31,37,6918',\n",
       " 'toyota,gas,std,4,sedan,FWD,four,70,4800,30,37,6938',\n",
       " 'mitsubishi,gas,std,4,sedan,FWD,four,88,5000,25,32,6989',\n",
       " 'subaru,gas,std,2,hatchback,FWD,four,73,4400,26,31,7053',\n",
       " 'nissan,diesel,std,2,sedan,FWD,four,55,4800,45,50,7099',\n",
       " 'subaru,gas,std,4,sedan,FWD,four,82,4800,32,37,7126',\n",
       " 'honda,gas,std,2,hatchback,FWD,four,76,6000,30,34,7129',\n",
       " 'toyota,gas,std,4,hatchback,FWD,four,70,4800,30,37,7198',\n",
       " 'honda,gas,std,4,sedan,FWD,four,76,6000,30,34,7295',\n",
       " 'honda,gas,std,4,wagon,FWD,four,76,6000,30,34,7295',\n",
       " 'nissan,gas,std,2,sedan,FWD,four,69,5200,31,37,7299',\n",
       " 'nissan,gas,std,4,wagon,FWD,four,69,5200,31,37,7349',\n",
       " 'mazda,gas,std,4,sedan,FWD,four,68,5000,31,38,7395',\n",
       " 'subaru,gas,std,4,wagon,FWD,four,82,4800,28,32,7463',\n",
       " 'nissan,gas,std,4,sedan,FWD,four,69,5200,31,37,7499',\n",
       " 'subaru,gas,std,2,hatchback,4WD,four,73,4400,26,31,7603',\n",
       " 'dodge,gas,std,4,sedan,FWD,four,68,5500,31,38,7609',\n",
       " 'plymouth,gas,std,4,sedan,FWD,four,68,5500,31,38,7609',\n",
       " 'mitsubishi,gas,turbo,2,hatchback,FWD,four,102,5500,24,30,7689',\n",
       " 'toyota,gas,std,4,sedan,FWD,four,70,4800,38,47,7738',\n",
       " 'subaru,gas,std,4,sedan,FWD,four,82,4400,28,33,7775',\n",
       " 'volkswagen,diesel,std,2,sedan,FWD,four,52,4800,37,46,7775',\n",
       " 'toyota,diesel,std,4,hatchback,FWD,four,56,4500,38,47,7788',\n",
       " 'nissan,gas,std,2,hatchback,FWD,four,69,5200,31,37,7799',\n",
       " 'honda,gas,std,2,hatchback,FWD,four,86,5800,27,33,7895',\n",
       " 'toyota,gas,std,4,wagon,4WD,four,62,4800,27,32,7898',\n",
       " 'toyota,diesel,std,4,sedan,FWD,four,56,4500,34,36,7898',\n",
       " 'dodge,gas,turbo,2,hatchback,FWD,four,102,5500,24,30,7957',\n",
       " 'plymouth,gas,turbo,2,hatchback,FWD,four,102,5500,24,30,7957',\n",
       " 'volkswagen,gas,std,2,sedan,FWD,four,85,5250,27,34,7975',\n",
       " 'volkswagen,diesel,std,4,sedan,FWD,four,52,4800,37,46,7995',\n",
       " 'nissan,gas,std,4,wagon,FWD,four,69,5200,31,37,7999',\n",
       " 'subaru,gas,std,4,wagon,4WD,four,82,4800,23,29,8013',\n",
       " 'toyota,gas,std,2,sedan,RWD,four,70,4800,29,34,8058',\n",
       " 'mitsubishi,gas,std,4,sedan,FWD,four,88,5000,25,32,8189',\n",
       " 'volkswagen,gas,std,4,sedan,FWD,four,85,5250,27,34,8195',\n",
       " 'toyota,gas,std,2,hatchback,RWD,four,70,4800,29,34,8238',\n",
       " 'nissan,gas,std,2,hardtop,FWD,four,69,5200,31,37,8249',\n",
       " 'toyota,gas,std,4,hatchback,FWD,four,70,4800,28,34,8358',\n",
       " 'toyota,gas,std,2,hardtop,RWD,four,116,4800,24,30,8449',\n",
       " 'mazda,gas,std,4,sedan,FWD,four,84,4800,26,32,8495',\n",
       " 'volkswagen,gas,std,4,sedan,FWD,four,85,5250,27,34,8495',\n",
       " 'mitsubishi,gas,std,2,hatchback,FWD,four,88,5000,25,32,8499',\n",
       " 'toyota,gas,std,4,wagon,4WD,four,62,4800,27,32,8778',\n",
       " 'honda,gas,std,4,sedan,FWD,four,86,5800,27,33,8845',\n",
       " 'mazda,gas,std,2,hatchback,FWD,four,84,4800,26,32,8845',\n",
       " 'dodge,gas,std,4,wagon,FWD,four,88,5000,24,30,8921',\n",
       " 'plymouth,gas,std,4,wagon,FWD,four,88,5000,24,30,8921',\n",
       " 'toyota,gas,std,4,sedan,FWD,four,92,4200,29,34,8948',\n",
       " 'nissan,gas,std,4,hatchback,FWD,four,97,5200,27,34,8949',\n",
       " 'honda,gas,std,2,hatchback,FWD,four,86,5800,27,33,9095',\n",
       " 'subaru,gas,std,4,sedan,4WD,four,82,4800,24,25,9233',\n",
       " 'toyota,gas,std,4,sedan,FWD,four,70,4800,28,34,9258',\n",
       " 'mitsubishi,gas,turbo,4,sedan,FWD,four,116,5500,23,30,9279',\n",
       " 'mitsubishi,gas,std,4,sedan,FWD,four,116,5500,23,30,9279',\n",
       " 'toyota,gas,std,2,sedan,RWD,four,112,6600,26,29,9298',\n",
       " 'volkswagen,diesel,turbo,4,sedan,FWD,four,68,4500,37,42,9495',\n",
       " 'toyota,gas,std,2,hatchback,RWD,four,112,6600,26,29,9538',\n",
       " 'nissan,gas,std,4,sedan,FWD,four,97,5200,27,34,9549',\n",
       " 'toyota,gas,std,2,hardtop,RWD,four,116,4800,24,30,9639',\n",
       " 'mitsubishi,gas,turbo,2,hatchback,FWD,four,116,5500,23,30,9959',\n",
       " 'subaru,gas,std,4,sedan,FWD,four,94,5200,26,32,9960',\n",
       " 'volkswagen,gas,std,2,hatchback,FWD,four,90,5500,24,29,9980',\n",
       " 'toyota,gas,std,4,hatchback,FWD,four,92,4200,27,32,9988',\n",
       " 'toyota,gas,std,2,hatchback,RWD,four,116,4800,24,30,9989',\n",
       " 'volkswagen,gas,std,4,sedan,FWD,four,100,5500,26,32,9995',\n",
       " 'subaru,gas,std,4,wagon,FWD,four,94,5200,25,31,10198',\n",
       " 'mazda,gas,std,4,sedan,FWD,four,84,4800,26,32,10245',\n",
       " 'honda,gas,std,4,sedan,FWD,four,86,5800,27,33,10295',\n",
       " 'honda,gas,std,2,sedan,FWD,four,100,5500,25,31,10345',\n",
       " 'mazda,gas,std,2,hatchback,FWD,four,84,4800,26,32,10595',\n",
       " 'toyota,diesel,turbo,4,sedan,FWD,four,73,4500,30,33,10698',\n",
       " 'toyota,gas,std,4,sedan,FWD,four,92,4200,27,32,10898',\n",
       " 'mazda,gas,std,2,hatchback,RWD,two,101,6000,17,23,10945',\n",
       " 'isuzu,gas,std,2,hatchback,RWD,four,90,5000,24,29,11048',\n",
       " 'toyota,gas,std,2,hardtop,RWD,four,116,4800,24,30,11199',\n",
       " 'mazda,gas,std,4,hatchback,FWD,four,84,4800,26,32,11245',\n",
       " 'toyota,gas,std,4,hatchback,FWD,four,92,4200,27,32,11248',\n",
       " 'subaru,gas,turbo,4,sedan,4WD,four,111,4800,24,29,11259',\n",
       " 'toyota,gas,std,2,hatchback,RWD,four,116,4800,24,30,11549',\n",
       " 'volkswagen,gas,std,2,convertible,FWD,four,90,5500,24,29,11595',\n",
       " 'subaru,gas,turbo,4,wagon,4WD,four,111,4800,23,23,11694',\n",
       " 'mazda,gas,std,2,hatchback,RWD,two,101,6000,17,23,11845',\n",
       " 'saab,gas,std,2,hatchback,FWD,four,110,5250,21,28,11850',\n",
       " 'peugot,gas,std,4,sedan,RWD,four,97,5000,19,24,11900',\n",
       " 'saab,gas,std,4,sedan,FWD,four,110,5250,21,28,12170',\n",
       " 'volkswagen,gas,std,4,wagon,FWD,four,88,5500,25,31,12290',\n",
       " 'peugot,gas,std,4,wagon,RWD,four,97,5000,19,24,12440',\n",
       " 'mitsubishi,gas,turbo,2,hatchback,FWD,four,145,5000,19,24,12629',\n",
       " 'plymouth,gas,turbo,2,hatchback,RWD,four,145,5000,19,24,12764',\n",
       " 'volvo,gas,std,4,sedan,RWD,four,114,5400,23,28,12940',\n",
       " 'honda,gas,std,4,sedan,FWD,four,101,5800,24,28,12945',\n",
       " 'dodge,gas,turbo,2,hatchback,FWD,four,145,5000,19,24,12964',\n",
       " 'peugot,diesel,turbo,4,sedan,RWD,four,95,4150,28,33,13200',\n",
       " 'volkswagen,gas,std,4,sedan,FWD,five,110,5500,19,24,13295',\n",
       " 'volvo,gas,std,4,wagon,RWD,four,114,5400,23,28,13415',\n",
       " 'alfa-romero,gas,std,2,convertible,RWD,four,111,5000,21,27,13495',\n",
       " 'nissan,gas,std,4,sedan,FWD,six,152,5200,17,22,13499',\n",
       " 'nissan,gas,std,4,sedan,FWD,six,152,5200,19,25,13499',\n",
       " 'mazda,gas,std,2,hatchback,RWD,two,101,6000,17,23,13645',\n",
       " 'volkswagen,diesel,turbo,4,sedan,FWD,four,68,4500,33,38,13845',\n",
       " 'peugot,diesel,turbo,4,wagon,RWD,four,95,4150,25,25,13860',\n",
       " 'audi,gas,std,4,sedan,FWD,four,102,5500,24,30,13950',\n",
       " 'nissan,gas,std,4,wagon,FWD,six,152,5200,17,22,14399',\n",
       " 'mitsubishi,gas,turbo,2,hatchback,FWD,four,145,5000,19,24,14489',\n",
       " 'mitsubishi,gas,turbo,2,hatchback,FWD,four,145,5000,19,24,14869',\n",
       " 'saab,gas,std,2,hatchback,FWD,four,110,5250,21,28,15040',\n",
       " 'audi,gas,std,2,sedan,FWD,five,110,5500,19,25,15250',\n",
       " 'saab,gas,std,4,sedan,FWD,four,110,5250,21,28,15510',\n",
       " 'peugot,gas,std,4,sedan,RWD,four,95,5000,19,24,15580',\n",
       " 'mazda,gas,std,2,hatchback,RWD,two,135,6000,16,23,15645',\n",
       " 'toyota,gas,std,4,sedan,RWD,six,156,5200,20,24,15690',\n",
       " 'toyota,gas,std,4,wagon,RWD,six,156,5200,19,24,15750',\n",
       " 'volvo,gas,std,4,sedan,RWD,four,114,5400,24,28,15985',\n",
       " 'toyota,gas,std,2,hatchback,RWD,six,161,5200,19,24,15998',\n",
       " 'bmw,gas,std,2,sedan,RWD,four,101,5800,23,29,16430',\n",
       " 'alfa-romero,gas,std,2,convertible,RWD,four,111,5000,21,27,16500',\n",
       " 'alfa-romero,gas,std,2,hatchback,RWD,six,154,5000,19,26,16500',\n",
       " 'mercury,gas,turbo,2,hatchback,RWD,four,175,5000,19,24,16503',\n",
       " 'volvo,gas,std,4,wagon,RWD,four,114,5400,24,28,16515',\n",
       " 'toyota,gas,std,2,hatchback,RWD,six,161,5200,20,24,16558',\n",
       " 'peugot,gas,std,4,sedan,RWD,four,97,5000,19,24,16630',\n",
       " 'peugot,gas,std,4,wagon,RWD,four,95,5000,19,24,16695',\n",
       " 'volvo,gas,std,4,sedan,RWD,four,114,5400,23,28,16845',\n",
       " 'peugot,diesel,turbo,4,sedan,RWD,four,95,4150,28,33,16900',\n",
       " 'bmw,gas,std,4,sedan,RWD,four,101,5800,23,29,16925',\n",
       " 'peugot,diesel,turbo,4,wagon,RWD,four,95,4150,25,25,17075',\n",
       " 'nissan,gas,std,2,hatchback,RWD,six,160,5200,19,25,17199',\n",
       " 'audi,gas,std,4,sedan,4WD,five,115,5500,18,22,17450',\n",
       " 'toyota,gas,std,2,convertible,RWD,four,116,4800,24,30,17669',\n",
       " 'audi,gas,std,4,sedan,FWD,five,110,5500,19,25,17710',\n",
       " 'peugot,diesel,turbo,4,sedan,RWD,four,95,4150,28,33,17950',\n",
       " 'peugot,gas,turbo,4,sedan,RWD,four,142,5600,18,24,18150',\n",
       " 'saab,gas,turbo,2,hatchback,FWD,four,160,5500,19,26,18150',\n",
       " 'mazda,gas,std,4,sedan,RWD,four,120,5000,19,27,18280',\n",
       " 'mazda,diesel,std,4,sedan,RWD,four,72,4200,31,39,18344',\n",
       " 'nissan,gas,std,2,hatchback,RWD,six,160,5200,19,25,18399',\n",
       " 'volvo,gas,turbo,4,sedan,RWD,four,162,5100,17,22,18420',\n",
       " 'saab,gas,turbo,4,sedan,FWD,four,160,5500,19,26,18620',\n",
       " 'audi,gas,std,4,wagon,FWD,five,110,5500,19,25,18920',\n",
       " 'volvo,gas,turbo,4,wagon,RWD,four,162,5100,17,22,18950',\n",
       " 'volvo,gas,turbo,4,sedan,RWD,four,160,5300,19,25,19045',\n",
       " 'nissan,gas,turbo,2,hatchback,RWD,six,200,5200,17,23,19699',\n",
       " 'bmw,gas,std,2,sedan,RWD,six,121,4250,21,28,20970',\n",
       " 'bmw,gas,std,4,sedan,RWD,six,121,4250,21,28,21105',\n",
       " 'volvo,gas,std,4,sedan,RWD,six,134,5500,18,23,21485',\n",
       " 'porsche,gas,std,2,hatchback,RWD,four,143,5500,19,27,22018',\n",
       " 'volvo,diesel,turbo,4,sedan,RWD,six,106,4800,26,27,22470',\n",
       " 'volvo,gas,turbo,4,sedan,RWD,four,114,5400,19,25,22625',\n",
       " 'audi,gas,turbo,4,sedan,FWD,five,140,5500,17,20,23875',\n",
       " 'bmw,gas,std,4,sedan,RWD,six,121,4250,20,25,24565',\n",
       " 'mercedes-benz,diesel,turbo,4,sedan,RWD,five,123,4350,22,25,25552',\n",
       " 'mercedes-benz,diesel,turbo,2,hardtop,RWD,five,123,4350,22,25,28176',\n",
       " 'mercedes-benz,diesel,turbo,4,wagon,RWD,five,123,4350,22,25,28248',\n",
       " 'bmw,gas,std,4,sedan,RWD,six,182,5400,16,22,30760',\n",
       " 'mercedes-benz,diesel,turbo,4,sedan,RWD,five,123,4350,22,25,31600',\n",
       " 'jaguar,gas,std,4,sedan,RWD,six,176,4750,15,19,32250',\n",
       " 'porsche,gas,std,2,hardtop,RWD,six,207,5900,17,25,32528',\n",
       " 'porsche,gas,std,2,hardtop,RWD,six,207,5900,17,25,34028',\n",
       " 'mercedes-benz,gas,std,4,sedan,RWD,eight,155,4750,16,18,34184',\n",
       " 'mercedes-benz,gas,std,2,convertible,RWD,eight,155,4750,16,18,35056',\n",
       " 'jaguar,gas,std,4,sedan,RWD,six,176,4750,15,19,35550',\n",
       " 'jaguar,gas,std,2,sedan,RWD,twelve,262,5000,13,17,36000',\n",
       " 'bmw,gas,std,4,sedan,RWD,six,182,5400,15,20,36880',\n",
       " 'porsche,gas,std,2,convertible,RWD,six,207,5900,17,25,37028',\n",
       " 'mercedes-benz,gas,std,4,sedan,RWD,eight,184,4500,14,16,40960',\n",
       " 'bmw,gas,std,2,sedan,RWD,six,182,5400,16,22,41315',\n",
       " 'mercedes-benz,gas,std,2,hardtop,RWD,eight,184,4500,14,16,45400']"
      ]
     },
     "execution_count": 41,
     "metadata": {},
     "output_type": "execute_result"
    }
   ],
   "source": [
    "# clean and transfrom an RDD\n",
    "def cleanRDD(auto_str):\n",
    "    if isinstance(auto_str, int):\n",
    "        return auto_str\n",
    "    \n",
    "    att_list = auto_str.split(',')\n",
    "    \n",
    "    # convert `doors` to number\n",
    "    if att_list[3] == 'two':\n",
    "        att_list[3] = '2'\n",
    "    elif att_list[3] == 'four':\n",
    "        att_list[3] = '4'\n",
    "        \n",
    "    # convert `drive' to upper case\n",
    "    att_list[5] = att_list[5].upper()\n",
    "    \n",
    "    return ','.join(att_list)\n",
    "\n",
    "cleaned_data = autoData.map(cleanRDD)\n",
    "cleaned_data.collect()"
   ]
  },
  {
   "cell_type": "code",
   "execution_count": 42,
   "metadata": {},
   "outputs": [
    {
     "data": {
      "text/plain": [
       "25.15228426395939"
      ]
     },
     "execution_count": 42,
     "metadata": {},
     "output_type": "execute_result"
    }
   ],
   "source": [
    "# get average mile per galon for all car\n",
    "def get_mpg(auto_str):\n",
    "    if isinstance(auto_str, int):\n",
    "        return auto_str\n",
    "    \n",
    "    att_list = auto_str.split(',')\n",
    "    if att_list[9].isdigit():\n",
    "        return int(att_list[9])\n",
    "    else:\n",
    "        return 0\n",
    "    \n",
    "autoData.reduce(lambda x, y: get_mpg(x) + get_mpg(y)) / (autoData.count() - 1)"
   ]
  },
  {
   "cell_type": "markdown",
   "metadata": {},
   "source": [
    "**Working with pair RDDs**"
   ]
  },
  {
   "cell_type": "code",
   "execution_count": 44,
   "metadata": {},
   "outputs": [
    {
     "name": "stdout",
     "output_type": "stream",
     "text": [
      "[('MAKE', 'HP'), ('subaru', '69'), ('chevrolet', '48'), ('mazda', '68'), ('toyota', '62')]\n"
     ]
    },
    {
     "data": {
      "text/plain": [
       "['MAKE',\n",
       " 'subaru',\n",
       " 'chevrolet',\n",
       " 'mazda',\n",
       " 'toyota',\n",
       " 'mitsubishi',\n",
       " 'honda',\n",
       " 'nissan',\n",
       " 'dodge',\n",
       " 'plymouth',\n",
       " 'mazda',\n",
       " 'mitsubishi',\n",
       " 'dodge',\n",
       " 'plymouth',\n",
       " 'chevrolet',\n",
       " 'toyota',\n",
       " 'dodge',\n",
       " 'honda',\n",
       " 'toyota',\n",
       " 'honda',\n",
       " 'chevrolet',\n",
       " 'nissan',\n",
       " 'mitsubishi',\n",
       " 'dodge',\n",
       " 'plymouth',\n",
       " 'mazda',\n",
       " 'isuzu',\n",
       " 'mazda',\n",
       " 'nissan',\n",
       " 'honda',\n",
       " 'toyota',\n",
       " 'toyota',\n",
       " 'mitsubishi',\n",
       " 'subaru',\n",
       " 'nissan',\n",
       " 'subaru',\n",
       " 'honda',\n",
       " 'toyota',\n",
       " 'honda',\n",
       " 'honda',\n",
       " 'nissan',\n",
       " 'nissan',\n",
       " 'mazda',\n",
       " 'subaru',\n",
       " 'nissan',\n",
       " 'subaru',\n",
       " 'dodge',\n",
       " 'plymouth',\n",
       " 'mitsubishi',\n",
       " 'toyota',\n",
       " 'subaru',\n",
       " 'volkswagen',\n",
       " 'toyota',\n",
       " 'nissan',\n",
       " 'honda',\n",
       " 'toyota',\n",
       " 'toyota',\n",
       " 'dodge',\n",
       " 'plymouth',\n",
       " 'volkswagen',\n",
       " 'volkswagen',\n",
       " 'nissan',\n",
       " 'subaru',\n",
       " 'toyota',\n",
       " 'mitsubishi',\n",
       " 'volkswagen',\n",
       " 'toyota',\n",
       " 'nissan',\n",
       " 'toyota',\n",
       " 'toyota',\n",
       " 'mazda',\n",
       " 'volkswagen',\n",
       " 'mitsubishi',\n",
       " 'toyota',\n",
       " 'honda',\n",
       " 'mazda',\n",
       " 'dodge',\n",
       " 'plymouth',\n",
       " 'toyota',\n",
       " 'nissan',\n",
       " 'honda',\n",
       " 'subaru',\n",
       " 'toyota',\n",
       " 'mitsubishi',\n",
       " 'mitsubishi',\n",
       " 'toyota',\n",
       " 'volkswagen',\n",
       " 'toyota',\n",
       " 'nissan',\n",
       " 'toyota',\n",
       " 'mitsubishi',\n",
       " 'subaru',\n",
       " 'volkswagen',\n",
       " 'toyota',\n",
       " 'toyota',\n",
       " 'volkswagen',\n",
       " 'subaru',\n",
       " 'mazda',\n",
       " 'honda',\n",
       " 'honda',\n",
       " 'mazda',\n",
       " 'toyota',\n",
       " 'toyota',\n",
       " 'mazda',\n",
       " 'isuzu',\n",
       " 'toyota',\n",
       " 'mazda',\n",
       " 'toyota',\n",
       " 'subaru',\n",
       " 'toyota',\n",
       " 'volkswagen',\n",
       " 'subaru',\n",
       " 'mazda',\n",
       " 'saab',\n",
       " 'peugot',\n",
       " 'saab',\n",
       " 'volkswagen',\n",
       " 'peugot',\n",
       " 'mitsubishi',\n",
       " 'plymouth',\n",
       " 'volvo',\n",
       " 'honda',\n",
       " 'dodge',\n",
       " 'peugot',\n",
       " 'volkswagen',\n",
       " 'volvo',\n",
       " 'alfa-romero',\n",
       " 'nissan',\n",
       " 'nissan',\n",
       " 'mazda',\n",
       " 'volkswagen',\n",
       " 'peugot',\n",
       " 'audi',\n",
       " 'nissan',\n",
       " 'mitsubishi',\n",
       " 'mitsubishi',\n",
       " 'saab',\n",
       " 'audi',\n",
       " 'saab',\n",
       " 'peugot',\n",
       " 'mazda',\n",
       " 'toyota',\n",
       " 'toyota',\n",
       " 'volvo',\n",
       " 'toyota',\n",
       " 'bmw',\n",
       " 'alfa-romero',\n",
       " 'alfa-romero',\n",
       " 'mercury',\n",
       " 'volvo',\n",
       " 'toyota',\n",
       " 'peugot',\n",
       " 'peugot',\n",
       " 'volvo',\n",
       " 'peugot',\n",
       " 'bmw',\n",
       " 'peugot',\n",
       " 'nissan',\n",
       " 'audi',\n",
       " 'toyota',\n",
       " 'audi',\n",
       " 'peugot',\n",
       " 'peugot',\n",
       " 'saab',\n",
       " 'mazda',\n",
       " 'mazda',\n",
       " 'nissan',\n",
       " 'volvo',\n",
       " 'saab',\n",
       " 'audi',\n",
       " 'volvo',\n",
       " 'volvo',\n",
       " 'nissan',\n",
       " 'bmw',\n",
       " 'bmw',\n",
       " 'volvo',\n",
       " 'porsche',\n",
       " 'volvo',\n",
       " 'volvo',\n",
       " 'audi',\n",
       " 'bmw',\n",
       " 'mercedes-benz',\n",
       " 'mercedes-benz',\n",
       " 'mercedes-benz',\n",
       " 'bmw',\n",
       " 'mercedes-benz',\n",
       " 'jaguar',\n",
       " 'porsche',\n",
       " 'porsche',\n",
       " 'mercedes-benz',\n",
       " 'mercedes-benz',\n",
       " 'jaguar',\n",
       " 'jaguar',\n",
       " 'bmw',\n",
       " 'porsche',\n",
       " 'mercedes-benz',\n",
       " 'bmw',\n",
       " 'mercedes-benz']"
      ]
     },
     "execution_count": 44,
     "metadata": {},
     "output_type": "execute_result"
    }
   ],
   "source": [
    "# Create a pair RDD of auto brand and horse power\n",
    "cyl_data = autoData.map(lambda x: (x.split(',')[0], x.split(',')[7]))\n",
    "print(cyl_data.take(5))\n",
    "cyl_data.keys().collect()"
   ]
  },
  {
   "cell_type": "code",
   "execution_count": 45,
   "metadata": {},
   "outputs": [
    {
     "data": {
      "text/plain": [
       "[('subaru', '69'),\n",
       " ('chevrolet', '48'),\n",
       " ('mazda', '68'),\n",
       " ('toyota', '62'),\n",
       " ('mitsubishi', '68')]"
      ]
     },
     "execution_count": 45,
     "metadata": {},
     "output_type": "execute_result"
    }
   ],
   "source": [
    "# remove the header row\n",
    "header = cyl_data.first()\n",
    "\n",
    "cyl_hp = cyl_data.filter(lambda x: x != header)\n",
    "cyl_hp.take(5)"
   ]
  },
  {
   "cell_type": "code",
   "execution_count": 46,
   "metadata": {},
   "outputs": [
    {
     "data": {
      "text/plain": [
       "[('subaru', (1035, 12)),\n",
       " ('chevrolet', (188, 3)),\n",
       " ('mazda', (1390, 16)),\n",
       " ('toyota', (2969, 32)),\n",
       " ('mitsubishi', (1353, 13)),\n",
       " ('honda', (1043, 13)),\n",
       " ('nissan', (1846, 18)),\n",
       " ('dodge', (675, 8)),\n",
       " ('plymouth', (607, 7)),\n",
       " ('isuzu', (168, 2)),\n",
       " ('volkswagen', (973, 12)),\n",
       " ('saab', (760, 6)),\n",
       " ('peugot', (1098, 11)),\n",
       " ('volvo', (1408, 11)),\n",
       " ('alfa-romero', (376, 3)),\n",
       " ('audi', (687, 6)),\n",
       " ('bmw', (1111, 8)),\n",
       " ('mercury', ('175', 1)),\n",
       " ('porsche', (764, 4)),\n",
       " ('mercedes-benz', (1170, 8)),\n",
       " ('jaguar', (614, 3))]"
      ]
     },
     "execution_count": 46,
     "metadata": {},
     "output_type": "execute_result"
    }
   ],
   "source": [
    "# add count 1 to each record and then reduce to find the total\n",
    "brand_values = cyl_hp.mapValues(lambda x: (x, 1)).reduceByKey(lambda x, y: (int(x[0]) + int(y[0]), int(x[1]) + int(y[1])))\n",
    "brand_values.collect()"
   ]
  },
  {
   "cell_type": "code",
   "execution_count": 48,
   "metadata": {},
   "outputs": [
    {
     "data": {
      "text/plain": [
       "[('subaru', 86.25),\n",
       " ('chevrolet', 62.666666666666664),\n",
       " ('mazda', 86.875),\n",
       " ('toyota', 92.78125),\n",
       " ('mitsubishi', 104.07692307692308),\n",
       " ('honda', 80.23076923076923),\n",
       " ('nissan', 102.55555555555556),\n",
       " ('dodge', 84.375),\n",
       " ('plymouth', 86.71428571428571),\n",
       " ('isuzu', 84.0),\n",
       " ('volkswagen', 81.08333333333333),\n",
       " ('saab', 126.66666666666667),\n",
       " ('peugot', 99.81818181818181),\n",
       " ('volvo', 128.0),\n",
       " ('alfa-romero', 125.33333333333333),\n",
       " ('audi', 114.5),\n",
       " ('bmw', 138.875),\n",
       " ('mercury', 175.0),\n",
       " ('porsche', 191.0),\n",
       " ('mercedes-benz', 146.25),\n",
       " ('jaguar', 204.66666666666666)]"
      ]
     },
     "execution_count": 48,
     "metadata": {},
     "output_type": "execute_result"
    }
   ],
   "source": [
    "# finding the average\n",
    "brand_values.mapValues(lambda x: int(x[0]) / int(x[1])).collect()"
   ]
  },
  {
   "cell_type": "markdown",
   "metadata": {},
   "source": [
    "**Advance Spark**"
   ]
  },
  {
   "cell_type": "code",
   "execution_count": 51,
   "metadata": {},
   "outputs": [
    {
     "name": "stdout",
     "output_type": "stream",
     "text": [
      "198\n",
      "92 67\n"
     ]
    }
   ],
   "source": [
    "# Initialize the accumulator\n",
    "sedan_count = sc.accumulator(0)\n",
    "hatchback_count = sc.accumulator(0)\n",
    "\n",
    "# set broadcast variables\n",
    "sedan_text = sc.broadcast('sedan')\n",
    "hatchback_text = sc.broadcast('hatchback')\n",
    "\n",
    "def split_line(line):\n",
    "    global sedan_count\n",
    "    global hatchback_count\n",
    "    \n",
    "    # use broadcast variables to do comparison and update the aggregators\n",
    "    if sedan_text.value in line:\n",
    "        sedan_count += 1\n",
    "    elif hatchback_text.value in line:\n",
    "        hatchback_count += 1\n",
    "    return line.split(',')\n",
    "\n",
    "# now do the map\n",
    "split_data = autoData.map(split_line)\n",
    "print(split_data.count())\n",
    "print(sedan_count, hatchback_count)\n",
    "\n"
   ]
  },
  {
   "cell_type": "code",
   "execution_count": 57,
   "metadata": {},
   "outputs": [
    {
     "name": "stdout",
     "output_type": "stream",
     "text": [
      "1\n",
      "10\n",
      "2\n"
     ]
    }
   ],
   "source": [
    "# Partitions\n",
    "print(collData.getNumPartitions())\n",
    "\n",
    "# specify the number of patitions\n",
    "coll_data = sc.parallelize([1, 3, 1, 1, 5, 3, 8, 4, 6, 12], 2)\n",
    "coll_data.cache()\n",
    "print(coll_data.count())\n",
    "print(coll_data.getNumPartitions())"
   ]
  },
  {
   "cell_type": "markdown",
   "metadata": {},
   "source": [
    "## Spark SQL\n",
    "\n",
    "### Overview\n",
    "* A library built on Spark Core that supports SQL like database\n",
    "* Seamlessly mix SQL query with Spark programs\n",
    "* Help 'mix' and 'match' RDBMS and noSQL data sources\n",
    "\n",
    "### Operations supported by dataframe:\n",
    "* `ilter`\n",
    "* `join` - join two dataframe base on common column\n",
    "* `groupBy`\n",
    "* `agg`\n",
    "* `registerAsTempTable` - register a dataframe as a table within SQLContext\n",
    "* Operations can be nested.\n",
    "\n",
    "### SQLContext\n",
    "* All functionalities for SparkSQL accessed though a SQLContext\n",
    "* Derived from SparkContext\n",
    "* Data Frames are created though SQLContext\n",
    "* Provides a standard interface to work across different data sources"
   ]
  },
  {
   "cell_type": "markdown",
   "metadata": {},
   "source": [
    "### Example"
   ]
  },
  {
   "cell_type": "code",
   "execution_count": 58,
   "metadata": {},
   "outputs": [],
   "source": [
    "# Create a SQLContext form SparkContext\n",
    "from pyspark.sql import SQLContext\n",
    "sqlc = SQLContext(sc)"
   ]
  },
  {
   "cell_type": "markdown",
   "metadata": {},
   "source": [
    "**Working with data frames**"
   ]
  },
  {
   "cell_type": "code",
   "execution_count": 59,
   "metadata": {},
   "outputs": [
    {
     "name": "stdout",
     "output_type": "stream",
     "text": [
      "+---+------+------+-----------------+------+\n",
      "|age|deptid|gender|             name|salary|\n",
      "+---+------+------+-----------------+------+\n",
      "| 32|   100|  male|Benjamin Garrison|  3000|\n",
      "| 40|   200|  male|    Holland Drake|  4500|\n",
      "| 26|   100|  male|  Burks Velasquez|  2700|\n",
      "| 51|   100|female|    June Rutledge|  4300|\n",
      "| 44|   200|  male|    Nielsen Knapp|  6500|\n",
      "+---+------+------+-----------------+------+\n",
      "\n",
      "root\n",
      " |-- age: string (nullable = true)\n",
      " |-- deptid: string (nullable = true)\n",
      " |-- gender: string (nullable = true)\n",
      " |-- name: string (nullable = true)\n",
      " |-- salary: string (nullable = true)\n",
      "\n"
     ]
    }
   ],
   "source": [
    "# Create a data frame from a JSON file\n",
    "emp_df = sqlc.read.json('data/customerData.json')\n",
    "emp_df.show()\n",
    "emp_df.printSchema()"
   ]
  },
  {
   "cell_type": "code",
   "execution_count": 60,
   "metadata": {},
   "outputs": [
    {
     "name": "stdout",
     "output_type": "stream",
     "text": [
      "+-----------------+\n",
      "|             name|\n",
      "+-----------------+\n",
      "|Benjamin Garrison|\n",
      "|    Holland Drake|\n",
      "|  Burks Velasquez|\n",
      "|    June Rutledge|\n",
      "|    Nielsen Knapp|\n",
      "+-----------------+\n",
      "\n"
     ]
    }
   ],
   "source": [
    "# Do some sql query\n",
    "emp_df.select('name').show()\n"
   ]
  },
  {
   "cell_type": "code",
   "execution_count": 62,
   "metadata": {},
   "outputs": [
    {
     "name": "stdout",
     "output_type": "stream",
     "text": [
      "+---+------+------+-------------+------+\n",
      "|age|deptid|gender|         name|salary|\n",
      "+---+------+------+-------------+------+\n",
      "| 40|   200|  male|Holland Drake|  4500|\n",
      "+---+------+------+-------------+------+\n",
      "\n"
     ]
    }
   ],
   "source": [
    "emp_df.filter(emp_df['age'] == 40).show()"
   ]
  },
  {
   "cell_type": "code",
   "execution_count": 63,
   "metadata": {},
   "outputs": [
    {
     "name": "stdout",
     "output_type": "stream",
     "text": [
      "+------+-----+\n",
      "|gender|count|\n",
      "+------+-----+\n",
      "|female|    1|\n",
      "|  male|    4|\n",
      "+------+-----+\n",
      "\n"
     ]
    }
   ],
   "source": [
    "emp_df.groupBy('gender').count().show()"
   ]
  },
  {
   "cell_type": "code",
   "execution_count": 66,
   "metadata": {},
   "outputs": [
    {
     "name": "stdout",
     "output_type": "stream",
     "text": [
      "+------+------------------+--------+\n",
      "|deptid|       avg(salary)|max(age)|\n",
      "+------+------------------+--------+\n",
      "|   200|            5500.0|      44|\n",
      "|   100|3333.3333333333335|      51|\n",
      "+------+------------------+--------+\n",
      "\n"
     ]
    }
   ],
   "source": [
    "emp_df.groupBy('deptid').agg({'salary': 'avg', 'age': 'max'}).show()"
   ]
  },
  {
   "cell_type": "code",
   "execution_count": 68,
   "metadata": {},
   "outputs": [
    {
     "name": "stdout",
     "output_type": "stream",
     "text": [
      "+---+-----------+\n",
      "| id|       name|\n",
      "+---+-----------+\n",
      "|100|      Sales|\n",
      "|200|Engineering|\n",
      "+---+-----------+\n",
      "\n"
     ]
    }
   ],
   "source": [
    "# Create a df from a list\n",
    "dept_list = [{ \"name\": \"Sales\", \"id\": '100'}, { \"name\": \"Engineering\", \"id\": \"200\"}]\n",
    "dept_df = sqlc.createDataFrame(dept_list)\n",
    "dept_df.show()"
   ]
  },
  {
   "cell_type": "code",
   "execution_count": 69,
   "metadata": {},
   "outputs": [
    {
     "name": "stdout",
     "output_type": "stream",
     "text": [
      "+---+------+------+-----------------+------+---+-----------+\n",
      "|age|deptid|gender|             name|salary| id|       name|\n",
      "+---+------+------+-----------------+------+---+-----------+\n",
      "| 51|   100|female|    June Rutledge|  4300|100|      Sales|\n",
      "| 26|   100|  male|  Burks Velasquez|  2700|100|      Sales|\n",
      "| 32|   100|  male|Benjamin Garrison|  3000|100|      Sales|\n",
      "| 44|   200|  male|    Nielsen Knapp|  6500|200|Engineering|\n",
      "| 40|   200|  male|    Holland Drake|  4500|200|Engineering|\n",
      "+---+------+------+-----------------+------+---+-----------+\n",
      "\n"
     ]
    }
   ],
   "source": [
    "# join the data frames\n",
    "emp_df.join(dept_df, dept_df.id == emp_df.deptid).show()"
   ]
  },
  {
   "cell_type": "code",
   "execution_count": 70,
   "metadata": {},
   "outputs": [
    {
     "name": "stdout",
     "output_type": "stream",
     "text": [
      "+------+-----------+--------+\n",
      "|deptid|avg(salary)|max(age)|\n",
      "+------+-----------+--------+\n",
      "|   200|     5500.0|      44|\n",
      "|   100|     3650.0|      51|\n",
      "+------+-----------+--------+\n",
      "\n"
     ]
    }
   ],
   "source": [
    "# cascading operations\n",
    "emp_df.filter(emp_df['age'] >= 30).join(dept_df, dept_df.id == emp_df.deptid).groupBy('deptid').agg({'salary': 'avg', 'age': 'max'}).show()"
   ]
  },
  {
   "cell_type": "code",
   "execution_count": 71,
   "metadata": {},
   "outputs": [
    {
     "name": "stdout",
     "output_type": "stream",
     "text": [
      "+---+------+------+-------------+------+\n",
      "|age|deptid|gender|         name|salary|\n",
      "+---+------+------+-------------+------+\n",
      "| 40|   200|  male|Holland Drake|  4500|\n",
      "| 51|   100|female|June Rutledge|  4300|\n",
      "| 44|   200|  male|Nielsen Knapp|  6500|\n",
      "+---+------+------+-------------+------+\n",
      "\n"
     ]
    }
   ],
   "source": [
    "# Register a df as a table\n",
    "emp_df.registerTempTable('employees')\n",
    "sqlc.sql('select * from employees where salary > 4000').show()"
   ]
  },
  {
   "cell_type": "code",
   "execution_count": 72,
   "metadata": {},
   "outputs": [
    {
     "name": "stdout",
     "output_type": "stream",
     "text": [
      "3000\n",
      "4500\n",
      "2700\n",
      "4300\n",
      "6500\n"
     ]
    }
   ],
   "source": [
    "# To pandas data frame\n",
    "emp_pdf = emp_df.toPandas()\n",
    "for index, row in emp_pdf.iterrows():\n",
    "    print(row['salary'])"
   ]
  },
  {
   "cell_type": "markdown",
   "metadata": {},
   "source": [
    "**Creating a data frame fom an RDD**"
   ]
  },
  {
   "cell_type": "code",
   "execution_count": 73,
   "metadata": {},
   "outputs": [],
   "source": [
    "from pyspark.sql import Row\n",
    "lines = sc.textFile('data/auto-data.csv')"
   ]
  },
  {
   "cell_type": "code",
   "execution_count": 74,
   "metadata": {},
   "outputs": [
    {
     "data": {
      "text/plain": [
       "197"
      ]
     },
     "execution_count": 74,
     "metadata": {},
     "output_type": "execute_result"
    }
   ],
   "source": [
    "# remove the first line\n",
    "data_lines = lines.filter(lambda x: 'FUELTYPE' not in x)\n",
    "data_lines.count()"
   ]
  },
  {
   "cell_type": "code",
   "execution_count": 76,
   "metadata": {},
   "outputs": [
    {
     "data": {
      "text/plain": [
       "[Row(body='hatchback', hp=69, make='subaru'),\n",
       " Row(body='hatchback', hp=48, make='chevrolet'),\n",
       " Row(body='hatchback', hp=68, make='mazda'),\n",
       " Row(body='hatchback', hp=62, make='toyota'),\n",
       " Row(body='hatchback', hp=68, make='mitsubishi'),\n",
       " Row(body='hatchback', hp=60, make='honda'),\n",
       " Row(body='sedan', hp=69, make='nissan'),\n",
       " Row(body='hatchback', hp=68, make='dodge'),\n",
       " Row(body='hatchback', hp=68, make='plymouth'),\n",
       " Row(body='hatchback', hp=68, make='mazda'),\n",
       " Row(body='hatchback', hp=68, make='mitsubishi'),\n",
       " Row(body='hatchback', hp=68, make='dodge'),\n",
       " Row(body='hatchback', hp=68, make='plymouth'),\n",
       " Row(body='hatchback', hp=70, make='chevrolet'),\n",
       " Row(body='hatchback', hp=62, make='toyota'),\n",
       " Row(body='hatchback', hp=68, make='dodge'),\n",
       " Row(body='hatchback', hp=58, make='honda'),\n",
       " Row(body='hatchback', hp=62, make='toyota'),\n",
       " Row(body='hatchback', hp=76, make='honda'),\n",
       " Row(body='sedan', hp=70, make='chevrolet'),\n",
       " Row(body='sedan', hp=69, make='nissan'),\n",
       " Row(body='hatchback', hp=68, make='mitsubishi'),\n",
       " Row(body='sedan', hp=68, make='dodge'),\n",
       " Row(body='sedan', hp=68, make='plymouth'),\n",
       " Row(body='sedan', hp=68, make='mazda'),\n",
       " Row(body='sedan', hp=78, make='isuzu'),\n",
       " Row(body='hatchback', hp=68, make='mazda'),\n",
       " Row(body='sedan', hp=69, make='nissan'),\n",
       " Row(body='hatchback', hp=76, make='honda'),\n",
       " Row(body='wagon', hp=62, make='toyota'),\n",
       " Row(body='sedan', hp=70, make='toyota'),\n",
       " Row(body='sedan', hp=88, make='mitsubishi'),\n",
       " Row(body='hatchback', hp=73, make='subaru'),\n",
       " Row(body='sedan', hp=55, make='nissan'),\n",
       " Row(body='sedan', hp=82, make='subaru'),\n",
       " Row(body='hatchback', hp=76, make='honda'),\n",
       " Row(body='hatchback', hp=70, make='toyota'),\n",
       " Row(body='sedan', hp=76, make='honda'),\n",
       " Row(body='wagon', hp=76, make='honda'),\n",
       " Row(body='sedan', hp=69, make='nissan'),\n",
       " Row(body='wagon', hp=69, make='nissan'),\n",
       " Row(body='sedan', hp=68, make='mazda'),\n",
       " Row(body='wagon', hp=82, make='subaru'),\n",
       " Row(body='sedan', hp=69, make='nissan'),\n",
       " Row(body='hatchback', hp=73, make='subaru'),\n",
       " Row(body='sedan', hp=68, make='dodge'),\n",
       " Row(body='sedan', hp=68, make='plymouth'),\n",
       " Row(body='hatchback', hp=102, make='mitsubishi'),\n",
       " Row(body='sedan', hp=70, make='toyota'),\n",
       " Row(body='sedan', hp=82, make='subaru'),\n",
       " Row(body='sedan', hp=52, make='volkswagen'),\n",
       " Row(body='hatchback', hp=56, make='toyota'),\n",
       " Row(body='hatchback', hp=69, make='nissan'),\n",
       " Row(body='hatchback', hp=86, make='honda'),\n",
       " Row(body='wagon', hp=62, make='toyota'),\n",
       " Row(body='sedan', hp=56, make='toyota'),\n",
       " Row(body='hatchback', hp=102, make='dodge'),\n",
       " Row(body='hatchback', hp=102, make='plymouth'),\n",
       " Row(body='sedan', hp=85, make='volkswagen'),\n",
       " Row(body='sedan', hp=52, make='volkswagen'),\n",
       " Row(body='wagon', hp=69, make='nissan'),\n",
       " Row(body='wagon', hp=82, make='subaru'),\n",
       " Row(body='sedan', hp=70, make='toyota'),\n",
       " Row(body='sedan', hp=88, make='mitsubishi'),\n",
       " Row(body='sedan', hp=85, make='volkswagen'),\n",
       " Row(body='hatchback', hp=70, make='toyota'),\n",
       " Row(body='hardtop', hp=69, make='nissan'),\n",
       " Row(body='hatchback', hp=70, make='toyota'),\n",
       " Row(body='hardtop', hp=116, make='toyota'),\n",
       " Row(body='sedan', hp=84, make='mazda'),\n",
       " Row(body='sedan', hp=85, make='volkswagen'),\n",
       " Row(body='hatchback', hp=88, make='mitsubishi'),\n",
       " Row(body='wagon', hp=62, make='toyota'),\n",
       " Row(body='sedan', hp=86, make='honda'),\n",
       " Row(body='hatchback', hp=84, make='mazda'),\n",
       " Row(body='wagon', hp=88, make='dodge'),\n",
       " Row(body='wagon', hp=88, make='plymouth'),\n",
       " Row(body='sedan', hp=92, make='toyota'),\n",
       " Row(body='hatchback', hp=97, make='nissan'),\n",
       " Row(body='hatchback', hp=86, make='honda'),\n",
       " Row(body='sedan', hp=82, make='subaru'),\n",
       " Row(body='sedan', hp=70, make='toyota'),\n",
       " Row(body='sedan', hp=116, make='mitsubishi'),\n",
       " Row(body='sedan', hp=116, make='mitsubishi'),\n",
       " Row(body='sedan', hp=112, make='toyota'),\n",
       " Row(body='sedan', hp=68, make='volkswagen'),\n",
       " Row(body='hatchback', hp=112, make='toyota'),\n",
       " Row(body='sedan', hp=97, make='nissan'),\n",
       " Row(body='hardtop', hp=116, make='toyota'),\n",
       " Row(body='hatchback', hp=116, make='mitsubishi'),\n",
       " Row(body='sedan', hp=94, make='subaru'),\n",
       " Row(body='hatchback', hp=90, make='volkswagen'),\n",
       " Row(body='hatchback', hp=92, make='toyota'),\n",
       " Row(body='hatchback', hp=116, make='toyota'),\n",
       " Row(body='sedan', hp=100, make='volkswagen'),\n",
       " Row(body='wagon', hp=94, make='subaru'),\n",
       " Row(body='sedan', hp=84, make='mazda'),\n",
       " Row(body='sedan', hp=86, make='honda'),\n",
       " Row(body='sedan', hp=100, make='honda'),\n",
       " Row(body='hatchback', hp=84, make='mazda'),\n",
       " Row(body='sedan', hp=73, make='toyota'),\n",
       " Row(body='sedan', hp=92, make='toyota'),\n",
       " Row(body='hatchback', hp=101, make='mazda'),\n",
       " Row(body='hatchback', hp=90, make='isuzu'),\n",
       " Row(body='hardtop', hp=116, make='toyota'),\n",
       " Row(body='hatchback', hp=84, make='mazda'),\n",
       " Row(body='hatchback', hp=92, make='toyota'),\n",
       " Row(body='sedan', hp=111, make='subaru'),\n",
       " Row(body='hatchback', hp=116, make='toyota'),\n",
       " Row(body='convertible', hp=90, make='volkswagen'),\n",
       " Row(body='wagon', hp=111, make='subaru'),\n",
       " Row(body='hatchback', hp=101, make='mazda'),\n",
       " Row(body='hatchback', hp=110, make='saab'),\n",
       " Row(body='sedan', hp=97, make='peugot'),\n",
       " Row(body='sedan', hp=110, make='saab'),\n",
       " Row(body='wagon', hp=88, make='volkswagen'),\n",
       " Row(body='wagon', hp=97, make='peugot'),\n",
       " Row(body='hatchback', hp=145, make='mitsubishi'),\n",
       " Row(body='hatchback', hp=145, make='plymouth'),\n",
       " Row(body='sedan', hp=114, make='volvo'),\n",
       " Row(body='sedan', hp=101, make='honda'),\n",
       " Row(body='hatchback', hp=145, make='dodge'),\n",
       " Row(body='sedan', hp=95, make='peugot'),\n",
       " Row(body='sedan', hp=110, make='volkswagen'),\n",
       " Row(body='wagon', hp=114, make='volvo'),\n",
       " Row(body='convertible', hp=111, make='alfa-romero'),\n",
       " Row(body='sedan', hp=152, make='nissan'),\n",
       " Row(body='sedan', hp=152, make='nissan'),\n",
       " Row(body='hatchback', hp=101, make='mazda'),\n",
       " Row(body='sedan', hp=68, make='volkswagen'),\n",
       " Row(body='wagon', hp=95, make='peugot'),\n",
       " Row(body='sedan', hp=102, make='audi'),\n",
       " Row(body='wagon', hp=152, make='nissan'),\n",
       " Row(body='hatchback', hp=145, make='mitsubishi'),\n",
       " Row(body='hatchback', hp=145, make='mitsubishi'),\n",
       " Row(body='hatchback', hp=110, make='saab'),\n",
       " Row(body='sedan', hp=110, make='audi'),\n",
       " Row(body='sedan', hp=110, make='saab'),\n",
       " Row(body='sedan', hp=95, make='peugot'),\n",
       " Row(body='hatchback', hp=135, make='mazda'),\n",
       " Row(body='sedan', hp=156, make='toyota'),\n",
       " Row(body='wagon', hp=156, make='toyota'),\n",
       " Row(body='sedan', hp=114, make='volvo'),\n",
       " Row(body='hatchback', hp=161, make='toyota'),\n",
       " Row(body='sedan', hp=101, make='bmw'),\n",
       " Row(body='convertible', hp=111, make='alfa-romero'),\n",
       " Row(body='hatchback', hp=154, make='alfa-romero'),\n",
       " Row(body='hatchback', hp=175, make='mercury'),\n",
       " Row(body='wagon', hp=114, make='volvo'),\n",
       " Row(body='hatchback', hp=161, make='toyota'),\n",
       " Row(body='sedan', hp=97, make='peugot'),\n",
       " Row(body='wagon', hp=95, make='peugot'),\n",
       " Row(body='sedan', hp=114, make='volvo'),\n",
       " Row(body='sedan', hp=95, make='peugot'),\n",
       " Row(body='sedan', hp=101, make='bmw'),\n",
       " Row(body='wagon', hp=95, make='peugot'),\n",
       " Row(body='hatchback', hp=160, make='nissan'),\n",
       " Row(body='sedan', hp=115, make='audi'),\n",
       " Row(body='convertible', hp=116, make='toyota'),\n",
       " Row(body='sedan', hp=110, make='audi'),\n",
       " Row(body='sedan', hp=95, make='peugot'),\n",
       " Row(body='sedan', hp=142, make='peugot'),\n",
       " Row(body='hatchback', hp=160, make='saab'),\n",
       " Row(body='sedan', hp=120, make='mazda'),\n",
       " Row(body='sedan', hp=72, make='mazda'),\n",
       " Row(body='hatchback', hp=160, make='nissan'),\n",
       " Row(body='sedan', hp=162, make='volvo'),\n",
       " Row(body='sedan', hp=160, make='saab'),\n",
       " Row(body='wagon', hp=110, make='audi'),\n",
       " Row(body='wagon', hp=162, make='volvo'),\n",
       " Row(body='sedan', hp=160, make='volvo'),\n",
       " Row(body='hatchback', hp=200, make='nissan'),\n",
       " Row(body='sedan', hp=121, make='bmw'),\n",
       " Row(body='sedan', hp=121, make='bmw'),\n",
       " Row(body='sedan', hp=134, make='volvo'),\n",
       " Row(body='hatchback', hp=143, make='porsche'),\n",
       " Row(body='sedan', hp=106, make='volvo'),\n",
       " Row(body='sedan', hp=114, make='volvo'),\n",
       " Row(body='sedan', hp=140, make='audi'),\n",
       " Row(body='sedan', hp=121, make='bmw'),\n",
       " Row(body='sedan', hp=123, make='mercedes-benz'),\n",
       " Row(body='hardtop', hp=123, make='mercedes-benz'),\n",
       " Row(body='wagon', hp=123, make='mercedes-benz'),\n",
       " Row(body='sedan', hp=182, make='bmw'),\n",
       " Row(body='sedan', hp=123, make='mercedes-benz'),\n",
       " Row(body='sedan', hp=176, make='jaguar'),\n",
       " Row(body='hardtop', hp=207, make='porsche'),\n",
       " Row(body='hardtop', hp=207, make='porsche'),\n",
       " Row(body='sedan', hp=155, make='mercedes-benz'),\n",
       " Row(body='convertible', hp=155, make='mercedes-benz'),\n",
       " Row(body='sedan', hp=176, make='jaguar'),\n",
       " Row(body='sedan', hp=262, make='jaguar'),\n",
       " Row(body='sedan', hp=182, make='bmw'),\n",
       " Row(body='convertible', hp=207, make='porsche'),\n",
       " Row(body='sedan', hp=184, make='mercedes-benz'),\n",
       " Row(body='sedan', hp=182, make='bmw'),\n",
       " Row(body='hardtop', hp=184, make='mercedes-benz')]"
      ]
     },
     "execution_count": 76,
     "metadata": {},
     "output_type": "execute_result"
    }
   ],
   "source": [
    "parts = data_lines.map(lambda x: x.split(','))\n",
    "auto_map = parts.map(lambda x: Row(make = x[0], body = x[4], hp = int(x[7])))\n",
    "auto_map.collect()"
   ]
  },
  {
   "cell_type": "code",
   "execution_count": 79,
   "metadata": {},
   "outputs": [
    {
     "name": "stdout",
     "output_type": "stream",
     "text": [
      "+---------+---+----------+\n",
      "|     body| hp|      make|\n",
      "+---------+---+----------+\n",
      "|hatchback|102|mitsubishi|\n",
      "|hatchback|102|     dodge|\n",
      "|hatchback|102|  plymouth|\n",
      "|  hardtop|116|    toyota|\n",
      "|    sedan|116|mitsubishi|\n",
      "|    sedan|116|mitsubishi|\n",
      "|    sedan|112|    toyota|\n",
      "|hatchback|112|    toyota|\n",
      "|  hardtop|116|    toyota|\n",
      "|hatchback|116|mitsubishi|\n",
      "|hatchback|116|    toyota|\n",
      "|hatchback|101|     mazda|\n",
      "|  hardtop|116|    toyota|\n",
      "|    sedan|111|    subaru|\n",
      "|hatchback|116|    toyota|\n",
      "|    wagon|111|    subaru|\n",
      "|hatchback|101|     mazda|\n",
      "|hatchback|110|      saab|\n",
      "|    sedan|110|      saab|\n",
      "|hatchback|145|mitsubishi|\n",
      "+---------+---+----------+\n",
      "only showing top 20 rows\n",
      "\n"
     ]
    }
   ],
   "source": [
    "# Infer schema and register the df as a table\n",
    "auto_df = sqlc.createDataFrame(auto_map)\n",
    "auto_df.registerTempTable('autos')\n",
    "sqlc.sql('select * from autos where hp > 100').show()"
   ]
  }
 ],
 "metadata": {
  "kernelspec": {
   "display_name": "Python 3",
   "language": "python",
   "name": "python3"
  },
  "language_info": {
   "codemirror_mode": {
    "name": "ipython",
    "version": 3
   },
   "file_extension": ".py",
   "mimetype": "text/x-python",
   "name": "python",
   "nbconvert_exporter": "python",
   "pygments_lexer": "ipython3",
   "version": "3.6.5"
  }
 },
 "nbformat": 4,
 "nbformat_minor": 2
}
