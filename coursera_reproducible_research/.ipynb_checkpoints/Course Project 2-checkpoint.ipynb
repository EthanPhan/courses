{
 "cells": [
  {
   "cell_type": "markdown",
   "metadata": {},
   "source": [
    "### Introduction\n",
    "\n",
    "Storms and other severe weather events can cause both public health and economic problems for communities and municipalities. Many severe events can result in fatalities, injuries, and property damage, and preventing such outcomes to the extent possible is a key concern.\n",
    "\n",
    "This project involves exploring the U.S. National Oceanic and Atmospheric Administration's (NOAA) storm database. This database tracks characteristics of major storms and weather events in the United States, including when and where they occur, as well as estimates of any fatalities, injuries, and property damage.\n",
    "\n",
    "### Data\n",
    "\n",
    "The data for this assignment come in the form of a comma-separated-value file compressed via the bzip2 algorithm to reduce its size. You can download the file from the course web site:\n",
    "\n",
    "* [Storm Data](https://d396qusza40orc.cloudfront.net/repdata%2Fdata%2FStormData.csv.bz2) [47Mb]\n",
    "\n",
    "There is also some documentation of the database available. Here you will find how some of the variables are constructed/defined.\n",
    "\n",
    "* National Weather Service [Storm Data Documentation](https://d396qusza40orc.cloudfront.net/repdata%2Fpeer2_doc%2Fpd01016005curr.pdf)\n",
    "* National Climatic Data Center Storm Events [FAQ](https://d396qusza40orc.cloudfront.net/repdata%2Fpeer2_doc%2FNCDC%20Storm%20Events-FAQ%20Page.pdf)\n",
    "\n",
    "The events in the database start in the year 1950 and end in November 2011. In the earlier years of the database there are generally fewer events recorded, most likely due to a lack of good records. More recent years should be considered more complete.\n",
    "\n",
    "### Assignment\n",
    "\n",
    "The basic goal of this assignment is to explore the NOAA Storm Database and answer some basic questions about severe weather events. You must use the database to answer the questions below and show the code for your entire analysis. Your analysis can consist of tables, figures, or other summaries. You may use any R package you want to support your analysis.\n",
    "\n",
    "#### Questions\n",
    "\n",
    "Your data analysis must address the following questions:\n",
    "\n",
    "1. Across the United States, which types of events (as indicated in the `EVTYPE` variable) are most harmful with respect to population health?\n",
    "2. Across the United States, which types of events have the greatest economic consequences?\n",
    "\n",
    "Consider writing your report as if it were to be read by a government or municipal manager who might be responsible for preparing for severe weather events and will need to prioritize resources for different types of events. However, there is no need to make any specific recommendations in your report.\n",
    "\n",
    "#### Document Layout\n",
    "\n",
    "* Title: Your document should have a title that briefly summarizes your data analysis\n",
    "* Synopsis: Immediately after the title, there should be a synopsis which describes and summarizes your analysis in at most 10 complete sentences.\n",
    "* There should be a section titled Data Processing which describes (in words and code) how the data were loaded into R and processed for analysis. In particular, your analysis must start from the raw CSV file containing the data. You cannot do any preprocessing outside the document. If preprocessing is time-consuming you may consider using the cache=TRUE option for certain code chunks.\n",
    "* There should be a section titled Results in which your results are presented.\n",
    "* You may have other sections in your analysis, but Data Processing and Results are required.\n",
    "* The analysis document must have at least one figure containing a plot.\n",
    "* Your analysis must have no more than three figures. Figures may have multiple plots in them (i.e. panel plots), but there cannot be more than three figures total.\n",
    "* You must show all your code for the work in your analysis document. This may make the document a bit verbose, but that is okay."
   ]
  },
  {
   "cell_type": "markdown",
   "metadata": {},
   "source": [
    "## [TODO]: Insert Title here"
   ]
  },
  {
   "cell_type": "markdown",
   "metadata": {},
   "source": [
    "[TODO]: insert synopsis"
   ]
  },
  {
   "cell_type": "code",
   "execution_count": 1,
   "metadata": {},
   "outputs": [],
   "source": [
    "library(ggplot2)"
   ]
  },
  {
   "cell_type": "markdown",
   "metadata": {},
   "source": [
    "### Data Processing"
   ]
  },
  {
   "cell_type": "markdown",
   "metadata": {},
   "source": [
    "**Acquire the dataset**\n",
    "\n",
    "The dataset is downloaded into the `data` folder."
   ]
  },
  {
   "cell_type": "code",
   "execution_count": 2,
   "metadata": {},
   "outputs": [
    {
     "data": {
      "text/html": [
       "<ol class=list-inline>\n",
       "\t<li>'activity.csv'</li>\n",
       "\t<li>'activity.zip'</li>\n",
       "\t<li>'StormData.csv.bz2'</li>\n",
       "</ol>\n"
      ],
      "text/latex": [
       "\\begin{enumerate*}\n",
       "\\item 'activity.csv'\n",
       "\\item 'activity.zip'\n",
       "\\item 'StormData.csv.bz2'\n",
       "\\end{enumerate*}\n"
      ],
      "text/markdown": [
       "1. 'activity.csv'\n",
       "2. 'activity.zip'\n",
       "3. 'StormData.csv.bz2'\n",
       "\n",
       "\n"
      ],
      "text/plain": [
       "[1] \"activity.csv\"      \"activity.zip\"      \"StormData.csv.bz2\""
      ]
     },
     "metadata": {},
     "output_type": "display_data"
    }
   ],
   "source": [
    "if(!file.exists('./data')){dir.create('./data')}\n",
    "# download the dataset\n",
    "url <- 'https://d396qusza40orc.cloudfront.net/repdata%2Fdata%2FStormData.csv.bz2'\n",
    "\n",
    "download.file(url = url, destfile = './data/StormData.csv.bz2', method = 'curl')\n",
    "\n",
    "list.files('./data')"
   ]
  },
  {
   "cell_type": "code",
   "execution_count": 27,
   "metadata": {},
   "outputs": [
    {
     "data": {
      "text/html": [
       "<table>\n",
       "<caption>A data.frame: 6 × 37</caption>\n",
       "<thead>\n",
       "\t<tr><th scope=col>STATE__</th><th scope=col>BGN_DATE</th><th scope=col>BGN_TIME</th><th scope=col>TIME_ZONE</th><th scope=col>COUNTY</th><th scope=col>COUNTYNAME</th><th scope=col>STATE</th><th scope=col>EVTYPE</th><th scope=col>BGN_RANGE</th><th scope=col>BGN_AZI</th><th scope=col>⋯</th><th scope=col>CROPDMGEXP</th><th scope=col>WFO</th><th scope=col>STATEOFFIC</th><th scope=col>ZONENAMES</th><th scope=col>LATITUDE</th><th scope=col>LONGITUDE</th><th scope=col>LATITUDE_E</th><th scope=col>LONGITUDE_</th><th scope=col>REMARKS</th><th scope=col>REFNUM</th></tr>\n",
       "\t<tr><th scope=col>&lt;dbl&gt;</th><th scope=col>&lt;fct&gt;</th><th scope=col>&lt;fct&gt;</th><th scope=col>&lt;fct&gt;</th><th scope=col>&lt;dbl&gt;</th><th scope=col>&lt;fct&gt;</th><th scope=col>&lt;fct&gt;</th><th scope=col>&lt;fct&gt;</th><th scope=col>&lt;dbl&gt;</th><th scope=col>&lt;fct&gt;</th><th scope=col>⋯</th><th scope=col>&lt;fct&gt;</th><th scope=col>&lt;fct&gt;</th><th scope=col>&lt;fct&gt;</th><th scope=col>&lt;fct&gt;</th><th scope=col>&lt;dbl&gt;</th><th scope=col>&lt;dbl&gt;</th><th scope=col>&lt;dbl&gt;</th><th scope=col>&lt;dbl&gt;</th><th scope=col>&lt;fct&gt;</th><th scope=col>&lt;dbl&gt;</th></tr>\n",
       "</thead>\n",
       "<tbody>\n",
       "\t<tr><td>1</td><td>4/18/1950 0:00:00 </td><td>0130</td><td>CST</td><td>97</td><td>MOBILE    </td><td>AL</td><td>TORNADO</td><td>0</td><td></td><td>⋯</td><td></td><td></td><td></td><td></td><td>3040</td><td>8812</td><td>3051</td><td>8806</td><td></td><td>1</td></tr>\n",
       "\t<tr><td>1</td><td>4/18/1950 0:00:00 </td><td>0145</td><td>CST</td><td> 3</td><td>BALDWIN   </td><td>AL</td><td>TORNADO</td><td>0</td><td></td><td>⋯</td><td></td><td></td><td></td><td></td><td>3042</td><td>8755</td><td>   0</td><td>   0</td><td></td><td>2</td></tr>\n",
       "\t<tr><td>1</td><td>2/20/1951 0:00:00 </td><td>1600</td><td>CST</td><td>57</td><td>FAYETTE   </td><td>AL</td><td>TORNADO</td><td>0</td><td></td><td>⋯</td><td></td><td></td><td></td><td></td><td>3340</td><td>8742</td><td>   0</td><td>   0</td><td></td><td>3</td></tr>\n",
       "\t<tr><td>1</td><td>6/8/1951 0:00:00  </td><td>0900</td><td>CST</td><td>89</td><td>MADISON   </td><td>AL</td><td>TORNADO</td><td>0</td><td></td><td>⋯</td><td></td><td></td><td></td><td></td><td>3458</td><td>8626</td><td>   0</td><td>   0</td><td></td><td>4</td></tr>\n",
       "\t<tr><td>1</td><td>11/15/1951 0:00:00</td><td>1500</td><td>CST</td><td>43</td><td>CULLMAN   </td><td>AL</td><td>TORNADO</td><td>0</td><td></td><td>⋯</td><td></td><td></td><td></td><td></td><td>3412</td><td>8642</td><td>   0</td><td>   0</td><td></td><td>5</td></tr>\n",
       "\t<tr><td>1</td><td>11/15/1951 0:00:00</td><td>2000</td><td>CST</td><td>77</td><td>LAUDERDALE</td><td>AL</td><td>TORNADO</td><td>0</td><td></td><td>⋯</td><td></td><td></td><td></td><td></td><td>3450</td><td>8748</td><td>   0</td><td>   0</td><td></td><td>6</td></tr>\n",
       "</tbody>\n",
       "</table>\n"
      ],
      "text/latex": [
       "A data.frame: 6 × 37\n",
       "\\begin{tabular}{r|lllllllllllllllllllllllllllllllllllll}\n",
       " STATE\\_\\_ & BGN\\_DATE & BGN\\_TIME & TIME\\_ZONE & COUNTY & COUNTYNAME & STATE & EVTYPE & BGN\\_RANGE & BGN\\_AZI & BGN\\_LOCATI & END\\_DATE & END\\_TIME & COUNTY\\_END & COUNTYENDN & END\\_RANGE & END\\_AZI & END\\_LOCATI & LENGTH & WIDTH & F & MAG & FATALITIES & INJURIES & PROPDMG & PROPDMGEXP & CROPDMG & CROPDMGEXP & WFO & STATEOFFIC & ZONENAMES & LATITUDE & LONGITUDE & LATITUDE\\_E & LONGITUDE\\_ & REMARKS & REFNUM\\\\\n",
       " <dbl> & <fct> & <fct> & <fct> & <dbl> & <fct> & <fct> & <fct> & <dbl> & <fct> & <fct> & <fct> & <fct> & <dbl> & <lgl> & <dbl> & <fct> & <fct> & <dbl> & <dbl> & <int> & <dbl> & <dbl> & <dbl> & <dbl> & <fct> & <dbl> & <fct> & <fct> & <fct> & <fct> & <dbl> & <dbl> & <dbl> & <dbl> & <fct> & <dbl>\\\\\n",
       "\\hline\n",
       "\t 1 & 4/18/1950 0:00:00  & 0130 & CST & 97 & MOBILE     & AL & TORNADO & 0 &  &  &  &  & 0 & NA & 0 &  &  & 14.0 & 100 & 3 & 0 & 0 & 15 & 25.0 & K & 0 &  &  &  &  & 3040 & 8812 & 3051 & 8806 &  & 1\\\\\n",
       "\t 1 & 4/18/1950 0:00:00  & 0145 & CST &  3 & BALDWIN    & AL & TORNADO & 0 &  &  &  &  & 0 & NA & 0 &  &  &  2.0 & 150 & 2 & 0 & 0 &  0 &  2.5 & K & 0 &  &  &  &  & 3042 & 8755 &    0 &    0 &  & 2\\\\\n",
       "\t 1 & 2/20/1951 0:00:00  & 1600 & CST & 57 & FAYETTE    & AL & TORNADO & 0 &  &  &  &  & 0 & NA & 0 &  &  &  0.1 & 123 & 2 & 0 & 0 &  2 & 25.0 & K & 0 &  &  &  &  & 3340 & 8742 &    0 &    0 &  & 3\\\\\n",
       "\t 1 & 6/8/1951 0:00:00   & 0900 & CST & 89 & MADISON    & AL & TORNADO & 0 &  &  &  &  & 0 & NA & 0 &  &  &  0.0 & 100 & 2 & 0 & 0 &  2 &  2.5 & K & 0 &  &  &  &  & 3458 & 8626 &    0 &    0 &  & 4\\\\\n",
       "\t 1 & 11/15/1951 0:00:00 & 1500 & CST & 43 & CULLMAN    & AL & TORNADO & 0 &  &  &  &  & 0 & NA & 0 &  &  &  0.0 & 150 & 2 & 0 & 0 &  2 &  2.5 & K & 0 &  &  &  &  & 3412 & 8642 &    0 &    0 &  & 5\\\\\n",
       "\t 1 & 11/15/1951 0:00:00 & 2000 & CST & 77 & LAUDERDALE & AL & TORNADO & 0 &  &  &  &  & 0 & NA & 0 &  &  &  1.5 & 177 & 2 & 0 & 0 &  6 &  2.5 & K & 0 &  &  &  &  & 3450 & 8748 &    0 &    0 &  & 6\\\\\n",
       "\\end{tabular}\n"
      ],
      "text/markdown": [
       "\n",
       "A data.frame: 6 × 37\n",
       "\n",
       "| STATE__ &lt;dbl&gt; | BGN_DATE &lt;fct&gt; | BGN_TIME &lt;fct&gt; | TIME_ZONE &lt;fct&gt; | COUNTY &lt;dbl&gt; | COUNTYNAME &lt;fct&gt; | STATE &lt;fct&gt; | EVTYPE &lt;fct&gt; | BGN_RANGE &lt;dbl&gt; | BGN_AZI &lt;fct&gt; | ⋯ ⋯ | CROPDMGEXP &lt;fct&gt; | WFO &lt;fct&gt; | STATEOFFIC &lt;fct&gt; | ZONENAMES &lt;fct&gt; | LATITUDE &lt;dbl&gt; | LONGITUDE &lt;dbl&gt; | LATITUDE_E &lt;dbl&gt; | LONGITUDE_ &lt;dbl&gt; | REMARKS &lt;fct&gt; | REFNUM &lt;dbl&gt; |\n",
       "|---|---|---|---|---|---|---|---|---|---|---|---|---|---|---|---|---|---|---|---|---|\n",
       "| 1 | 4/18/1950 0:00:00  | 0130 | CST | 97 | MOBILE     | AL | TORNADO | 0 | <!----> | ⋯ | <!----> | <!----> | <!----> | <!----> | 3040 | 8812 | 3051 | 8806 | <!----> | 1 |\n",
       "| 1 | 4/18/1950 0:00:00  | 0145 | CST |  3 | BALDWIN    | AL | TORNADO | 0 | <!----> | ⋯ | <!----> | <!----> | <!----> | <!----> | 3042 | 8755 |    0 |    0 | <!----> | 2 |\n",
       "| 1 | 2/20/1951 0:00:00  | 1600 | CST | 57 | FAYETTE    | AL | TORNADO | 0 | <!----> | ⋯ | <!----> | <!----> | <!----> | <!----> | 3340 | 8742 |    0 |    0 | <!----> | 3 |\n",
       "| 1 | 6/8/1951 0:00:00   | 0900 | CST | 89 | MADISON    | AL | TORNADO | 0 | <!----> | ⋯ | <!----> | <!----> | <!----> | <!----> | 3458 | 8626 |    0 |    0 | <!----> | 4 |\n",
       "| 1 | 11/15/1951 0:00:00 | 1500 | CST | 43 | CULLMAN    | AL | TORNADO | 0 | <!----> | ⋯ | <!----> | <!----> | <!----> | <!----> | 3412 | 8642 |    0 |    0 | <!----> | 5 |\n",
       "| 1 | 11/15/1951 0:00:00 | 2000 | CST | 77 | LAUDERDALE | AL | TORNADO | 0 | <!----> | ⋯ | <!----> | <!----> | <!----> | <!----> | 3450 | 8748 |    0 |    0 | <!----> | 6 |\n",
       "\n"
      ],
      "text/plain": [
       "  STATE__ BGN_DATE           BGN_TIME TIME_ZONE COUNTY COUNTYNAME STATE EVTYPE \n",
       "1 1       4/18/1950 0:00:00  0130     CST       97     MOBILE     AL    TORNADO\n",
       "2 1       4/18/1950 0:00:00  0145     CST        3     BALDWIN    AL    TORNADO\n",
       "3 1       2/20/1951 0:00:00  1600     CST       57     FAYETTE    AL    TORNADO\n",
       "4 1       6/8/1951 0:00:00   0900     CST       89     MADISON    AL    TORNADO\n",
       "5 1       11/15/1951 0:00:00 1500     CST       43     CULLMAN    AL    TORNADO\n",
       "6 1       11/15/1951 0:00:00 2000     CST       77     LAUDERDALE AL    TORNADO\n",
       "  BGN_RANGE BGN_AZI ⋯ CROPDMGEXP WFO STATEOFFIC ZONENAMES LATITUDE LONGITUDE\n",
       "1 0                 ⋯                                     3040     8812     \n",
       "2 0                 ⋯                                     3042     8755     \n",
       "3 0                 ⋯                                     3340     8742     \n",
       "4 0                 ⋯                                     3458     8626     \n",
       "5 0                 ⋯                                     3412     8642     \n",
       "6 0                 ⋯                                     3450     8748     \n",
       "  LATITUDE_E LONGITUDE_ REMARKS REFNUM\n",
       "1 3051       8806               1     \n",
       "2    0          0               2     \n",
       "3    0          0               3     \n",
       "4    0          0               4     \n",
       "5    0          0               5     \n",
       "6    0          0               6     "
      ]
     },
     "metadata": {},
     "output_type": "display_data"
    },
    {
     "data": {
      "text/html": [
       "<ol class=list-inline>\n",
       "\t<li>'STATE__'</li>\n",
       "\t<li>'BGN_DATE'</li>\n",
       "\t<li>'BGN_TIME'</li>\n",
       "\t<li>'TIME_ZONE'</li>\n",
       "\t<li>'COUNTY'</li>\n",
       "\t<li>'COUNTYNAME'</li>\n",
       "\t<li>'STATE'</li>\n",
       "\t<li>'EVTYPE'</li>\n",
       "\t<li>'BGN_RANGE'</li>\n",
       "\t<li>'BGN_AZI'</li>\n",
       "\t<li>'BGN_LOCATI'</li>\n",
       "\t<li>'END_DATE'</li>\n",
       "\t<li>'END_TIME'</li>\n",
       "\t<li>'COUNTY_END'</li>\n",
       "\t<li>'COUNTYENDN'</li>\n",
       "\t<li>'END_RANGE'</li>\n",
       "\t<li>'END_AZI'</li>\n",
       "\t<li>'END_LOCATI'</li>\n",
       "\t<li>'LENGTH'</li>\n",
       "\t<li>'WIDTH'</li>\n",
       "\t<li>'F'</li>\n",
       "\t<li>'MAG'</li>\n",
       "\t<li>'FATALITIES'</li>\n",
       "\t<li>'INJURIES'</li>\n",
       "\t<li>'PROPDMG'</li>\n",
       "\t<li>'PROPDMGEXP'</li>\n",
       "\t<li>'CROPDMG'</li>\n",
       "\t<li>'CROPDMGEXP'</li>\n",
       "\t<li>'WFO'</li>\n",
       "\t<li>'STATEOFFIC'</li>\n",
       "\t<li>'ZONENAMES'</li>\n",
       "\t<li>'LATITUDE'</li>\n",
       "\t<li>'LONGITUDE'</li>\n",
       "\t<li>'LATITUDE_E'</li>\n",
       "\t<li>'LONGITUDE_'</li>\n",
       "\t<li>'REMARKS'</li>\n",
       "\t<li>'REFNUM'</li>\n",
       "</ol>\n"
      ],
      "text/latex": [
       "\\begin{enumerate*}\n",
       "\\item 'STATE\\_\\_'\n",
       "\\item 'BGN\\_DATE'\n",
       "\\item 'BGN\\_TIME'\n",
       "\\item 'TIME\\_ZONE'\n",
       "\\item 'COUNTY'\n",
       "\\item 'COUNTYNAME'\n",
       "\\item 'STATE'\n",
       "\\item 'EVTYPE'\n",
       "\\item 'BGN\\_RANGE'\n",
       "\\item 'BGN\\_AZI'\n",
       "\\item 'BGN\\_LOCATI'\n",
       "\\item 'END\\_DATE'\n",
       "\\item 'END\\_TIME'\n",
       "\\item 'COUNTY\\_END'\n",
       "\\item 'COUNTYENDN'\n",
       "\\item 'END\\_RANGE'\n",
       "\\item 'END\\_AZI'\n",
       "\\item 'END\\_LOCATI'\n",
       "\\item 'LENGTH'\n",
       "\\item 'WIDTH'\n",
       "\\item 'F'\n",
       "\\item 'MAG'\n",
       "\\item 'FATALITIES'\n",
       "\\item 'INJURIES'\n",
       "\\item 'PROPDMG'\n",
       "\\item 'PROPDMGEXP'\n",
       "\\item 'CROPDMG'\n",
       "\\item 'CROPDMGEXP'\n",
       "\\item 'WFO'\n",
       "\\item 'STATEOFFIC'\n",
       "\\item 'ZONENAMES'\n",
       "\\item 'LATITUDE'\n",
       "\\item 'LONGITUDE'\n",
       "\\item 'LATITUDE\\_E'\n",
       "\\item 'LONGITUDE\\_'\n",
       "\\item 'REMARKS'\n",
       "\\item 'REFNUM'\n",
       "\\end{enumerate*}\n"
      ],
      "text/markdown": [
       "1. 'STATE__'\n",
       "2. 'BGN_DATE'\n",
       "3. 'BGN_TIME'\n",
       "4. 'TIME_ZONE'\n",
       "5. 'COUNTY'\n",
       "6. 'COUNTYNAME'\n",
       "7. 'STATE'\n",
       "8. 'EVTYPE'\n",
       "9. 'BGN_RANGE'\n",
       "10. 'BGN_AZI'\n",
       "11. 'BGN_LOCATI'\n",
       "12. 'END_DATE'\n",
       "13. 'END_TIME'\n",
       "14. 'COUNTY_END'\n",
       "15. 'COUNTYENDN'\n",
       "16. 'END_RANGE'\n",
       "17. 'END_AZI'\n",
       "18. 'END_LOCATI'\n",
       "19. 'LENGTH'\n",
       "20. 'WIDTH'\n",
       "21. 'F'\n",
       "22. 'MAG'\n",
       "23. 'FATALITIES'\n",
       "24. 'INJURIES'\n",
       "25. 'PROPDMG'\n",
       "26. 'PROPDMGEXP'\n",
       "27. 'CROPDMG'\n",
       "28. 'CROPDMGEXP'\n",
       "29. 'WFO'\n",
       "30. 'STATEOFFIC'\n",
       "31. 'ZONENAMES'\n",
       "32. 'LATITUDE'\n",
       "33. 'LONGITUDE'\n",
       "34. 'LATITUDE_E'\n",
       "35. 'LONGITUDE_'\n",
       "36. 'REMARKS'\n",
       "37. 'REFNUM'\n",
       "\n",
       "\n"
      ],
      "text/plain": [
       " [1] \"STATE__\"    \"BGN_DATE\"   \"BGN_TIME\"   \"TIME_ZONE\"  \"COUNTY\"    \n",
       " [6] \"COUNTYNAME\" \"STATE\"      \"EVTYPE\"     \"BGN_RANGE\"  \"BGN_AZI\"   \n",
       "[11] \"BGN_LOCATI\" \"END_DATE\"   \"END_TIME\"   \"COUNTY_END\" \"COUNTYENDN\"\n",
       "[16] \"END_RANGE\"  \"END_AZI\"    \"END_LOCATI\" \"LENGTH\"     \"WIDTH\"     \n",
       "[21] \"F\"          \"MAG\"        \"FATALITIES\" \"INJURIES\"   \"PROPDMG\"   \n",
       "[26] \"PROPDMGEXP\" \"CROPDMG\"    \"CROPDMGEXP\" \"WFO\"        \"STATEOFFIC\"\n",
       "[31] \"ZONENAMES\"  \"LATITUDE\"   \"LONGITUDE\"  \"LATITUDE_E\" \"LONGITUDE_\"\n",
       "[36] \"REMARKS\"    \"REFNUM\"    "
      ]
     },
     "metadata": {},
     "output_type": "display_data"
    }
   ],
   "source": [
    "# read files\n",
    "storm_data <- read.csv(\"./data/StormData.csv.bz2\")\n",
    "head(storm_data)\n",
    "names(storm_data)"
   ]
  },
  {
   "cell_type": "markdown",
   "metadata": {},
   "source": [
    "Since focus of this report is limited to harmful impact to population health and economic consequences across the United States, only a subset of the data is needed. The following data columns are use:\n",
    "\n",
    "* EVTYPE: The type of event. Examples: Tornado, Wind, Snow.\n",
    "* FATALITIES: Number of deaths directly related to the event.\n",
    "* INJURIES: Number of injuries directly related to the event.\n",
    "* PROPDMG: Base amount of property damage.\n",
    "* PROPDMGEXP: Base multiplier for property damage.\n",
    "* CROPDMG: Base amount of crop damage.\n",
    "* CROPDMGEXP: Base multiplier for crop damage."
   ]
  },
  {
   "cell_type": "code",
   "execution_count": 29,
   "metadata": {},
   "outputs": [
    {
     "data": {
      "text/plain": [
       "               EVTYPE         FATALITIES          INJURIES        \n",
       " HAIL             :288661   Min.   :  0.0000   Min.   :   0.0000  \n",
       " TSTM WIND        :219940   1st Qu.:  0.0000   1st Qu.:   0.0000  \n",
       " THUNDERSTORM WIND: 82563   Median :  0.0000   Median :   0.0000  \n",
       " TORNADO          : 60652   Mean   :  0.0168   Mean   :   0.1557  \n",
       " FLASH FLOOD      : 54277   3rd Qu.:  0.0000   3rd Qu.:   0.0000  \n",
       " FLOOD            : 25326   Max.   :583.0000   Max.   :1700.0000  \n",
       " (Other)          :170878                                         \n",
       "    PROPDMG          PROPDMGEXP        CROPDMG          CROPDMGEXP    \n",
       " Min.   :   0.00          :465934   Min.   :  0.000          :618413  \n",
       " 1st Qu.:   0.00   K      :424665   1st Qu.:  0.000   K      :281832  \n",
       " Median :   0.00   M      : 11330   Median :  0.000   M      :  1994  \n",
       " Mean   :  12.06   0      :   216   Mean   :  1.527   k      :    21  \n",
       " 3rd Qu.:   0.50   B      :    40   3rd Qu.:  0.000   0      :    19  \n",
       " Max.   :5000.00   5      :    28   Max.   :990.000   B      :     9  \n",
       "                   (Other):    84                     (Other):     9  "
      ]
     },
     "metadata": {},
     "output_type": "display_data"
    }
   ],
   "source": [
    "noaa <- subset(storm_data, \n",
    "               select = c(EVTYPE,FATALITIES,INJURIES,\n",
    "                          PROPDMG,PROPDMGEXP,CROPDMG,CROPDMGEXP))\n",
    "summary(noaa)"
   ]
  },
  {
   "cell_type": "markdown",
   "metadata": {},
   "source": [
    "The damages (property and crop) are divided into 2 part: number and exp, we need to derive the real number from them.\n",
    "\n",
    "Recall that:\n",
    "* PROPDMG: Base amount of property damage.\n",
    "* PROPDMGEXP: Base multiplier for property damage. PROPDMGEXP levels has the following meaning: '': 0; '-': 0; '?': 0; '+': 1;  '0' - '8': 10; 'B': 1000000000; 'h': 100; 'H': 100; 'K': 1000; 'k': 1000; 'm': 1000000; 'M': 1000000\n",
    "* CROPDMG: Base amount of crop damage.\n",
    "* CROPDMGEXP: Base multiplier for crop damage. CROPDMGEXP levels has the following meaning: '': 0; '-': 0; '?': 0; '+': 1;  '0' - '8': 10; 'B': 1000000000; 'h': 100; 'H': 100; 'K': 1000; 'k': 1000; 'm': 1000000; 'M': 1000000"
   ]
  },
  {
   "cell_type": "code",
   "execution_count": 30,
   "metadata": {},
   "outputs": [
    {
     "data": {
      "text/html": [
       "<ol class=list-inline>\n",
       "\t<li>''</li>\n",
       "\t<li>'-'</li>\n",
       "\t<li>'?'</li>\n",
       "\t<li>'+'</li>\n",
       "\t<li>'0'</li>\n",
       "\t<li>'1'</li>\n",
       "\t<li>'2'</li>\n",
       "\t<li>'3'</li>\n",
       "\t<li>'4'</li>\n",
       "\t<li>'5'</li>\n",
       "\t<li>'6'</li>\n",
       "\t<li>'7'</li>\n",
       "\t<li>'8'</li>\n",
       "\t<li>'B'</li>\n",
       "\t<li>'h'</li>\n",
       "\t<li>'H'</li>\n",
       "\t<li>'K'</li>\n",
       "\t<li>'m'</li>\n",
       "\t<li>'M'</li>\n",
       "</ol>\n"
      ],
      "text/latex": [
       "\\begin{enumerate*}\n",
       "\\item ''\n",
       "\\item '-'\n",
       "\\item '?'\n",
       "\\item '+'\n",
       "\\item '0'\n",
       "\\item '1'\n",
       "\\item '2'\n",
       "\\item '3'\n",
       "\\item '4'\n",
       "\\item '5'\n",
       "\\item '6'\n",
       "\\item '7'\n",
       "\\item '8'\n",
       "\\item 'B'\n",
       "\\item 'h'\n",
       "\\item 'H'\n",
       "\\item 'K'\n",
       "\\item 'm'\n",
       "\\item 'M'\n",
       "\\end{enumerate*}\n"
      ],
      "text/markdown": [
       "1. ''\n",
       "2. '-'\n",
       "3. '?'\n",
       "4. '+'\n",
       "5. '0'\n",
       "6. '1'\n",
       "7. '2'\n",
       "8. '3'\n",
       "9. '4'\n",
       "10. '5'\n",
       "11. '6'\n",
       "12. '7'\n",
       "13. '8'\n",
       "14. 'B'\n",
       "15. 'h'\n",
       "16. 'H'\n",
       "17. 'K'\n",
       "18. 'm'\n",
       "19. 'M'\n",
       "\n",
       "\n"
      ],
      "text/plain": [
       " [1] \"\"  \"-\" \"?\" \"+\" \"0\" \"1\" \"2\" \"3\" \"4\" \"5\" \"6\" \"7\" \"8\" \"B\" \"h\" \"H\" \"K\" \"m\" \"M\""
      ]
     },
     "metadata": {},
     "output_type": "display_data"
    },
    {
     "data": {
      "text/html": [
       "<ol class=list-inline>\n",
       "\t<li>''</li>\n",
       "\t<li>'?'</li>\n",
       "\t<li>'0'</li>\n",
       "\t<li>'2'</li>\n",
       "\t<li>'B'</li>\n",
       "\t<li>'k'</li>\n",
       "\t<li>'K'</li>\n",
       "\t<li>'m'</li>\n",
       "\t<li>'M'</li>\n",
       "</ol>\n"
      ],
      "text/latex": [
       "\\begin{enumerate*}\n",
       "\\item ''\n",
       "\\item '?'\n",
       "\\item '0'\n",
       "\\item '2'\n",
       "\\item 'B'\n",
       "\\item 'k'\n",
       "\\item 'K'\n",
       "\\item 'm'\n",
       "\\item 'M'\n",
       "\\end{enumerate*}\n"
      ],
      "text/markdown": [
       "1. ''\n",
       "2. '?'\n",
       "3. '0'\n",
       "4. '2'\n",
       "5. 'B'\n",
       "6. 'k'\n",
       "7. 'K'\n",
       "8. 'm'\n",
       "9. 'M'\n",
       "\n",
       "\n"
      ],
      "text/plain": [
       "[1] \"\"  \"?\" \"0\" \"2\" \"B\" \"k\" \"K\" \"m\" \"M\""
      ]
     },
     "metadata": {},
     "output_type": "display_data"
    }
   ],
   "source": [
    "levels(noaa$PROPDMGEXP)\n",
    "levels(noaa$CROPDMGEXP)"
   ]
  },
  {
   "cell_type": "code",
   "execution_count": 54,
   "metadata": {},
   "outputs": [],
   "source": [
    "library(collections)\n",
    "expd <- Dict$new(list('-'=0, '?'=0, '+'=1,\n",
    "                      '0'=10, '1'=10, '2'=10, '3' = 10, '4'=10, '5'=10, '6'=10, '7'=10, '8'=10,\n",
    "                      'B'=1000000000, 'h'=100, 'H'=100, 'K'=1000, 'k'=1000, 'm'=1000000, 'M'=1000000))\n",
    "exp_lvs = c('-', '?', '+', '0', '1', '2', '3', '4', '5', '6', '7', '8', 'B', 'h', 'H', 'K', 'k', 'm', 'M')"
   ]
  },
  {
   "cell_type": "code",
   "execution_count": 56,
   "metadata": {},
   "outputs": [],
   "source": [
    "for (exp_lv in exp_lvs){\n",
    "    noaa$PROPDMG[which(noaa$PROPDMGEXP == exp_lv)] <- noaa$PROPDMG[which(noaa$PROPDMGEXP == exp_lv)] * expd$get(exp_lv)\n",
    "}\n"
   ]
  },
  {
   "cell_type": "code",
   "execution_count": 58,
   "metadata": {
    "scrolled": true
   },
   "outputs": [
    {
     "data": {
      "text/html": [
       "<table>\n",
       "<caption>A data.frame: 40 × 8</caption>\n",
       "<thead>\n",
       "\t<tr><th scope=col>EVTYPE</th><th scope=col>FATALITIES</th><th scope=col>INJURIES</th><th scope=col>PROPDMG</th><th scope=col>PROPDMGEXP</th><th scope=col>CROPDMG</th><th scope=col>CROPDMGEXP</th><th scope=col>prop_dmg</th></tr>\n",
       "\t<tr><th scope=col>&lt;fct&gt;</th><th scope=col>&lt;dbl&gt;</th><th scope=col>&lt;dbl&gt;</th><th scope=col>&lt;dbl&gt;</th><th scope=col>&lt;fct&gt;</th><th scope=col>&lt;dbl&gt;</th><th scope=col>&lt;fct&gt;</th><th scope=col>&lt;dbl&gt;</th></tr>\n",
       "</thead>\n",
       "<tbody>\n",
       "\t<tr><td>TORNADO</td><td>0</td><td> 15</td><td>  25000</td><td>K</td><td>0</td><td></td><td> 25000</td></tr>\n",
       "\t<tr><td>TORNADO</td><td>0</td><td>  0</td><td>   2500</td><td>K</td><td>0</td><td></td><td>  2500</td></tr>\n",
       "\t<tr><td>TORNADO</td><td>0</td><td>  2</td><td>  25000</td><td>K</td><td>0</td><td></td><td> 25000</td></tr>\n",
       "\t<tr><td>TORNADO</td><td>0</td><td>  2</td><td>   2500</td><td>K</td><td>0</td><td></td><td>  2500</td></tr>\n",
       "\t<tr><td>TORNADO</td><td>0</td><td>  2</td><td>   2500</td><td>K</td><td>0</td><td></td><td>  2500</td></tr>\n",
       "\t<tr><td>TORNADO</td><td>0</td><td>  6</td><td>   2500</td><td>K</td><td>0</td><td></td><td>  2500</td></tr>\n",
       "\t<tr><td>TORNADO</td><td>0</td><td>  1</td><td>   2500</td><td>K</td><td>0</td><td></td><td>  2500</td></tr>\n",
       "\t<tr><td>TORNADO</td><td>0</td><td>  0</td><td>   2500</td><td>K</td><td>0</td><td></td><td>  2500</td></tr>\n",
       "\t<tr><td>TORNADO</td><td>1</td><td> 14</td><td>  25000</td><td>K</td><td>0</td><td></td><td> 25000</td></tr>\n",
       "\t<tr><td>TORNADO</td><td>0</td><td>  0</td><td>  25000</td><td>K</td><td>0</td><td></td><td> 25000</td></tr>\n",
       "\t<tr><td>TORNADO</td><td>0</td><td>  3</td><td>2500000</td><td>M</td><td>0</td><td></td><td>  2500</td></tr>\n",
       "\t<tr><td>TORNADO</td><td>0</td><td>  3</td><td>2500000</td><td>M</td><td>0</td><td></td><td>  2500</td></tr>\n",
       "\t<tr><td>TORNADO</td><td>1</td><td> 26</td><td> 250000</td><td>K</td><td>0</td><td></td><td>250000</td></tr>\n",
       "\t<tr><td>TORNADO</td><td>0</td><td> 12</td><td>      0</td><td>K</td><td>0</td><td></td><td>     0</td></tr>\n",
       "\t<tr><td>TORNADO</td><td>0</td><td>  6</td><td>  25000</td><td>K</td><td>0</td><td></td><td> 25000</td></tr>\n",
       "\t<tr><td>TORNADO</td><td>4</td><td> 50</td><td>  25000</td><td>K</td><td>0</td><td></td><td> 25000</td></tr>\n",
       "\t<tr><td>TORNADO</td><td>0</td><td>  2</td><td>  25000</td><td>K</td><td>0</td><td></td><td> 25000</td></tr>\n",
       "\t<tr><td>TORNADO</td><td>0</td><td>  0</td><td>  25000</td><td>K</td><td>0</td><td></td><td> 25000</td></tr>\n",
       "\t<tr><td>TORNADO</td><td>0</td><td>  0</td><td>  25000</td><td>K</td><td>0</td><td></td><td> 25000</td></tr>\n",
       "\t<tr><td>TORNADO</td><td>0</td><td>  0</td><td>  25000</td><td>K</td><td>0</td><td></td><td> 25000</td></tr>\n",
       "\t<tr><td>TORNADO</td><td>0</td><td>  0</td><td>  25000</td><td>K</td><td>0</td><td></td><td> 25000</td></tr>\n",
       "\t<tr><td>TORNADO</td><td>0</td><td>  0</td><td>   2500</td><td>K</td><td>0</td><td></td><td>  2500</td></tr>\n",
       "\t<tr><td>TORNADO</td><td>0</td><td>  0</td><td>   2500</td><td>K</td><td>0</td><td></td><td>  2500</td></tr>\n",
       "\t<tr><td>TORNADO</td><td>0</td><td>  1</td><td>  25000</td><td>K</td><td>0</td><td></td><td> 25000</td></tr>\n",
       "\t<tr><td>TORNADO</td><td>0</td><td>  1</td><td>  25000</td><td>K</td><td>0</td><td></td><td> 25000</td></tr>\n",
       "\t<tr><td>TORNADO</td><td>1</td><td>  8</td><td>  25000</td><td>K</td><td>0</td><td></td><td> 25000</td></tr>\n",
       "\t<tr><td>TORNADO</td><td>0</td><td>  2</td><td>  25000</td><td>K</td><td>0</td><td></td><td> 25000</td></tr>\n",
       "\t<tr><td>TORNADO</td><td>0</td><td>  1</td><td>  25000</td><td>K</td><td>0</td><td></td><td> 25000</td></tr>\n",
       "\t<tr><td>TORNADO</td><td>0</td><td>  6</td><td>  25000</td><td>K</td><td>0</td><td></td><td> 25000</td></tr>\n",
       "\t<tr><td>TORNADO</td><td>0</td><td>  2</td><td>   2500</td><td>K</td><td>0</td><td></td><td>  2500</td></tr>\n",
       "\t<tr><td>TORNADO</td><td>0</td><td>  0</td><td>   2500</td><td>K</td><td>0</td><td></td><td>  2500</td></tr>\n",
       "\t<tr><td>TORNADO</td><td>0</td><td> 12</td><td>   2500</td><td>K</td><td>0</td><td></td><td>  2500</td></tr>\n",
       "\t<tr><td>TORNADO</td><td>0</td><td>  0</td><td>  25000</td><td>K</td><td>0</td><td></td><td> 25000</td></tr>\n",
       "\t<tr><td>TORNADO</td><td>6</td><td>195</td><td>2500000</td><td>M</td><td>0</td><td></td><td>  2500</td></tr>\n",
       "\t<tr><td>TORNADO</td><td>0</td><td>  2</td><td>  25000</td><td>K</td><td>0</td><td></td><td> 25000</td></tr>\n",
       "\t<tr><td>TORNADO</td><td>7</td><td> 12</td><td> 250000</td><td>K</td><td>0</td><td></td><td>250000</td></tr>\n",
       "\t<tr><td>TORNADO</td><td>0</td><td>  0</td><td>   2500</td><td>K</td><td>0</td><td></td><td>  2500</td></tr>\n",
       "\t<tr><td>TORNADO</td><td>2</td><td>  3</td><td>  25000</td><td>K</td><td>0</td><td></td><td> 25000</td></tr>\n",
       "\t<tr><td>TORNADO</td><td>0</td><td>  2</td><td>   2500</td><td>K</td><td>0</td><td></td><td>  2500</td></tr>\n",
       "\t<tr><td>TORNADO</td><td>0</td><td>  0</td><td>  25000</td><td>K</td><td>0</td><td></td><td> 25000</td></tr>\n",
       "</tbody>\n",
       "</table>\n"
      ],
      "text/latex": [
       "A data.frame: 40 × 8\n",
       "\\begin{tabular}{r|llllllll}\n",
       " EVTYPE & FATALITIES & INJURIES & PROPDMG & PROPDMGEXP & CROPDMG & CROPDMGEXP & prop\\_dmg\\\\\n",
       " <fct> & <dbl> & <dbl> & <dbl> & <fct> & <dbl> & <fct> & <dbl>\\\\\n",
       "\\hline\n",
       "\t TORNADO & 0 &  15 &   25000 & K & 0 &  &  25000\\\\\n",
       "\t TORNADO & 0 &   0 &    2500 & K & 0 &  &   2500\\\\\n",
       "\t TORNADO & 0 &   2 &   25000 & K & 0 &  &  25000\\\\\n",
       "\t TORNADO & 0 &   2 &    2500 & K & 0 &  &   2500\\\\\n",
       "\t TORNADO & 0 &   2 &    2500 & K & 0 &  &   2500\\\\\n",
       "\t TORNADO & 0 &   6 &    2500 & K & 0 &  &   2500\\\\\n",
       "\t TORNADO & 0 &   1 &    2500 & K & 0 &  &   2500\\\\\n",
       "\t TORNADO & 0 &   0 &    2500 & K & 0 &  &   2500\\\\\n",
       "\t TORNADO & 1 &  14 &   25000 & K & 0 &  &  25000\\\\\n",
       "\t TORNADO & 0 &   0 &   25000 & K & 0 &  &  25000\\\\\n",
       "\t TORNADO & 0 &   3 & 2500000 & M & 0 &  &   2500\\\\\n",
       "\t TORNADO & 0 &   3 & 2500000 & M & 0 &  &   2500\\\\\n",
       "\t TORNADO & 1 &  26 &  250000 & K & 0 &  & 250000\\\\\n",
       "\t TORNADO & 0 &  12 &       0 & K & 0 &  &      0\\\\\n",
       "\t TORNADO & 0 &   6 &   25000 & K & 0 &  &  25000\\\\\n",
       "\t TORNADO & 4 &  50 &   25000 & K & 0 &  &  25000\\\\\n",
       "\t TORNADO & 0 &   2 &   25000 & K & 0 &  &  25000\\\\\n",
       "\t TORNADO & 0 &   0 &   25000 & K & 0 &  &  25000\\\\\n",
       "\t TORNADO & 0 &   0 &   25000 & K & 0 &  &  25000\\\\\n",
       "\t TORNADO & 0 &   0 &   25000 & K & 0 &  &  25000\\\\\n",
       "\t TORNADO & 0 &   0 &   25000 & K & 0 &  &  25000\\\\\n",
       "\t TORNADO & 0 &   0 &    2500 & K & 0 &  &   2500\\\\\n",
       "\t TORNADO & 0 &   0 &    2500 & K & 0 &  &   2500\\\\\n",
       "\t TORNADO & 0 &   1 &   25000 & K & 0 &  &  25000\\\\\n",
       "\t TORNADO & 0 &   1 &   25000 & K & 0 &  &  25000\\\\\n",
       "\t TORNADO & 1 &   8 &   25000 & K & 0 &  &  25000\\\\\n",
       "\t TORNADO & 0 &   2 &   25000 & K & 0 &  &  25000\\\\\n",
       "\t TORNADO & 0 &   1 &   25000 & K & 0 &  &  25000\\\\\n",
       "\t TORNADO & 0 &   6 &   25000 & K & 0 &  &  25000\\\\\n",
       "\t TORNADO & 0 &   2 &    2500 & K & 0 &  &   2500\\\\\n",
       "\t TORNADO & 0 &   0 &    2500 & K & 0 &  &   2500\\\\\n",
       "\t TORNADO & 0 &  12 &    2500 & K & 0 &  &   2500\\\\\n",
       "\t TORNADO & 0 &   0 &   25000 & K & 0 &  &  25000\\\\\n",
       "\t TORNADO & 6 & 195 & 2500000 & M & 0 &  &   2500\\\\\n",
       "\t TORNADO & 0 &   2 &   25000 & K & 0 &  &  25000\\\\\n",
       "\t TORNADO & 7 &  12 &  250000 & K & 0 &  & 250000\\\\\n",
       "\t TORNADO & 0 &   0 &    2500 & K & 0 &  &   2500\\\\\n",
       "\t TORNADO & 2 &   3 &   25000 & K & 0 &  &  25000\\\\\n",
       "\t TORNADO & 0 &   2 &    2500 & K & 0 &  &   2500\\\\\n",
       "\t TORNADO & 0 &   0 &   25000 & K & 0 &  &  25000\\\\\n",
       "\\end{tabular}\n"
      ],
      "text/markdown": [
       "\n",
       "A data.frame: 40 × 8\n",
       "\n",
       "| EVTYPE &lt;fct&gt; | FATALITIES &lt;dbl&gt; | INJURIES &lt;dbl&gt; | PROPDMG &lt;dbl&gt; | PROPDMGEXP &lt;fct&gt; | CROPDMG &lt;dbl&gt; | CROPDMGEXP &lt;fct&gt; | prop_dmg &lt;dbl&gt; |\n",
       "|---|---|---|---|---|---|---|---|\n",
       "| TORNADO | 0 |  15 |   25000 | K | 0 | <!----> |  25000 |\n",
       "| TORNADO | 0 |   0 |    2500 | K | 0 | <!----> |   2500 |\n",
       "| TORNADO | 0 |   2 |   25000 | K | 0 | <!----> |  25000 |\n",
       "| TORNADO | 0 |   2 |    2500 | K | 0 | <!----> |   2500 |\n",
       "| TORNADO | 0 |   2 |    2500 | K | 0 | <!----> |   2500 |\n",
       "| TORNADO | 0 |   6 |    2500 | K | 0 | <!----> |   2500 |\n",
       "| TORNADO | 0 |   1 |    2500 | K | 0 | <!----> |   2500 |\n",
       "| TORNADO | 0 |   0 |    2500 | K | 0 | <!----> |   2500 |\n",
       "| TORNADO | 1 |  14 |   25000 | K | 0 | <!----> |  25000 |\n",
       "| TORNADO | 0 |   0 |   25000 | K | 0 | <!----> |  25000 |\n",
       "| TORNADO | 0 |   3 | 2500000 | M | 0 | <!----> |   2500 |\n",
       "| TORNADO | 0 |   3 | 2500000 | M | 0 | <!----> |   2500 |\n",
       "| TORNADO | 1 |  26 |  250000 | K | 0 | <!----> | 250000 |\n",
       "| TORNADO | 0 |  12 |       0 | K | 0 | <!----> |      0 |\n",
       "| TORNADO | 0 |   6 |   25000 | K | 0 | <!----> |  25000 |\n",
       "| TORNADO | 4 |  50 |   25000 | K | 0 | <!----> |  25000 |\n",
       "| TORNADO | 0 |   2 |   25000 | K | 0 | <!----> |  25000 |\n",
       "| TORNADO | 0 |   0 |   25000 | K | 0 | <!----> |  25000 |\n",
       "| TORNADO | 0 |   0 |   25000 | K | 0 | <!----> |  25000 |\n",
       "| TORNADO | 0 |   0 |   25000 | K | 0 | <!----> |  25000 |\n",
       "| TORNADO | 0 |   0 |   25000 | K | 0 | <!----> |  25000 |\n",
       "| TORNADO | 0 |   0 |    2500 | K | 0 | <!----> |   2500 |\n",
       "| TORNADO | 0 |   0 |    2500 | K | 0 | <!----> |   2500 |\n",
       "| TORNADO | 0 |   1 |   25000 | K | 0 | <!----> |  25000 |\n",
       "| TORNADO | 0 |   1 |   25000 | K | 0 | <!----> |  25000 |\n",
       "| TORNADO | 1 |   8 |   25000 | K | 0 | <!----> |  25000 |\n",
       "| TORNADO | 0 |   2 |   25000 | K | 0 | <!----> |  25000 |\n",
       "| TORNADO | 0 |   1 |   25000 | K | 0 | <!----> |  25000 |\n",
       "| TORNADO | 0 |   6 |   25000 | K | 0 | <!----> |  25000 |\n",
       "| TORNADO | 0 |   2 |    2500 | K | 0 | <!----> |   2500 |\n",
       "| TORNADO | 0 |   0 |    2500 | K | 0 | <!----> |   2500 |\n",
       "| TORNADO | 0 |  12 |    2500 | K | 0 | <!----> |   2500 |\n",
       "| TORNADO | 0 |   0 |   25000 | K | 0 | <!----> |  25000 |\n",
       "| TORNADO | 6 | 195 | 2500000 | M | 0 | <!----> |   2500 |\n",
       "| TORNADO | 0 |   2 |   25000 | K | 0 | <!----> |  25000 |\n",
       "| TORNADO | 7 |  12 |  250000 | K | 0 | <!----> | 250000 |\n",
       "| TORNADO | 0 |   0 |    2500 | K | 0 | <!----> |   2500 |\n",
       "| TORNADO | 2 |   3 |   25000 | K | 0 | <!----> |  25000 |\n",
       "| TORNADO | 0 |   2 |    2500 | K | 0 | <!----> |   2500 |\n",
       "| TORNADO | 0 |   0 |   25000 | K | 0 | <!----> |  25000 |\n",
       "\n"
      ],
      "text/plain": [
       "   EVTYPE  FATALITIES INJURIES PROPDMG PROPDMGEXP CROPDMG CROPDMGEXP prop_dmg\n",
       "1  TORNADO 0           15        25000 K          0                   25000  \n",
       "2  TORNADO 0            0         2500 K          0                    2500  \n",
       "3  TORNADO 0            2        25000 K          0                   25000  \n",
       "4  TORNADO 0            2         2500 K          0                    2500  \n",
       "5  TORNADO 0            2         2500 K          0                    2500  \n",
       "6  TORNADO 0            6         2500 K          0                    2500  \n",
       "7  TORNADO 0            1         2500 K          0                    2500  \n",
       "8  TORNADO 0            0         2500 K          0                    2500  \n",
       "9  TORNADO 1           14        25000 K          0                   25000  \n",
       "10 TORNADO 0            0        25000 K          0                   25000  \n",
       "11 TORNADO 0            3      2500000 M          0                    2500  \n",
       "12 TORNADO 0            3      2500000 M          0                    2500  \n",
       "13 TORNADO 1           26       250000 K          0                  250000  \n",
       "14 TORNADO 0           12            0 K          0                       0  \n",
       "15 TORNADO 0            6        25000 K          0                   25000  \n",
       "16 TORNADO 4           50        25000 K          0                   25000  \n",
       "17 TORNADO 0            2        25000 K          0                   25000  \n",
       "18 TORNADO 0            0        25000 K          0                   25000  \n",
       "19 TORNADO 0            0        25000 K          0                   25000  \n",
       "20 TORNADO 0            0        25000 K          0                   25000  \n",
       "21 TORNADO 0            0        25000 K          0                   25000  \n",
       "22 TORNADO 0            0         2500 K          0                    2500  \n",
       "23 TORNADO 0            0         2500 K          0                    2500  \n",
       "24 TORNADO 0            1        25000 K          0                   25000  \n",
       "25 TORNADO 0            1        25000 K          0                   25000  \n",
       "26 TORNADO 1            8        25000 K          0                   25000  \n",
       "27 TORNADO 0            2        25000 K          0                   25000  \n",
       "28 TORNADO 0            1        25000 K          0                   25000  \n",
       "29 TORNADO 0            6        25000 K          0                   25000  \n",
       "30 TORNADO 0            2         2500 K          0                    2500  \n",
       "31 TORNADO 0            0         2500 K          0                    2500  \n",
       "32 TORNADO 0           12         2500 K          0                    2500  \n",
       "33 TORNADO 0            0        25000 K          0                   25000  \n",
       "34 TORNADO 6          195      2500000 M          0                    2500  \n",
       "35 TORNADO 0            2        25000 K          0                   25000  \n",
       "36 TORNADO 7           12       250000 K          0                  250000  \n",
       "37 TORNADO 0            0         2500 K          0                    2500  \n",
       "38 TORNADO 2            3        25000 K          0                   25000  \n",
       "39 TORNADO 0            2         2500 K          0                    2500  \n",
       "40 TORNADO 0            0        25000 K          0                   25000  "
      ]
     },
     "metadata": {},
     "output_type": "display_data"
    }
   ],
   "source": [
    "for (exp_lv in exp_lvs){\n",
    "    noaa$CROPDMG[which(noaa$CROPDMGEXP == exp_lv)] <- noaa$CROPDMG[which(noaa$CROPDMGEXP == exp_lv)] * expd$get(exp_lv)\n",
    "}"
   ]
  },
  {
   "cell_type": "markdown",
   "metadata": {},
   "source": [
    "**1. Across the United States, which types of events (as indicated in the EVTYPE variable) are most harmful with respect to population health?**"
   ]
  },
  {
   "cell_type": "code",
   "execution_count": 59,
   "metadata": {},
   "outputs": [
    {
     "data": {
      "text/plain": [
       "                  evetype      fatalities     \n",
       "    HIGH SURF ADVISORY:  1   Min.   :   0.00  \n",
       "  COASTAL FLOOD       :  1   1st Qu.:   0.00  \n",
       "  FLASH FLOOD         :  1   Median :   0.00  \n",
       "  LIGHTNING           :  1   Mean   :  15.38  \n",
       "  TSTM WIND           :  1   3rd Qu.:   0.00  \n",
       "  TSTM WIND (G45)     :  1   Max.   :5633.00  \n",
       " (Other)              :979                    "
      ]
     },
     "metadata": {},
     "output_type": "display_data"
    },
    {
     "data": {
      "text/plain": [
       "                  evetype       injuries      \n",
       "    HIGH SURF ADVISORY:  1   Min.   :    0.0  \n",
       "  COASTAL FLOOD       :  1   1st Qu.:    0.0  \n",
       "  FLASH FLOOD         :  1   Median :    0.0  \n",
       "  LIGHTNING           :  1   Mean   :  142.7  \n",
       "  TSTM WIND           :  1   3rd Qu.:    0.0  \n",
       "  TSTM WIND (G45)     :  1   Max.   :91346.0  \n",
       " (Other)              :979                    "
      ]
     },
     "metadata": {},
     "output_type": "display_data"
    }
   ],
   "source": [
    "fatal <- with(noaa, tapply(FATALITIES, EVTYPE, sum, na.rm=TRUE))\n",
    "fatal <- data.frame(evetype=names(fatal), fatalities=fatal)\n",
    "summary(fatal)\n",
    "\n",
    "injur <- with(noaa, tapply(INJURIES, EVTYPE, sum, na.rm=TRUE))\n",
    "injur <- data.frame(evetype=names(injur), injuries=injur)\n",
    "summary(injur)"
   ]
  },
  {
   "cell_type": "code",
   "execution_count": 98,
   "metadata": {
    "scrolled": false
   },
   "outputs": [
    {
     "data": {
      "image/png": "[encoded data removed]",
      "text/plain": [
       "plot without title"
      ]
     },
     "metadata": {},
     "output_type": "display_data"
    },
    {
     "data": {
      "image/png": "[encoded data removed]",
      "text/plain": [
       "plot without title"
      ]
     },
     "metadata": {},
     "output_type": "display_data"
    }
   ],
   "source": [
    "# There are a lot of event type, plot the top 10 from each\n",
    "top10fatal <- head(fatal[order(-fatal$fatalities), ], n=10L)\n",
    "top10injur <- head(injur[order(-injur$injuries), ], n=10L)\n",
    "\n",
    "ggplot(data=top10fatal, aes(x=evetype, y=fatalities)) +\n",
    "  geom_bar(colour=\"black\", fill=\"#DD8888\", width=.8, stat=\"identity\") +\n",
    "  theme(axis.text.x = element_text(angle = 30, hjust = 1)) +\n",
    "  xlab(\"Event Type\") + \n",
    "  ylab(\"Number of Fatalities\") +\n",
    "  ggtitle(\"Fatalities by Event\")\n",
    "\n",
    "ggplot(data=top10injur, aes(x=evetype, y=injuries)) +\n",
    "  geom_bar(colour=\"black\", fill=\"#DD8888\", width=.8, stat=\"identity\") +\n",
    "  theme(axis.text.x = element_text(angle = 30, hjust = 1)) +\n",
    "  xlab(\"Event Type\") + \n",
    "  ylab(\"Number of Injuries\") +\n",
    "  ggtitle(\"Injuries by Event\")"
   ]
  },
  {
   "cell_type": "markdown",
   "metadata": {},
   "source": [
    "It's safe to say that Tornado is the most harmful event to population health."
   ]
  },
  {
   "cell_type": "markdown",
   "metadata": {},
   "source": [
    "**2. Across the United States, which types of events have the greatest economic consequences?**"
   ]
  },
  {
   "cell_type": "code",
   "execution_count": 102,
   "metadata": {},
   "outputs": [
    {
     "data": {
      "text/html": [
       "<table>\n",
       "<caption>A data.frame: 10 × 2</caption>\n",
       "<thead>\n",
       "\t<tr><th></th><th scope=col>evetype</th><th scope=col>totaldmg</th></tr>\n",
       "\t<tr><th></th><th scope=col>&lt;fct&gt;</th><th scope=col>&lt;dbl&gt;</th></tr>\n",
       "</thead>\n",
       "<tbody>\n",
       "\t<tr><th scope=row>FLOOD</th><td>FLOOD            </td><td>150319678257</td></tr>\n",
       "\t<tr><th scope=row>HURRICANE/TYPHOON</th><td>HURRICANE/TYPHOON</td><td> 71913712800</td></tr>\n",
       "\t<tr><th scope=row>TORNADO</th><td>TORNADO          </td><td> 57352117610</td></tr>\n",
       "\t<tr><th scope=row>STORM SURGE</th><td>STORM SURGE      </td><td> 43323541000</td></tr>\n",
       "\t<tr><th scope=row>HAIL</th><td>HAIL             </td><td> 18758224587</td></tr>\n",
       "\t<tr><th scope=row>FLASH FLOOD</th><td>FLASH FLOOD      </td><td> 17562132318</td></tr>\n",
       "\t<tr><th scope=row>DROUGHT</th><td>DROUGHT          </td><td> 15018672000</td></tr>\n",
       "\t<tr><th scope=row>HURRICANE</th><td>HURRICANE        </td><td> 14610229010</td></tr>\n",
       "\t<tr><th scope=row>RIVER FLOOD</th><td>RIVER FLOOD      </td><td> 10148404500</td></tr>\n",
       "\t<tr><th scope=row>ICE STORM</th><td>ICE STORM        </td><td>  8967041810</td></tr>\n",
       "</tbody>\n",
       "</table>\n"
      ],
      "text/latex": [
       "A data.frame: 10 × 2\n",
       "\\begin{tabular}{r|ll}\n",
       "  & evetype & totaldmg\\\\\n",
       "  & <fct> & <dbl>\\\\\n",
       "\\hline\n",
       "\tFLOOD & FLOOD             & 150319678257\\\\\n",
       "\tHURRICANE/TYPHOON & HURRICANE/TYPHOON &  71913712800\\\\\n",
       "\tTORNADO & TORNADO           &  57352117610\\\\\n",
       "\tSTORM SURGE & STORM SURGE       &  43323541000\\\\\n",
       "\tHAIL & HAIL              &  18758224587\\\\\n",
       "\tFLASH FLOOD & FLASH FLOOD       &  17562132318\\\\\n",
       "\tDROUGHT & DROUGHT           &  15018672000\\\\\n",
       "\tHURRICANE & HURRICANE         &  14610229010\\\\\n",
       "\tRIVER FLOOD & RIVER FLOOD       &  10148404500\\\\\n",
       "\tICE STORM & ICE STORM         &   8967041810\\\\\n",
       "\\end{tabular}\n"
      ],
      "text/markdown": [
       "\n",
       "A data.frame: 10 × 2\n",
       "\n",
       "| <!--/--> | evetype &lt;fct&gt; | totaldmg &lt;dbl&gt; |\n",
       "|---|---|---|\n",
       "| FLOOD | FLOOD             | 150319678257 |\n",
       "| HURRICANE/TYPHOON | HURRICANE/TYPHOON |  71913712800 |\n",
       "| TORNADO | TORNADO           |  57352117610 |\n",
       "| STORM SURGE | STORM SURGE       |  43323541000 |\n",
       "| HAIL | HAIL              |  18758224587 |\n",
       "| FLASH FLOOD | FLASH FLOOD       |  17562132318 |\n",
       "| DROUGHT | DROUGHT           |  15018672000 |\n",
       "| HURRICANE | HURRICANE         |  14610229010 |\n",
       "| RIVER FLOOD | RIVER FLOOD       |  10148404500 |\n",
       "| ICE STORM | ICE STORM         |   8967041810 |\n",
       "\n"
      ],
      "text/plain": [
       "                  evetype           totaldmg    \n",
       "FLOOD             FLOOD             150319678257\n",
       "HURRICANE/TYPHOON HURRICANE/TYPHOON  71913712800\n",
       "TORNADO           TORNADO            57352117610\n",
       "STORM SURGE       STORM SURGE        43323541000\n",
       "HAIL              HAIL               18758224587\n",
       "FLASH FLOOD       FLASH FLOOD        17562132318\n",
       "DROUGHT           DROUGHT            15018672000\n",
       "HURRICANE         HURRICANE          14610229010\n",
       "RIVER FLOOD       RIVER FLOOD        10148404500\n",
       "ICE STORM         ICE STORM           8967041810"
      ]
     },
     "metadata": {},
     "output_type": "display_data"
    }
   ],
   "source": [
    "noaa$totaldmg <- noaa$PROPDMG + noaa$CROPDMG\n",
    "\n",
    "damage <- with(noaa, tapply(totaldmg, EVTYPE, sum, na.rm=TRUE))\n",
    "damage <- data.frame(evetype=names(damage), totaldmg=damage)\n",
    "\n",
    "# get the top 10\n",
    "top10damage <- head(damage[order(-damage$totaldmg), ], n=10L)\n",
    "top10damage"
   ]
  },
  {
   "cell_type": "code",
   "execution_count": 121,
   "metadata": {},
   "outputs": [
    {
     "data": {
      "text/html": [
       "<table border=\"1\">\n",
       "<caption>Property Damage in Billions of Dollars</caption>\n",
       " <thead>\n",
       "  <tr>\n",
       "   <th style=\"text-align:left;\"> Event Type </th>\n",
       "   <th style=\"text-align:right;\"> Cost of Damage </th>\n",
       "  </tr>\n",
       " </thead>\n",
       "<tbody>\n",
       "  <tr>\n",
       "   <td style=\"text-align:left;\"> FLOOD </td>\n",
       "   <td style=\"text-align:right;\"> 150319678257 </td>\n",
       "  </tr>\n",
       "  <tr>\n",
       "   <td style=\"text-align:left;\"> HURRICANE/TYPHOON </td>\n",
       "   <td style=\"text-align:right;\"> 71913712800 </td>\n",
       "  </tr>\n",
       "  <tr>\n",
       "   <td style=\"text-align:left;\"> TORNADO </td>\n",
       "   <td style=\"text-align:right;\"> 57352117610 </td>\n",
       "  </tr>\n",
       "  <tr>\n",
       "   <td style=\"text-align:left;\"> STORM SURGE </td>\n",
       "   <td style=\"text-align:right;\"> 43323541000 </td>\n",
       "  </tr>\n",
       "  <tr>\n",
       "   <td style=\"text-align:left;\"> HAIL </td>\n",
       "   <td style=\"text-align:right;\"> 18758224587 </td>\n",
       "  </tr>\n",
       "  <tr>\n",
       "   <td style=\"text-align:left;\"> FLASH FLOOD </td>\n",
       "   <td style=\"text-align:right;\"> 17562132318 </td>\n",
       "  </tr>\n",
       "  <tr>\n",
       "   <td style=\"text-align:left;\"> DROUGHT </td>\n",
       "   <td style=\"text-align:right;\"> 15018672000 </td>\n",
       "  </tr>\n",
       "  <tr>\n",
       "   <td style=\"text-align:left;\"> HURRICANE </td>\n",
       "   <td style=\"text-align:right;\"> 14610229010 </td>\n",
       "  </tr>\n",
       "  <tr>\n",
       "   <td style=\"text-align:left;\"> RIVER FLOOD </td>\n",
       "   <td style=\"text-align:right;\"> 10148404500 </td>\n",
       "  </tr>\n",
       "  <tr>\n",
       "   <td style=\"text-align:left;\"> ICE STORM </td>\n",
       "   <td style=\"text-align:right;\"> 8967041810 </td>\n",
       "  </tr>\n",
       "</tbody>\n",
       "</table>"
      ]
     },
     "metadata": {},
     "output_type": "display_data"
    }
   ],
   "source": [
    "library(knitr)\n",
    "library(kableExtra)\n",
    "library(IRdisplay)\n",
    "\n",
    "tb <- kable(top10damage,\n",
    "      row.name= FALSE, col.names = c(\"Event Type\",\"Cost of Damage\"),\n",
    "      caption = \"Property Damage in Billions of Dollars\",\n",
    "      format = \"html\", \n",
    "      table.attr = \"border=\\\"1\\\"\")\n",
    "\n",
    "display_html(as.character(tb))"
   ]
  }
 ],
 "metadata": {
  "kernelspec": {
   "display_name": "R",
   "language": "R",
   "name": "ir"
  },
  "language_info": {
   "codemirror_mode": "r",
   "file_extension": ".r",
   "mimetype": "text/x-r-source",
   "name": "R",
   "pygments_lexer": "r",
   "version": "3.6.0"
  },
  "toc": {
   "base_numbering": 1,
   "nav_menu": {},
   "number_sections": false,
   "sideBar": false,
   "skip_h1_title": false,
   "title_cell": "Table of Contents",
   "title_sidebar": "Contents",
   "toc_cell": false,
   "toc_position": {},
   "toc_section_display": false,
   "toc_window_display": false
  }
 },
 "nbformat": 4,
 "nbformat_minor": 2
}
