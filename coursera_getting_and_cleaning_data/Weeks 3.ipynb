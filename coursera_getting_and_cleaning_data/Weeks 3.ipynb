{
 "cells": [
  {
   "cell_type": "markdown",
   "metadata": {},
   "source": [
    "## Subsetting and Sorting"
   ]
  },
  {
   "cell_type": "code",
   "execution_count": 1,
   "metadata": {},
   "outputs": [
    {
     "data": {
      "text/html": [
       "<table>\n",
       "<caption>A data.frame: 5 × 3</caption>\n",
       "<thead>\n",
       "\t<tr><th></th><th scope=col>v1</th><th scope=col>v2</th><th scope=col>v3</th></tr>\n",
       "\t<tr><th></th><th scope=col>&lt;int&gt;</th><th scope=col>&lt;int&gt;</th><th scope=col>&lt;int&gt;</th></tr>\n",
       "</thead>\n",
       "<tbody>\n",
       "\t<tr><th scope=row>5</th><td>1</td><td>NA</td><td>18</td></tr>\n",
       "\t<tr><th scope=row>1</th><td>5</td><td> 6</td><td>16</td></tr>\n",
       "\t<tr><th scope=row>3</th><td>2</td><td>NA</td><td>13</td></tr>\n",
       "\t<tr><th scope=row>4</th><td>3</td><td> 9</td><td>11</td></tr>\n",
       "\t<tr><th scope=row>2</th><td>4</td><td> 7</td><td>19</td></tr>\n",
       "</tbody>\n",
       "</table>\n"
      ],
      "text/latex": [
       "A data.frame: 5 × 3\n",
       "\\begin{tabular}{r|lll}\n",
       "  & v1 & v2 & v3\\\\\n",
       "  & <int> & <int> & <int>\\\\\n",
       "\\hline\n",
       "\t5 & 1 & NA & 18\\\\\n",
       "\t1 & 5 &  6 & 16\\\\\n",
       "\t3 & 2 & NA & 13\\\\\n",
       "\t4 & 3 &  9 & 11\\\\\n",
       "\t2 & 4 &  7 & 19\\\\\n",
       "\\end{tabular}\n"
      ],
      "text/markdown": [
       "\n",
       "A data.frame: 5 × 3\n",
       "\n",
       "| <!--/--> | v1 &lt;int&gt; | v2 &lt;int&gt; | v3 &lt;int&gt; |\n",
       "|---|---|---|---|\n",
       "| 5 | 1 | NA | 18 |\n",
       "| 1 | 5 |  6 | 16 |\n",
       "| 3 | 2 | NA | 13 |\n",
       "| 4 | 3 |  9 | 11 |\n",
       "| 2 | 4 |  7 | 19 |\n",
       "\n"
      ],
      "text/plain": [
       "  v1 v2 v3\n",
       "5 1  NA 18\n",
       "1 5   6 16\n",
       "3 2  NA 13\n",
       "4 3   9 11\n",
       "2 4   7 19"
      ]
     },
     "metadata": {},
     "output_type": "display_data"
    }
   ],
   "source": [
    "df <- data.frame(v1 = sample(1:5), v2 = sample(6:10), v3 = sample(11: 20))\n",
    "df <- df[sample(1:5),]; df$v2[c(1, 3)] = NA\n",
    "df"
   ]
  },
  {
   "cell_type": "markdown",
   "metadata": {},
   "source": [
    "**Subsetting**"
   ]
  },
  {
   "cell_type": "code",
   "execution_count": 2,
   "metadata": {},
   "outputs": [
    {
     "data": {
      "text/html": [
       "<ol class=list-inline>\n",
       "\t<li>1</li>\n",
       "\t<li>5</li>\n",
       "\t<li>2</li>\n",
       "\t<li>3</li>\n",
       "\t<li>4</li>\n",
       "</ol>\n"
      ],
      "text/latex": [
       "\\begin{enumerate*}\n",
       "\\item 1\n",
       "\\item 5\n",
       "\\item 2\n",
       "\\item 3\n",
       "\\item 4\n",
       "\\end{enumerate*}\n"
      ],
      "text/markdown": [
       "1. 1\n",
       "2. 5\n",
       "3. 2\n",
       "4. 3\n",
       "5. 4\n",
       "\n",
       "\n"
      ],
      "text/plain": [
       "[1] 1 5 2 3 4"
      ]
     },
     "metadata": {},
     "output_type": "display_data"
    }
   ],
   "source": [
    "df[, 1]"
   ]
  },
  {
   "cell_type": "code",
   "execution_count": 4,
   "metadata": {},
   "outputs": [
    {
     "data": {
      "text/html": [
       "<ol class=list-inline>\n",
       "\t<li>1</li>\n",
       "\t<li>5</li>\n",
       "\t<li>2</li>\n",
       "\t<li>3</li>\n",
       "\t<li>4</li>\n",
       "</ol>\n"
      ],
      "text/latex": [
       "\\begin{enumerate*}\n",
       "\\item 1\n",
       "\\item 5\n",
       "\\item 2\n",
       "\\item 3\n",
       "\\item 4\n",
       "\\end{enumerate*}\n"
      ],
      "text/markdown": [
       "1. 1\n",
       "2. 5\n",
       "3. 2\n",
       "4. 3\n",
       "5. 4\n",
       "\n",
       "\n"
      ],
      "text/plain": [
       "[1] 1 5 2 3 4"
      ]
     },
     "metadata": {},
     "output_type": "display_data"
    }
   ],
   "source": [
    " df[, 'v1']"
   ]
  },
  {
   "cell_type": "code",
   "execution_count": 5,
   "metadata": {},
   "outputs": [
    {
     "data": {
      "text/html": [
       "<ol class=list-inline>\n",
       "\t<li>&lt;NA&gt;</li>\n",
       "\t<li>6</li>\n",
       "</ol>\n"
      ],
      "text/latex": [
       "\\begin{enumerate*}\n",
       "\\item <NA>\n",
       "\\item 6\n",
       "\\end{enumerate*}\n"
      ],
      "text/markdown": [
       "1. &lt;NA&gt;\n",
       "2. 6\n",
       "\n",
       "\n"
      ],
      "text/plain": [
       "[1] NA  6"
      ]
     },
     "metadata": {},
     "output_type": "display_data"
    }
   ],
   "source": [
    "df[1:2, 'v2']"
   ]
  },
  {
   "cell_type": "markdown",
   "metadata": {},
   "source": [
    "**Logical ands and ors**"
   ]
  },
  {
   "cell_type": "code",
   "execution_count": 8,
   "metadata": {},
   "outputs": [
    {
     "data": {
      "text/html": [
       "<table>\n",
       "<caption>A data.frame: 1 × 3</caption>\n",
       "<thead>\n",
       "\t<tr><th></th><th scope=col>v1</th><th scope=col>v2</th><th scope=col>v3</th></tr>\n",
       "\t<tr><th></th><th scope=col>&lt;int&gt;</th><th scope=col>&lt;int&gt;</th><th scope=col>&lt;int&gt;</th></tr>\n",
       "</thead>\n",
       "<tbody>\n",
       "\t<tr><th scope=row>5</th><td>1</td><td>NA</td><td>18</td></tr>\n",
       "</tbody>\n",
       "</table>\n"
      ],
      "text/latex": [
       "A data.frame: 1 × 3\n",
       "\\begin{tabular}{r|lll}\n",
       "  & v1 & v2 & v3\\\\\n",
       "  & <int> & <int> & <int>\\\\\n",
       "\\hline\n",
       "\t5 & 1 & NA & 18\\\\\n",
       "\\end{tabular}\n"
      ],
      "text/markdown": [
       "\n",
       "A data.frame: 1 × 3\n",
       "\n",
       "| <!--/--> | v1 &lt;int&gt; | v2 &lt;int&gt; | v3 &lt;int&gt; |\n",
       "|---|---|---|---|\n",
       "| 5 | 1 | NA | 18 |\n",
       "\n"
      ],
      "text/plain": [
       "  v1 v2 v3\n",
       "5 1  NA 18"
      ]
     },
     "metadata": {},
     "output_type": "display_data"
    }
   ],
   "source": [
    "df[df$v1 < 4 & df$v3> 13,]"
   ]
  },
  {
   "cell_type": "code",
   "execution_count": 10,
   "metadata": {},
   "outputs": [
    {
     "data": {
      "text/html": [
       "<table>\n",
       "<caption>A data.frame: 4 × 3</caption>\n",
       "<thead>\n",
       "\t<tr><th></th><th scope=col>v1</th><th scope=col>v2</th><th scope=col>v3</th></tr>\n",
       "\t<tr><th></th><th scope=col>&lt;int&gt;</th><th scope=col>&lt;int&gt;</th><th scope=col>&lt;int&gt;</th></tr>\n",
       "</thead>\n",
       "<tbody>\n",
       "\t<tr><th scope=row>5</th><td>1</td><td>NA</td><td>18</td></tr>\n",
       "\t<tr><th scope=row>1</th><td>5</td><td> 6</td><td>16</td></tr>\n",
       "\t<tr><th scope=row>3</th><td>2</td><td>NA</td><td>13</td></tr>\n",
       "\t<tr><th scope=row>2</th><td>4</td><td> 7</td><td>19</td></tr>\n",
       "</tbody>\n",
       "</table>\n"
      ],
      "text/latex": [
       "A data.frame: 4 × 3\n",
       "\\begin{tabular}{r|lll}\n",
       "  & v1 & v2 & v3\\\\\n",
       "  & <int> & <int> & <int>\\\\\n",
       "\\hline\n",
       "\t5 & 1 & NA & 18\\\\\n",
       "\t1 & 5 &  6 & 16\\\\\n",
       "\t3 & 2 & NA & 13\\\\\n",
       "\t2 & 4 &  7 & 19\\\\\n",
       "\\end{tabular}\n"
      ],
      "text/markdown": [
       "\n",
       "A data.frame: 4 × 3\n",
       "\n",
       "| <!--/--> | v1 &lt;int&gt; | v2 &lt;int&gt; | v3 &lt;int&gt; |\n",
       "|---|---|---|---|\n",
       "| 5 | 1 | NA | 18 |\n",
       "| 1 | 5 |  6 | 16 |\n",
       "| 3 | 2 | NA | 13 |\n",
       "| 2 | 4 |  7 | 19 |\n",
       "\n"
      ],
      "text/plain": [
       "  v1 v2 v3\n",
       "5 1  NA 18\n",
       "1 5   6 16\n",
       "3 2  NA 13\n",
       "2 4   7 19"
      ]
     },
     "metadata": {},
     "output_type": "display_data"
    }
   ],
   "source": [
    "df[df$v1 < 3 | df$v3> 15,]"
   ]
  },
  {
   "cell_type": "markdown",
   "metadata": {},
   "source": [
    "**Dealing with missing values**"
   ]
  },
  {
   "cell_type": "code",
   "execution_count": 11,
   "metadata": {},
   "outputs": [
    {
     "data": {
      "text/html": [
       "<table>\n",
       "<caption>A data.frame: 3 × 3</caption>\n",
       "<thead>\n",
       "\t<tr><th></th><th scope=col>v1</th><th scope=col>v2</th><th scope=col>v3</th></tr>\n",
       "\t<tr><th></th><th scope=col>&lt;int&gt;</th><th scope=col>&lt;int&gt;</th><th scope=col>&lt;int&gt;</th></tr>\n",
       "</thead>\n",
       "<tbody>\n",
       "\t<tr><th scope=row>NA</th><td>NA</td><td>NA</td><td>NA</td></tr>\n",
       "\t<tr><th scope=row>NA.1</th><td>NA</td><td>NA</td><td>NA</td></tr>\n",
       "\t<tr><th scope=row>4</th><td> 3</td><td> 9</td><td>11</td></tr>\n",
       "</tbody>\n",
       "</table>\n"
      ],
      "text/latex": [
       "A data.frame: 3 × 3\n",
       "\\begin{tabular}{r|lll}\n",
       "  & v1 & v2 & v3\\\\\n",
       "  & <int> & <int> & <int>\\\\\n",
       "\\hline\n",
       "\tNA & NA & NA & NA\\\\\n",
       "\tNA.1 & NA & NA & NA\\\\\n",
       "\t4 &  3 &  9 & 11\\\\\n",
       "\\end{tabular}\n"
      ],
      "text/markdown": [
       "\n",
       "A data.frame: 3 × 3\n",
       "\n",
       "| <!--/--> | v1 &lt;int&gt; | v2 &lt;int&gt; | v3 &lt;int&gt; |\n",
       "|---|---|---|---|\n",
       "| NA | NA | NA | NA |\n",
       "| NA.1 | NA | NA | NA |\n",
       "| 4 |  3 |  9 | 11 |\n",
       "\n"
      ],
      "text/plain": [
       "     v1 v2 v3\n",
       "NA   NA NA NA\n",
       "NA.1 NA NA NA\n",
       "4     3  9 11"
      ]
     },
     "metadata": {},
     "output_type": "display_data"
    }
   ],
   "source": [
    "df[df$v2 > 8,]"
   ]
  },
  {
   "cell_type": "code",
   "execution_count": 12,
   "metadata": {},
   "outputs": [
    {
     "data": {
      "text/html": [
       "<table>\n",
       "<caption>A data.frame: 1 × 3</caption>\n",
       "<thead>\n",
       "\t<tr><th></th><th scope=col>v1</th><th scope=col>v2</th><th scope=col>v3</th></tr>\n",
       "\t<tr><th></th><th scope=col>&lt;int&gt;</th><th scope=col>&lt;int&gt;</th><th scope=col>&lt;int&gt;</th></tr>\n",
       "</thead>\n",
       "<tbody>\n",
       "\t<tr><th scope=row>4</th><td>3</td><td>9</td><td>11</td></tr>\n",
       "</tbody>\n",
       "</table>\n"
      ],
      "text/latex": [
       "A data.frame: 1 × 3\n",
       "\\begin{tabular}{r|lll}\n",
       "  & v1 & v2 & v3\\\\\n",
       "  & <int> & <int> & <int>\\\\\n",
       "\\hline\n",
       "\t4 & 3 & 9 & 11\\\\\n",
       "\\end{tabular}\n"
      ],
      "text/markdown": [
       "\n",
       "A data.frame: 1 × 3\n",
       "\n",
       "| <!--/--> | v1 &lt;int&gt; | v2 &lt;int&gt; | v3 &lt;int&gt; |\n",
       "|---|---|---|---|\n",
       "| 4 | 3 | 9 | 11 |\n",
       "\n"
      ],
      "text/plain": [
       "  v1 v2 v3\n",
       "4 3  9  11"
      ]
     },
     "metadata": {},
     "output_type": "display_data"
    }
   ],
   "source": [
    "df[which(df$v2 > 8), ]"
   ]
  },
  {
   "cell_type": "markdown",
   "metadata": {},
   "source": [
    "**Sorting**"
   ]
  },
  {
   "cell_type": "code",
   "execution_count": 13,
   "metadata": {},
   "outputs": [
    {
     "data": {
      "text/html": [
       "<ol class=list-inline>\n",
       "\t<li>1</li>\n",
       "\t<li>2</li>\n",
       "\t<li>3</li>\n",
       "\t<li>4</li>\n",
       "\t<li>5</li>\n",
       "</ol>\n"
      ],
      "text/latex": [
       "\\begin{enumerate*}\n",
       "\\item 1\n",
       "\\item 2\n",
       "\\item 3\n",
       "\\item 4\n",
       "\\item 5\n",
       "\\end{enumerate*}\n"
      ],
      "text/markdown": [
       "1. 1\n",
       "2. 2\n",
       "3. 3\n",
       "4. 4\n",
       "5. 5\n",
       "\n",
       "\n"
      ],
      "text/plain": [
       "[1] 1 2 3 4 5"
      ]
     },
     "metadata": {},
     "output_type": "display_data"
    }
   ],
   "source": [
    "sort(df$v1)"
   ]
  },
  {
   "cell_type": "code",
   "execution_count": 14,
   "metadata": {},
   "outputs": [
    {
     "data": {
      "text/html": [
       "<ol class=list-inline>\n",
       "\t<li>5</li>\n",
       "\t<li>4</li>\n",
       "\t<li>3</li>\n",
       "\t<li>2</li>\n",
       "\t<li>1</li>\n",
       "</ol>\n"
      ],
      "text/latex": [
       "\\begin{enumerate*}\n",
       "\\item 5\n",
       "\\item 4\n",
       "\\item 3\n",
       "\\item 2\n",
       "\\item 1\n",
       "\\end{enumerate*}\n"
      ],
      "text/markdown": [
       "1. 5\n",
       "2. 4\n",
       "3. 3\n",
       "4. 2\n",
       "5. 1\n",
       "\n",
       "\n"
      ],
      "text/plain": [
       "[1] 5 4 3 2 1"
      ]
     },
     "metadata": {},
     "output_type": "display_data"
    }
   ],
   "source": [
    "sort(df$v1, decreasing = TRUE)"
   ]
  },
  {
   "cell_type": "code",
   "execution_count": 15,
   "metadata": {},
   "outputs": [
    {
     "data": {
      "text/html": [
       "<ol class=list-inline>\n",
       "\t<li>6</li>\n",
       "\t<li>7</li>\n",
       "\t<li>9</li>\n",
       "\t<li>&lt;NA&gt;</li>\n",
       "\t<li>&lt;NA&gt;</li>\n",
       "</ol>\n"
      ],
      "text/latex": [
       "\\begin{enumerate*}\n",
       "\\item 6\n",
       "\\item 7\n",
       "\\item 9\n",
       "\\item <NA>\n",
       "\\item <NA>\n",
       "\\end{enumerate*}\n"
      ],
      "text/markdown": [
       "1. 6\n",
       "2. 7\n",
       "3. 9\n",
       "4. &lt;NA&gt;\n",
       "5. &lt;NA&gt;\n",
       "\n",
       "\n"
      ],
      "text/plain": [
       "[1]  6  7  9 NA NA"
      ]
     },
     "metadata": {},
     "output_type": "display_data"
    }
   ],
   "source": [
    "sort(df$v2, na.last = TRUE)"
   ]
  },
  {
   "cell_type": "markdown",
   "metadata": {},
   "source": [
    "**Ordering**"
   ]
  },
  {
   "cell_type": "code",
   "execution_count": 16,
   "metadata": {},
   "outputs": [
    {
     "data": {
      "text/html": [
       "<table>\n",
       "<caption>A data.frame: 5 × 3</caption>\n",
       "<thead>\n",
       "\t<tr><th></th><th scope=col>v1</th><th scope=col>v2</th><th scope=col>v3</th></tr>\n",
       "\t<tr><th></th><th scope=col>&lt;int&gt;</th><th scope=col>&lt;int&gt;</th><th scope=col>&lt;int&gt;</th></tr>\n",
       "</thead>\n",
       "<tbody>\n",
       "\t<tr><th scope=row>5</th><td>1</td><td>NA</td><td>18</td></tr>\n",
       "\t<tr><th scope=row>3</th><td>2</td><td>NA</td><td>13</td></tr>\n",
       "\t<tr><th scope=row>4</th><td>3</td><td> 9</td><td>11</td></tr>\n",
       "\t<tr><th scope=row>2</th><td>4</td><td> 7</td><td>19</td></tr>\n",
       "\t<tr><th scope=row>1</th><td>5</td><td> 6</td><td>16</td></tr>\n",
       "</tbody>\n",
       "</table>\n"
      ],
      "text/latex": [
       "A data.frame: 5 × 3\n",
       "\\begin{tabular}{r|lll}\n",
       "  & v1 & v2 & v3\\\\\n",
       "  & <int> & <int> & <int>\\\\\n",
       "\\hline\n",
       "\t5 & 1 & NA & 18\\\\\n",
       "\t3 & 2 & NA & 13\\\\\n",
       "\t4 & 3 &  9 & 11\\\\\n",
       "\t2 & 4 &  7 & 19\\\\\n",
       "\t1 & 5 &  6 & 16\\\\\n",
       "\\end{tabular}\n"
      ],
      "text/markdown": [
       "\n",
       "A data.frame: 5 × 3\n",
       "\n",
       "| <!--/--> | v1 &lt;int&gt; | v2 &lt;int&gt; | v3 &lt;int&gt; |\n",
       "|---|---|---|---|\n",
       "| 5 | 1 | NA | 18 |\n",
       "| 3 | 2 | NA | 13 |\n",
       "| 4 | 3 |  9 | 11 |\n",
       "| 2 | 4 |  7 | 19 |\n",
       "| 1 | 5 |  6 | 16 |\n",
       "\n"
      ],
      "text/plain": [
       "  v1 v2 v3\n",
       "5 1  NA 18\n",
       "3 2  NA 13\n",
       "4 3   9 11\n",
       "2 4   7 19\n",
       "1 5   6 16"
      ]
     },
     "metadata": {},
     "output_type": "display_data"
    }
   ],
   "source": [
    "df[order(df$v1), ]"
   ]
  },
  {
   "cell_type": "code",
   "execution_count": 17,
   "metadata": {},
   "outputs": [
    {
     "data": {
      "text/html": [
       "<table>\n",
       "<caption>A data.frame: 5 × 3</caption>\n",
       "<thead>\n",
       "\t<tr><th></th><th scope=col>v1</th><th scope=col>v2</th><th scope=col>v3</th></tr>\n",
       "\t<tr><th></th><th scope=col>&lt;int&gt;</th><th scope=col>&lt;int&gt;</th><th scope=col>&lt;int&gt;</th></tr>\n",
       "</thead>\n",
       "<tbody>\n",
       "\t<tr><th scope=row>5</th><td>1</td><td>NA</td><td>18</td></tr>\n",
       "\t<tr><th scope=row>3</th><td>2</td><td>NA</td><td>13</td></tr>\n",
       "\t<tr><th scope=row>4</th><td>3</td><td> 9</td><td>11</td></tr>\n",
       "\t<tr><th scope=row>2</th><td>4</td><td> 7</td><td>19</td></tr>\n",
       "\t<tr><th scope=row>1</th><td>5</td><td> 6</td><td>16</td></tr>\n",
       "</tbody>\n",
       "</table>\n"
      ],
      "text/latex": [
       "A data.frame: 5 × 3\n",
       "\\begin{tabular}{r|lll}\n",
       "  & v1 & v2 & v3\\\\\n",
       "  & <int> & <int> & <int>\\\\\n",
       "\\hline\n",
       "\t5 & 1 & NA & 18\\\\\n",
       "\t3 & 2 & NA & 13\\\\\n",
       "\t4 & 3 &  9 & 11\\\\\n",
       "\t2 & 4 &  7 & 19\\\\\n",
       "\t1 & 5 &  6 & 16\\\\\n",
       "\\end{tabular}\n"
      ],
      "text/markdown": [
       "\n",
       "A data.frame: 5 × 3\n",
       "\n",
       "| <!--/--> | v1 &lt;int&gt; | v2 &lt;int&gt; | v3 &lt;int&gt; |\n",
       "|---|---|---|---|\n",
       "| 5 | 1 | NA | 18 |\n",
       "| 3 | 2 | NA | 13 |\n",
       "| 4 | 3 |  9 | 11 |\n",
       "| 2 | 4 |  7 | 19 |\n",
       "| 1 | 5 |  6 | 16 |\n",
       "\n"
      ],
      "text/plain": [
       "  v1 v2 v3\n",
       "5 1  NA 18\n",
       "3 2  NA 13\n",
       "4 3   9 11\n",
       "2 4   7 19\n",
       "1 5   6 16"
      ]
     },
     "metadata": {},
     "output_type": "display_data"
    }
   ],
   "source": [
    "df[order(df$v1, df$v3), ]"
   ]
  },
  {
   "cell_type": "code",
   "execution_count": 18,
   "metadata": {},
   "outputs": [],
   "source": [
    "library(plyr)"
   ]
  },
  {
   "cell_type": "code",
   "execution_count": 19,
   "metadata": {},
   "outputs": [
    {
     "data": {
      "text/html": [
       "<table>\n",
       "<caption>A data.frame: 5 × 3</caption>\n",
       "<thead>\n",
       "\t<tr><th scope=col>v1</th><th scope=col>v2</th><th scope=col>v3</th></tr>\n",
       "\t<tr><th scope=col>&lt;int&gt;</th><th scope=col>&lt;int&gt;</th><th scope=col>&lt;int&gt;</th></tr>\n",
       "</thead>\n",
       "<tbody>\n",
       "\t<tr><td>1</td><td>NA</td><td>18</td></tr>\n",
       "\t<tr><td>2</td><td>NA</td><td>13</td></tr>\n",
       "\t<tr><td>3</td><td> 9</td><td>11</td></tr>\n",
       "\t<tr><td>4</td><td> 7</td><td>19</td></tr>\n",
       "\t<tr><td>5</td><td> 6</td><td>16</td></tr>\n",
       "</tbody>\n",
       "</table>\n"
      ],
      "text/latex": [
       "A data.frame: 5 × 3\n",
       "\\begin{tabular}{r|lll}\n",
       " v1 & v2 & v3\\\\\n",
       " <int> & <int> & <int>\\\\\n",
       "\\hline\n",
       "\t 1 & NA & 18\\\\\n",
       "\t 2 & NA & 13\\\\\n",
       "\t 3 &  9 & 11\\\\\n",
       "\t 4 &  7 & 19\\\\\n",
       "\t 5 &  6 & 16\\\\\n",
       "\\end{tabular}\n"
      ],
      "text/markdown": [
       "\n",
       "A data.frame: 5 × 3\n",
       "\n",
       "| v1 &lt;int&gt; | v2 &lt;int&gt; | v3 &lt;int&gt; |\n",
       "|---|---|---|\n",
       "| 1 | NA | 18 |\n",
       "| 2 | NA | 13 |\n",
       "| 3 |  9 | 11 |\n",
       "| 4 |  7 | 19 |\n",
       "| 5 |  6 | 16 |\n",
       "\n"
      ],
      "text/plain": [
       "  v1 v2 v3\n",
       "1 1  NA 18\n",
       "2 2  NA 13\n",
       "3 3   9 11\n",
       "4 4   7 19\n",
       "5 5   6 16"
      ]
     },
     "metadata": {},
     "output_type": "display_data"
    }
   ],
   "source": [
    "arrange(df, v1)"
   ]
  },
  {
   "cell_type": "code",
   "execution_count": 21,
   "metadata": {},
   "outputs": [
    {
     "data": {
      "text/html": [
       "<table>\n",
       "<caption>A data.frame: 5 × 3</caption>\n",
       "<thead>\n",
       "\t<tr><th scope=col>v1</th><th scope=col>v2</th><th scope=col>v3</th></tr>\n",
       "\t<tr><th scope=col>&lt;int&gt;</th><th scope=col>&lt;int&gt;</th><th scope=col>&lt;int&gt;</th></tr>\n",
       "</thead>\n",
       "<tbody>\n",
       "\t<tr><td>5</td><td> 6</td><td>16</td></tr>\n",
       "\t<tr><td>4</td><td> 7</td><td>19</td></tr>\n",
       "\t<tr><td>3</td><td> 9</td><td>11</td></tr>\n",
       "\t<tr><td>2</td><td>NA</td><td>13</td></tr>\n",
       "\t<tr><td>1</td><td>NA</td><td>18</td></tr>\n",
       "</tbody>\n",
       "</table>\n"
      ],
      "text/latex": [
       "A data.frame: 5 × 3\n",
       "\\begin{tabular}{r|lll}\n",
       " v1 & v2 & v3\\\\\n",
       " <int> & <int> & <int>\\\\\n",
       "\\hline\n",
       "\t 5 &  6 & 16\\\\\n",
       "\t 4 &  7 & 19\\\\\n",
       "\t 3 &  9 & 11\\\\\n",
       "\t 2 & NA & 13\\\\\n",
       "\t 1 & NA & 18\\\\\n",
       "\\end{tabular}\n"
      ],
      "text/markdown": [
       "\n",
       "A data.frame: 5 × 3\n",
       "\n",
       "| v1 &lt;int&gt; | v2 &lt;int&gt; | v3 &lt;int&gt; |\n",
       "|---|---|---|\n",
       "| 5 |  6 | 16 |\n",
       "| 4 |  7 | 19 |\n",
       "| 3 |  9 | 11 |\n",
       "| 2 | NA | 13 |\n",
       "| 1 | NA | 18 |\n",
       "\n"
      ],
      "text/plain": [
       "  v1 v2 v3\n",
       "1 5   6 16\n",
       "2 4   7 19\n",
       "3 3   9 11\n",
       "4 2  NA 13\n",
       "5 1  NA 18"
      ]
     },
     "metadata": {},
     "output_type": "display_data"
    }
   ],
   "source": [
    "arrange(df, desc(v1))"
   ]
  },
  {
   "cell_type": "code",
   "execution_count": 23,
   "metadata": {},
   "outputs": [
    {
     "data": {
      "text/html": [
       "<table>\n",
       "<caption>A data.frame: 5 × 4</caption>\n",
       "<thead>\n",
       "\t<tr><th></th><th scope=col>v1</th><th scope=col>v2</th><th scope=col>v3</th><th scope=col>v4</th></tr>\n",
       "\t<tr><th></th><th scope=col>&lt;int&gt;</th><th scope=col>&lt;int&gt;</th><th scope=col>&lt;int&gt;</th><th scope=col>&lt;dbl&gt;</th></tr>\n",
       "</thead>\n",
       "<tbody>\n",
       "\t<tr><th scope=row>5</th><td>1</td><td>NA</td><td>18</td><td>-0.19584806</td></tr>\n",
       "\t<tr><th scope=row>1</th><td>5</td><td> 6</td><td>16</td><td>-0.42947615</td></tr>\n",
       "\t<tr><th scope=row>3</th><td>2</td><td>NA</td><td>13</td><td>-0.24557933</td></tr>\n",
       "\t<tr><th scope=row>4</th><td>3</td><td> 9</td><td>11</td><td> 2.33768050</td></tr>\n",
       "\t<tr><th scope=row>2</th><td>4</td><td> 7</td><td>19</td><td> 0.04345927</td></tr>\n",
       "</tbody>\n",
       "</table>\n"
      ],
      "text/latex": [
       "A data.frame: 5 × 4\n",
       "\\begin{tabular}{r|llll}\n",
       "  & v1 & v2 & v3 & v4\\\\\n",
       "  & <int> & <int> & <int> & <dbl>\\\\\n",
       "\\hline\n",
       "\t5 & 1 & NA & 18 & -0.19584806\\\\\n",
       "\t1 & 5 &  6 & 16 & -0.42947615\\\\\n",
       "\t3 & 2 & NA & 13 & -0.24557933\\\\\n",
       "\t4 & 3 &  9 & 11 &  2.33768050\\\\\n",
       "\t2 & 4 &  7 & 19 &  0.04345927\\\\\n",
       "\\end{tabular}\n"
      ],
      "text/markdown": [
       "\n",
       "A data.frame: 5 × 4\n",
       "\n",
       "| <!--/--> | v1 &lt;int&gt; | v2 &lt;int&gt; | v3 &lt;int&gt; | v4 &lt;dbl&gt; |\n",
       "|---|---|---|---|---|\n",
       "| 5 | 1 | NA | 18 | -0.19584806 |\n",
       "| 1 | 5 |  6 | 16 | -0.42947615 |\n",
       "| 3 | 2 | NA | 13 | -0.24557933 |\n",
       "| 4 | 3 |  9 | 11 |  2.33768050 |\n",
       "| 2 | 4 |  7 | 19 |  0.04345927 |\n",
       "\n"
      ],
      "text/plain": [
       "  v1 v2 v3 v4         \n",
       "5 1  NA 18 -0.19584806\n",
       "1 5   6 16 -0.42947615\n",
       "3 2  NA 13 -0.24557933\n",
       "4 3   9 11  2.33768050\n",
       "2 4   7 19  0.04345927"
      ]
     },
     "metadata": {},
     "output_type": "display_data"
    }
   ],
   "source": [
    "# adding a column\n",
    "df$v4 <- rnorm(length(df$v1))\n",
    "df"
   ]
  },
  {
   "cell_type": "code",
   "execution_count": 27,
   "metadata": {},
   "outputs": [
    {
     "data": {
      "text/html": [
       "<table>\n",
       "<caption>A data.frame: 5 × 5</caption>\n",
       "<thead>\n",
       "\t<tr><th></th><th scope=col>v1</th><th scope=col>v2</th><th scope=col>v3</th><th scope=col>v4</th><th scope=col>rnorm(length(df$v1)) * 5</th></tr>\n",
       "\t<tr><th></th><th scope=col>&lt;int&gt;</th><th scope=col>&lt;int&gt;</th><th scope=col>&lt;int&gt;</th><th scope=col>&lt;dbl&gt;</th><th scope=col>&lt;dbl&gt;</th></tr>\n",
       "</thead>\n",
       "<tbody>\n",
       "\t<tr><th scope=row>5</th><td>1</td><td>NA</td><td>18</td><td>-0.19584806</td><td>-9.2159359</td></tr>\n",
       "\t<tr><th scope=row>1</th><td>5</td><td> 6</td><td>16</td><td>-0.42947615</td><td> 1.5079519</td></tr>\n",
       "\t<tr><th scope=row>3</th><td>2</td><td>NA</td><td>13</td><td>-0.24557933</td><td>-3.1658821</td></tr>\n",
       "\t<tr><th scope=row>4</th><td>3</td><td> 9</td><td>11</td><td> 2.33768050</td><td>-8.1937698</td></tr>\n",
       "\t<tr><th scope=row>2</th><td>4</td><td> 7</td><td>19</td><td> 0.04345927</td><td> 0.1661753</td></tr>\n",
       "</tbody>\n",
       "</table>\n"
      ],
      "text/latex": [
       "A data.frame: 5 × 5\n",
       "\\begin{tabular}{r|lllll}\n",
       "  & v1 & v2 & v3 & v4 & rnorm(length(df\\$v1)) * 5\\\\\n",
       "  & <int> & <int> & <int> & <dbl> & <dbl>\\\\\n",
       "\\hline\n",
       "\t5 & 1 & NA & 18 & -0.19584806 & -9.2159359\\\\\n",
       "\t1 & 5 &  6 & 16 & -0.42947615 &  1.5079519\\\\\n",
       "\t3 & 2 & NA & 13 & -0.24557933 & -3.1658821\\\\\n",
       "\t4 & 3 &  9 & 11 &  2.33768050 & -8.1937698\\\\\n",
       "\t2 & 4 &  7 & 19 &  0.04345927 &  0.1661753\\\\\n",
       "\\end{tabular}\n"
      ],
      "text/markdown": [
       "\n",
       "A data.frame: 5 × 5\n",
       "\n",
       "| <!--/--> | v1 &lt;int&gt; | v2 &lt;int&gt; | v3 &lt;int&gt; | v4 &lt;dbl&gt; | rnorm(length(df$v1)) * 5 &lt;dbl&gt; |\n",
       "|---|---|---|---|---|---|\n",
       "| 5 | 1 | NA | 18 | -0.19584806 | -9.2159359 |\n",
       "| 1 | 5 |  6 | 16 | -0.42947615 |  1.5079519 |\n",
       "| 3 | 2 | NA | 13 | -0.24557933 | -3.1658821 |\n",
       "| 4 | 3 |  9 | 11 |  2.33768050 | -8.1937698 |\n",
       "| 2 | 4 |  7 | 19 |  0.04345927 |  0.1661753 |\n",
       "\n"
      ],
      "text/plain": [
       "  v1 v2 v3 v4          rnorm(length(df$v1)) * 5\n",
       "5 1  NA 18 -0.19584806 -9.2159359              \n",
       "1 5   6 16 -0.42947615  1.5079519              \n",
       "3 2  NA 13 -0.24557933 -3.1658821              \n",
       "4 3   9 11  2.33768050 -8.1937698              \n",
       "2 4   7 19  0.04345927  0.1661753              "
      ]
     },
     "metadata": {},
     "output_type": "display_data"
    }
   ],
   "source": [
    "# adding column using cbind\n",
    "df1 <- cbind(df, rnorm(length(df$v1)) * 5)\n",
    "df1"
   ]
  },
  {
   "cell_type": "markdown",
   "metadata": {},
   "source": [
    "## Summurizing data"
   ]
  },
  {
   "cell_type": "code",
   "execution_count": 29,
   "metadata": {},
   "outputs": [],
   "source": [
    "if(!file.exists('./data')) {dir.create('./data')}\n",
    "\n",
    "file_url <- 'https://data.baltimorecity.gov/api/views/k5ry-ef3g/rows.csv?accessType=DOWNLOAD'\n",
    "download.file(url = file_url, destfile = './data/restaurant.csv', method = 'curl')\n",
    "rest_data = read.csv('./data/restaurant.csv')"
   ]
  },
  {
   "cell_type": "markdown",
   "metadata": {},
   "source": [
    "**Look at a bit of the data**"
   ]
  },
  {
   "cell_type": "code",
   "execution_count": 30,
   "metadata": {},
   "outputs": [
    {
     "data": {
      "text/html": [
       "<table>\n",
       "<caption>A data.frame: 3 × 6</caption>\n",
       "<thead>\n",
       "\t<tr><th scope=col>name</th><th scope=col>zipCode</th><th scope=col>neighborhood</th><th scope=col>councilDistrict</th><th scope=col>policeDistrict</th><th scope=col>Location.1</th></tr>\n",
       "\t<tr><th scope=col>&lt;fct&gt;</th><th scope=col>&lt;int&gt;</th><th scope=col>&lt;fct&gt;</th><th scope=col>&lt;int&gt;</th><th scope=col>&lt;fct&gt;</th><th scope=col>&lt;fct&gt;</th></tr>\n",
       "</thead>\n",
       "<tbody>\n",
       "\t<tr><td>410  </td><td>21206</td><td>Frankford  </td><td>2</td><td>NORTHEASTERN</td><td>4509 BELAIR ROAD\n",
       "Baltimore, MD</td></tr>\n",
       "\t<tr><td>1919 </td><td>21231</td><td>Fells Point</td><td>1</td><td>SOUTHEASTERN</td><td>1919 FLEET ST\n",
       "Baltimore, MD   </td></tr>\n",
       "\t<tr><td>SAUTE</td><td>21224</td><td>Canton     </td><td>1</td><td>SOUTHEASTERN</td><td>2844 HUDSON ST\n",
       "Baltimore, MD  </td></tr>\n",
       "</tbody>\n",
       "</table>\n"
      ],
      "text/latex": [
       "A data.frame: 3 × 6\n",
       "\\begin{tabular}{r|llllll}\n",
       " name & zipCode & neighborhood & councilDistrict & policeDistrict & Location.1\\\\\n",
       " <fct> & <int> & <fct> & <int> & <fct> & <fct>\\\\\n",
       "\\hline\n",
       "\t 410   & 21206 & Frankford   & 2 & NORTHEASTERN & 4509 BELAIR ROAD\n",
       "Baltimore, MD\\\\\n",
       "\t 1919  & 21231 & Fells Point & 1 & SOUTHEASTERN & 1919 FLEET ST\n",
       "Baltimore, MD   \\\\\n",
       "\t SAUTE & 21224 & Canton      & 1 & SOUTHEASTERN & 2844 HUDSON ST\n",
       "Baltimore, MD  \\\\\n",
       "\\end{tabular}\n"
      ],
      "text/markdown": [
       "\n",
       "A data.frame: 3 × 6\n",
       "\n",
       "| name &lt;fct&gt; | zipCode &lt;int&gt; | neighborhood &lt;fct&gt; | councilDistrict &lt;int&gt; | policeDistrict &lt;fct&gt; | Location.1 &lt;fct&gt; |\n",
       "|---|---|---|---|---|---|\n",
       "| 410   | 21206 | Frankford   | 2 | NORTHEASTERN | 4509 BELAIR ROAD\n",
       "Baltimore, MD |\n",
       "| 1919  | 21231 | Fells Point | 1 | SOUTHEASTERN | 1919 FLEET ST\n",
       "Baltimore, MD    |\n",
       "| SAUTE | 21224 | Canton      | 1 | SOUTHEASTERN | 2844 HUDSON ST\n",
       "Baltimore, MD   |\n",
       "\n"
      ],
      "text/plain": [
       "  name  zipCode neighborhood councilDistrict policeDistrict\n",
       "1 410   21206   Frankford    2               NORTHEASTERN  \n",
       "2 1919  21231   Fells Point  1               SOUTHEASTERN  \n",
       "3 SAUTE 21224   Canton       1               SOUTHEASTERN  \n",
       "  Location.1                     \n",
       "1 4509 BELAIR ROAD\\nBaltimore, MD\n",
       "2 1919 FLEET ST\\nBaltimore, MD   \n",
       "3 2844 HUDSON ST\\nBaltimore, MD  "
      ]
     },
     "metadata": {},
     "output_type": "display_data"
    }
   ],
   "source": [
    "head(rest_data, n=3)"
   ]
  },
  {
   "cell_type": "code",
   "execution_count": 31,
   "metadata": {},
   "outputs": [
    {
     "data": {
      "text/html": [
       "<table>\n",
       "<caption>A data.frame: 3 × 6</caption>\n",
       "<thead>\n",
       "\t<tr><th></th><th scope=col>name</th><th scope=col>zipCode</th><th scope=col>neighborhood</th><th scope=col>councilDistrict</th><th scope=col>policeDistrict</th><th scope=col>Location.1</th></tr>\n",
       "\t<tr><th></th><th scope=col>&lt;fct&gt;</th><th scope=col>&lt;int&gt;</th><th scope=col>&lt;fct&gt;</th><th scope=col>&lt;int&gt;</th><th scope=col>&lt;fct&gt;</th><th scope=col>&lt;fct&gt;</th></tr>\n",
       "</thead>\n",
       "<tbody>\n",
       "\t<tr><th scope=row>1325</th><td>ZINK'S CAF</td><td>21213</td><td>Belair-Edison</td><td>13</td><td>NORTHEASTERN</td><td>3300 LAWNVIEW AVE\n",
       "Baltimore, MD</td></tr>\n",
       "\t<tr><th scope=row>1326</th><td>ZISSIMOS BAR    </td><td>21211</td><td>Hampden      </td><td> 7</td><td>NORTHERN    </td><td>1023 36TH ST\n",
       "Baltimore, MD     </td></tr>\n",
       "\t<tr><th scope=row>1327</th><td>ZORBAS          </td><td>21224</td><td>Greektown    </td><td> 2</td><td>SOUTHEASTERN</td><td>4710 EASTERN Ave\n",
       "Baltimore, MD </td></tr>\n",
       "</tbody>\n",
       "</table>\n"
      ],
      "text/latex": [
       "A data.frame: 3 × 6\n",
       "\\begin{tabular}{r|llllll}\n",
       "  & name & zipCode & neighborhood & councilDistrict & policeDistrict & Location.1\\\\\n",
       "  & <fct> & <int> & <fct> & <int> & <fct> & <fct>\\\\\n",
       "\\hline\n",
       "\t1325 & ZINK'S CAF & 21213 & Belair-Edison & 13 & NORTHEASTERN & 3300 LAWNVIEW AVE\n",
       "Baltimore, MD\\\\\n",
       "\t1326 & ZISSIMOS BAR     & 21211 & Hampden       &  7 & NORTHERN     & 1023 36TH ST\n",
       "Baltimore, MD     \\\\\n",
       "\t1327 & ZORBAS           & 21224 & Greektown     &  2 & SOUTHEASTERN & 4710 EASTERN Ave\n",
       "Baltimore, MD \\\\\n",
       "\\end{tabular}\n"
      ],
      "text/markdown": [
       "\n",
       "A data.frame: 3 × 6\n",
       "\n",
       "| <!--/--> | name &lt;fct&gt; | zipCode &lt;int&gt; | neighborhood &lt;fct&gt; | councilDistrict &lt;int&gt; | policeDistrict &lt;fct&gt; | Location.1 &lt;fct&gt; |\n",
       "|---|---|---|---|---|---|---|\n",
       "| 1325 | ZINK'S CAF | 21213 | Belair-Edison | 13 | NORTHEASTERN | 3300 LAWNVIEW AVE\n",
       "Baltimore, MD |\n",
       "| 1326 | ZISSIMOS BAR     | 21211 | Hampden       |  7 | NORTHERN     | 1023 36TH ST\n",
       "Baltimore, MD      |\n",
       "| 1327 | ZORBAS           | 21224 | Greektown     |  2 | SOUTHEASTERN | 4710 EASTERN Ave\n",
       "Baltimore, MD  |\n",
       "\n"
      ],
      "text/plain": [
       "     name             zipCode neighborhood  councilDistrict policeDistrict\n",
       "1325 ZINK'S CAF\\u0090 21213   Belair-Edison 13              NORTHEASTERN  \n",
       "1326 ZISSIMOS BAR     21211   Hampden        7              NORTHERN      \n",
       "1327 ZORBAS           21224   Greektown      2              SOUTHEASTERN  \n",
       "     Location.1                      \n",
       "1325 3300 LAWNVIEW AVE\\nBaltimore, MD\n",
       "1326 1023 36TH ST\\nBaltimore, MD     \n",
       "1327 4710 EASTERN Ave\\nBaltimore, MD "
      ]
     },
     "metadata": {},
     "output_type": "display_data"
    }
   ],
   "source": [
    "tail(rest_data, n=3)"
   ]
  },
  {
   "cell_type": "markdown",
   "metadata": {},
   "source": [
    "**Make summary**"
   ]
  },
  {
   "cell_type": "code",
   "execution_count": 32,
   "metadata": {},
   "outputs": [
    {
     "data": {
      "text/plain": [
       "                           name         zipCode             neighborhood\n",
       " MCDONALD'S                  :   8   Min.   :-21226   Downtown    :128  \n",
       " POPEYES FAMOUS FRIED CHICKEN:   7   1st Qu.: 21202   Fells Point : 91  \n",
       " SUBWAY                      :   6   Median : 21218   Inner Harbor: 89  \n",
       " KENTUCKY FRIED CHICKEN      :   5   Mean   : 21185   Canton      : 81  \n",
       " BURGER KING                 :   4   3rd Qu.: 21226   Federal Hill: 42  \n",
       " DUNKIN DONUTS               :   4   Max.   : 21287   Mount Vernon: 33  \n",
       " (Other)                     :1293                    (Other)     :863  \n",
       " councilDistrict       policeDistrict                         Location.1   \n",
       " Min.   : 1.000   SOUTHEASTERN:385    1101 RUSSELL ST\\nBaltimore, MD:   9  \n",
       " 1st Qu.: 2.000   CENTRAL     :288    201 PRATT ST\\nBaltimore, MD   :   8  \n",
       " Median : 9.000   SOUTHERN    :213    2400 BOSTON ST\\nBaltimore, MD :   8  \n",
       " Mean   : 7.191   NORTHERN    :157    300 LIGHT ST\\nBaltimore, MD   :   5  \n",
       " 3rd Qu.:11.000   NORTHEASTERN: 72    300 CHARLES ST\\nBaltimore, MD :   4  \n",
       " Max.   :14.000   EASTERN     : 67    301 LIGHT ST\\nBaltimore, MD   :   4  \n",
       "                  (Other)     :145    (Other)                       :1289  "
      ]
     },
     "metadata": {},
     "output_type": "display_data"
    }
   ],
   "source": [
    "summary(rest_data)"
   ]
  },
  {
   "cell_type": "code",
   "execution_count": 33,
   "metadata": {},
   "outputs": [
    {
     "name": "stdout",
     "output_type": "stream",
     "text": [
      "'data.frame':\t1327 obs. of  6 variables:\n",
      " $ name           : Factor w/ 1277 levels \"#1 CHINESE KITCHEN\",..: 9 3 992 1 2 4 5 6 7 8 ...\n",
      " $ zipCode        : int  21206 21231 21224 21211 21223 21218 21205 21211 21205 21231 ...\n",
      " $ neighborhood   : Factor w/ 173 levels \"Abell\",\"Arlington\",..: 53 52 18 66 104 33 98 133 98 157 ...\n",
      " $ councilDistrict: int  2 1 1 14 9 14 13 7 13 1 ...\n",
      " $ policeDistrict : Factor w/ 9 levels \"CENTRAL\",\"EASTERN\",..: 3 6 6 4 8 3 6 4 6 6 ...\n",
      " $ Location.1     : Factor w/ 1210 levels \"1 BIDDLE ST\\nBaltimore, MD\",..: 835 334 554 755 492 537 505 530 507 569 ...\n"
     ]
    }
   ],
   "source": [
    "# more in depth of the data\n",
    "str(rest_data)"
   ]
  },
  {
   "cell_type": "markdown",
   "metadata": {},
   "source": [
    "**Quantile**"
   ]
  },
  {
   "cell_type": "code",
   "execution_count": 38,
   "metadata": {},
   "outputs": [
    {
     "data": {
      "text/html": [
       "<dl class=dl-horizontal>\n",
       "\t<dt>0%</dt>\n",
       "\t\t<dd>1</dd>\n",
       "\t<dt>25%</dt>\n",
       "\t\t<dd>2</dd>\n",
       "\t<dt>50%</dt>\n",
       "\t\t<dd>9</dd>\n",
       "\t<dt>75%</dt>\n",
       "\t\t<dd>11</dd>\n",
       "\t<dt>100%</dt>\n",
       "\t\t<dd>14</dd>\n",
       "</dl>\n"
      ],
      "text/latex": [
       "\\begin{description*}\n",
       "\\item[0\\textbackslash{}\\%] 1\n",
       "\\item[25\\textbackslash{}\\%] 2\n",
       "\\item[50\\textbackslash{}\\%] 9\n",
       "\\item[75\\textbackslash{}\\%] 11\n",
       "\\item[100\\textbackslash{}\\%] 14\n",
       "\\end{description*}\n"
      ],
      "text/markdown": [
       "0%\n",
       ":   125%\n",
       ":   250%\n",
       ":   975%\n",
       ":   11100%\n",
       ":   14\n",
       "\n"
      ],
      "text/plain": [
       "  0%  25%  50%  75% 100% \n",
       "   1    2    9   11   14 "
      ]
     },
     "metadata": {},
     "output_type": "display_data"
    }
   ],
   "source": [
    "quantile(rest_data$councilDistrict)"
   ]
  },
  {
   "cell_type": "code",
   "execution_count": 39,
   "metadata": {},
   "outputs": [
    {
     "data": {
      "text/html": [
       "<dl class=dl-horizontal>\n",
       "\t<dt>50%</dt>\n",
       "\t\t<dd>9</dd>\n",
       "\t<dt>75%</dt>\n",
       "\t\t<dd>11</dd>\n",
       "\t<dt>90%</dt>\n",
       "\t\t<dd>12</dd>\n",
       "</dl>\n"
      ],
      "text/latex": [
       "\\begin{description*}\n",
       "\\item[50\\textbackslash{}\\%] 9\n",
       "\\item[75\\textbackslash{}\\%] 11\n",
       "\\item[90\\textbackslash{}\\%] 12\n",
       "\\end{description*}\n"
      ],
      "text/markdown": [
       "50%\n",
       ":   975%\n",
       ":   1190%\n",
       ":   12\n",
       "\n"
      ],
      "text/plain": [
       "50% 75% 90% \n",
       "  9  11  12 "
      ]
     },
     "metadata": {},
     "output_type": "display_data"
    }
   ],
   "source": [
    "quantile(rest_data$councilDistrict, probs = c(0.5, 0.75, 0.9))"
   ]
  },
  {
   "cell_type": "markdown",
   "metadata": {},
   "source": [
    "**Make table**"
   ]
  },
  {
   "cell_type": "code",
   "execution_count": 40,
   "metadata": {},
   "outputs": [
    {
     "data": {
      "text/plain": [
       "\n",
       "-21226  21201  21202  21205  21206  21207  21208  21209  21210  21211  21212 \n",
       "     1    136    201     27     30      4      1      8     23     41     28 \n",
       " 21213  21214  21215  21216  21217  21218  21220  21222  21223  21224  21225 \n",
       "    31     17     54     10     32     69      1      7     56    199     19 \n",
       " 21226  21227  21229  21230  21231  21234  21237  21239  21251  21287 \n",
       "    18      4     13    156    127      7      1      3      2      1 "
      ]
     },
     "metadata": {},
     "output_type": "display_data"
    }
   ],
   "source": [
    "table(rest_data$zipCode, useNA = 'ifany')"
   ]
  },
  {
   "cell_type": "code",
   "execution_count": 41,
   "metadata": {},
   "outputs": [
    {
     "data": {
      "text/plain": [
       "    \n",
       "     -21226 21201 21202 21205 21206 21207 21208 21209 21210 21211 21212 21213\n",
       "  1       0     0    37     0     0     0     0     0     0     0     0     2\n",
       "  2       0     0     0     3    27     0     0     0     0     0     0     0\n",
       "  3       0     0     0     0     0     0     0     0     0     0     0     2\n",
       "  4       0     0     0     0     0     0     0     0     0     0    27     0\n",
       "  5       0     0     0     0     0     3     0     6     0     0     0     0\n",
       "  6       0     0     0     0     0     0     0     1    19     0     0     0\n",
       "  7       0     0     0     0     0     0     0     1     0    27     0     0\n",
       "  8       0     0     0     0     0     1     0     0     0     0     0     0\n",
       "  9       0     1     0     0     0     0     0     0     0     0     0     0\n",
       "  10      1     0     1     0     0     0     0     0     0     0     0     0\n",
       "  11      0   115   139     0     0     0     1     0     0     0     1     0\n",
       "  12      0    20    24     4     0     0     0     0     0     0     0    13\n",
       "  13      0     0     0    20     3     0     0     0     0     0     0    13\n",
       "  14      0     0     0     0     0     0     0     0     4    14     0     1\n",
       "    \n",
       "     21214 21215 21216 21217 21218 21220 21222 21223 21224 21225 21226 21227\n",
       "  1      0     0     0     0     0     0     7     0   140     1     0     0\n",
       "  2      0     0     0     0     0     0     0     0    54     0     0     0\n",
       "  3     17     0     0     0     3     0     0     0     0     0     0     1\n",
       "  4      0     0     0     0     0     0     0     0     0     0     0     0\n",
       "  5      0    31     0     0     0     0     0     0     0     0     0     0\n",
       "  6      0    15     1     0     0     0     0     0     0     0     0     0\n",
       "  7      0     6     7    15     6     0     0     0     0     0     0     0\n",
       "  8      0     0     0     0     0     0     0     2     0     0     0     2\n",
       "  9      0     0     2     8     0     0     0    53     0     0     0     0\n",
       "  10     0     0     0     0     0     1     0     0     0    18    18     0\n",
       "  11     0     0     0     9     0     0     0     1     0     0     0     0\n",
       "  12     0     0     0     0    26     0     0     0     0     0     0     0\n",
       "  13     0     1     0     0     0     0     0     0     5     0     0     1\n",
       "  14     0     1     0     0    34     0     0     0     0     0     0     0\n",
       "    \n",
       "     21229 21230 21231 21234 21237 21239 21251 21287\n",
       "  1      0     1   124     0     0     0     0     0\n",
       "  2      0     0     0     0     1     0     0     0\n",
       "  3      0     0     0     7     0     0     2     0\n",
       "  4      0     0     0     0     0     3     0     0\n",
       "  5      0     0     0     0     0     0     0     0\n",
       "  6      0     0     0     0     0     0     0     0\n",
       "  7      0     0     0     0     0     0     0     0\n",
       "  8     13     0     0     0     0     0     0     0\n",
       "  9      0    11     0     0     0     0     0     0\n",
       "  10     0   133     0     0     0     0     0     0\n",
       "  11     0    11     0     0     0     0     0     0\n",
       "  12     0     0     2     0     0     0     0     0\n",
       "  13     0     0     1     0     0     0     0     1\n",
       "  14     0     0     0     0     0     0     0     0"
      ]
     },
     "metadata": {},
     "output_type": "display_data"
    }
   ],
   "source": [
    "table(rest_data$councilDistrict, rest_data$zipCode, useNA = 'ifany')"
   ]
  },
  {
   "cell_type": "markdown",
   "metadata": {},
   "source": [
    "**Check for missing values**"
   ]
  },
  {
   "cell_type": "code",
   "execution_count": 43,
   "metadata": {},
   "outputs": [
    {
     "data": {
      "text/html": [
       "<table>\n",
       "<caption>A data.frame: 1 × 2</caption>\n",
       "<thead>\n",
       "\t<tr><th scope=col>x</th><th scope=col>freq</th></tr>\n",
       "\t<tr><th scope=col>&lt;lgl&gt;</th><th scope=col>&lt;int&gt;</th></tr>\n",
       "</thead>\n",
       "<tbody>\n",
       "\t<tr><td>FALSE</td><td>1327</td></tr>\n",
       "</tbody>\n",
       "</table>\n"
      ],
      "text/latex": [
       "A data.frame: 1 × 2\n",
       "\\begin{tabular}{r|ll}\n",
       " x & freq\\\\\n",
       " <lgl> & <int>\\\\\n",
       "\\hline\n",
       "\t FALSE & 1327\\\\\n",
       "\\end{tabular}\n"
      ],
      "text/markdown": [
       "\n",
       "A data.frame: 1 × 2\n",
       "\n",
       "| x &lt;lgl&gt; | freq &lt;int&gt; |\n",
       "|---|---|\n",
       "| FALSE | 1327 |\n",
       "\n"
      ],
      "text/plain": [
       "  x     freq\n",
       "1 FALSE 1327"
      ]
     },
     "metadata": {},
     "output_type": "display_data"
    }
   ],
   "source": [
    "count(is.na(rest_data$councilDistrict))"
   ]
  },
  {
   "cell_type": "code",
   "execution_count": 44,
   "metadata": {},
   "outputs": [
    {
     "data": {
      "text/html": [
       "FALSE"
      ],
      "text/latex": [
       "FALSE"
      ],
      "text/markdown": [
       "FALSE"
      ],
      "text/plain": [
       "[1] FALSE"
      ]
     },
     "metadata": {},
     "output_type": "display_data"
    }
   ],
   "source": [
    "any(is.na(rest_data$councilDistrict))"
   ]
  },
  {
   "cell_type": "code",
   "execution_count": 45,
   "metadata": {},
   "outputs": [
    {
     "data": {
      "text/html": [
       "FALSE"
      ],
      "text/latex": [
       "FALSE"
      ],
      "text/markdown": [
       "FALSE"
      ],
      "text/plain": [
       "[1] FALSE"
      ]
     },
     "metadata": {},
     "output_type": "display_data"
    }
   ],
   "source": [
    "all(rest_data$zipCode > 0)"
   ]
  },
  {
   "cell_type": "markdown",
   "metadata": {},
   "source": [
    "**Row and column sum**"
   ]
  },
  {
   "cell_type": "code",
   "execution_count": 46,
   "metadata": {},
   "outputs": [
    {
     "data": {
      "text/html": [
       "<dl class=dl-horizontal>\n",
       "\t<dt>name</dt>\n",
       "\t\t<dd>0</dd>\n",
       "\t<dt>zipCode</dt>\n",
       "\t\t<dd>0</dd>\n",
       "\t<dt>neighborhood</dt>\n",
       "\t\t<dd>0</dd>\n",
       "\t<dt>councilDistrict</dt>\n",
       "\t\t<dd>0</dd>\n",
       "\t<dt>policeDistrict</dt>\n",
       "\t\t<dd>0</dd>\n",
       "\t<dt>Location.1</dt>\n",
       "\t\t<dd>0</dd>\n",
       "\t<dt>councilDistrict.na.rm</dt>\n",
       "\t\t<dd>0</dd>\n",
       "</dl>\n"
      ],
      "text/latex": [
       "\\begin{description*}\n",
       "\\item[name] 0\n",
       "\\item[zipCode] 0\n",
       "\\item[neighborhood] 0\n",
       "\\item[councilDistrict] 0\n",
       "\\item[policeDistrict] 0\n",
       "\\item[Location.1] 0\n",
       "\\item[councilDistrict.na.rm] 0\n",
       "\\end{description*}\n"
      ],
      "text/markdown": [
       "name\n",
       ":   0zipCode\n",
       ":   0neighborhood\n",
       ":   0councilDistrict\n",
       ":   0policeDistrict\n",
       ":   0Location.1\n",
       ":   0councilDistrict.na.rm\n",
       ":   0\n",
       "\n"
      ],
      "text/plain": [
       "                 name               zipCode          neighborhood \n",
       "                    0                     0                     0 \n",
       "      councilDistrict        policeDistrict            Location.1 \n",
       "                    0                     0                     0 \n",
       "councilDistrict.na.rm \n",
       "                    0 "
      ]
     },
     "metadata": {},
     "output_type": "display_data"
    }
   ],
   "source": [
    "colSums(is.na(rest_data))"
   ]
  },
  {
   "cell_type": "code",
   "execution_count": 47,
   "metadata": {},
   "outputs": [
    {
     "data": {
      "text/html": [
       "TRUE"
      ],
      "text/latex": [
       "TRUE"
      ],
      "text/markdown": [
       "TRUE"
      ],
      "text/plain": [
       "[1] TRUE"
      ]
     },
     "metadata": {},
     "output_type": "display_data"
    }
   ],
   "source": [
    "all(colSums(is.na(rest_data)) == 0)"
   ]
  },
  {
   "cell_type": "markdown",
   "metadata": {},
   "source": [
    "**Values with specific values**"
   ]
  },
  {
   "cell_type": "code",
   "execution_count": 48,
   "metadata": {},
   "outputs": [
    {
     "data": {
      "text/plain": [
       "\n",
       "FALSE  TRUE \n",
       " 1297    30 "
      ]
     },
     "metadata": {},
     "output_type": "display_data"
    }
   ],
   "source": [
    "table(rest_data$zipCode %in% c('21206'))"
   ]
  },
  {
   "cell_type": "code",
   "execution_count": 49,
   "metadata": {},
   "outputs": [
    {
     "data": {
      "text/plain": [
       "\n",
       "FALSE  TRUE \n",
       " 1243    84 "
      ]
     },
     "metadata": {},
     "output_type": "display_data"
    }
   ],
   "source": [
    "table(rest_data$zipCode %in% c('21206', '21215'))"
   ]
  },
  {
   "cell_type": "code",
   "execution_count": 50,
   "metadata": {},
   "outputs": [
    {
     "data": {
      "text/html": [
       "<table>\n",
       "<caption>A data.frame: 84 × 7</caption>\n",
       "<thead>\n",
       "\t<tr><th></th><th scope=col>name</th><th scope=col>zipCode</th><th scope=col>neighborhood</th><th scope=col>councilDistrict</th><th scope=col>policeDistrict</th><th scope=col>Location.1</th><th scope=col>councilDistrict.na.rm</th></tr>\n",
       "\t<tr><th></th><th scope=col>&lt;fct&gt;</th><th scope=col>&lt;int&gt;</th><th scope=col>&lt;fct&gt;</th><th scope=col>&lt;int&gt;</th><th scope=col>&lt;fct&gt;</th><th scope=col>&lt;fct&gt;</th><th scope=col>&lt;lgl&gt;</th></tr>\n",
       "</thead>\n",
       "<tbody>\n",
       "\t<tr><th scope=row>1</th><td>410                                </td><td>21206</td><td>Frankford             </td><td> 2</td><td>NORTHEASTERN</td><td>4509 BELAIR ROAD\n",
       "Baltimore, MD        </td><td>TRUE</td></tr>\n",
       "\t<tr><th scope=row>12</th><td>5-MILE HOUSE                       </td><td>21215</td><td>Woodmere              </td><td> 5</td><td>NORTHWESTERN</td><td>5302 REISTERSTOWN RD\n",
       "Baltimore, MD    </td><td>TRUE</td></tr>\n",
       "\t<tr><th scope=row>27</th><td>ALFEO'S                            </td><td>21215</td><td>Mondawmin             </td><td> 7</td><td>WESTERN     </td><td>2401 LIBERTY HEIGHTS AVE\n",
       "Baltimore, MD</td><td>TRUE</td></tr>\n",
       "\t<tr><th scope=row>35</th><td>BELAIR PUB                         </td><td>21206</td><td>Glenham-Belford       </td><td> 2</td><td>NORTHEASTERN</td><td>5860 BELAIR RD\n",
       "Baltimore, MD          </td><td>TRUE</td></tr>\n",
       "\t<tr><th scope=row>38</th><td>BERGER'S TAVERN, INCORPORATED      </td><td>21206</td><td>Waltherson            </td><td> 2</td><td>NORTHEASTERN</td><td>5523 BELAIR RD\n",
       "Baltimore, MD          </td><td>TRUE</td></tr>\n",
       "\t<tr><th scope=row>53</th><td>BLACKTIE SERVICE, LLP              </td><td>21215</td><td>Seton Business Park   </td><td> 5</td><td>NORTHWESTERN</td><td>4700 MT HOPE DR\n",
       "Baltimore, MD         </td><td>TRUE</td></tr>\n",
       "\t<tr><th scope=row>58</th><td>ALLEN RESTAURANT                   </td><td>21206</td><td>Waltherson            </td><td> 2</td><td>NORTHEASTERN</td><td>5621 BELAIR RD\n",
       "Baltimore, MD          </td><td>TRUE</td></tr>\n",
       "\t<tr><th scope=row>74</th><td>APPLEBEE'S NEIGHBORHOOD GRILL &amp; BAR</td><td>21215</td><td><span style=white-space:pre-wrap>Fallstaff             </span></td><td> 5</td><td>NORTHWESTERN</td><td><span style=white-space:pre-wrap>6798 REISTERSTOWN RD\n",
       "Baltimore, MD    </span></td><td>TRUE</td></tr>\n",
       "\t<tr><th scope=row>131</th><td>BLUE PARROT                        </td><td>21206</td><td>Glenham-Belford       </td><td> 2</td><td>NORTHEASTERN</td><td>5860 BELAIR RD\n",
       "Baltimore, MD          </td><td>TRUE</td></tr>\n",
       "\t<tr><th scope=row>152</th><td>BROOKEY'S                          </td><td>21206</td><td>Belair-Edison         </td><td>13</td><td>NORTHEASTERN</td><td>4201 BELAIR RD\n",
       "Baltimore, MD          </td><td>TRUE</td></tr>\n",
       "\t<tr><th scope=row>169</th><td>BURGER KING #10295                 </td><td>21215</td><td>Central Park Heights  </td><td> 6</td><td>NORTHWESTERN</td><td>4400 REISTERSTOWN RD\n",
       "Baltimore, MD    </td><td>TRUE</td></tr>\n",
       "\t<tr><th scope=row>171</th><td>BURGER KING #2610                  </td><td>21215</td><td>Mondawmin             </td><td> 7</td><td>WESTERN     </td><td>2401 LIBERTY HEIGHTS AVE\n",
       "Baltimore, MD</td><td>TRUE</td></tr>\n",
       "\t<tr><th scope=row>190</th><td>CAMERON'S SEAFOOD                  </td><td>21215</td><td>Central Park Heights  </td><td> 6</td><td>NORTHWESTERN</td><td>2707 COLD SPRING LN\n",
       "Baltimore, MD     </td><td>TRUE</td></tr>\n",
       "\t<tr><th scope=row>214</th><td>CC LOUNGE                          </td><td>21215</td><td>Lucille Park          </td><td> 6</td><td>NORTHWESTERN</td><td>4923 REISTERSTOWN RD\n",
       "Baltimore, MD    </td><td>TRUE</td></tr>\n",
       "\t<tr><th scope=row>216</th><td>CEDONIA INN                        </td><td>21206</td><td>Frankford             </td><td> 2</td><td>NORTHEASTERN</td><td>5900 MORAVIA RD\n",
       "Baltimore, MD         </td><td>TRUE</td></tr>\n",
       "\t<tr><th scope=row>239</th><td>CHIMES CAF                   </td><td>21215</td><td>Seton Business Park   </td><td> 5</td><td>NORTHWESTERN</td><td>4814 SETON DR\n",
       "Baltimore, MD           </td><td>TRUE</td></tr>\n",
       "\t<tr><th scope=row>290</th><td>COACH HOUSE INN                    </td><td>21206</td><td>Cedmont               </td><td> 2</td><td>NORTHEASTERN</td><td>6605 BELAIR RD\n",
       "Baltimore, MD          </td><td>TRUE</td></tr>\n",
       "\t<tr><th scope=row>326</th><td>DANNY'S LOUNGE                     </td><td>21215</td><td>Towanda-Grantley      </td><td> 6</td><td>NORTHWESTERN</td><td>4316 REISTERSTOWN RD\n",
       "Baltimore, MD    </td><td>TRUE</td></tr>\n",
       "\t<tr><th scope=row>329</th><td><span style=white-space:pre-wrap>DASH SEAFOOD &amp; CHICKEN             </span></td><td>21215</td><td><span style=white-space:pre-wrap>Central Park Heights  </span></td><td> 6</td><td>NORTHWESTERN</td><td><span style=white-space:pre-wrap>5124 PARK HEIGHTS AVE\n",
       "Baltimore, MD   </span></td><td>TRUE</td></tr>\n",
       "\t<tr><th scope=row>365</th><td>DUCK'S BLACK SATIN LOUNGE          </td><td>21215</td><td>Central Park Heights  </td><td> 6</td><td>NORTHWESTERN</td><td>4559 REISTERSTOWN RD\n",
       "Baltimore, MD    </td><td>TRUE</td></tr>\n",
       "\t<tr><th scope=row>374</th><td>DUNKIN DONUTS                      </td><td>21215</td><td>Fallstaff             </td><td> 5</td><td>NORTHWESTERN</td><td>7000 REISTERSTOWN RD\n",
       "Baltimore, MD    </td><td>TRUE</td></tr>\n",
       "\t<tr><th scope=row>407</th><td><span style=white-space:pre-wrap>europe restaurant &amp; catering       </span></td><td>21215</td><td><span style=white-space:pre-wrap>Reisterstown Station  </span></td><td> 5</td><td>NORTHWESTERN</td><td><span style=white-space:pre-wrap>4147 labyrinth rd\n",
       "Baltimore, MD       </span></td><td>TRUE</td></tr>\n",
       "\t<tr><th scope=row>439</th><td>FRANK'S PIZZA                      </td><td>21206</td><td>Rosemont East         </td><td> 2</td><td>NORTHEASTERN</td><td>6620 BELAIR RD\n",
       "Baltimore, MD          </td><td>TRUE</td></tr>\n",
       "\t<tr><th scope=row>461</th><td>GEORGIO'S                          </td><td>21215</td><td>Reisterstown Station  </td><td> 5</td><td>NORTHWESTERN</td><td>6322 REISTERSTOWN RD\n",
       "Baltimore, MD    </td><td>TRUE</td></tr>\n",
       "\t<tr><th scope=row>476</th><td>GRANDVIEW RESTAURANT               </td><td>21215</td><td>Hampden               </td><td>14</td><td>NORTHERN    </td><td>3838 ROLAND AVE\n",
       "Baltimore, MD         </td><td>TRUE</td></tr>\n",
       "\t<tr><th scope=row>507</th><td>JOCKEY CLUB/PALACE KITCHEN         </td><td>21215</td><td>Pimlico Good Neighbors</td><td> 5</td><td>NORTHWESTERN</td><td>Hayward Ave\n",
       "Baltimore, MD             </td><td>TRUE</td></tr>\n",
       "\t<tr><th scope=row>511</th><td><span style=white-space:pre-wrap>JOE'S TAVERN &amp; PACKAGE GOODS       </span></td><td>21215</td><td><span style=white-space:pre-wrap>Glen                  </span></td><td> 5</td><td>NORTHWESTERN</td><td><span style=white-space:pre-wrap>6200 REISTERSTOWN RD\n",
       "Baltimore, MD    </span></td><td>TRUE</td></tr>\n",
       "\t<tr><th scope=row>541</th><td>RAINBOW HOMESTYLE BUFFET           </td><td>21206</td><td>Frankford             </td><td> 2</td><td>NORTHEASTERN</td><td>5016 SINCLAIR LN\n",
       "Baltimore, MD        </td><td>TRUE</td></tr>\n",
       "\t<tr><th scope=row>558</th><td>RED ROOSTER                        </td><td>21206</td><td>Frankford             </td><td> 2</td><td>NORTHEASTERN</td><td>6412 FRANKFORD AVE\n",
       "Baltimore, MD      </td><td>TRUE</td></tr>\n",
       "\t<tr><th scope=row>566</th><td>HAMILTON HOMING PIGEON CLUB, INC.  </td><td>21206</td><td>Frankford             </td><td> 2</td><td>NORTHEASTERN</td><td>4810 GUNTHER AVE\n",
       "Baltimore, MD        </td><td>TRUE</td></tr>\n",
       "\t<tr><th scope=row>⋮</th><td>⋮</td><td>⋮</td><td>⋮</td><td>⋮</td><td>⋮</td><td>⋮</td><td>⋮</td></tr>\n",
       "\t<tr><th scope=row>887</th><td>NORTH'S CAF                              </td><td>21215</td><td>Arlington             </td><td> 5</td><td>NORTHWESTERN</td><td>3716 BELVEDERE AVE\n",
       "Baltimore, MD      </td><td>TRUE</td></tr>\n",
       "\t<tr><th scope=row>894</th><td>O'HARA'S IRISH PUB                             </td><td>21206</td><td>Rosemont East         </td><td> 2</td><td>NORTHEASTERN</td><td>6506 BELAIR RD\n",
       "Baltimore, MD          </td><td>TRUE</td></tr>\n",
       "\t<tr><th scope=row>909</th><td>OVERLEA   DINER                                </td><td>21206</td><td>Rosemont East         </td><td> 2</td><td>NORTHEASTERN</td><td>6652 BELAIR RD\n",
       "Baltimore, MD          </td><td>TRUE</td></tr>\n",
       "\t<tr><th scope=row>911</th><td>P &amp; S JAMAICAN &amp; AMERICAN RESTAURNAT &amp; CARRYOUT</td><td>21215</td><td>Pimlico Good Neighbors</td><td> 5</td><td>NORTHWESTERN</td><td><span style=white-space:pre-wrap>5218 PARK HEIGHTS AVE\n",
       "Baltimore, MD   </span></td><td>TRUE</td></tr>\n",
       "\t<tr><th scope=row>917</th><td>PANDA EXPRESS # 1152                           </td><td>21215</td><td>Reisterstown Station  </td><td> 5</td><td>NORTHWESTERN</td><td>6514 REISTERSTOWN RD\n",
       "Baltimore, MD    </td><td>TRUE</td></tr>\n",
       "\t<tr><th scope=row>924</th><td>PARADISE OF PARK HEIGHTS                       </td><td>21215</td><td>Central Park Heights  </td><td> 6</td><td>NORTHWESTERN</td><td>4448 PARK HEIGHTS AVE\n",
       "Baltimore, MD   </td><td>TRUE</td></tr>\n",
       "\t<tr><th scope=row>948</th><td>PEPPER'S LIQUOR'S                              </td><td>21215</td><td>Woodmere              </td><td> 5</td><td>NORTHWESTERN</td><td>5440 REISTERSTOWN RD\n",
       "Baltimore, MD    </td><td>TRUE</td></tr>\n",
       "\t<tr><th scope=row>963</th><td>PIMLICO TRACK KITCHEN  (PIMLICO RACE COURSE)   </td><td>21215</td><td>Pimlico Good Neighbors</td><td> 5</td><td>NORTHWESTERN</td><td>Haward Ave\n",
       "Baltimore, MD              </td><td>TRUE</td></tr>\n",
       "\t<tr><th scope=row>975</th><td>POPEYES FAMOUS FRIED CHICKEN                   </td><td>21206</td><td>Frankford             </td><td> 2</td><td>NORTHEASTERN</td><td>5002 SINCLAIR LN\n",
       "Baltimore, MD        </td><td>TRUE</td></tr>\n",
       "\t<tr><th scope=row>977</th><td>POPEYES FAMOUS FRIED CHICKEN                   </td><td>21206</td><td>Rosemont East         </td><td> 2</td><td>NORTHEASTERN</td><td>6642 BELAIR RD\n",
       "Baltimore, MD          </td><td>TRUE</td></tr>\n",
       "\t<tr><th scope=row>979</th><td><span style=white-space:pre-wrap>POPEYE'S FAMOUS FRIED CHICKEN &amp; BISCUITS       </span></td><td>21215</td><td><span style=white-space:pre-wrap>Reisterstown Station  </span></td><td> 5</td><td>NORTHWESTERN</td><td><span style=white-space:pre-wrap>6512 reisterstown RD\n",
       "Baltimore, MD    </span></td><td>TRUE</td></tr>\n",
       "\t<tr><th scope=row>980</th><td>POPEYES OF MONDAWMIN                           </td><td>21215</td><td>Mondawmin             </td><td> 7</td><td>WESTERN     </td><td>2401 LIBERTY HEIGHTS AVE\n",
       "Baltimore, MD</td><td>TRUE</td></tr>\n",
       "\t<tr><th scope=row>984</th><td>REISTERSTOWN ROAD SUBWAY                       </td><td>21215</td><td>Woodmere              </td><td> 5</td><td>NORTHWESTERN</td><td>5520 REISTERSTOWN ROAD\n",
       "Baltimore, MD  </td><td>TRUE</td></tr>\n",
       "\t<tr><th scope=row>993</th><td>RITA'S ITALIAN ICE                             </td><td>21215</td><td>Fallstaff             </td><td> 5</td><td>NORTHWESTERN</td><td>6796 REISTERSTOWN RD\n",
       "Baltimore, MD    </td><td>TRUE</td></tr>\n",
       "\t<tr><th scope=row>1046</th><td>SHELDON'S LOUNGE                               </td><td>21206</td><td>Belair-Edison         </td><td>13</td><td>NORTHEASTERN</td><td>4325 BELAIR RD\n",
       "Baltimore, MD          </td><td>TRUE</td></tr>\n",
       "\t<tr><th scope=row>1067</th><td>SISTA'  SANDRA'S INTERNATIONAL CUSINE          </td><td>21215</td><td>Reisterstown Station  </td><td> 5</td><td>NORTHWESTERN</td><td>6212 REISTERSTOWN RD\n",
       "Baltimore, MD    </td><td>TRUE</td></tr>\n",
       "\t<tr><th scope=row>1073</th><td>SLIM ACE OF CLUB                               </td><td>21206</td><td>Belair-Edison         </td><td>13</td><td>NORTHEASTERN</td><td>4200 BELAIR RD\n",
       "Baltimore, MD          </td><td>TRUE</td></tr>\n",
       "\t<tr><th scope=row>1101</th><td>SPORTS PALACE                                  </td><td>21215</td><td>Pimlico Good Neighbors</td><td> 5</td><td>NORTHWESTERN</td><td>Hayward Ave\n",
       "Baltimore, MD             </td><td>TRUE</td></tr>\n",
       "\t<tr><th scope=row>1191</th><td>THE GARDENVILLE CLUB                           </td><td>21206</td><td>Frankford             </td><td> 2</td><td>NORTHEASTERN</td><td>5405 RADECKE AVE\n",
       "Baltimore, MD        </td><td>TRUE</td></tr>\n",
       "\t<tr><th scope=row>1200</th><td>THE HUBCAP INN                                 </td><td>21206</td><td>Cedmont               </td><td> 2</td><td>NORTHEASTERN</td><td>6003 BELAIR RD\n",
       "Baltimore, MD          </td><td>TRUE</td></tr>\n",
       "\t<tr><th scope=row>1218</th><td>THE PREAKNESS LOUNGE                           </td><td>21215</td><td>Greenspring           </td><td> 6</td><td>NORTHERN    </td><td>4103 PIMLICO RD\n",
       "Baltimore, MD         </td><td>TRUE</td></tr>\n",
       "\t<tr><th scope=row>1230</th><td>THIRSTY'S II                                   </td><td>21206</td><td>Cedmont               </td><td> 2</td><td>NORTHEASTERN</td><td>6037 BELAIR RD\n",
       "Baltimore, MD          </td><td>TRUE</td></tr>\n",
       "\t<tr><th scope=row>1254</th><td>TRINIDAD ASSOCIATES                            </td><td>21215</td><td>Arlington             </td><td> 5</td><td>NORTHWESTERN</td><td>5402 PARK HEIGHTS AVE\n",
       "Baltimore, MD   </td><td>TRUE</td></tr>\n",
       "\t<tr><th scope=row>1256</th><td>TROPICAL TASTE RESTAURANT                      </td><td>21215</td><td>Woodmere              </td><td> 6</td><td>NORTHWESTERN</td><td>5205 REISTERSTOWN RD\n",
       "Baltimore, MD    </td><td>TRUE</td></tr>\n",
       "\t<tr><th scope=row>1288</th><td>VULCAN BLAZERS, INC OF BALTIMORE CITY          </td><td>21215</td><td>Liberty Square        </td><td> 7</td><td>NORTHWESTERN</td><td>2811 DRUID PARK DR\n",
       "Baltimore, MD      </td><td>TRUE</td></tr>\n",
       "\t<tr><th scope=row>1294</th><td>WENDY'S                                        </td><td>21215</td><td>Reisterstown Station  </td><td> 5</td><td>NORTHWESTERN</td><td>4200 PATTERSON AVE\n",
       "Baltimore, MD      </td><td>TRUE</td></tr>\n",
       "\t<tr><th scope=row>1299</th><td>WENDY'S RESTAURANT                             </td><td>21215</td><td>Grove Park            </td><td> 5</td><td>NORTHWESTERN</td><td>4410 NORTHERN PKWY\n",
       "Baltimore, MD      </td><td>TRUE</td></tr>\n",
       "\t<tr><th scope=row>1305</th><td>WHITTEN'S II                                   </td><td>21206</td><td>Frankford             </td><td> 2</td><td>NORTHEASTERN</td><td>5307 BELAIR RD\n",
       "Baltimore, MD          </td><td>TRUE</td></tr>\n",
       "\t<tr><th scope=row>1313</th><td>WYLIE  LIQUORS (3101-03)                       </td><td>21215</td><td>Central Park Heights  </td><td> 6</td><td>NORTHWESTERN</td><td>3101 WYLIE AVE\n",
       "Baltimore, MD          </td><td>TRUE</td></tr>\n",
       "\t<tr><th scope=row>1317</th><td>YELLOW BOWL RESTAURANT II                      </td><td>21215</td><td>Central Park Heights  </td><td> 6</td><td>NORTHWESTERN</td><td>5131 PARK HEIGHTS AVE\n",
       "Baltimore, MD   </td><td>TRUE</td></tr>\n",
       "</tbody>\n",
       "</table>\n"
      ],
      "text/latex": [
       "A data.frame: 84 × 7\n",
       "\\begin{tabular}{r|lllllll}\n",
       "  & name & zipCode & neighborhood & councilDistrict & policeDistrict & Location.1 & councilDistrict.na.rm\\\\\n",
       "  & <fct> & <int> & <fct> & <int> & <fct> & <fct> & <lgl>\\\\\n",
       "\\hline\n",
       "\t1 & 410                                 & 21206 & Frankford              &  2 & NORTHEASTERN & 4509 BELAIR ROAD\n",
       "Baltimore, MD         & TRUE\\\\\n",
       "\t12 & 5-MILE HOUSE                        & 21215 & Woodmere               &  5 & NORTHWESTERN & 5302 REISTERSTOWN RD\n",
       "Baltimore, MD     & TRUE\\\\\n",
       "\t27 & ALFEO'S                             & 21215 & Mondawmin              &  7 & WESTERN      & 2401 LIBERTY HEIGHTS AVE\n",
       "Baltimore, MD & TRUE\\\\\n",
       "\t35 & BELAIR PUB                          & 21206 & Glenham-Belford        &  2 & NORTHEASTERN & 5860 BELAIR RD\n",
       "Baltimore, MD           & TRUE\\\\\n",
       "\t38 & BERGER'S TAVERN, INCORPORATED       & 21206 & Waltherson             &  2 & NORTHEASTERN & 5523 BELAIR RD\n",
       "Baltimore, MD           & TRUE\\\\\n",
       "\t53 & BLACKTIE SERVICE, LLP               & 21215 & Seton Business Park    &  5 & NORTHWESTERN & 4700 MT HOPE DR\n",
       "Baltimore, MD          & TRUE\\\\\n",
       "\t58 & ALLEN RESTAURANT                    & 21206 & Waltherson             &  2 & NORTHEASTERN & 5621 BELAIR RD\n",
       "Baltimore, MD           & TRUE\\\\\n",
       "\t74 & APPLEBEE'S NEIGHBORHOOD GRILL \\& BAR & 21215 & Fallstaff              &  5 & NORTHWESTERN & 6798 REISTERSTOWN RD\n",
       "Baltimore, MD     & TRUE\\\\\n",
       "\t131 & BLUE PARROT                         & 21206 & Glenham-Belford        &  2 & NORTHEASTERN & 5860 BELAIR RD\n",
       "Baltimore, MD           & TRUE\\\\\n",
       "\t152 & BROOKEY'S                           & 21206 & Belair-Edison          & 13 & NORTHEASTERN & 4201 BELAIR RD\n",
       "Baltimore, MD           & TRUE\\\\\n",
       "\t169 & BURGER KING \\#10295                  & 21215 & Central Park Heights   &  6 & NORTHWESTERN & 4400 REISTERSTOWN RD\n",
       "Baltimore, MD     & TRUE\\\\\n",
       "\t171 & BURGER KING \\#2610                   & 21215 & Mondawmin              &  7 & WESTERN      & 2401 LIBERTY HEIGHTS AVE\n",
       "Baltimore, MD & TRUE\\\\\n",
       "\t190 & CAMERON'S SEAFOOD                   & 21215 & Central Park Heights   &  6 & NORTHWESTERN & 2707 COLD SPRING LN\n",
       "Baltimore, MD      & TRUE\\\\\n",
       "\t214 & CC LOUNGE                           & 21215 & Lucille Park           &  6 & NORTHWESTERN & 4923 REISTERSTOWN RD\n",
       "Baltimore, MD     & TRUE\\\\\n",
       "\t216 & CEDONIA INN                         & 21206 & Frankford              &  2 & NORTHEASTERN & 5900 MORAVIA RD\n",
       "Baltimore, MD          & TRUE\\\\\n",
       "\t239 & CHIMES CAF                    & 21215 & Seton Business Park    &  5 & NORTHWESTERN & 4814 SETON DR\n",
       "Baltimore, MD            & TRUE\\\\\n",
       "\t290 & COACH HOUSE INN                     & 21206 & Cedmont                &  2 & NORTHEASTERN & 6605 BELAIR RD\n",
       "Baltimore, MD           & TRUE\\\\\n",
       "\t326 & DANNY'S LOUNGE                      & 21215 & Towanda-Grantley       &  6 & NORTHWESTERN & 4316 REISTERSTOWN RD\n",
       "Baltimore, MD     & TRUE\\\\\n",
       "\t329 & DASH SEAFOOD \\& CHICKEN              & 21215 & Central Park Heights   &  6 & NORTHWESTERN & 5124 PARK HEIGHTS AVE\n",
       "Baltimore, MD    & TRUE\\\\\n",
       "\t365 & DUCK'S BLACK SATIN LOUNGE           & 21215 & Central Park Heights   &  6 & NORTHWESTERN & 4559 REISTERSTOWN RD\n",
       "Baltimore, MD     & TRUE\\\\\n",
       "\t374 & DUNKIN DONUTS                       & 21215 & Fallstaff              &  5 & NORTHWESTERN & 7000 REISTERSTOWN RD\n",
       "Baltimore, MD     & TRUE\\\\\n",
       "\t407 & europe restaurant \\& catering        & 21215 & Reisterstown Station   &  5 & NORTHWESTERN & 4147 labyrinth rd\n",
       "Baltimore, MD        & TRUE\\\\\n",
       "\t439 & FRANK'S PIZZA                       & 21206 & Rosemont East          &  2 & NORTHEASTERN & 6620 BELAIR RD\n",
       "Baltimore, MD           & TRUE\\\\\n",
       "\t461 & GEORGIO'S                           & 21215 & Reisterstown Station   &  5 & NORTHWESTERN & 6322 REISTERSTOWN RD\n",
       "Baltimore, MD     & TRUE\\\\\n",
       "\t476 & GRANDVIEW RESTAURANT                & 21215 & Hampden                & 14 & NORTHERN     & 3838 ROLAND AVE\n",
       "Baltimore, MD          & TRUE\\\\\n",
       "\t507 & JOCKEY CLUB/PALACE KITCHEN          & 21215 & Pimlico Good Neighbors &  5 & NORTHWESTERN & Hayward Ave\n",
       "Baltimore, MD              & TRUE\\\\\n",
       "\t511 & JOE'S TAVERN \\& PACKAGE GOODS        & 21215 & Glen                   &  5 & NORTHWESTERN & 6200 REISTERSTOWN RD\n",
       "Baltimore, MD     & TRUE\\\\\n",
       "\t541 & RAINBOW HOMESTYLE BUFFET            & 21206 & Frankford              &  2 & NORTHEASTERN & 5016 SINCLAIR LN\n",
       "Baltimore, MD         & TRUE\\\\\n",
       "\t558 & RED ROOSTER                         & 21206 & Frankford              &  2 & NORTHEASTERN & 6412 FRANKFORD AVE\n",
       "Baltimore, MD       & TRUE\\\\\n",
       "\t566 & HAMILTON HOMING PIGEON CLUB, INC.   & 21206 & Frankford              &  2 & NORTHEASTERN & 4810 GUNTHER AVE\n",
       "Baltimore, MD         & TRUE\\\\\n",
       "\t⋮ & ⋮ & ⋮ & ⋮ & ⋮ & ⋮ & ⋮ & ⋮\\\\\n",
       "\t887 & NORTH'S CAF                               & 21215 & Arlington              &  5 & NORTHWESTERN & 3716 BELVEDERE AVE\n",
       "Baltimore, MD       & TRUE\\\\\n",
       "\t894 & O'HARA'S IRISH PUB                              & 21206 & Rosemont East          &  2 & NORTHEASTERN & 6506 BELAIR RD\n",
       "Baltimore, MD           & TRUE\\\\\n",
       "\t909 & OVERLEA   DINER                                 & 21206 & Rosemont East          &  2 & NORTHEASTERN & 6652 BELAIR RD\n",
       "Baltimore, MD           & TRUE\\\\\n",
       "\t911 & P \\& S JAMAICAN \\& AMERICAN RESTAURNAT \\& CARRYOUT & 21215 & Pimlico Good Neighbors &  5 & NORTHWESTERN & 5218 PARK HEIGHTS AVE\n",
       "Baltimore, MD    & TRUE\\\\\n",
       "\t917 & PANDA EXPRESS \\# 1152                            & 21215 & Reisterstown Station   &  5 & NORTHWESTERN & 6514 REISTERSTOWN RD\n",
       "Baltimore, MD     & TRUE\\\\\n",
       "\t924 & PARADISE OF PARK HEIGHTS                        & 21215 & Central Park Heights   &  6 & NORTHWESTERN & 4448 PARK HEIGHTS AVE\n",
       "Baltimore, MD    & TRUE\\\\\n",
       "\t948 & PEPPER'S LIQUOR'S                               & 21215 & Woodmere               &  5 & NORTHWESTERN & 5440 REISTERSTOWN RD\n",
       "Baltimore, MD     & TRUE\\\\\n",
       "\t963 & PIMLICO TRACK KITCHEN  (PIMLICO RACE COURSE)    & 21215 & Pimlico Good Neighbors &  5 & NORTHWESTERN & Haward Ave\n",
       "Baltimore, MD               & TRUE\\\\\n",
       "\t975 & POPEYES FAMOUS FRIED CHICKEN                    & 21206 & Frankford              &  2 & NORTHEASTERN & 5002 SINCLAIR LN\n",
       "Baltimore, MD         & TRUE\\\\\n",
       "\t977 & POPEYES FAMOUS FRIED CHICKEN                    & 21206 & Rosemont East          &  2 & NORTHEASTERN & 6642 BELAIR RD\n",
       "Baltimore, MD           & TRUE\\\\\n",
       "\t979 & POPEYE'S FAMOUS FRIED CHICKEN \\& BISCUITS        & 21215 & Reisterstown Station   &  5 & NORTHWESTERN & 6512 reisterstown RD\n",
       "Baltimore, MD     & TRUE\\\\\n",
       "\t980 & POPEYES OF MONDAWMIN                            & 21215 & Mondawmin              &  7 & WESTERN      & 2401 LIBERTY HEIGHTS AVE\n",
       "Baltimore, MD & TRUE\\\\\n",
       "\t984 & REISTERSTOWN ROAD SUBWAY                        & 21215 & Woodmere               &  5 & NORTHWESTERN & 5520 REISTERSTOWN ROAD\n",
       "Baltimore, MD   & TRUE\\\\\n",
       "\t993 & RITA'S ITALIAN ICE                              & 21215 & Fallstaff              &  5 & NORTHWESTERN & 6796 REISTERSTOWN RD\n",
       "Baltimore, MD     & TRUE\\\\\n",
       "\t1046 & SHELDON'S LOUNGE                                & 21206 & Belair-Edison          & 13 & NORTHEASTERN & 4325 BELAIR RD\n",
       "Baltimore, MD           & TRUE\\\\\n",
       "\t1067 & SISTA'  SANDRA'S INTERNATIONAL CUSINE           & 21215 & Reisterstown Station   &  5 & NORTHWESTERN & 6212 REISTERSTOWN RD\n",
       "Baltimore, MD     & TRUE\\\\\n",
       "\t1073 & SLIM ACE OF CLUB                                & 21206 & Belair-Edison          & 13 & NORTHEASTERN & 4200 BELAIR RD\n",
       "Baltimore, MD           & TRUE\\\\\n",
       "\t1101 & SPORTS PALACE                                   & 21215 & Pimlico Good Neighbors &  5 & NORTHWESTERN & Hayward Ave\n",
       "Baltimore, MD              & TRUE\\\\\n",
       "\t1191 & THE GARDENVILLE CLUB                            & 21206 & Frankford              &  2 & NORTHEASTERN & 5405 RADECKE AVE\n",
       "Baltimore, MD         & TRUE\\\\\n",
       "\t1200 & THE HUBCAP INN                                  & 21206 & Cedmont                &  2 & NORTHEASTERN & 6003 BELAIR RD\n",
       "Baltimore, MD           & TRUE\\\\\n",
       "\t1218 & THE PREAKNESS LOUNGE                            & 21215 & Greenspring            &  6 & NORTHERN     & 4103 PIMLICO RD\n",
       "Baltimore, MD          & TRUE\\\\\n",
       "\t1230 & THIRSTY'S II                                    & 21206 & Cedmont                &  2 & NORTHEASTERN & 6037 BELAIR RD\n",
       "Baltimore, MD           & TRUE\\\\\n",
       "\t1254 & TRINIDAD ASSOCIATES                             & 21215 & Arlington              &  5 & NORTHWESTERN & 5402 PARK HEIGHTS AVE\n",
       "Baltimore, MD    & TRUE\\\\\n",
       "\t1256 & TROPICAL TASTE RESTAURANT                       & 21215 & Woodmere               &  6 & NORTHWESTERN & 5205 REISTERSTOWN RD\n",
       "Baltimore, MD     & TRUE\\\\\n",
       "\t1288 & VULCAN BLAZERS, INC OF BALTIMORE CITY           & 21215 & Liberty Square         &  7 & NORTHWESTERN & 2811 DRUID PARK DR\n",
       "Baltimore, MD       & TRUE\\\\\n",
       "\t1294 & WENDY'S                                         & 21215 & Reisterstown Station   &  5 & NORTHWESTERN & 4200 PATTERSON AVE\n",
       "Baltimore, MD       & TRUE\\\\\n",
       "\t1299 & WENDY'S RESTAURANT                              & 21215 & Grove Park             &  5 & NORTHWESTERN & 4410 NORTHERN PKWY\n",
       "Baltimore, MD       & TRUE\\\\\n",
       "\t1305 & WHITTEN'S II                                    & 21206 & Frankford              &  2 & NORTHEASTERN & 5307 BELAIR RD\n",
       "Baltimore, MD           & TRUE\\\\\n",
       "\t1313 & WYLIE  LIQUORS (3101-03)                        & 21215 & Central Park Heights   &  6 & NORTHWESTERN & 3101 WYLIE AVE\n",
       "Baltimore, MD           & TRUE\\\\\n",
       "\t1317 & YELLOW BOWL RESTAURANT II                       & 21215 & Central Park Heights   &  6 & NORTHWESTERN & 5131 PARK HEIGHTS AVE\n",
       "Baltimore, MD    & TRUE\\\\\n",
       "\\end{tabular}\n"
      ],
      "text/markdown": [
       "\n",
       "A data.frame: 84 × 7\n",
       "\n",
       "| <!--/--> | name &lt;fct&gt; | zipCode &lt;int&gt; | neighborhood &lt;fct&gt; | councilDistrict &lt;int&gt; | policeDistrict &lt;fct&gt; | Location.1 &lt;fct&gt; | councilDistrict.na.rm &lt;lgl&gt; |\n",
       "|---|---|---|---|---|---|---|---|\n",
       "| 1 | 410                                 | 21206 | Frankford              |  2 | NORTHEASTERN | 4509 BELAIR ROAD\n",
       "Baltimore, MD         | TRUE |\n",
       "| 12 | 5-MILE HOUSE                        | 21215 | Woodmere               |  5 | NORTHWESTERN | 5302 REISTERSTOWN RD\n",
       "Baltimore, MD     | TRUE |\n",
       "| 27 | ALFEO'S                             | 21215 | Mondawmin              |  7 | WESTERN      | 2401 LIBERTY HEIGHTS AVE\n",
       "Baltimore, MD | TRUE |\n",
       "| 35 | BELAIR PUB                          | 21206 | Glenham-Belford        |  2 | NORTHEASTERN | 5860 BELAIR RD\n",
       "Baltimore, MD           | TRUE |\n",
       "| 38 | BERGER'S TAVERN, INCORPORATED       | 21206 | Waltherson             |  2 | NORTHEASTERN | 5523 BELAIR RD\n",
       "Baltimore, MD           | TRUE |\n",
       "| 53 | BLACKTIE SERVICE, LLP               | 21215 | Seton Business Park    |  5 | NORTHWESTERN | 4700 MT HOPE DR\n",
       "Baltimore, MD          | TRUE |\n",
       "| 58 | ALLEN RESTAURANT                    | 21206 | Waltherson             |  2 | NORTHEASTERN | 5621 BELAIR RD\n",
       "Baltimore, MD           | TRUE |\n",
       "| 74 | APPLEBEE'S NEIGHBORHOOD GRILL &amp; BAR | 21215 | Fallstaff              |  5 | NORTHWESTERN | 6798 REISTERSTOWN RD\n",
       "Baltimore, MD     | TRUE |\n",
       "| 131 | BLUE PARROT                         | 21206 | Glenham-Belford        |  2 | NORTHEASTERN | 5860 BELAIR RD\n",
       "Baltimore, MD           | TRUE |\n",
       "| 152 | BROOKEY'S                           | 21206 | Belair-Edison          | 13 | NORTHEASTERN | 4201 BELAIR RD\n",
       "Baltimore, MD           | TRUE |\n",
       "| 169 | BURGER KING #10295                  | 21215 | Central Park Heights   |  6 | NORTHWESTERN | 4400 REISTERSTOWN RD\n",
       "Baltimore, MD     | TRUE |\n",
       "| 171 | BURGER KING #2610                   | 21215 | Mondawmin              |  7 | WESTERN      | 2401 LIBERTY HEIGHTS AVE\n",
       "Baltimore, MD | TRUE |\n",
       "| 190 | CAMERON'S SEAFOOD                   | 21215 | Central Park Heights   |  6 | NORTHWESTERN | 2707 COLD SPRING LN\n",
       "Baltimore, MD      | TRUE |\n",
       "| 214 | CC LOUNGE                           | 21215 | Lucille Park           |  6 | NORTHWESTERN | 4923 REISTERSTOWN RD\n",
       "Baltimore, MD     | TRUE |\n",
       "| 216 | CEDONIA INN                         | 21206 | Frankford              |  2 | NORTHEASTERN | 5900 MORAVIA RD\n",
       "Baltimore, MD          | TRUE |\n",
       "| 239 | CHIMES CAF                    | 21215 | Seton Business Park    |  5 | NORTHWESTERN | 4814 SETON DR\n",
       "Baltimore, MD            | TRUE |\n",
       "| 290 | COACH HOUSE INN                     | 21206 | Cedmont                |  2 | NORTHEASTERN | 6605 BELAIR RD\n",
       "Baltimore, MD           | TRUE |\n",
       "| 326 | DANNY'S LOUNGE                      | 21215 | Towanda-Grantley       |  6 | NORTHWESTERN | 4316 REISTERSTOWN RD\n",
       "Baltimore, MD     | TRUE |\n",
       "| 329 | DASH SEAFOOD &amp; CHICKEN              | 21215 | Central Park Heights   |  6 | NORTHWESTERN | 5124 PARK HEIGHTS AVE\n",
       "Baltimore, MD    | TRUE |\n",
       "| 365 | DUCK'S BLACK SATIN LOUNGE           | 21215 | Central Park Heights   |  6 | NORTHWESTERN | 4559 REISTERSTOWN RD\n",
       "Baltimore, MD     | TRUE |\n",
       "| 374 | DUNKIN DONUTS                       | 21215 | Fallstaff              |  5 | NORTHWESTERN | 7000 REISTERSTOWN RD\n",
       "Baltimore, MD     | TRUE |\n",
       "| 407 | europe restaurant &amp; catering        | 21215 | Reisterstown Station   |  5 | NORTHWESTERN | 4147 labyrinth rd\n",
       "Baltimore, MD        | TRUE |\n",
       "| 439 | FRANK'S PIZZA                       | 21206 | Rosemont East          |  2 | NORTHEASTERN | 6620 BELAIR RD\n",
       "Baltimore, MD           | TRUE |\n",
       "| 461 | GEORGIO'S                           | 21215 | Reisterstown Station   |  5 | NORTHWESTERN | 6322 REISTERSTOWN RD\n",
       "Baltimore, MD     | TRUE |\n",
       "| 476 | GRANDVIEW RESTAURANT                | 21215 | Hampden                | 14 | NORTHERN     | 3838 ROLAND AVE\n",
       "Baltimore, MD          | TRUE |\n",
       "| 507 | JOCKEY CLUB/PALACE KITCHEN          | 21215 | Pimlico Good Neighbors |  5 | NORTHWESTERN | Hayward Ave\n",
       "Baltimore, MD              | TRUE |\n",
       "| 511 | JOE'S TAVERN &amp; PACKAGE GOODS        | 21215 | Glen                   |  5 | NORTHWESTERN | 6200 REISTERSTOWN RD\n",
       "Baltimore, MD     | TRUE |\n",
       "| 541 | RAINBOW HOMESTYLE BUFFET            | 21206 | Frankford              |  2 | NORTHEASTERN | 5016 SINCLAIR LN\n",
       "Baltimore, MD         | TRUE |\n",
       "| 558 | RED ROOSTER                         | 21206 | Frankford              |  2 | NORTHEASTERN | 6412 FRANKFORD AVE\n",
       "Baltimore, MD       | TRUE |\n",
       "| 566 | HAMILTON HOMING PIGEON CLUB, INC.   | 21206 | Frankford              |  2 | NORTHEASTERN | 4810 GUNTHER AVE\n",
       "Baltimore, MD         | TRUE |\n",
       "| ⋮ | ⋮ | ⋮ | ⋮ | ⋮ | ⋮ | ⋮ | ⋮ |\n",
       "| 887 | NORTH'S CAF                               | 21215 | Arlington              |  5 | NORTHWESTERN | 3716 BELVEDERE AVE\n",
       "Baltimore, MD       | TRUE |\n",
       "| 894 | O'HARA'S IRISH PUB                              | 21206 | Rosemont East          |  2 | NORTHEASTERN | 6506 BELAIR RD\n",
       "Baltimore, MD           | TRUE |\n",
       "| 909 | OVERLEA   DINER                                 | 21206 | Rosemont East          |  2 | NORTHEASTERN | 6652 BELAIR RD\n",
       "Baltimore, MD           | TRUE |\n",
       "| 911 | P &amp; S JAMAICAN &amp; AMERICAN RESTAURNAT &amp; CARRYOUT | 21215 | Pimlico Good Neighbors |  5 | NORTHWESTERN | 5218 PARK HEIGHTS AVE\n",
       "Baltimore, MD    | TRUE |\n",
       "| 917 | PANDA EXPRESS # 1152                            | 21215 | Reisterstown Station   |  5 | NORTHWESTERN | 6514 REISTERSTOWN RD\n",
       "Baltimore, MD     | TRUE |\n",
       "| 924 | PARADISE OF PARK HEIGHTS                        | 21215 | Central Park Heights   |  6 | NORTHWESTERN | 4448 PARK HEIGHTS AVE\n",
       "Baltimore, MD    | TRUE |\n",
       "| 948 | PEPPER'S LIQUOR'S                               | 21215 | Woodmere               |  5 | NORTHWESTERN | 5440 REISTERSTOWN RD\n",
       "Baltimore, MD     | TRUE |\n",
       "| 963 | PIMLICO TRACK KITCHEN  (PIMLICO RACE COURSE)    | 21215 | Pimlico Good Neighbors |  5 | NORTHWESTERN | Haward Ave\n",
       "Baltimore, MD               | TRUE |\n",
       "| 975 | POPEYES FAMOUS FRIED CHICKEN                    | 21206 | Frankford              |  2 | NORTHEASTERN | 5002 SINCLAIR LN\n",
       "Baltimore, MD         | TRUE |\n",
       "| 977 | POPEYES FAMOUS FRIED CHICKEN                    | 21206 | Rosemont East          |  2 | NORTHEASTERN | 6642 BELAIR RD\n",
       "Baltimore, MD           | TRUE |\n",
       "| 979 | POPEYE'S FAMOUS FRIED CHICKEN &amp; BISCUITS        | 21215 | Reisterstown Station   |  5 | NORTHWESTERN | 6512 reisterstown RD\n",
       "Baltimore, MD     | TRUE |\n",
       "| 980 | POPEYES OF MONDAWMIN                            | 21215 | Mondawmin              |  7 | WESTERN      | 2401 LIBERTY HEIGHTS AVE\n",
       "Baltimore, MD | TRUE |\n",
       "| 984 | REISTERSTOWN ROAD SUBWAY                        | 21215 | Woodmere               |  5 | NORTHWESTERN | 5520 REISTERSTOWN ROAD\n",
       "Baltimore, MD   | TRUE |\n",
       "| 993 | RITA'S ITALIAN ICE                              | 21215 | Fallstaff              |  5 | NORTHWESTERN | 6796 REISTERSTOWN RD\n",
       "Baltimore, MD     | TRUE |\n",
       "| 1046 | SHELDON'S LOUNGE                                | 21206 | Belair-Edison          | 13 | NORTHEASTERN | 4325 BELAIR RD\n",
       "Baltimore, MD           | TRUE |\n",
       "| 1067 | SISTA'  SANDRA'S INTERNATIONAL CUSINE           | 21215 | Reisterstown Station   |  5 | NORTHWESTERN | 6212 REISTERSTOWN RD\n",
       "Baltimore, MD     | TRUE |\n",
       "| 1073 | SLIM ACE OF CLUB                                | 21206 | Belair-Edison          | 13 | NORTHEASTERN | 4200 BELAIR RD\n",
       "Baltimore, MD           | TRUE |\n",
       "| 1101 | SPORTS PALACE                                   | 21215 | Pimlico Good Neighbors |  5 | NORTHWESTERN | Hayward Ave\n",
       "Baltimore, MD              | TRUE |\n",
       "| 1191 | THE GARDENVILLE CLUB                            | 21206 | Frankford              |  2 | NORTHEASTERN | 5405 RADECKE AVE\n",
       "Baltimore, MD         | TRUE |\n",
       "| 1200 | THE HUBCAP INN                                  | 21206 | Cedmont                |  2 | NORTHEASTERN | 6003 BELAIR RD\n",
       "Baltimore, MD           | TRUE |\n",
       "| 1218 | THE PREAKNESS LOUNGE                            | 21215 | Greenspring            |  6 | NORTHERN     | 4103 PIMLICO RD\n",
       "Baltimore, MD          | TRUE |\n",
       "| 1230 | THIRSTY'S II                                    | 21206 | Cedmont                |  2 | NORTHEASTERN | 6037 BELAIR RD\n",
       "Baltimore, MD           | TRUE |\n",
       "| 1254 | TRINIDAD ASSOCIATES                             | 21215 | Arlington              |  5 | NORTHWESTERN | 5402 PARK HEIGHTS AVE\n",
       "Baltimore, MD    | TRUE |\n",
       "| 1256 | TROPICAL TASTE RESTAURANT                       | 21215 | Woodmere               |  6 | NORTHWESTERN | 5205 REISTERSTOWN RD\n",
       "Baltimore, MD     | TRUE |\n",
       "| 1288 | VULCAN BLAZERS, INC OF BALTIMORE CITY           | 21215 | Liberty Square         |  7 | NORTHWESTERN | 2811 DRUID PARK DR\n",
       "Baltimore, MD       | TRUE |\n",
       "| 1294 | WENDY'S                                         | 21215 | Reisterstown Station   |  5 | NORTHWESTERN | 4200 PATTERSON AVE\n",
       "Baltimore, MD       | TRUE |\n",
       "| 1299 | WENDY'S RESTAURANT                              | 21215 | Grove Park             |  5 | NORTHWESTERN | 4410 NORTHERN PKWY\n",
       "Baltimore, MD       | TRUE |\n",
       "| 1305 | WHITTEN'S II                                    | 21206 | Frankford              |  2 | NORTHEASTERN | 5307 BELAIR RD\n",
       "Baltimore, MD           | TRUE |\n",
       "| 1313 | WYLIE  LIQUORS (3101-03)                        | 21215 | Central Park Heights   |  6 | NORTHWESTERN | 3101 WYLIE AVE\n",
       "Baltimore, MD           | TRUE |\n",
       "| 1317 | YELLOW BOWL RESTAURANT II                       | 21215 | Central Park Heights   |  6 | NORTHWESTERN | 5131 PARK HEIGHTS AVE\n",
       "Baltimore, MD    | TRUE |\n",
       "\n"
      ],
      "text/plain": [
       "     name                                            zipCode\n",
       "1    410                                             21206  \n",
       "12   5-MILE HOUSE                                    21215  \n",
       "27   ALFEO'S                                         21215  \n",
       "35   BELAIR PUB                                      21206  \n",
       "38   BERGER'S TAVERN, INCORPORATED                   21206  \n",
       "53   BLACKTIE SERVICE, LLP                           21215  \n",
       "58   ALLEN RESTAURANT                                21206  \n",
       "74   APPLEBEE'S NEIGHBORHOOD GRILL & BAR             21215  \n",
       "131  BLUE PARROT                                     21206  \n",
       "152  BROOKEY'S                                       21206  \n",
       "169  BURGER KING #10295                              21215  \n",
       "171  BURGER KING #2610                               21215  \n",
       "190  CAMERON'S SEAFOOD                               21215  \n",
       "214  CC LOUNGE                                       21215  \n",
       "216  CEDONIA INN                                     21206  \n",
       "239  CHIMES CAF\\u0090                                21215  \n",
       "290  COACH HOUSE INN                                 21206  \n",
       "326  DANNY'S LOUNGE                                  21215  \n",
       "329  DASH SEAFOOD & CHICKEN                          21215  \n",
       "365  DUCK'S BLACK SATIN LOUNGE                       21215  \n",
       "374  DUNKIN DONUTS                                   21215  \n",
       "407  europe restaurant & catering                    21215  \n",
       "439  FRANK'S PIZZA                                   21206  \n",
       "461  GEORGIO'S                                       21215  \n",
       "476  GRANDVIEW RESTAURANT                            21215  \n",
       "507  JOCKEY CLUB/PALACE KITCHEN                      21215  \n",
       "511  JOE'S TAVERN & PACKAGE GOODS                    21215  \n",
       "541  RAINBOW HOMESTYLE BUFFET                        21206  \n",
       "558  RED ROOSTER                                     21206  \n",
       "566  HAMILTON HOMING PIGEON CLUB, INC.               21206  \n",
       "⋮    ⋮                                               ⋮      \n",
       "887  NORTH'S CAF\\u0090                               21215  \n",
       "894  O'HARA'S IRISH PUB                              21206  \n",
       "909  OVERLEA   DINER                                 21206  \n",
       "911  P & S JAMAICAN & AMERICAN RESTAURNAT & CARRYOUT 21215  \n",
       "917  PANDA EXPRESS # 1152                            21215  \n",
       "924  PARADISE OF PARK HEIGHTS                        21215  \n",
       "948  PEPPER'S LIQUOR'S                               21215  \n",
       "963  PIMLICO TRACK KITCHEN  (PIMLICO RACE COURSE)    21215  \n",
       "975  POPEYES FAMOUS FRIED CHICKEN                    21206  \n",
       "977  POPEYES FAMOUS FRIED CHICKEN                    21206  \n",
       "979  POPEYE'S FAMOUS FRIED CHICKEN & BISCUITS        21215  \n",
       "980  POPEYES OF MONDAWMIN                            21215  \n",
       "984  REISTERSTOWN ROAD SUBWAY                        21215  \n",
       "993  RITA'S ITALIAN ICE                              21215  \n",
       "1046 SHELDON'S LOUNGE                                21206  \n",
       "1067 SISTA'  SANDRA'S INTERNATIONAL CUSINE           21215  \n",
       "1073 SLIM ACE OF CLUB                                21206  \n",
       "1101 SPORTS PALACE                                   21215  \n",
       "1191 THE GARDENVILLE CLUB                            21206  \n",
       "1200 THE HUBCAP INN                                  21206  \n",
       "1218 THE PREAKNESS LOUNGE                            21215  \n",
       "1230 THIRSTY'S II                                    21206  \n",
       "1254 TRINIDAD ASSOCIATES                             21215  \n",
       "1256 TROPICAL TASTE RESTAURANT                       21215  \n",
       "1288 VULCAN BLAZERS, INC OF BALTIMORE CITY           21215  \n",
       "1294 WENDY'S                                         21215  \n",
       "1299 WENDY'S RESTAURANT                              21215  \n",
       "1305 WHITTEN'S II                                    21206  \n",
       "1313 WYLIE  LIQUORS (3101-03)                        21215  \n",
       "1317 YELLOW BOWL RESTAURANT II                       21215  \n",
       "     neighborhood           councilDistrict policeDistrict\n",
       "1    Frankford               2              NORTHEASTERN  \n",
       "12   Woodmere                5              NORTHWESTERN  \n",
       "27   Mondawmin               7              WESTERN       \n",
       "35   Glenham-Belford         2              NORTHEASTERN  \n",
       "38   Waltherson              2              NORTHEASTERN  \n",
       "53   Seton Business Park     5              NORTHWESTERN  \n",
       "58   Waltherson              2              NORTHEASTERN  \n",
       "74   Fallstaff               5              NORTHWESTERN  \n",
       "131  Glenham-Belford         2              NORTHEASTERN  \n",
       "152  Belair-Edison          13              NORTHEASTERN  \n",
       "169  Central Park Heights    6              NORTHWESTERN  \n",
       "171  Mondawmin               7              WESTERN       \n",
       "190  Central Park Heights    6              NORTHWESTERN  \n",
       "214  Lucille Park            6              NORTHWESTERN  \n",
       "216  Frankford               2              NORTHEASTERN  \n",
       "239  Seton Business Park     5              NORTHWESTERN  \n",
       "290  Cedmont                 2              NORTHEASTERN  \n",
       "326  Towanda-Grantley        6              NORTHWESTERN  \n",
       "329  Central Park Heights    6              NORTHWESTERN  \n",
       "365  Central Park Heights    6              NORTHWESTERN  \n",
       "374  Fallstaff               5              NORTHWESTERN  \n",
       "407  Reisterstown Station    5              NORTHWESTERN  \n",
       "439  Rosemont East           2              NORTHEASTERN  \n",
       "461  Reisterstown Station    5              NORTHWESTERN  \n",
       "476  Hampden                14              NORTHERN      \n",
       "507  Pimlico Good Neighbors  5              NORTHWESTERN  \n",
       "511  Glen                    5              NORTHWESTERN  \n",
       "541  Frankford               2              NORTHEASTERN  \n",
       "558  Frankford               2              NORTHEASTERN  \n",
       "566  Frankford               2              NORTHEASTERN  \n",
       "⋮    ⋮                      ⋮               ⋮             \n",
       "887  Arlington               5              NORTHWESTERN  \n",
       "894  Rosemont East           2              NORTHEASTERN  \n",
       "909  Rosemont East           2              NORTHEASTERN  \n",
       "911  Pimlico Good Neighbors  5              NORTHWESTERN  \n",
       "917  Reisterstown Station    5              NORTHWESTERN  \n",
       "924  Central Park Heights    6              NORTHWESTERN  \n",
       "948  Woodmere                5              NORTHWESTERN  \n",
       "963  Pimlico Good Neighbors  5              NORTHWESTERN  \n",
       "975  Frankford               2              NORTHEASTERN  \n",
       "977  Rosemont East           2              NORTHEASTERN  \n",
       "979  Reisterstown Station    5              NORTHWESTERN  \n",
       "980  Mondawmin               7              WESTERN       \n",
       "984  Woodmere                5              NORTHWESTERN  \n",
       "993  Fallstaff               5              NORTHWESTERN  \n",
       "1046 Belair-Edison          13              NORTHEASTERN  \n",
       "1067 Reisterstown Station    5              NORTHWESTERN  \n",
       "1073 Belair-Edison          13              NORTHEASTERN  \n",
       "1101 Pimlico Good Neighbors  5              NORTHWESTERN  \n",
       "1191 Frankford               2              NORTHEASTERN  \n",
       "1200 Cedmont                 2              NORTHEASTERN  \n",
       "1218 Greenspring             6              NORTHERN      \n",
       "1230 Cedmont                 2              NORTHEASTERN  \n",
       "1254 Arlington               5              NORTHWESTERN  \n",
       "1256 Woodmere                6              NORTHWESTERN  \n",
       "1288 Liberty Square          7              NORTHWESTERN  \n",
       "1294 Reisterstown Station    5              NORTHWESTERN  \n",
       "1299 Grove Park              5              NORTHWESTERN  \n",
       "1305 Frankford               2              NORTHEASTERN  \n",
       "1313 Central Park Heights    6              NORTHWESTERN  \n",
       "1317 Central Park Heights    6              NORTHWESTERN  \n",
       "     Location.1                              councilDistrict.na.rm\n",
       "1    4509 BELAIR ROAD\\nBaltimore, MD         TRUE                 \n",
       "12   5302 REISTERSTOWN RD\\nBaltimore, MD     TRUE                 \n",
       "27   2401 LIBERTY HEIGHTS AVE\\nBaltimore, MD TRUE                 \n",
       "35   5860 BELAIR RD\\nBaltimore, MD           TRUE                 \n",
       "38   5523 BELAIR RD\\nBaltimore, MD           TRUE                 \n",
       "53   4700 MT HOPE DR\\nBaltimore, MD          TRUE                 \n",
       "58   5621 BELAIR RD\\nBaltimore, MD           TRUE                 \n",
       "74   6798 REISTERSTOWN RD\\nBaltimore, MD     TRUE                 \n",
       "131  5860 BELAIR RD\\nBaltimore, MD           TRUE                 \n",
       "152  4201 BELAIR RD\\nBaltimore, MD           TRUE                 \n",
       "169  4400 REISTERSTOWN RD\\nBaltimore, MD     TRUE                 \n",
       "171  2401 LIBERTY HEIGHTS AVE\\nBaltimore, MD TRUE                 \n",
       "190  2707 COLD SPRING LN\\nBaltimore, MD      TRUE                 \n",
       "214  4923 REISTERSTOWN RD\\nBaltimore, MD     TRUE                 \n",
       "216  5900 MORAVIA RD\\nBaltimore, MD          TRUE                 \n",
       "239  4814 SETON DR\\nBaltimore, MD            TRUE                 \n",
       "290  6605 BELAIR RD\\nBaltimore, MD           TRUE                 \n",
       "326  4316 REISTERSTOWN RD\\nBaltimore, MD     TRUE                 \n",
       "329  5124 PARK HEIGHTS AVE\\nBaltimore, MD    TRUE                 \n",
       "365  4559 REISTERSTOWN RD\\nBaltimore, MD     TRUE                 \n",
       "374  7000 REISTERSTOWN RD\\nBaltimore, MD     TRUE                 \n",
       "407  4147 labyrinth rd\\nBaltimore, MD        TRUE                 \n",
       "439  6620 BELAIR RD\\nBaltimore, MD           TRUE                 \n",
       "461  6322 REISTERSTOWN RD\\nBaltimore, MD     TRUE                 \n",
       "476  3838 ROLAND AVE\\nBaltimore, MD          TRUE                 \n",
       "507  Hayward Ave\\nBaltimore, MD              TRUE                 \n",
       "511  6200 REISTERSTOWN RD\\nBaltimore, MD     TRUE                 \n",
       "541  5016 SINCLAIR LN\\nBaltimore, MD         TRUE                 \n",
       "558  6412 FRANKFORD AVE\\nBaltimore, MD       TRUE                 \n",
       "566  4810 GUNTHER AVE\\nBaltimore, MD         TRUE                 \n",
       "⋮    ⋮                                       ⋮                    \n",
       "887  3716 BELVEDERE AVE\\nBaltimore, MD       TRUE                 \n",
       "894  6506 BELAIR RD\\nBaltimore, MD           TRUE                 \n",
       "909  6652 BELAIR RD\\nBaltimore, MD           TRUE                 \n",
       "911  5218 PARK HEIGHTS AVE\\nBaltimore, MD    TRUE                 \n",
       "917  6514 REISTERSTOWN RD\\nBaltimore, MD     TRUE                 \n",
       "924  4448 PARK HEIGHTS AVE\\nBaltimore, MD    TRUE                 \n",
       "948  5440 REISTERSTOWN RD\\nBaltimore, MD     TRUE                 \n",
       "963  Haward Ave\\nBaltimore, MD               TRUE                 \n",
       "975  5002 SINCLAIR LN\\nBaltimore, MD         TRUE                 \n",
       "977  6642 BELAIR RD\\nBaltimore, MD           TRUE                 \n",
       "979  6512 reisterstown RD\\nBaltimore, MD     TRUE                 \n",
       "980  2401 LIBERTY HEIGHTS AVE\\nBaltimore, MD TRUE                 \n",
       "984  5520 REISTERSTOWN ROAD\\nBaltimore, MD   TRUE                 \n",
       "993  6796 REISTERSTOWN RD\\nBaltimore, MD     TRUE                 \n",
       "1046 4325 BELAIR RD\\nBaltimore, MD           TRUE                 \n",
       "1067 6212 REISTERSTOWN RD\\nBaltimore, MD     TRUE                 \n",
       "1073 4200 BELAIR RD\\nBaltimore, MD           TRUE                 \n",
       "1101 Hayward Ave\\nBaltimore, MD              TRUE                 \n",
       "1191 5405 RADECKE AVE\\nBaltimore, MD         TRUE                 \n",
       "1200 6003 BELAIR RD\\nBaltimore, MD           TRUE                 \n",
       "1218 4103 PIMLICO RD\\nBaltimore, MD          TRUE                 \n",
       "1230 6037 BELAIR RD\\nBaltimore, MD           TRUE                 \n",
       "1254 5402 PARK HEIGHTS AVE\\nBaltimore, MD    TRUE                 \n",
       "1256 5205 REISTERSTOWN RD\\nBaltimore, MD     TRUE                 \n",
       "1288 2811 DRUID PARK DR\\nBaltimore, MD       TRUE                 \n",
       "1294 4200 PATTERSON AVE\\nBaltimore, MD       TRUE                 \n",
       "1299 4410 NORTHERN PKWY\\nBaltimore, MD       TRUE                 \n",
       "1305 5307 BELAIR RD\\nBaltimore, MD           TRUE                 \n",
       "1313 3101 WYLIE AVE\\nBaltimore, MD           TRUE                 \n",
       "1317 5131 PARK HEIGHTS AVE\\nBaltimore, MD    TRUE                 "
      ]
     },
     "metadata": {},
     "output_type": "display_data"
    }
   ],
   "source": [
    "rest_data[rest_data$zipCode %in% c('21206', '21215'),]"
   ]
  },
  {
   "cell_type": "markdown",
   "metadata": {},
   "source": [
    "**Cross tabs**"
   ]
  },
  {
   "cell_type": "code",
   "execution_count": 51,
   "metadata": {},
   "outputs": [
    {
     "data": {
      "text/plain": [
       "      Admit       Gender   Dept       Freq      \n",
       " Admitted:12   Male  :12   A:4   Min.   :  8.0  \n",
       " Rejected:12   Female:12   B:4   1st Qu.: 80.0  \n",
       "                           C:4   Median :170.0  \n",
       "                           D:4   Mean   :188.6  \n",
       "                           E:4   3rd Qu.:302.5  \n",
       "                           F:4   Max.   :512.0  "
      ]
     },
     "metadata": {},
     "output_type": "display_data"
    }
   ],
   "source": [
    "data(UCBAdmissions)\n",
    "df <- as.data.frame(UCBAdmissions)\n",
    "summary(df)"
   ]
  },
  {
   "cell_type": "code",
   "execution_count": 53,
   "metadata": {},
   "outputs": [
    {
     "data": {
      "text/plain": [
       "        Admit\n",
       "Gender   Admitted Rejected\n",
       "  Male       1198     1493\n",
       "  Female      557     1278"
      ]
     },
     "metadata": {},
     "output_type": "display_data"
    }
   ],
   "source": [
    "xt <- xtabs(Freq ~ Gender + Admit, data=df)\n",
    "xt"
   ]
  },
  {
   "cell_type": "code",
   "execution_count": 54,
   "metadata": {},
   "outputs": [
    {
     "data": {
      "text/html": [
       "<table>\n",
       "<caption>A data.frame: 6 × 4</caption>\n",
       "<thead>\n",
       "\t<tr><th scope=col>Admit</th><th scope=col>Gender</th><th scope=col>Dept</th><th scope=col>Freq</th></tr>\n",
       "\t<tr><th scope=col>&lt;fct&gt;</th><th scope=col>&lt;fct&gt;</th><th scope=col>&lt;fct&gt;</th><th scope=col>&lt;dbl&gt;</th></tr>\n",
       "</thead>\n",
       "<tbody>\n",
       "\t<tr><td>Admitted</td><td>Male  </td><td>A</td><td>512</td></tr>\n",
       "\t<tr><td>Rejected</td><td>Male  </td><td>A</td><td>313</td></tr>\n",
       "\t<tr><td>Admitted</td><td>Female</td><td>A</td><td> 89</td></tr>\n",
       "\t<tr><td>Rejected</td><td>Female</td><td>A</td><td> 19</td></tr>\n",
       "\t<tr><td>Admitted</td><td>Male  </td><td>B</td><td>353</td></tr>\n",
       "\t<tr><td>Rejected</td><td>Male  </td><td>B</td><td>207</td></tr>\n",
       "</tbody>\n",
       "</table>\n"
      ],
      "text/latex": [
       "A data.frame: 6 × 4\n",
       "\\begin{tabular}{r|llll}\n",
       " Admit & Gender & Dept & Freq\\\\\n",
       " <fct> & <fct> & <fct> & <dbl>\\\\\n",
       "\\hline\n",
       "\t Admitted & Male   & A & 512\\\\\n",
       "\t Rejected & Male   & A & 313\\\\\n",
       "\t Admitted & Female & A &  89\\\\\n",
       "\t Rejected & Female & A &  19\\\\\n",
       "\t Admitted & Male   & B & 353\\\\\n",
       "\t Rejected & Male   & B & 207\\\\\n",
       "\\end{tabular}\n"
      ],
      "text/markdown": [
       "\n",
       "A data.frame: 6 × 4\n",
       "\n",
       "| Admit &lt;fct&gt; | Gender &lt;fct&gt; | Dept &lt;fct&gt; | Freq &lt;dbl&gt; |\n",
       "|---|---|---|---|\n",
       "| Admitted | Male   | A | 512 |\n",
       "| Rejected | Male   | A | 313 |\n",
       "| Admitted | Female | A |  89 |\n",
       "| Rejected | Female | A |  19 |\n",
       "| Admitted | Male   | B | 353 |\n",
       "| Rejected | Male   | B | 207 |\n",
       "\n"
      ],
      "text/plain": [
       "  Admit    Gender Dept Freq\n",
       "1 Admitted Male   A    512 \n",
       "2 Rejected Male   A    313 \n",
       "3 Admitted Female A     89 \n",
       "4 Rejected Female A     19 \n",
       "5 Admitted Male   B    353 \n",
       "6 Rejected Male   B    207 "
      ]
     },
     "metadata": {},
     "output_type": "display_data"
    }
   ],
   "source": [
    "head(df)"
   ]
  },
  {
   "cell_type": "markdown",
   "metadata": {},
   "source": [
    "**Flat table**"
   ]
  },
  {
   "cell_type": "code",
   "execution_count": 57,
   "metadata": {
    "scrolled": true
   },
   "outputs": [
    {
     "data": {
      "text/plain": [
       ", , replicate = 1\n",
       "\n",
       "    tension\n",
       "wool  L  M  H\n",
       "   A 26 18 36\n",
       "   B 27 42 20\n",
       "\n",
       ", , replicate = 2\n",
       "\n",
       "    tension\n",
       "wool  L  M  H\n",
       "   A 30 21 21\n",
       "   B 14 26 21\n",
       "\n",
       ", , replicate = 3\n",
       "\n",
       "    tension\n",
       "wool  L  M  H\n",
       "   A 54 29 24\n",
       "   B 29 19 24\n",
       "\n",
       ", , replicate = 4\n",
       "\n",
       "    tension\n",
       "wool  L  M  H\n",
       "   A 25 17 18\n",
       "   B 19 16 17\n",
       "\n",
       ", , replicate = 5\n",
       "\n",
       "    tension\n",
       "wool  L  M  H\n",
       "   A 70 12 10\n",
       "   B 29 39 13\n",
       "\n",
       ", , replicate = 6\n",
       "\n",
       "    tension\n",
       "wool  L  M  H\n",
       "   A 52 18 43\n",
       "   B 31 28 15\n",
       "\n",
       ", , replicate = 7\n",
       "\n",
       "    tension\n",
       "wool  L  M  H\n",
       "   A 51 35 28\n",
       "   B 41 21 15\n",
       "\n",
       ", , replicate = 8\n",
       "\n",
       "    tension\n",
       "wool  L  M  H\n",
       "   A 26 30 15\n",
       "   B 20 39 16\n",
       "\n",
       ", , replicate = 9\n",
       "\n",
       "    tension\n",
       "wool  L  M  H\n",
       "   A 67 36 26\n",
       "   B 44 29 28\n"
      ]
     },
     "metadata": {},
     "output_type": "display_data"
    }
   ],
   "source": [
    "warpbreaks$replicate <- rep(1:9, len=54)\n",
    "xt <- xtabs(breaks ~ ., data=warpbreaks)\n",
    "xt"
   ]
  },
  {
   "cell_type": "code",
   "execution_count": 58,
   "metadata": {},
   "outputs": [
    {
     "data": {
      "text/plain": [
       "             replicate  1  2  3  4  5  6  7  8  9\n",
       "wool tension                                     \n",
       "A    L                 26 30 54 25 70 52 51 26 67\n",
       "     M                 18 21 29 17 12 18 35 30 36\n",
       "     H                 36 21 24 18 10 43 28 15 26\n",
       "B    L                 27 14 29 19 29 31 41 20 44\n",
       "     M                 42 26 19 16 39 28 21 39 29\n",
       "     H                 20 21 24 17 13 15 15 16 28"
      ]
     },
     "metadata": {},
     "output_type": "display_data"
    }
   ],
   "source": [
    "ftable(xt)"
   ]
  },
  {
   "cell_type": "code",
   "execution_count": 59,
   "metadata": {},
   "outputs": [
    {
     "data": {
      "text/plain": [
       "3272 bytes"
      ]
     },
     "metadata": {},
     "output_type": "display_data"
    }
   ],
   "source": [
    "# size of the dataset\n",
    "object.size(warpbreaks)"
   ]
  },
  {
   "cell_type": "markdown",
   "metadata": {},
   "source": [
    "## Creating new variables"
   ]
  },
  {
   "cell_type": "code",
   "execution_count": 60,
   "metadata": {},
   "outputs": [],
   "source": [
    "rest_data = read.csv('./data/restaurant.csv')"
   ]
  },
  {
   "cell_type": "markdown",
   "metadata": {},
   "source": [
    "**Create indexes**"
   ]
  },
  {
   "cell_type": "code",
   "execution_count": 62,
   "metadata": {},
   "outputs": [
    {
     "data": {
      "text/html": [
       "<ol class=list-inline>\n",
       "\t<li>1</li>\n",
       "\t<li>3</li>\n",
       "\t<li>5</li>\n",
       "\t<li>7</li>\n",
       "\t<li>9</li>\n",
       "</ol>\n"
      ],
      "text/latex": [
       "\\begin{enumerate*}\n",
       "\\item 1\n",
       "\\item 3\n",
       "\\item 5\n",
       "\\item 7\n",
       "\\item 9\n",
       "\\end{enumerate*}\n"
      ],
      "text/markdown": [
       "1. 1\n",
       "2. 3\n",
       "3. 5\n",
       "4. 7\n",
       "5. 9\n",
       "\n",
       "\n"
      ],
      "text/plain": [
       "[1] 1 3 5 7 9"
      ]
     },
     "metadata": {},
     "output_type": "display_data"
    }
   ],
   "source": [
    "s1 <- seq(1,10, by=2); s1"
   ]
  },
  {
   "cell_type": "code",
   "execution_count": 63,
   "metadata": {},
   "outputs": [
    {
     "data": {
      "text/html": [
       "<ol class=list-inline>\n",
       "\t<li>1</li>\n",
       "\t<li>5.5</li>\n",
       "\t<li>10</li>\n",
       "</ol>\n"
      ],
      "text/latex": [
       "\\begin{enumerate*}\n",
       "\\item 1\n",
       "\\item 5.5\n",
       "\\item 10\n",
       "\\end{enumerate*}\n"
      ],
      "text/markdown": [
       "1. 1\n",
       "2. 5.5\n",
       "3. 10\n",
       "\n",
       "\n"
      ],
      "text/plain": [
       "[1]  1.0  5.5 10.0"
      ]
     },
     "metadata": {},
     "output_type": "display_data"
    }
   ],
   "source": [
    "s2 <- seq(1,10, length=3); s2"
   ]
  },
  {
   "cell_type": "code",
   "execution_count": 64,
   "metadata": {},
   "outputs": [
    {
     "data": {
      "text/html": [
       "<ol class=list-inline>\n",
       "\t<li>1</li>\n",
       "\t<li>2</li>\n",
       "\t<li>3</li>\n",
       "\t<li>4</li>\n",
       "\t<li>5</li>\n",
       "</ol>\n"
      ],
      "text/latex": [
       "\\begin{enumerate*}\n",
       "\\item 1\n",
       "\\item 2\n",
       "\\item 3\n",
       "\\item 4\n",
       "\\item 5\n",
       "\\end{enumerate*}\n"
      ],
      "text/markdown": [
       "1. 1\n",
       "2. 2\n",
       "3. 3\n",
       "4. 4\n",
       "5. 5\n",
       "\n",
       "\n"
      ],
      "text/plain": [
       "[1] 1 2 3 4 5"
      ]
     },
     "metadata": {},
     "output_type": "display_data"
    }
   ],
   "source": [
    "x <- c(1, 3, 4, 7, 8); seq(along=x)"
   ]
  },
  {
   "cell_type": "markdown",
   "metadata": {},
   "source": [
    "**Subsetting variables**"
   ]
  },
  {
   "cell_type": "code",
   "execution_count": 65,
   "metadata": {},
   "outputs": [
    {
     "data": {
      "text/plain": [
       "\n",
       "FALSE  TRUE \n",
       " 1314    13 "
      ]
     },
     "metadata": {},
     "output_type": "display_data"
    }
   ],
   "source": [
    "rest_data$near_me <- rest_data$neighborhood %in% c('Roland Park', 'Homeland')\n",
    "table(rest_data$near_me)"
   ]
  },
  {
   "cell_type": "code",
   "execution_count": 67,
   "metadata": {},
   "outputs": [
    {
     "data": {
      "text/plain": [
       "       \n",
       "        FALSE TRUE\n",
       "  FALSE  1326    0\n",
       "  TRUE      0    1"
      ]
     },
     "metadata": {},
     "output_type": "display_data"
    }
   ],
   "source": [
    "rest_data$wrong_zip <- ifelse(rest_data$zipCode < 0, TRUE, FALSE)\n",
    "table(rest_data$wrong_zip, rest_data$zipCode < 0)"
   ]
  },
  {
   "cell_type": "markdown",
   "metadata": {},
   "source": [
    "**Creating categorical variables**"
   ]
  },
  {
   "cell_type": "code",
   "execution_count": 69,
   "metadata": {},
   "outputs": [
    {
     "data": {
      "text/plain": [
       "\n",
       "(-2.123e+04,2.12e+04]  (2.12e+04,2.122e+04] (2.122e+04,2.123e+04] \n",
       "                  337                   375                   282 \n",
       "(2.123e+04,2.129e+04] \n",
       "                  332 "
      ]
     },
     "metadata": {},
     "output_type": "display_data"
    }
   ],
   "source": [
    "rest_data$zip_group <- cut(rest_data$zipCode, breaks = quantile(rest_data$zipCode))\n",
    "table(rest_data$zip_group)"
   ]
  },
  {
   "cell_type": "code",
   "execution_count": 70,
   "metadata": {},
   "outputs": [
    {
     "data": {
      "text/plain": [
       "                       \n",
       "                        -21226 21201 21202 21205 21206 21207 21208 21209 21210\n",
       "  (-2.123e+04,2.12e+04]      0   136   201     0     0     0     0     0     0\n",
       "  (2.12e+04,2.122e+04]       0     0     0    27    30     4     1     8    23\n",
       "  (2.122e+04,2.123e+04]      0     0     0     0     0     0     0     0     0\n",
       "  (2.123e+04,2.129e+04]      0     0     0     0     0     0     0     0     0\n",
       "                       \n",
       "                        21211 21212 21213 21214 21215 21216 21217 21218 21220\n",
       "  (-2.123e+04,2.12e+04]     0     0     0     0     0     0     0     0     0\n",
       "  (2.12e+04,2.122e+04]     41    28    31    17    54    10    32    69     0\n",
       "  (2.122e+04,2.123e+04]     0     0     0     0     0     0     0     0     1\n",
       "  (2.123e+04,2.129e+04]     0     0     0     0     0     0     0     0     0\n",
       "                       \n",
       "                        21222 21223 21224 21225 21226 21227 21229 21230 21231\n",
       "  (-2.123e+04,2.12e+04]     0     0     0     0     0     0     0     0     0\n",
       "  (2.12e+04,2.122e+04]      0     0     0     0     0     0     0     0     0\n",
       "  (2.122e+04,2.123e+04]     7    56   199    19     0     0     0     0     0\n",
       "  (2.123e+04,2.129e+04]     0     0     0     0    18     4    13   156   127\n",
       "                       \n",
       "                        21234 21237 21239 21251 21287\n",
       "  (-2.123e+04,2.12e+04]     0     0     0     0     0\n",
       "  (2.12e+04,2.122e+04]      0     0     0     0     0\n",
       "  (2.122e+04,2.123e+04]     0     0     0     0     0\n",
       "  (2.123e+04,2.129e+04]     7     1     3     2     1"
      ]
     },
     "metadata": {},
     "output_type": "display_data"
    }
   ],
   "source": [
    "table(rest_data$zip_group, rest_data$zipCode)"
   ]
  },
  {
   "cell_type": "markdown",
   "metadata": {},
   "source": [
    "**Esier cutting**"
   ]
  },
  {
   "cell_type": "code",
   "execution_count": 73,
   "metadata": {},
   "outputs": [
    {
     "name": "stderr",
     "output_type": "stream",
     "text": [
      "also installing the dependencies ‘checkmate’, ‘Formula’, ‘latticeExtra’, ‘acepack’, ‘htmlTable’, ‘viridis’\n",
      "\n"
     ]
    },
    {
     "name": "stdout",
     "output_type": "stream",
     "text": [
      "\n",
      "The downloaded binary packages are in\n",
      "\t/var/folders/1x/hdfy228j1m56sj_h_wlzdd6c0000gn/T//RtmpvnB3vD/downloaded_packages\n"
     ]
    },
    {
     "name": "stderr",
     "output_type": "stream",
     "text": [
      "Loading required package: lattice\n",
      "Loading required package: survival\n",
      "Loading required package: Formula\n",
      "Loading required package: ggplot2\n",
      "\n",
      "Attaching package: ‘Hmisc’\n",
      "\n",
      "The following objects are masked from ‘package:plyr’:\n",
      "\n",
      "    is.discrete, summarize\n",
      "\n",
      "The following objects are masked from ‘package:base’:\n",
      "\n",
      "    format.pval, units\n",
      "\n"
     ]
    }
   ],
   "source": [
    "install.packages('Hmisc')\n",
    "library(Hmisc)"
   ]
  },
  {
   "cell_type": "code",
   "execution_count": 74,
   "metadata": {},
   "outputs": [
    {
     "data": {
      "text/plain": [
       "\n",
       "[-21226,21205) [ 21205,21220) [ 21220,21227) [ 21227,21287] \n",
       "           338            375            300            314 "
      ]
     },
     "metadata": {},
     "output_type": "display_data"
    }
   ],
   "source": [
    "rest_data$zip_group <- cut2(rest_data$zipCode, g=4)\n",
    "table(rest_data$zip_group)"
   ]
  },
  {
   "cell_type": "markdown",
   "metadata": {},
   "source": [
    "**Creating Factor variable**"
   ]
  },
  {
   "cell_type": "code",
   "execution_count": 75,
   "metadata": {},
   "outputs": [
    {
     "data": {
      "text/html": [
       "<ol class=list-inline>\n",
       "\t<li>21206</li>\n",
       "\t<li>21231</li>\n",
       "\t<li>21224</li>\n",
       "\t<li>21211</li>\n",
       "\t<li>21223</li>\n",
       "\t<li>21218</li>\n",
       "\t<li>21205</li>\n",
       "\t<li>21211</li>\n",
       "\t<li>21205</li>\n",
       "\t<li>21231</li>\n",
       "</ol>\n",
       "\n",
       "<details>\n",
       "\t<summary style=display:list-item;cursor:pointer>\n",
       "\t\t<strong>Levels</strong>:\n",
       "\t</summary>\n",
       "\t<ol class=list-inline>\n",
       "\t\t<li>'-21226'</li>\n",
       "\t\t<li>'21201'</li>\n",
       "\t\t<li>'21202'</li>\n",
       "\t\t<li>'21205'</li>\n",
       "\t\t<li>'21206'</li>\n",
       "\t\t<li>'21207'</li>\n",
       "\t\t<li>'21208'</li>\n",
       "\t\t<li>'21209'</li>\n",
       "\t\t<li>'21210'</li>\n",
       "\t\t<li>'21211'</li>\n",
       "\t\t<li>'21212'</li>\n",
       "\t\t<li>'21213'</li>\n",
       "\t\t<li>'21214'</li>\n",
       "\t\t<li>'21215'</li>\n",
       "\t\t<li>'21216'</li>\n",
       "\t\t<li>'21217'</li>\n",
       "\t\t<li>'21218'</li>\n",
       "\t\t<li>'21220'</li>\n",
       "\t\t<li>'21222'</li>\n",
       "\t\t<li>'21223'</li>\n",
       "\t\t<li>'21224'</li>\n",
       "\t\t<li>'21225'</li>\n",
       "\t\t<li>'21226'</li>\n",
       "\t\t<li>'21227'</li>\n",
       "\t\t<li>'21229'</li>\n",
       "\t\t<li>'21230'</li>\n",
       "\t\t<li>'21231'</li>\n",
       "\t\t<li>'21234'</li>\n",
       "\t\t<li>'21237'</li>\n",
       "\t\t<li>'21239'</li>\n",
       "\t\t<li>'21251'</li>\n",
       "\t\t<li>'21287'</li>\n",
       "\t</ol>\n",
       "</details>"
      ],
      "text/latex": [
       "\\begin{enumerate*}\n",
       "\\item 21206\n",
       "\\item 21231\n",
       "\\item 21224\n",
       "\\item 21211\n",
       "\\item 21223\n",
       "\\item 21218\n",
       "\\item 21205\n",
       "\\item 21211\n",
       "\\item 21205\n",
       "\\item 21231\n",
       "\\end{enumerate*}\n",
       "\n",
       "\\emph{Levels}: \\begin{enumerate*}\n",
       "\\item '-21226'\n",
       "\\item '21201'\n",
       "\\item '21202'\n",
       "\\item '21205'\n",
       "\\item '21206'\n",
       "\\item '21207'\n",
       "\\item '21208'\n",
       "\\item '21209'\n",
       "\\item '21210'\n",
       "\\item '21211'\n",
       "\\item '21212'\n",
       "\\item '21213'\n",
       "\\item '21214'\n",
       "\\item '21215'\n",
       "\\item '21216'\n",
       "\\item '21217'\n",
       "\\item '21218'\n",
       "\\item '21220'\n",
       "\\item '21222'\n",
       "\\item '21223'\n",
       "\\item '21224'\n",
       "\\item '21225'\n",
       "\\item '21226'\n",
       "\\item '21227'\n",
       "\\item '21229'\n",
       "\\item '21230'\n",
       "\\item '21231'\n",
       "\\item '21234'\n",
       "\\item '21237'\n",
       "\\item '21239'\n",
       "\\item '21251'\n",
       "\\item '21287'\n",
       "\\end{enumerate*}\n"
      ],
      "text/markdown": [
       "1. 21206\n",
       "2. 21231\n",
       "3. 21224\n",
       "4. 21211\n",
       "5. 21223\n",
       "6. 21218\n",
       "7. 21205\n",
       "8. 21211\n",
       "9. 21205\n",
       "10. 21231\n",
       "\n",
       "\n",
       "\n",
       "**Levels**: 1. '-21226'\n",
       "2. '21201'\n",
       "3. '21202'\n",
       "4. '21205'\n",
       "5. '21206'\n",
       "6. '21207'\n",
       "7. '21208'\n",
       "8. '21209'\n",
       "9. '21210'\n",
       "10. '21211'\n",
       "11. '21212'\n",
       "12. '21213'\n",
       "13. '21214'\n",
       "14. '21215'\n",
       "15. '21216'\n",
       "16. '21217'\n",
       "17. '21218'\n",
       "18. '21220'\n",
       "19. '21222'\n",
       "20. '21223'\n",
       "21. '21224'\n",
       "22. '21225'\n",
       "23. '21226'\n",
       "24. '21227'\n",
       "25. '21229'\n",
       "26. '21230'\n",
       "27. '21231'\n",
       "28. '21234'\n",
       "29. '21237'\n",
       "30. '21239'\n",
       "31. '21251'\n",
       "32. '21287'\n",
       "\n",
       "\n"
      ],
      "text/plain": [
       " [1] 21206 21231 21224 21211 21223 21218 21205 21211 21205 21231\n",
       "32 Levels: -21226 21201 21202 21205 21206 21207 21208 21209 21210 ... 21287"
      ]
     },
     "metadata": {},
     "output_type": "display_data"
    }
   ],
   "source": [
    "rest_data$zcf <- factor(rest_data$zipCode)\n",
    "rest_data$zcf[1:10]"
   ]
  },
  {
   "cell_type": "code",
   "execution_count": 76,
   "metadata": {},
   "outputs": [
    {
     "data": {
      "text/html": [
       "'factor'"
      ],
      "text/latex": [
       "'factor'"
      ],
      "text/markdown": [
       "'factor'"
      ],
      "text/plain": [
       "[1] \"factor\""
      ]
     },
     "metadata": {},
     "output_type": "display_data"
    }
   ],
   "source": [
    "class(rest_data$zcf)"
   ]
  },
  {
   "cell_type": "code",
   "execution_count": 77,
   "metadata": {},
   "outputs": [
    {
     "data": {
      "text/html": [
       "<ol class=list-inline>\n",
       "\t<li>yes</li>\n",
       "\t<li>no</li>\n",
       "\t<li>yes</li>\n",
       "\t<li>no</li>\n",
       "\t<li>yes</li>\n",
       "\t<li>no</li>\n",
       "\t<li>no</li>\n",
       "\t<li>no</li>\n",
       "\t<li>yes</li>\n",
       "\t<li>yes</li>\n",
       "</ol>\n",
       "\n",
       "<details>\n",
       "\t<summary style=display:list-item;cursor:pointer>\n",
       "\t\t<strong>Levels</strong>:\n",
       "\t</summary>\n",
       "\t<ol class=list-inline>\n",
       "\t\t<li>'yes'</li>\n",
       "\t\t<li>'no'</li>\n",
       "\t</ol>\n",
       "</details>"
      ],
      "text/latex": [
       "\\begin{enumerate*}\n",
       "\\item yes\n",
       "\\item no\n",
       "\\item yes\n",
       "\\item no\n",
       "\\item yes\n",
       "\\item no\n",
       "\\item no\n",
       "\\item no\n",
       "\\item yes\n",
       "\\item yes\n",
       "\\end{enumerate*}\n",
       "\n",
       "\\emph{Levels}: \\begin{enumerate*}\n",
       "\\item 'yes'\n",
       "\\item 'no'\n",
       "\\end{enumerate*}\n"
      ],
      "text/markdown": [
       "1. yes\n",
       "2. no\n",
       "3. yes\n",
       "4. no\n",
       "5. yes\n",
       "6. no\n",
       "7. no\n",
       "8. no\n",
       "9. yes\n",
       "10. yes\n",
       "\n",
       "\n",
       "\n",
       "**Levels**: 1. 'yes'\n",
       "2. 'no'\n",
       "\n",
       "\n"
      ],
      "text/plain": [
       " [1] yes no  yes no  yes no  no  no  yes yes\n",
       "Levels: yes no"
      ]
     },
     "metadata": {},
     "output_type": "display_data"
    }
   ],
   "source": [
    "yesno <- sample(c('yes', 'no'), size = 10, replace = TRUE)\n",
    "yesnof <- factor(yesno, levels = c('yes', 'no'))\n",
    "yesnof"
   ]
  },
  {
   "cell_type": "code",
   "execution_count": 78,
   "metadata": {},
   "outputs": [
    {
     "data": {
      "text/html": [
       "<ol class=list-inline>\n",
       "\t<li>yes</li>\n",
       "\t<li>no</li>\n",
       "\t<li>yes</li>\n",
       "\t<li>no</li>\n",
       "\t<li>yes</li>\n",
       "\t<li>no</li>\n",
       "\t<li>no</li>\n",
       "\t<li>no</li>\n",
       "\t<li>yes</li>\n",
       "\t<li>yes</li>\n",
       "</ol>\n",
       "\n",
       "<details>\n",
       "\t<summary style=display:list-item;cursor:pointer>\n",
       "\t\t<strong>Levels</strong>:\n",
       "\t</summary>\n",
       "\t<ol class=list-inline>\n",
       "\t\t<li>'yes'</li>\n",
       "\t\t<li>'no'</li>\n",
       "\t</ol>\n",
       "</details>"
      ],
      "text/latex": [
       "\\begin{enumerate*}\n",
       "\\item yes\n",
       "\\item no\n",
       "\\item yes\n",
       "\\item no\n",
       "\\item yes\n",
       "\\item no\n",
       "\\item no\n",
       "\\item no\n",
       "\\item yes\n",
       "\\item yes\n",
       "\\end{enumerate*}\n",
       "\n",
       "\\emph{Levels}: \\begin{enumerate*}\n",
       "\\item 'yes'\n",
       "\\item 'no'\n",
       "\\end{enumerate*}\n"
      ],
      "text/markdown": [
       "1. yes\n",
       "2. no\n",
       "3. yes\n",
       "4. no\n",
       "5. yes\n",
       "6. no\n",
       "7. no\n",
       "8. no\n",
       "9. yes\n",
       "10. yes\n",
       "\n",
       "\n",
       "\n",
       "**Levels**: 1. 'yes'\n",
       "2. 'no'\n",
       "\n",
       "\n"
      ],
      "text/plain": [
       " [1] yes no  yes no  yes no  no  no  yes yes\n",
       "Levels: yes no"
      ]
     },
     "metadata": {},
     "output_type": "display_data"
    }
   ],
   "source": [
    "relevel(yesnof, ref='yes')"
   ]
  },
  {
   "cell_type": "code",
   "execution_count": 79,
   "metadata": {},
   "outputs": [
    {
     "data": {
      "text/html": [
       "<ol class=list-inline>\n",
       "\t<li>1</li>\n",
       "\t<li>2</li>\n",
       "\t<li>1</li>\n",
       "\t<li>2</li>\n",
       "\t<li>1</li>\n",
       "\t<li>2</li>\n",
       "\t<li>2</li>\n",
       "\t<li>2</li>\n",
       "\t<li>1</li>\n",
       "\t<li>1</li>\n",
       "</ol>\n"
      ],
      "text/latex": [
       "\\begin{enumerate*}\n",
       "\\item 1\n",
       "\\item 2\n",
       "\\item 1\n",
       "\\item 2\n",
       "\\item 1\n",
       "\\item 2\n",
       "\\item 2\n",
       "\\item 2\n",
       "\\item 1\n",
       "\\item 1\n",
       "\\end{enumerate*}\n"
      ],
      "text/markdown": [
       "1. 1\n",
       "2. 2\n",
       "3. 1\n",
       "4. 2\n",
       "5. 1\n",
       "6. 2\n",
       "7. 2\n",
       "8. 2\n",
       "9. 1\n",
       "10. 1\n",
       "\n",
       "\n"
      ],
      "text/plain": [
       " [1] 1 2 1 2 1 2 2 2 1 1"
      ]
     },
     "metadata": {},
     "output_type": "display_data"
    }
   ],
   "source": [
    "as.numeric(yesnof)"
   ]
  },
  {
   "cell_type": "code",
   "execution_count": 81,
   "metadata": {},
   "outputs": [
    {
     "data": {
      "text/plain": [
       "\n",
       "[-21226,21205) [ 21205,21220) [ 21220,21227) [ 21227,21287] \n",
       "           338            375            300            314 "
      ]
     },
     "metadata": {},
     "output_type": "display_data"
    }
   ],
   "source": [
    "# Using the mutate function\n",
    "library(Hmisc); library(plyr)\n",
    "rest_data2 <- mutate(rest_data, zip_groups = cut2(zipCode, g=4))\n",
    "table(rest_data2$zip_groups)"
   ]
  },
  {
   "cell_type": "markdown",
   "metadata": {},
   "source": [
    "## Reshaping data"
   ]
  },
  {
   "cell_type": "code",
   "execution_count": 82,
   "metadata": {},
   "outputs": [
    {
     "data": {
      "text/html": [
       "<table>\n",
       "<caption>A data.frame: 6 × 11</caption>\n",
       "<thead>\n",
       "\t<tr><th></th><th scope=col>mpg</th><th scope=col>cyl</th><th scope=col>disp</th><th scope=col>hp</th><th scope=col>drat</th><th scope=col>wt</th><th scope=col>qsec</th><th scope=col>vs</th><th scope=col>am</th><th scope=col>gear</th><th scope=col>carb</th></tr>\n",
       "\t<tr><th></th><th scope=col>&lt;dbl&gt;</th><th scope=col>&lt;dbl&gt;</th><th scope=col>&lt;dbl&gt;</th><th scope=col>&lt;dbl&gt;</th><th scope=col>&lt;dbl&gt;</th><th scope=col>&lt;dbl&gt;</th><th scope=col>&lt;dbl&gt;</th><th scope=col>&lt;dbl&gt;</th><th scope=col>&lt;dbl&gt;</th><th scope=col>&lt;dbl&gt;</th><th scope=col>&lt;dbl&gt;</th></tr>\n",
       "</thead>\n",
       "<tbody>\n",
       "\t<tr><th scope=row>Mazda RX4</th><td>21.0</td><td>6</td><td>160</td><td>110</td><td>3.90</td><td>2.620</td><td>16.46</td><td>0</td><td>1</td><td>4</td><td>4</td></tr>\n",
       "\t<tr><th scope=row>Mazda RX4 Wag</th><td>21.0</td><td>6</td><td>160</td><td>110</td><td>3.90</td><td>2.875</td><td>17.02</td><td>0</td><td>1</td><td>4</td><td>4</td></tr>\n",
       "\t<tr><th scope=row>Datsun 710</th><td>22.8</td><td>4</td><td>108</td><td> 93</td><td>3.85</td><td>2.320</td><td>18.61</td><td>1</td><td>1</td><td>4</td><td>1</td></tr>\n",
       "\t<tr><th scope=row>Hornet 4 Drive</th><td>21.4</td><td>6</td><td>258</td><td>110</td><td>3.08</td><td>3.215</td><td>19.44</td><td>1</td><td>0</td><td>3</td><td>1</td></tr>\n",
       "\t<tr><th scope=row>Hornet Sportabout</th><td>18.7</td><td>8</td><td>360</td><td>175</td><td>3.15</td><td>3.440</td><td>17.02</td><td>0</td><td>0</td><td>3</td><td>2</td></tr>\n",
       "\t<tr><th scope=row>Valiant</th><td>18.1</td><td>6</td><td>225</td><td>105</td><td>2.76</td><td>3.460</td><td>20.22</td><td>1</td><td>0</td><td>3</td><td>1</td></tr>\n",
       "</tbody>\n",
       "</table>\n"
      ],
      "text/latex": [
       "A data.frame: 6 × 11\n",
       "\\begin{tabular}{r|lllllllllll}\n",
       "  & mpg & cyl & disp & hp & drat & wt & qsec & vs & am & gear & carb\\\\\n",
       "  & <dbl> & <dbl> & <dbl> & <dbl> & <dbl> & <dbl> & <dbl> & <dbl> & <dbl> & <dbl> & <dbl>\\\\\n",
       "\\hline\n",
       "\tMazda RX4 & 21.0 & 6 & 160 & 110 & 3.90 & 2.620 & 16.46 & 0 & 1 & 4 & 4\\\\\n",
       "\tMazda RX4 Wag & 21.0 & 6 & 160 & 110 & 3.90 & 2.875 & 17.02 & 0 & 1 & 4 & 4\\\\\n",
       "\tDatsun 710 & 22.8 & 4 & 108 &  93 & 3.85 & 2.320 & 18.61 & 1 & 1 & 4 & 1\\\\\n",
       "\tHornet 4 Drive & 21.4 & 6 & 258 & 110 & 3.08 & 3.215 & 19.44 & 1 & 0 & 3 & 1\\\\\n",
       "\tHornet Sportabout & 18.7 & 8 & 360 & 175 & 3.15 & 3.440 & 17.02 & 0 & 0 & 3 & 2\\\\\n",
       "\tValiant & 18.1 & 6 & 225 & 105 & 2.76 & 3.460 & 20.22 & 1 & 0 & 3 & 1\\\\\n",
       "\\end{tabular}\n"
      ],
      "text/markdown": [
       "\n",
       "A data.frame: 6 × 11\n",
       "\n",
       "| <!--/--> | mpg &lt;dbl&gt; | cyl &lt;dbl&gt; | disp &lt;dbl&gt; | hp &lt;dbl&gt; | drat &lt;dbl&gt; | wt &lt;dbl&gt; | qsec &lt;dbl&gt; | vs &lt;dbl&gt; | am &lt;dbl&gt; | gear &lt;dbl&gt; | carb &lt;dbl&gt; |\n",
       "|---|---|---|---|---|---|---|---|---|---|---|---|\n",
       "| Mazda RX4 | 21.0 | 6 | 160 | 110 | 3.90 | 2.620 | 16.46 | 0 | 1 | 4 | 4 |\n",
       "| Mazda RX4 Wag | 21.0 | 6 | 160 | 110 | 3.90 | 2.875 | 17.02 | 0 | 1 | 4 | 4 |\n",
       "| Datsun 710 | 22.8 | 4 | 108 |  93 | 3.85 | 2.320 | 18.61 | 1 | 1 | 4 | 1 |\n",
       "| Hornet 4 Drive | 21.4 | 6 | 258 | 110 | 3.08 | 3.215 | 19.44 | 1 | 0 | 3 | 1 |\n",
       "| Hornet Sportabout | 18.7 | 8 | 360 | 175 | 3.15 | 3.440 | 17.02 | 0 | 0 | 3 | 2 |\n",
       "| Valiant | 18.1 | 6 | 225 | 105 | 2.76 | 3.460 | 20.22 | 1 | 0 | 3 | 1 |\n",
       "\n"
      ],
      "text/plain": [
       "                  mpg  cyl disp hp  drat wt    qsec  vs am gear carb\n",
       "Mazda RX4         21.0 6   160  110 3.90 2.620 16.46 0  1  4    4   \n",
       "Mazda RX4 Wag     21.0 6   160  110 3.90 2.875 17.02 0  1  4    4   \n",
       "Datsun 710        22.8 4   108   93 3.85 2.320 18.61 1  1  4    1   \n",
       "Hornet 4 Drive    21.4 6   258  110 3.08 3.215 19.44 1  0  3    1   \n",
       "Hornet Sportabout 18.7 8   360  175 3.15 3.440 17.02 0  0  3    2   \n",
       "Valiant           18.1 6   225  105 2.76 3.460 20.22 1  0  3    1   "
      ]
     },
     "metadata": {},
     "output_type": "display_data"
    }
   ],
   "source": [
    "library(reshape2)\n",
    "head(mtcars)"
   ]
  },
  {
   "cell_type": "code",
   "execution_count": 83,
   "metadata": {},
   "outputs": [
    {
     "data": {
      "text/html": [
       "<table>\n",
       "<caption>A data.frame: 3 × 5</caption>\n",
       "<thead>\n",
       "\t<tr><th scope=col>carnames</th><th scope=col>gear</th><th scope=col>cyl</th><th scope=col>variable</th><th scope=col>value</th></tr>\n",
       "\t<tr><th scope=col>&lt;chr&gt;</th><th scope=col>&lt;dbl&gt;</th><th scope=col>&lt;dbl&gt;</th><th scope=col>&lt;fct&gt;</th><th scope=col>&lt;dbl&gt;</th></tr>\n",
       "</thead>\n",
       "<tbody>\n",
       "\t<tr><td>Mazda RX4    </td><td>4</td><td>6</td><td>mpg</td><td>21.0</td></tr>\n",
       "\t<tr><td>Mazda RX4 Wag</td><td>4</td><td>6</td><td>mpg</td><td>21.0</td></tr>\n",
       "\t<tr><td>Datsun 710   </td><td>4</td><td>4</td><td>mpg</td><td>22.8</td></tr>\n",
       "</tbody>\n",
       "</table>\n"
      ],
      "text/latex": [
       "A data.frame: 3 × 5\n",
       "\\begin{tabular}{r|lllll}\n",
       " carnames & gear & cyl & variable & value\\\\\n",
       " <chr> & <dbl> & <dbl> & <fct> & <dbl>\\\\\n",
       "\\hline\n",
       "\t Mazda RX4     & 4 & 6 & mpg & 21.0\\\\\n",
       "\t Mazda RX4 Wag & 4 & 6 & mpg & 21.0\\\\\n",
       "\t Datsun 710    & 4 & 4 & mpg & 22.8\\\\\n",
       "\\end{tabular}\n"
      ],
      "text/markdown": [
       "\n",
       "A data.frame: 3 × 5\n",
       "\n",
       "| carnames &lt;chr&gt; | gear &lt;dbl&gt; | cyl &lt;dbl&gt; | variable &lt;fct&gt; | value &lt;dbl&gt; |\n",
       "|---|---|---|---|---|\n",
       "| Mazda RX4     | 4 | 6 | mpg | 21.0 |\n",
       "| Mazda RX4 Wag | 4 | 6 | mpg | 21.0 |\n",
       "| Datsun 710    | 4 | 4 | mpg | 22.8 |\n",
       "\n"
      ],
      "text/plain": [
       "  carnames      gear cyl variable value\n",
       "1 Mazda RX4     4    6   mpg      21.0 \n",
       "2 Mazda RX4 Wag 4    6   mpg      21.0 \n",
       "3 Datsun 710    4    4   mpg      22.8 "
      ]
     },
     "metadata": {},
     "output_type": "display_data"
    }
   ],
   "source": [
    "mtcars$carnames <- rownames(mtcars)\n",
    "car_melt <- melt(mtcars, id=c('carnames', 'gear', 'cyl'), measure.vars = c('mpg', 'hp'))\n",
    "head(car_melt, n=3)"
   ]
  },
  {
   "cell_type": "code",
   "execution_count": 84,
   "metadata": {},
   "outputs": [
    {
     "data": {
      "text/html": [
       "<table>\n",
       "<caption>A data.frame: 6 × 5</caption>\n",
       "<thead>\n",
       "\t<tr><th></th><th scope=col>carnames</th><th scope=col>gear</th><th scope=col>cyl</th><th scope=col>variable</th><th scope=col>value</th></tr>\n",
       "\t<tr><th></th><th scope=col>&lt;chr&gt;</th><th scope=col>&lt;dbl&gt;</th><th scope=col>&lt;dbl&gt;</th><th scope=col>&lt;fct&gt;</th><th scope=col>&lt;dbl&gt;</th></tr>\n",
       "</thead>\n",
       "<tbody>\n",
       "\t<tr><th scope=row>59</th><td>Porsche 914-2 </td><td>5</td><td>4</td><td>hp</td><td> 91</td></tr>\n",
       "\t<tr><th scope=row>60</th><td>Lotus Europa  </td><td>5</td><td>4</td><td>hp</td><td>113</td></tr>\n",
       "\t<tr><th scope=row>61</th><td>Ford Pantera L</td><td>5</td><td>8</td><td>hp</td><td>264</td></tr>\n",
       "\t<tr><th scope=row>62</th><td>Ferrari Dino  </td><td>5</td><td>6</td><td>hp</td><td>175</td></tr>\n",
       "\t<tr><th scope=row>63</th><td>Maserati Bora </td><td>5</td><td>8</td><td>hp</td><td>335</td></tr>\n",
       "\t<tr><th scope=row>64</th><td>Volvo 142E    </td><td>4</td><td>4</td><td>hp</td><td>109</td></tr>\n",
       "</tbody>\n",
       "</table>\n"
      ],
      "text/latex": [
       "A data.frame: 6 × 5\n",
       "\\begin{tabular}{r|lllll}\n",
       "  & carnames & gear & cyl & variable & value\\\\\n",
       "  & <chr> & <dbl> & <dbl> & <fct> & <dbl>\\\\\n",
       "\\hline\n",
       "\t59 & Porsche 914-2  & 5 & 4 & hp &  91\\\\\n",
       "\t60 & Lotus Europa   & 5 & 4 & hp & 113\\\\\n",
       "\t61 & Ford Pantera L & 5 & 8 & hp & 264\\\\\n",
       "\t62 & Ferrari Dino   & 5 & 6 & hp & 175\\\\\n",
       "\t63 & Maserati Bora  & 5 & 8 & hp & 335\\\\\n",
       "\t64 & Volvo 142E     & 4 & 4 & hp & 109\\\\\n",
       "\\end{tabular}\n"
      ],
      "text/markdown": [
       "\n",
       "A data.frame: 6 × 5\n",
       "\n",
       "| <!--/--> | carnames &lt;chr&gt; | gear &lt;dbl&gt; | cyl &lt;dbl&gt; | variable &lt;fct&gt; | value &lt;dbl&gt; |\n",
       "|---|---|---|---|---|---|\n",
       "| 59 | Porsche 914-2  | 5 | 4 | hp |  91 |\n",
       "| 60 | Lotus Europa   | 5 | 4 | hp | 113 |\n",
       "| 61 | Ford Pantera L | 5 | 8 | hp | 264 |\n",
       "| 62 | Ferrari Dino   | 5 | 6 | hp | 175 |\n",
       "| 63 | Maserati Bora  | 5 | 8 | hp | 335 |\n",
       "| 64 | Volvo 142E     | 4 | 4 | hp | 109 |\n",
       "\n"
      ],
      "text/plain": [
       "   carnames       gear cyl variable value\n",
       "59 Porsche 914-2  5    4   hp        91  \n",
       "60 Lotus Europa   5    4   hp       113  \n",
       "61 Ford Pantera L 5    8   hp       264  \n",
       "62 Ferrari Dino   5    6   hp       175  \n",
       "63 Maserati Bora  5    8   hp       335  \n",
       "64 Volvo 142E     4    4   hp       109  "
      ]
     },
     "metadata": {},
     "output_type": "display_data"
    }
   ],
   "source": [
    "tail(car_melt)"
   ]
  },
  {
   "cell_type": "markdown",
   "metadata": {},
   "source": [
    "**Casting data frame**"
   ]
  },
  {
   "cell_type": "code",
   "execution_count": 87,
   "metadata": {},
   "outputs": [
    {
     "name": "stderr",
     "output_type": "stream",
     "text": [
      "Aggregation function missing: defaulting to length\n"
     ]
    },
    {
     "data": {
      "text/html": [
       "<table>\n",
       "<caption>A data.frame: 3 × 3</caption>\n",
       "<thead>\n",
       "\t<tr><th scope=col>cyl</th><th scope=col>mpg</th><th scope=col>hp</th></tr>\n",
       "\t<tr><th scope=col>&lt;dbl&gt;</th><th scope=col>&lt;int&gt;</th><th scope=col>&lt;int&gt;</th></tr>\n",
       "</thead>\n",
       "<tbody>\n",
       "\t<tr><td>4</td><td>11</td><td>11</td></tr>\n",
       "\t<tr><td>6</td><td> 7</td><td> 7</td></tr>\n",
       "\t<tr><td>8</td><td>14</td><td>14</td></tr>\n",
       "</tbody>\n",
       "</table>\n"
      ],
      "text/latex": [
       "A data.frame: 3 × 3\n",
       "\\begin{tabular}{r|lll}\n",
       " cyl & mpg & hp\\\\\n",
       " <dbl> & <int> & <int>\\\\\n",
       "\\hline\n",
       "\t 4 & 11 & 11\\\\\n",
       "\t 6 &  7 &  7\\\\\n",
       "\t 8 & 14 & 14\\\\\n",
       "\\end{tabular}\n"
      ],
      "text/markdown": [
       "\n",
       "A data.frame: 3 × 3\n",
       "\n",
       "| cyl &lt;dbl&gt; | mpg &lt;int&gt; | hp &lt;int&gt; |\n",
       "|---|---|---|\n",
       "| 4 | 11 | 11 |\n",
       "| 6 |  7 |  7 |\n",
       "| 8 | 14 | 14 |\n",
       "\n"
      ],
      "text/plain": [
       "  cyl mpg hp\n",
       "1 4   11  11\n",
       "2 6    7   7\n",
       "3 8   14  14"
      ]
     },
     "metadata": {},
     "output_type": "display_data"
    }
   ],
   "source": [
    "cyl_data <- dcast(car_melt, cyl ~ variable)\n",
    "cyl_data"
   ]
  },
  {
   "cell_type": "code",
   "execution_count": 88,
   "metadata": {},
   "outputs": [
    {
     "data": {
      "text/html": [
       "<table>\n",
       "<caption>A data.frame: 3 × 3</caption>\n",
       "<thead>\n",
       "\t<tr><th scope=col>cyl</th><th scope=col>mpg</th><th scope=col>hp</th></tr>\n",
       "\t<tr><th scope=col>&lt;dbl&gt;</th><th scope=col>&lt;dbl&gt;</th><th scope=col>&lt;dbl&gt;</th></tr>\n",
       "</thead>\n",
       "<tbody>\n",
       "\t<tr><td>4</td><td>26.66364</td><td> 82.63636</td></tr>\n",
       "\t<tr><td>6</td><td>19.74286</td><td>122.28571</td></tr>\n",
       "\t<tr><td>8</td><td>15.10000</td><td>209.21429</td></tr>\n",
       "</tbody>\n",
       "</table>\n"
      ],
      "text/latex": [
       "A data.frame: 3 × 3\n",
       "\\begin{tabular}{r|lll}\n",
       " cyl & mpg & hp\\\\\n",
       " <dbl> & <dbl> & <dbl>\\\\\n",
       "\\hline\n",
       "\t 4 & 26.66364 &  82.63636\\\\\n",
       "\t 6 & 19.74286 & 122.28571\\\\\n",
       "\t 8 & 15.10000 & 209.21429\\\\\n",
       "\\end{tabular}\n"
      ],
      "text/markdown": [
       "\n",
       "A data.frame: 3 × 3\n",
       "\n",
       "| cyl &lt;dbl&gt; | mpg &lt;dbl&gt; | hp &lt;dbl&gt; |\n",
       "|---|---|---|\n",
       "| 4 | 26.66364 |  82.63636 |\n",
       "| 6 | 19.74286 | 122.28571 |\n",
       "| 8 | 15.10000 | 209.21429 |\n",
       "\n"
      ],
      "text/plain": [
       "  cyl mpg      hp       \n",
       "1 4   26.66364  82.63636\n",
       "2 6   19.74286 122.28571\n",
       "3 8   15.10000 209.21429"
      ]
     },
     "metadata": {},
     "output_type": "display_data"
    }
   ],
   "source": [
    "cyl_data <- dcast(car_melt, cyl ~ variable, mean)\n",
    "cyl_data"
   ]
  },
  {
   "cell_type": "markdown",
   "metadata": {},
   "source": [
    "**Averaging values**"
   ]
  },
  {
   "cell_type": "code",
   "execution_count": 89,
   "metadata": {
    "scrolled": false
   },
   "outputs": [
    {
     "data": {
      "text/html": [
       "<table>\n",
       "<caption>A data.frame: 6 × 2</caption>\n",
       "<thead>\n",
       "\t<tr><th scope=col>count</th><th scope=col>spray</th></tr>\n",
       "\t<tr><th scope=col>&lt;dbl&gt;</th><th scope=col>&lt;fct&gt;</th></tr>\n",
       "</thead>\n",
       "<tbody>\n",
       "\t<tr><td>10</td><td>A</td></tr>\n",
       "\t<tr><td> 7</td><td>A</td></tr>\n",
       "\t<tr><td>20</td><td>A</td></tr>\n",
       "\t<tr><td>14</td><td>A</td></tr>\n",
       "\t<tr><td>14</td><td>A</td></tr>\n",
       "\t<tr><td>12</td><td>A</td></tr>\n",
       "</tbody>\n",
       "</table>\n"
      ],
      "text/latex": [
       "A data.frame: 6 × 2\n",
       "\\begin{tabular}{r|ll}\n",
       " count & spray\\\\\n",
       " <dbl> & <fct>\\\\\n",
       "\\hline\n",
       "\t 10 & A\\\\\n",
       "\t  7 & A\\\\\n",
       "\t 20 & A\\\\\n",
       "\t 14 & A\\\\\n",
       "\t 14 & A\\\\\n",
       "\t 12 & A\\\\\n",
       "\\end{tabular}\n"
      ],
      "text/markdown": [
       "\n",
       "A data.frame: 6 × 2\n",
       "\n",
       "| count &lt;dbl&gt; | spray &lt;fct&gt; |\n",
       "|---|---|\n",
       "| 10 | A |\n",
       "|  7 | A |\n",
       "| 20 | A |\n",
       "| 14 | A |\n",
       "| 14 | A |\n",
       "| 12 | A |\n",
       "\n"
      ],
      "text/plain": [
       "  count spray\n",
       "1 10    A    \n",
       "2  7    A    \n",
       "3 20    A    \n",
       "4 14    A    \n",
       "5 14    A    \n",
       "6 12    A    "
      ]
     },
     "metadata": {},
     "output_type": "display_data"
    }
   ],
   "source": [
    "head(InsectSprays)"
   ]
  },
  {
   "cell_type": "code",
   "execution_count": 90,
   "metadata": {},
   "outputs": [
    {
     "data": {
      "text/html": [
       "<dl class=dl-horizontal>\n",
       "\t<dt>A</dt>\n",
       "\t\t<dd>174</dd>\n",
       "\t<dt>B</dt>\n",
       "\t\t<dd>184</dd>\n",
       "\t<dt>C</dt>\n",
       "\t\t<dd>25</dd>\n",
       "\t<dt>D</dt>\n",
       "\t\t<dd>59</dd>\n",
       "\t<dt>E</dt>\n",
       "\t\t<dd>42</dd>\n",
       "\t<dt>F</dt>\n",
       "\t\t<dd>200</dd>\n",
       "</dl>\n"
      ],
      "text/latex": [
       "\\begin{description*}\n",
       "\\item[A] 174\n",
       "\\item[B] 184\n",
       "\\item[C] 25\n",
       "\\item[D] 59\n",
       "\\item[E] 42\n",
       "\\item[F] 200\n",
       "\\end{description*}\n"
      ],
      "text/markdown": [
       "A\n",
       ":   174B\n",
       ":   184C\n",
       ":   25D\n",
       ":   59E\n",
       ":   42F\n",
       ":   200\n",
       "\n"
      ],
      "text/plain": [
       "  A   B   C   D   E   F \n",
       "174 184  25  59  42 200 "
      ]
     },
     "metadata": {},
     "output_type": "display_data"
    }
   ],
   "source": [
    "tapply(InsectSprays$count, InsectSprays$spray, sum)"
   ]
  },
  {
   "cell_type": "code",
   "execution_count": 91,
   "metadata": {
    "scrolled": true
   },
   "outputs": [
    {
     "data": {
      "text/html": [
       "<dl>\n",
       "\t<dt>$A</dt>\n",
       "\t\t<dd><ol class=list-inline>\n",
       "\t<li>10</li>\n",
       "\t<li>7</li>\n",
       "\t<li>20</li>\n",
       "\t<li>14</li>\n",
       "\t<li>14</li>\n",
       "\t<li>12</li>\n",
       "\t<li>10</li>\n",
       "\t<li>23</li>\n",
       "\t<li>17</li>\n",
       "\t<li>20</li>\n",
       "\t<li>14</li>\n",
       "\t<li>13</li>\n",
       "</ol>\n",
       "</dd>\n",
       "\t<dt>$B</dt>\n",
       "\t\t<dd><ol class=list-inline>\n",
       "\t<li>11</li>\n",
       "\t<li>17</li>\n",
       "\t<li>21</li>\n",
       "\t<li>11</li>\n",
       "\t<li>16</li>\n",
       "\t<li>14</li>\n",
       "\t<li>17</li>\n",
       "\t<li>17</li>\n",
       "\t<li>19</li>\n",
       "\t<li>21</li>\n",
       "\t<li>7</li>\n",
       "\t<li>13</li>\n",
       "</ol>\n",
       "</dd>\n",
       "\t<dt>$C</dt>\n",
       "\t\t<dd><ol class=list-inline>\n",
       "\t<li>0</li>\n",
       "\t<li>1</li>\n",
       "\t<li>7</li>\n",
       "\t<li>2</li>\n",
       "\t<li>3</li>\n",
       "\t<li>1</li>\n",
       "\t<li>2</li>\n",
       "\t<li>1</li>\n",
       "\t<li>3</li>\n",
       "\t<li>0</li>\n",
       "\t<li>1</li>\n",
       "\t<li>4</li>\n",
       "</ol>\n",
       "</dd>\n",
       "\t<dt>$D</dt>\n",
       "\t\t<dd><ol class=list-inline>\n",
       "\t<li>3</li>\n",
       "\t<li>5</li>\n",
       "\t<li>12</li>\n",
       "\t<li>6</li>\n",
       "\t<li>4</li>\n",
       "\t<li>3</li>\n",
       "\t<li>5</li>\n",
       "\t<li>5</li>\n",
       "\t<li>5</li>\n",
       "\t<li>5</li>\n",
       "\t<li>2</li>\n",
       "\t<li>4</li>\n",
       "</ol>\n",
       "</dd>\n",
       "\t<dt>$E</dt>\n",
       "\t\t<dd><ol class=list-inline>\n",
       "\t<li>3</li>\n",
       "\t<li>5</li>\n",
       "\t<li>3</li>\n",
       "\t<li>5</li>\n",
       "\t<li>3</li>\n",
       "\t<li>6</li>\n",
       "\t<li>1</li>\n",
       "\t<li>1</li>\n",
       "\t<li>3</li>\n",
       "\t<li>2</li>\n",
       "\t<li>6</li>\n",
       "\t<li>4</li>\n",
       "</ol>\n",
       "</dd>\n",
       "\t<dt>$F</dt>\n",
       "\t\t<dd><ol class=list-inline>\n",
       "\t<li>11</li>\n",
       "\t<li>9</li>\n",
       "\t<li>15</li>\n",
       "\t<li>22</li>\n",
       "\t<li>15</li>\n",
       "\t<li>16</li>\n",
       "\t<li>13</li>\n",
       "\t<li>10</li>\n",
       "\t<li>26</li>\n",
       "\t<li>26</li>\n",
       "\t<li>24</li>\n",
       "\t<li>13</li>\n",
       "</ol>\n",
       "</dd>\n",
       "</dl>\n"
      ],
      "text/latex": [
       "\\begin{description}\n",
       "\\item[\\$A] \\begin{enumerate*}\n",
       "\\item 10\n",
       "\\item 7\n",
       "\\item 20\n",
       "\\item 14\n",
       "\\item 14\n",
       "\\item 12\n",
       "\\item 10\n",
       "\\item 23\n",
       "\\item 17\n",
       "\\item 20\n",
       "\\item 14\n",
       "\\item 13\n",
       "\\end{enumerate*}\n",
       "\n",
       "\\item[\\$B] \\begin{enumerate*}\n",
       "\\item 11\n",
       "\\item 17\n",
       "\\item 21\n",
       "\\item 11\n",
       "\\item 16\n",
       "\\item 14\n",
       "\\item 17\n",
       "\\item 17\n",
       "\\item 19\n",
       "\\item 21\n",
       "\\item 7\n",
       "\\item 13\n",
       "\\end{enumerate*}\n",
       "\n",
       "\\item[\\$C] \\begin{enumerate*}\n",
       "\\item 0\n",
       "\\item 1\n",
       "\\item 7\n",
       "\\item 2\n",
       "\\item 3\n",
       "\\item 1\n",
       "\\item 2\n",
       "\\item 1\n",
       "\\item 3\n",
       "\\item 0\n",
       "\\item 1\n",
       "\\item 4\n",
       "\\end{enumerate*}\n",
       "\n",
       "\\item[\\$D] \\begin{enumerate*}\n",
       "\\item 3\n",
       "\\item 5\n",
       "\\item 12\n",
       "\\item 6\n",
       "\\item 4\n",
       "\\item 3\n",
       "\\item 5\n",
       "\\item 5\n",
       "\\item 5\n",
       "\\item 5\n",
       "\\item 2\n",
       "\\item 4\n",
       "\\end{enumerate*}\n",
       "\n",
       "\\item[\\$E] \\begin{enumerate*}\n",
       "\\item 3\n",
       "\\item 5\n",
       "\\item 3\n",
       "\\item 5\n",
       "\\item 3\n",
       "\\item 6\n",
       "\\item 1\n",
       "\\item 1\n",
       "\\item 3\n",
       "\\item 2\n",
       "\\item 6\n",
       "\\item 4\n",
       "\\end{enumerate*}\n",
       "\n",
       "\\item[\\$F] \\begin{enumerate*}\n",
       "\\item 11\n",
       "\\item 9\n",
       "\\item 15\n",
       "\\item 22\n",
       "\\item 15\n",
       "\\item 16\n",
       "\\item 13\n",
       "\\item 10\n",
       "\\item 26\n",
       "\\item 26\n",
       "\\item 24\n",
       "\\item 13\n",
       "\\end{enumerate*}\n",
       "\n",
       "\\end{description}\n"
      ],
      "text/markdown": [
       "$A\n",
       ":   1. 10\n",
       "2. 7\n",
       "3. 20\n",
       "4. 14\n",
       "5. 14\n",
       "6. 12\n",
       "7. 10\n",
       "8. 23\n",
       "9. 17\n",
       "10. 20\n",
       "11. 14\n",
       "12. 13\n",
       "\n",
       "\n",
       "\n",
       "$B\n",
       ":   1. 11\n",
       "2. 17\n",
       "3. 21\n",
       "4. 11\n",
       "5. 16\n",
       "6. 14\n",
       "7. 17\n",
       "8. 17\n",
       "9. 19\n",
       "10. 21\n",
       "11. 7\n",
       "12. 13\n",
       "\n",
       "\n",
       "\n",
       "$C\n",
       ":   1. 0\n",
       "2. 1\n",
       "3. 7\n",
       "4. 2\n",
       "5. 3\n",
       "6. 1\n",
       "7. 2\n",
       "8. 1\n",
       "9. 3\n",
       "10. 0\n",
       "11. 1\n",
       "12. 4\n",
       "\n",
       "\n",
       "\n",
       "$D\n",
       ":   1. 3\n",
       "2. 5\n",
       "3. 12\n",
       "4. 6\n",
       "5. 4\n",
       "6. 3\n",
       "7. 5\n",
       "8. 5\n",
       "9. 5\n",
       "10. 5\n",
       "11. 2\n",
       "12. 4\n",
       "\n",
       "\n",
       "\n",
       "$E\n",
       ":   1. 3\n",
       "2. 5\n",
       "3. 3\n",
       "4. 5\n",
       "5. 3\n",
       "6. 6\n",
       "7. 1\n",
       "8. 1\n",
       "9. 3\n",
       "10. 2\n",
       "11. 6\n",
       "12. 4\n",
       "\n",
       "\n",
       "\n",
       "$F\n",
       ":   1. 11\n",
       "2. 9\n",
       "3. 15\n",
       "4. 22\n",
       "5. 15\n",
       "6. 16\n",
       "7. 13\n",
       "8. 10\n",
       "9. 26\n",
       "10. 26\n",
       "11. 24\n",
       "12. 13\n",
       "\n",
       "\n",
       "\n",
       "\n",
       "\n"
      ],
      "text/plain": [
       "$A\n",
       " [1] 10  7 20 14 14 12 10 23 17 20 14 13\n",
       "\n",
       "$B\n",
       " [1] 11 17 21 11 16 14 17 17 19 21  7 13\n",
       "\n",
       "$C\n",
       " [1] 0 1 7 2 3 1 2 1 3 0 1 4\n",
       "\n",
       "$D\n",
       " [1]  3  5 12  6  4  3  5  5  5  5  2  4\n",
       "\n",
       "$E\n",
       " [1] 3 5 3 5 3 6 1 1 3 2 6 4\n",
       "\n",
       "$F\n",
       " [1] 11  9 15 22 15 16 13 10 26 26 24 13\n"
      ]
     },
     "metadata": {},
     "output_type": "display_data"
    }
   ],
   "source": [
    "spIns <- split(InsectSprays$count, InsectSprays$spray)\n",
    "spIns"
   ]
  },
  {
   "cell_type": "code",
   "execution_count": 92,
   "metadata": {},
   "outputs": [
    {
     "data": {
      "text/html": [
       "<dl>\n",
       "\t<dt>$A</dt>\n",
       "\t\t<dd>174</dd>\n",
       "\t<dt>$B</dt>\n",
       "\t\t<dd>184</dd>\n",
       "\t<dt>$C</dt>\n",
       "\t\t<dd>25</dd>\n",
       "\t<dt>$D</dt>\n",
       "\t\t<dd>59</dd>\n",
       "\t<dt>$E</dt>\n",
       "\t\t<dd>42</dd>\n",
       "\t<dt>$F</dt>\n",
       "\t\t<dd>200</dd>\n",
       "</dl>\n"
      ],
      "text/latex": [
       "\\begin{description}\n",
       "\\item[\\$A] 174\n",
       "\\item[\\$B] 184\n",
       "\\item[\\$C] 25\n",
       "\\item[\\$D] 59\n",
       "\\item[\\$E] 42\n",
       "\\item[\\$F] 200\n",
       "\\end{description}\n"
      ],
      "text/markdown": [
       "$A\n",
       ":   174\n",
       "$B\n",
       ":   184\n",
       "$C\n",
       ":   25\n",
       "$D\n",
       ":   59\n",
       "$E\n",
       ":   42\n",
       "$F\n",
       ":   200\n",
       "\n",
       "\n"
      ],
      "text/plain": [
       "$A\n",
       "[1] 174\n",
       "\n",
       "$B\n",
       "[1] 184\n",
       "\n",
       "$C\n",
       "[1] 25\n",
       "\n",
       "$D\n",
       "[1] 59\n",
       "\n",
       "$E\n",
       "[1] 42\n",
       "\n",
       "$F\n",
       "[1] 200\n"
      ]
     },
     "metadata": {},
     "output_type": "display_data"
    }
   ],
   "source": [
    "sprCount <- lapply(spIns, sum)\n",
    "sprCount"
   ]
  },
  {
   "cell_type": "code",
   "execution_count": 93,
   "metadata": {},
   "outputs": [
    {
     "data": {
      "text/html": [
       "<dl class=dl-horizontal>\n",
       "\t<dt>A</dt>\n",
       "\t\t<dd>174</dd>\n",
       "\t<dt>B</dt>\n",
       "\t\t<dd>184</dd>\n",
       "\t<dt>C</dt>\n",
       "\t\t<dd>25</dd>\n",
       "\t<dt>D</dt>\n",
       "\t\t<dd>59</dd>\n",
       "\t<dt>E</dt>\n",
       "\t\t<dd>42</dd>\n",
       "\t<dt>F</dt>\n",
       "\t\t<dd>200</dd>\n",
       "</dl>\n"
      ],
      "text/latex": [
       "\\begin{description*}\n",
       "\\item[A] 174\n",
       "\\item[B] 184\n",
       "\\item[C] 25\n",
       "\\item[D] 59\n",
       "\\item[E] 42\n",
       "\\item[F] 200\n",
       "\\end{description*}\n"
      ],
      "text/markdown": [
       "A\n",
       ":   174B\n",
       ":   184C\n",
       ":   25D\n",
       ":   59E\n",
       ":   42F\n",
       ":   200\n",
       "\n"
      ],
      "text/plain": [
       "  A   B   C   D   E   F \n",
       "174 184  25  59  42 200 "
      ]
     },
     "metadata": {},
     "output_type": "display_data"
    }
   ],
   "source": [
    "unlist(sprCount)"
   ]
  },
  {
   "cell_type": "code",
   "execution_count": 94,
   "metadata": {},
   "outputs": [
    {
     "data": {
      "text/html": [
       "<dl class=dl-horizontal>\n",
       "\t<dt>A</dt>\n",
       "\t\t<dd>174</dd>\n",
       "\t<dt>B</dt>\n",
       "\t\t<dd>184</dd>\n",
       "\t<dt>C</dt>\n",
       "\t\t<dd>25</dd>\n",
       "\t<dt>D</dt>\n",
       "\t\t<dd>59</dd>\n",
       "\t<dt>E</dt>\n",
       "\t\t<dd>42</dd>\n",
       "\t<dt>F</dt>\n",
       "\t\t<dd>200</dd>\n",
       "</dl>\n"
      ],
      "text/latex": [
       "\\begin{description*}\n",
       "\\item[A] 174\n",
       "\\item[B] 184\n",
       "\\item[C] 25\n",
       "\\item[D] 59\n",
       "\\item[E] 42\n",
       "\\item[F] 200\n",
       "\\end{description*}\n"
      ],
      "text/markdown": [
       "A\n",
       ":   174B\n",
       ":   184C\n",
       ":   25D\n",
       ":   59E\n",
       ":   42F\n",
       ":   200\n",
       "\n"
      ],
      "text/plain": [
       "  A   B   C   D   E   F \n",
       "174 184  25  59  42 200 "
      ]
     },
     "metadata": {},
     "output_type": "display_data"
    }
   ],
   "source": [
    "sapply(spIns, sum)"
   ]
  },
  {
   "cell_type": "code",
   "execution_count": 96,
   "metadata": {},
   "outputs": [
    {
     "data": {
      "text/html": [
       "<table>\n",
       "<caption>A data.frame: 6 × 2</caption>\n",
       "<thead>\n",
       "\t<tr><th scope=col>spray</th><th scope=col>sum</th></tr>\n",
       "\t<tr><th scope=col>&lt;fct&gt;</th><th scope=col>&lt;dbl&gt;</th></tr>\n",
       "</thead>\n",
       "<tbody>\n",
       "\t<tr><td>A</td><td>174</td></tr>\n",
       "\t<tr><td>B</td><td>184</td></tr>\n",
       "\t<tr><td>C</td><td> 25</td></tr>\n",
       "\t<tr><td>D</td><td> 59</td></tr>\n",
       "\t<tr><td>E</td><td> 42</td></tr>\n",
       "\t<tr><td>F</td><td>200</td></tr>\n",
       "</tbody>\n",
       "</table>\n"
      ],
      "text/latex": [
       "A data.frame: 6 × 2\n",
       "\\begin{tabular}{r|ll}\n",
       " spray & sum\\\\\n",
       " <fct> & <dbl>\\\\\n",
       "\\hline\n",
       "\t A & 174\\\\\n",
       "\t B & 184\\\\\n",
       "\t C &  25\\\\\n",
       "\t D &  59\\\\\n",
       "\t E &  42\\\\\n",
       "\t F & 200\\\\\n",
       "\\end{tabular}\n"
      ],
      "text/markdown": [
       "\n",
       "A data.frame: 6 × 2\n",
       "\n",
       "| spray &lt;fct&gt; | sum &lt;dbl&gt; |\n",
       "|---|---|\n",
       "| A | 174 |\n",
       "| B | 184 |\n",
       "| C |  25 |\n",
       "| D |  59 |\n",
       "| E |  42 |\n",
       "| F | 200 |\n",
       "\n"
      ],
      "text/plain": [
       "  spray sum\n",
       "1 A     174\n",
       "2 B     184\n",
       "3 C      25\n",
       "4 D      59\n",
       "5 E      42\n",
       "6 F     200"
      ]
     },
     "metadata": {},
     "output_type": "display_data"
    }
   ],
   "source": [
    "ddply(InsectSprays, .(spray), summarise, sum=sum(count))"
   ]
  },
  {
   "cell_type": "code",
   "execution_count": 97,
   "metadata": {
    "scrolled": true
   },
   "outputs": [
    {
     "data": {
      "text/html": [
       "<table>\n",
       "<caption>A data.frame: 72 × 2</caption>\n",
       "<thead>\n",
       "\t<tr><th scope=col>spray</th><th scope=col>sum</th></tr>\n",
       "\t<tr><th scope=col>&lt;fct&gt;</th><th scope=col>&lt;dbl&gt;</th></tr>\n",
       "</thead>\n",
       "<tbody>\n",
       "\t<tr><td>A</td><td>174</td></tr>\n",
       "\t<tr><td>A</td><td>174</td></tr>\n",
       "\t<tr><td>A</td><td>174</td></tr>\n",
       "\t<tr><td>A</td><td>174</td></tr>\n",
       "\t<tr><td>A</td><td>174</td></tr>\n",
       "\t<tr><td>A</td><td>174</td></tr>\n",
       "\t<tr><td>A</td><td>174</td></tr>\n",
       "\t<tr><td>A</td><td>174</td></tr>\n",
       "\t<tr><td>A</td><td>174</td></tr>\n",
       "\t<tr><td>A</td><td>174</td></tr>\n",
       "\t<tr><td>A</td><td>174</td></tr>\n",
       "\t<tr><td>A</td><td>174</td></tr>\n",
       "\t<tr><td>B</td><td>184</td></tr>\n",
       "\t<tr><td>B</td><td>184</td></tr>\n",
       "\t<tr><td>B</td><td>184</td></tr>\n",
       "\t<tr><td>B</td><td>184</td></tr>\n",
       "\t<tr><td>B</td><td>184</td></tr>\n",
       "\t<tr><td>B</td><td>184</td></tr>\n",
       "\t<tr><td>B</td><td>184</td></tr>\n",
       "\t<tr><td>B</td><td>184</td></tr>\n",
       "\t<tr><td>B</td><td>184</td></tr>\n",
       "\t<tr><td>B</td><td>184</td></tr>\n",
       "\t<tr><td>B</td><td>184</td></tr>\n",
       "\t<tr><td>B</td><td>184</td></tr>\n",
       "\t<tr><td>C</td><td> 25</td></tr>\n",
       "\t<tr><td>C</td><td> 25</td></tr>\n",
       "\t<tr><td>C</td><td> 25</td></tr>\n",
       "\t<tr><td>C</td><td> 25</td></tr>\n",
       "\t<tr><td>C</td><td> 25</td></tr>\n",
       "\t<tr><td>C</td><td> 25</td></tr>\n",
       "\t<tr><td>⋮</td><td>⋮</td></tr>\n",
       "\t<tr><td>D</td><td> 59</td></tr>\n",
       "\t<tr><td>D</td><td> 59</td></tr>\n",
       "\t<tr><td>D</td><td> 59</td></tr>\n",
       "\t<tr><td>D</td><td> 59</td></tr>\n",
       "\t<tr><td>D</td><td> 59</td></tr>\n",
       "\t<tr><td>D</td><td> 59</td></tr>\n",
       "\t<tr><td>E</td><td> 42</td></tr>\n",
       "\t<tr><td>E</td><td> 42</td></tr>\n",
       "\t<tr><td>E</td><td> 42</td></tr>\n",
       "\t<tr><td>E</td><td> 42</td></tr>\n",
       "\t<tr><td>E</td><td> 42</td></tr>\n",
       "\t<tr><td>E</td><td> 42</td></tr>\n",
       "\t<tr><td>E</td><td> 42</td></tr>\n",
       "\t<tr><td>E</td><td> 42</td></tr>\n",
       "\t<tr><td>E</td><td> 42</td></tr>\n",
       "\t<tr><td>E</td><td> 42</td></tr>\n",
       "\t<tr><td>E</td><td> 42</td></tr>\n",
       "\t<tr><td>E</td><td> 42</td></tr>\n",
       "\t<tr><td>F</td><td>200</td></tr>\n",
       "\t<tr><td>F</td><td>200</td></tr>\n",
       "\t<tr><td>F</td><td>200</td></tr>\n",
       "\t<tr><td>F</td><td>200</td></tr>\n",
       "\t<tr><td>F</td><td>200</td></tr>\n",
       "\t<tr><td>F</td><td>200</td></tr>\n",
       "\t<tr><td>F</td><td>200</td></tr>\n",
       "\t<tr><td>F</td><td>200</td></tr>\n",
       "\t<tr><td>F</td><td>200</td></tr>\n",
       "\t<tr><td>F</td><td>200</td></tr>\n",
       "\t<tr><td>F</td><td>200</td></tr>\n",
       "\t<tr><td>F</td><td>200</td></tr>\n",
       "</tbody>\n",
       "</table>\n"
      ],
      "text/latex": [
       "A data.frame: 72 × 2\n",
       "\\begin{tabular}{r|ll}\n",
       " spray & sum\\\\\n",
       " <fct> & <dbl>\\\\\n",
       "\\hline\n",
       "\t A & 174\\\\\n",
       "\t A & 174\\\\\n",
       "\t A & 174\\\\\n",
       "\t A & 174\\\\\n",
       "\t A & 174\\\\\n",
       "\t A & 174\\\\\n",
       "\t A & 174\\\\\n",
       "\t A & 174\\\\\n",
       "\t A & 174\\\\\n",
       "\t A & 174\\\\\n",
       "\t A & 174\\\\\n",
       "\t A & 174\\\\\n",
       "\t B & 184\\\\\n",
       "\t B & 184\\\\\n",
       "\t B & 184\\\\\n",
       "\t B & 184\\\\\n",
       "\t B & 184\\\\\n",
       "\t B & 184\\\\\n",
       "\t B & 184\\\\\n",
       "\t B & 184\\\\\n",
       "\t B & 184\\\\\n",
       "\t B & 184\\\\\n",
       "\t B & 184\\\\\n",
       "\t B & 184\\\\\n",
       "\t C &  25\\\\\n",
       "\t C &  25\\\\\n",
       "\t C &  25\\\\\n",
       "\t C &  25\\\\\n",
       "\t C &  25\\\\\n",
       "\t C &  25\\\\\n",
       "\t ⋮ & ⋮\\\\\n",
       "\t D &  59\\\\\n",
       "\t D &  59\\\\\n",
       "\t D &  59\\\\\n",
       "\t D &  59\\\\\n",
       "\t D &  59\\\\\n",
       "\t D &  59\\\\\n",
       "\t E &  42\\\\\n",
       "\t E &  42\\\\\n",
       "\t E &  42\\\\\n",
       "\t E &  42\\\\\n",
       "\t E &  42\\\\\n",
       "\t E &  42\\\\\n",
       "\t E &  42\\\\\n",
       "\t E &  42\\\\\n",
       "\t E &  42\\\\\n",
       "\t E &  42\\\\\n",
       "\t E &  42\\\\\n",
       "\t E &  42\\\\\n",
       "\t F & 200\\\\\n",
       "\t F & 200\\\\\n",
       "\t F & 200\\\\\n",
       "\t F & 200\\\\\n",
       "\t F & 200\\\\\n",
       "\t F & 200\\\\\n",
       "\t F & 200\\\\\n",
       "\t F & 200\\\\\n",
       "\t F & 200\\\\\n",
       "\t F & 200\\\\\n",
       "\t F & 200\\\\\n",
       "\t F & 200\\\\\n",
       "\\end{tabular}\n"
      ],
      "text/markdown": [
       "\n",
       "A data.frame: 72 × 2\n",
       "\n",
       "| spray &lt;fct&gt; | sum &lt;dbl&gt; |\n",
       "|---|---|\n",
       "| A | 174 |\n",
       "| A | 174 |\n",
       "| A | 174 |\n",
       "| A | 174 |\n",
       "| A | 174 |\n",
       "| A | 174 |\n",
       "| A | 174 |\n",
       "| A | 174 |\n",
       "| A | 174 |\n",
       "| A | 174 |\n",
       "| A | 174 |\n",
       "| A | 174 |\n",
       "| B | 184 |\n",
       "| B | 184 |\n",
       "| B | 184 |\n",
       "| B | 184 |\n",
       "| B | 184 |\n",
       "| B | 184 |\n",
       "| B | 184 |\n",
       "| B | 184 |\n",
       "| B | 184 |\n",
       "| B | 184 |\n",
       "| B | 184 |\n",
       "| B | 184 |\n",
       "| C |  25 |\n",
       "| C |  25 |\n",
       "| C |  25 |\n",
       "| C |  25 |\n",
       "| C |  25 |\n",
       "| C |  25 |\n",
       "| ⋮ | ⋮ |\n",
       "| D |  59 |\n",
       "| D |  59 |\n",
       "| D |  59 |\n",
       "| D |  59 |\n",
       "| D |  59 |\n",
       "| D |  59 |\n",
       "| E |  42 |\n",
       "| E |  42 |\n",
       "| E |  42 |\n",
       "| E |  42 |\n",
       "| E |  42 |\n",
       "| E |  42 |\n",
       "| E |  42 |\n",
       "| E |  42 |\n",
       "| E |  42 |\n",
       "| E |  42 |\n",
       "| E |  42 |\n",
       "| E |  42 |\n",
       "| F | 200 |\n",
       "| F | 200 |\n",
       "| F | 200 |\n",
       "| F | 200 |\n",
       "| F | 200 |\n",
       "| F | 200 |\n",
       "| F | 200 |\n",
       "| F | 200 |\n",
       "| F | 200 |\n",
       "| F | 200 |\n",
       "| F | 200 |\n",
       "| F | 200 |\n",
       "\n"
      ],
      "text/plain": [
       "   spray sum\n",
       "1  A     174\n",
       "2  A     174\n",
       "3  A     174\n",
       "4  A     174\n",
       "5  A     174\n",
       "6  A     174\n",
       "7  A     174\n",
       "8  A     174\n",
       "9  A     174\n",
       "10 A     174\n",
       "11 A     174\n",
       "12 A     174\n",
       "13 B     184\n",
       "14 B     184\n",
       "15 B     184\n",
       "16 B     184\n",
       "17 B     184\n",
       "18 B     184\n",
       "19 B     184\n",
       "20 B     184\n",
       "21 B     184\n",
       "22 B     184\n",
       "23 B     184\n",
       "24 B     184\n",
       "25 C      25\n",
       "26 C      25\n",
       "27 C      25\n",
       "28 C      25\n",
       "29 C      25\n",
       "30 C      25\n",
       "⋮  ⋮     ⋮  \n",
       "43 D      59\n",
       "44 D      59\n",
       "45 D      59\n",
       "46 D      59\n",
       "47 D      59\n",
       "48 D      59\n",
       "49 E      42\n",
       "50 E      42\n",
       "51 E      42\n",
       "52 E      42\n",
       "53 E      42\n",
       "54 E      42\n",
       "55 E      42\n",
       "56 E      42\n",
       "57 E      42\n",
       "58 E      42\n",
       "59 E      42\n",
       "60 E      42\n",
       "61 F     200\n",
       "62 F     200\n",
       "63 F     200\n",
       "64 F     200\n",
       "65 F     200\n",
       "66 F     200\n",
       "67 F     200\n",
       "68 F     200\n",
       "69 F     200\n",
       "70 F     200\n",
       "71 F     200\n",
       "72 F     200"
      ]
     },
     "metadata": {},
     "output_type": "display_data"
    }
   ],
   "source": [
    "spr_sum <- ddply(InsectSprays, .(spray), summarise, sum=ave(count, FUN=sum))\n",
    "spr_sum"
   ]
  },
  {
   "cell_type": "markdown",
   "metadata": {},
   "source": [
    "## Managing data frames with dplyr"
   ]
  },
  {
   "cell_type": "code",
   "execution_count": 104,
   "metadata": {},
   "outputs": [],
   "source": [
    "data_url = 'https://github.com/DataScienceSpecialization/courses/blob/master/03_GettingData/dplyr/chicago.rds?raw=true'\n",
    "download.file(url = data_url, destfile = './data/chicago.rds', method = 'curl', extra='-L')\n",
    "chicago_data = readRDS('./data/chicago.rds')"
   ]
  },
  {
   "cell_type": "code",
   "execution_count": 105,
   "metadata": {},
   "outputs": [
    {
     "data": {
      "text/html": [
       "<ol class=list-inline>\n",
       "\t<li>6940</li>\n",
       "\t<li>8</li>\n",
       "</ol>\n"
      ],
      "text/latex": [
       "\\begin{enumerate*}\n",
       "\\item 6940\n",
       "\\item 8\n",
       "\\end{enumerate*}\n"
      ],
      "text/markdown": [
       "1. 6940\n",
       "2. 8\n",
       "\n",
       "\n"
      ],
      "text/plain": [
       "[1] 6940    8"
      ]
     },
     "metadata": {},
     "output_type": "display_data"
    }
   ],
   "source": [
    "dim(chicago_data)"
   ]
  },
  {
   "cell_type": "code",
   "execution_count": 107,
   "metadata": {},
   "outputs": [
    {
     "name": "stdout",
     "output_type": "stream",
     "text": [
      "'data.frame':\t6940 obs. of  8 variables:\n",
      " $ city      : chr  \"chic\" \"chic\" \"chic\" \"chic\" ...\n",
      " $ tmpd      : num  31.5 33 33 29 32 40 34.5 29 26.5 32.5 ...\n",
      " $ dptp      : num  31.5 29.9 27.4 28.6 28.9 ...\n",
      " $ date      : Date, format: \"1987-01-01\" \"1987-01-02\" ...\n",
      " $ pm25tmean2: num  NA NA NA NA NA NA NA NA NA NA ...\n",
      " $ pm10tmean2: num  34 NA 34.2 47 NA ...\n",
      " $ o3tmean2  : num  4.25 3.3 3.33 4.38 4.75 ...\n",
      " $ no2tmean2 : num  20 23.2 23.8 30.4 30.3 ...\n"
     ]
    }
   ],
   "source": [
    "str(chicago_data)"
   ]
  },
  {
   "cell_type": "markdown",
   "metadata": {},
   "source": [
    "**`select`**"
   ]
  },
  {
   "cell_type": "code",
   "execution_count": 108,
   "metadata": {},
   "outputs": [
    {
     "data": {
      "text/html": [
       "<ol class=list-inline>\n",
       "\t<li>'city'</li>\n",
       "\t<li>'tmpd'</li>\n",
       "\t<li>'dptp'</li>\n",
       "\t<li>'date'</li>\n",
       "\t<li>'pm25tmean2'</li>\n",
       "\t<li>'pm10tmean2'</li>\n",
       "\t<li>'o3tmean2'</li>\n",
       "\t<li>'no2tmean2'</li>\n",
       "</ol>\n"
      ],
      "text/latex": [
       "\\begin{enumerate*}\n",
       "\\item 'city'\n",
       "\\item 'tmpd'\n",
       "\\item 'dptp'\n",
       "\\item 'date'\n",
       "\\item 'pm25tmean2'\n",
       "\\item 'pm10tmean2'\n",
       "\\item 'o3tmean2'\n",
       "\\item 'no2tmean2'\n",
       "\\end{enumerate*}\n"
      ],
      "text/markdown": [
       "1. 'city'\n",
       "2. 'tmpd'\n",
       "3. 'dptp'\n",
       "4. 'date'\n",
       "5. 'pm25tmean2'\n",
       "6. 'pm10tmean2'\n",
       "7. 'o3tmean2'\n",
       "8. 'no2tmean2'\n",
       "\n",
       "\n"
      ],
      "text/plain": [
       "[1] \"city\"       \"tmpd\"       \"dptp\"       \"date\"       \"pm25tmean2\"\n",
       "[6] \"pm10tmean2\" \"o3tmean2\"   \"no2tmean2\" "
      ]
     },
     "metadata": {},
     "output_type": "display_data"
    }
   ],
   "source": [
    "names(chicago_data)"
   ]
  },
  {
   "cell_type": "code",
   "execution_count": 110,
   "metadata": {},
   "outputs": [
    {
     "data": {
      "text/html": [
       "<table>\n",
       "<caption>A data.frame: 6 × 3</caption>\n",
       "<thead>\n",
       "\t<tr><th scope=col>city</th><th scope=col>tmpd</th><th scope=col>dptp</th></tr>\n",
       "\t<tr><th scope=col>&lt;chr&gt;</th><th scope=col>&lt;dbl&gt;</th><th scope=col>&lt;dbl&gt;</th></tr>\n",
       "</thead>\n",
       "<tbody>\n",
       "\t<tr><td>chic</td><td>31.5</td><td>31.500</td></tr>\n",
       "\t<tr><td>chic</td><td>33.0</td><td>29.875</td></tr>\n",
       "\t<tr><td>chic</td><td>33.0</td><td>27.375</td></tr>\n",
       "\t<tr><td>chic</td><td>29.0</td><td>28.625</td></tr>\n",
       "\t<tr><td>chic</td><td>32.0</td><td>28.875</td></tr>\n",
       "\t<tr><td>chic</td><td>40.0</td><td>35.125</td></tr>\n",
       "</tbody>\n",
       "</table>\n"
      ],
      "text/latex": [
       "A data.frame: 6 × 3\n",
       "\\begin{tabular}{r|lll}\n",
       " city & tmpd & dptp\\\\\n",
       " <chr> & <dbl> & <dbl>\\\\\n",
       "\\hline\n",
       "\t chic & 31.5 & 31.500\\\\\n",
       "\t chic & 33.0 & 29.875\\\\\n",
       "\t chic & 33.0 & 27.375\\\\\n",
       "\t chic & 29.0 & 28.625\\\\\n",
       "\t chic & 32.0 & 28.875\\\\\n",
       "\t chic & 40.0 & 35.125\\\\\n",
       "\\end{tabular}\n"
      ],
      "text/markdown": [
       "\n",
       "A data.frame: 6 × 3\n",
       "\n",
       "| city &lt;chr&gt; | tmpd &lt;dbl&gt; | dptp &lt;dbl&gt; |\n",
       "|---|---|---|\n",
       "| chic | 31.5 | 31.500 |\n",
       "| chic | 33.0 | 29.875 |\n",
       "| chic | 33.0 | 27.375 |\n",
       "| chic | 29.0 | 28.625 |\n",
       "| chic | 32.0 | 28.875 |\n",
       "| chic | 40.0 | 35.125 |\n",
       "\n"
      ],
      "text/plain": [
       "  city tmpd dptp  \n",
       "1 chic 31.5 31.500\n",
       "2 chic 33.0 29.875\n",
       "3 chic 33.0 27.375\n",
       "4 chic 29.0 28.625\n",
       "5 chic 32.0 28.875\n",
       "6 chic 40.0 35.125"
      ]
     },
     "metadata": {},
     "output_type": "display_data"
    }
   ],
   "source": [
    "library(dplyr)\n",
    "head(select(chicago_data, city:dptp))"
   ]
  },
  {
   "cell_type": "code",
   "execution_count": 111,
   "metadata": {},
   "outputs": [
    {
     "data": {
      "text/html": [
       "<table>\n",
       "<caption>A data.frame: 6 × 5</caption>\n",
       "<thead>\n",
       "\t<tr><th scope=col>date</th><th scope=col>pm25tmean2</th><th scope=col>pm10tmean2</th><th scope=col>o3tmean2</th><th scope=col>no2tmean2</th></tr>\n",
       "\t<tr><th scope=col>&lt;date&gt;</th><th scope=col>&lt;dbl&gt;</th><th scope=col>&lt;dbl&gt;</th><th scope=col>&lt;dbl&gt;</th><th scope=col>&lt;dbl&gt;</th></tr>\n",
       "</thead>\n",
       "<tbody>\n",
       "\t<tr><td>1987-01-01</td><td>NA</td><td>34.00000</td><td>4.250000</td><td>19.98810</td></tr>\n",
       "\t<tr><td>1987-01-02</td><td>NA</td><td>      NA</td><td>3.304348</td><td>23.19099</td></tr>\n",
       "\t<tr><td>1987-01-03</td><td>NA</td><td>34.16667</td><td>3.333333</td><td>23.81548</td></tr>\n",
       "\t<tr><td>1987-01-04</td><td>NA</td><td>47.00000</td><td>4.375000</td><td>30.43452</td></tr>\n",
       "\t<tr><td>1987-01-05</td><td>NA</td><td>      NA</td><td>4.750000</td><td>30.33333</td></tr>\n",
       "\t<tr><td>1987-01-06</td><td>NA</td><td>48.00000</td><td>5.833333</td><td>25.77233</td></tr>\n",
       "</tbody>\n",
       "</table>\n"
      ],
      "text/latex": [
       "A data.frame: 6 × 5\n",
       "\\begin{tabular}{r|lllll}\n",
       " date & pm25tmean2 & pm10tmean2 & o3tmean2 & no2tmean2\\\\\n",
       " <date> & <dbl> & <dbl> & <dbl> & <dbl>\\\\\n",
       "\\hline\n",
       "\t 1987-01-01 & NA & 34.00000 & 4.250000 & 19.98810\\\\\n",
       "\t 1987-01-02 & NA &       NA & 3.304348 & 23.19099\\\\\n",
       "\t 1987-01-03 & NA & 34.16667 & 3.333333 & 23.81548\\\\\n",
       "\t 1987-01-04 & NA & 47.00000 & 4.375000 & 30.43452\\\\\n",
       "\t 1987-01-05 & NA &       NA & 4.750000 & 30.33333\\\\\n",
       "\t 1987-01-06 & NA & 48.00000 & 5.833333 & 25.77233\\\\\n",
       "\\end{tabular}\n"
      ],
      "text/markdown": [
       "\n",
       "A data.frame: 6 × 5\n",
       "\n",
       "| date &lt;date&gt; | pm25tmean2 &lt;dbl&gt; | pm10tmean2 &lt;dbl&gt; | o3tmean2 &lt;dbl&gt; | no2tmean2 &lt;dbl&gt; |\n",
       "|---|---|---|---|---|\n",
       "| 1987-01-01 | NA | 34.00000 | 4.250000 | 19.98810 |\n",
       "| 1987-01-02 | NA |       NA | 3.304348 | 23.19099 |\n",
       "| 1987-01-03 | NA | 34.16667 | 3.333333 | 23.81548 |\n",
       "| 1987-01-04 | NA | 47.00000 | 4.375000 | 30.43452 |\n",
       "| 1987-01-05 | NA |       NA | 4.750000 | 30.33333 |\n",
       "| 1987-01-06 | NA | 48.00000 | 5.833333 | 25.77233 |\n",
       "\n"
      ],
      "text/plain": [
       "  date       pm25tmean2 pm10tmean2 o3tmean2 no2tmean2\n",
       "1 1987-01-01 NA         34.00000   4.250000 19.98810 \n",
       "2 1987-01-02 NA               NA   3.304348 23.19099 \n",
       "3 1987-01-03 NA         34.16667   3.333333 23.81548 \n",
       "4 1987-01-04 NA         47.00000   4.375000 30.43452 \n",
       "5 1987-01-05 NA               NA   4.750000 30.33333 \n",
       "6 1987-01-06 NA         48.00000   5.833333 25.77233 "
      ]
     },
     "metadata": {},
     "output_type": "display_data"
    }
   ],
   "source": [
    "head(select(chicago_data, -(city:dptp)))"
   ]
  },
  {
   "cell_type": "code",
   "execution_count": 112,
   "metadata": {},
   "outputs": [
    {
     "data": {
      "text/html": [
       "<table>\n",
       "<caption>A data.frame: 6 × 5</caption>\n",
       "<thead>\n",
       "\t<tr><th scope=col>date</th><th scope=col>pm25tmean2</th><th scope=col>pm10tmean2</th><th scope=col>o3tmean2</th><th scope=col>no2tmean2</th></tr>\n",
       "\t<tr><th scope=col>&lt;date&gt;</th><th scope=col>&lt;dbl&gt;</th><th scope=col>&lt;dbl&gt;</th><th scope=col>&lt;dbl&gt;</th><th scope=col>&lt;dbl&gt;</th></tr>\n",
       "</thead>\n",
       "<tbody>\n",
       "\t<tr><td>1987-01-01</td><td>NA</td><td>34.00000</td><td>4.250000</td><td>19.98810</td></tr>\n",
       "\t<tr><td>1987-01-02</td><td>NA</td><td>      NA</td><td>3.304348</td><td>23.19099</td></tr>\n",
       "\t<tr><td>1987-01-03</td><td>NA</td><td>34.16667</td><td>3.333333</td><td>23.81548</td></tr>\n",
       "\t<tr><td>1987-01-04</td><td>NA</td><td>47.00000</td><td>4.375000</td><td>30.43452</td></tr>\n",
       "\t<tr><td>1987-01-05</td><td>NA</td><td>      NA</td><td>4.750000</td><td>30.33333</td></tr>\n",
       "\t<tr><td>1987-01-06</td><td>NA</td><td>48.00000</td><td>5.833333</td><td>25.77233</td></tr>\n",
       "</tbody>\n",
       "</table>\n"
      ],
      "text/latex": [
       "A data.frame: 6 × 5\n",
       "\\begin{tabular}{r|lllll}\n",
       " date & pm25tmean2 & pm10tmean2 & o3tmean2 & no2tmean2\\\\\n",
       " <date> & <dbl> & <dbl> & <dbl> & <dbl>\\\\\n",
       "\\hline\n",
       "\t 1987-01-01 & NA & 34.00000 & 4.250000 & 19.98810\\\\\n",
       "\t 1987-01-02 & NA &       NA & 3.304348 & 23.19099\\\\\n",
       "\t 1987-01-03 & NA & 34.16667 & 3.333333 & 23.81548\\\\\n",
       "\t 1987-01-04 & NA & 47.00000 & 4.375000 & 30.43452\\\\\n",
       "\t 1987-01-05 & NA &       NA & 4.750000 & 30.33333\\\\\n",
       "\t 1987-01-06 & NA & 48.00000 & 5.833333 & 25.77233\\\\\n",
       "\\end{tabular}\n"
      ],
      "text/markdown": [
       "\n",
       "A data.frame: 6 × 5\n",
       "\n",
       "| date &lt;date&gt; | pm25tmean2 &lt;dbl&gt; | pm10tmean2 &lt;dbl&gt; | o3tmean2 &lt;dbl&gt; | no2tmean2 &lt;dbl&gt; |\n",
       "|---|---|---|---|---|\n",
       "| 1987-01-01 | NA | 34.00000 | 4.250000 | 19.98810 |\n",
       "| 1987-01-02 | NA |       NA | 3.304348 | 23.19099 |\n",
       "| 1987-01-03 | NA | 34.16667 | 3.333333 | 23.81548 |\n",
       "| 1987-01-04 | NA | 47.00000 | 4.375000 | 30.43452 |\n",
       "| 1987-01-05 | NA |       NA | 4.750000 | 30.33333 |\n",
       "| 1987-01-06 | NA | 48.00000 | 5.833333 | 25.77233 |\n",
       "\n"
      ],
      "text/plain": [
       "  date       pm25tmean2 pm10tmean2 o3tmean2 no2tmean2\n",
       "1 1987-01-01 NA         34.00000   4.250000 19.98810 \n",
       "2 1987-01-02 NA               NA   3.304348 23.19099 \n",
       "3 1987-01-03 NA         34.16667   3.333333 23.81548 \n",
       "4 1987-01-04 NA         47.00000   4.375000 30.43452 \n",
       "5 1987-01-05 NA               NA   4.750000 30.33333 \n",
       "6 1987-01-06 NA         48.00000   5.833333 25.77233 "
      ]
     },
     "metadata": {},
     "output_type": "display_data"
    }
   ],
   "source": [
    "# do it without dplyr\n",
    "i <- match('city', names(chicago_data))\n",
    "j <- match('dptp', names(chicago_data))\n",
    "head(chicago_data[, -(i:j)])"
   ]
  },
  {
   "cell_type": "markdown",
   "metadata": {},
   "source": [
    "**`filter`**"
   ]
  },
  {
   "cell_type": "code",
   "execution_count": 114,
   "metadata": {},
   "outputs": [
    {
     "data": {
      "text/html": [
       "<table>\n",
       "<caption>A data.frame: 6 × 8</caption>\n",
       "<thead>\n",
       "\t<tr><th scope=col>city</th><th scope=col>tmpd</th><th scope=col>dptp</th><th scope=col>date</th><th scope=col>pm25tmean2</th><th scope=col>pm10tmean2</th><th scope=col>o3tmean2</th><th scope=col>no2tmean2</th></tr>\n",
       "\t<tr><th scope=col>&lt;chr&gt;</th><th scope=col>&lt;dbl&gt;</th><th scope=col>&lt;dbl&gt;</th><th scope=col>&lt;date&gt;</th><th scope=col>&lt;dbl&gt;</th><th scope=col>&lt;dbl&gt;</th><th scope=col>&lt;dbl&gt;</th><th scope=col>&lt;dbl&gt;</th></tr>\n",
       "</thead>\n",
       "<tbody>\n",
       "\t<tr><td>chic</td><td>23</td><td>21.9</td><td>1998-01-17</td><td>38.10</td><td>32.46154</td><td> 3.180556</td><td>25.30000</td></tr>\n",
       "\t<tr><td>chic</td><td>28</td><td>25.8</td><td>1998-01-23</td><td>33.95</td><td>38.69231</td><td> 1.750000</td><td>29.37630</td></tr>\n",
       "\t<tr><td>chic</td><td>55</td><td>51.3</td><td>1998-04-30</td><td>39.40</td><td>34.00000</td><td>10.786232</td><td>25.31310</td></tr>\n",
       "\t<tr><td>chic</td><td>59</td><td>53.7</td><td>1998-05-01</td><td>35.40</td><td>28.50000</td><td>14.295125</td><td>31.42905</td></tr>\n",
       "\t<tr><td>chic</td><td>57</td><td>52.0</td><td>1998-05-02</td><td>33.30</td><td>35.00000</td><td>20.662879</td><td>26.79861</td></tr>\n",
       "\t<tr><td>chic</td><td>57</td><td>56.0</td><td>1998-05-07</td><td>32.10</td><td>34.50000</td><td>24.270422</td><td>33.99167</td></tr>\n",
       "</tbody>\n",
       "</table>\n"
      ],
      "text/latex": [
       "A data.frame: 6 × 8\n",
       "\\begin{tabular}{r|llllllll}\n",
       " city & tmpd & dptp & date & pm25tmean2 & pm10tmean2 & o3tmean2 & no2tmean2\\\\\n",
       " <chr> & <dbl> & <dbl> & <date> & <dbl> & <dbl> & <dbl> & <dbl>\\\\\n",
       "\\hline\n",
       "\t chic & 23 & 21.9 & 1998-01-17 & 38.10 & 32.46154 &  3.180556 & 25.30000\\\\\n",
       "\t chic & 28 & 25.8 & 1998-01-23 & 33.95 & 38.69231 &  1.750000 & 29.37630\\\\\n",
       "\t chic & 55 & 51.3 & 1998-04-30 & 39.40 & 34.00000 & 10.786232 & 25.31310\\\\\n",
       "\t chic & 59 & 53.7 & 1998-05-01 & 35.40 & 28.50000 & 14.295125 & 31.42905\\\\\n",
       "\t chic & 57 & 52.0 & 1998-05-02 & 33.30 & 35.00000 & 20.662879 & 26.79861\\\\\n",
       "\t chic & 57 & 56.0 & 1998-05-07 & 32.10 & 34.50000 & 24.270422 & 33.99167\\\\\n",
       "\\end{tabular}\n"
      ],
      "text/markdown": [
       "\n",
       "A data.frame: 6 × 8\n",
       "\n",
       "| city &lt;chr&gt; | tmpd &lt;dbl&gt; | dptp &lt;dbl&gt; | date &lt;date&gt; | pm25tmean2 &lt;dbl&gt; | pm10tmean2 &lt;dbl&gt; | o3tmean2 &lt;dbl&gt; | no2tmean2 &lt;dbl&gt; |\n",
       "|---|---|---|---|---|---|---|---|\n",
       "| chic | 23 | 21.9 | 1998-01-17 | 38.10 | 32.46154 |  3.180556 | 25.30000 |\n",
       "| chic | 28 | 25.8 | 1998-01-23 | 33.95 | 38.69231 |  1.750000 | 29.37630 |\n",
       "| chic | 55 | 51.3 | 1998-04-30 | 39.40 | 34.00000 | 10.786232 | 25.31310 |\n",
       "| chic | 59 | 53.7 | 1998-05-01 | 35.40 | 28.50000 | 14.295125 | 31.42905 |\n",
       "| chic | 57 | 52.0 | 1998-05-02 | 33.30 | 35.00000 | 20.662879 | 26.79861 |\n",
       "| chic | 57 | 56.0 | 1998-05-07 | 32.10 | 34.50000 | 24.270422 | 33.99167 |\n",
       "\n"
      ],
      "text/plain": [
       "  city tmpd dptp date       pm25tmean2 pm10tmean2 o3tmean2  no2tmean2\n",
       "1 chic 23   21.9 1998-01-17 38.10      32.46154    3.180556 25.30000 \n",
       "2 chic 28   25.8 1998-01-23 33.95      38.69231    1.750000 29.37630 \n",
       "3 chic 55   51.3 1998-04-30 39.40      34.00000   10.786232 25.31310 \n",
       "4 chic 59   53.7 1998-05-01 35.40      28.50000   14.295125 31.42905 \n",
       "5 chic 57   52.0 1998-05-02 33.30      35.00000   20.662879 26.79861 \n",
       "6 chic 57   56.0 1998-05-07 32.10      34.50000   24.270422 33.99167 "
      ]
     },
     "metadata": {},
     "output_type": "display_data"
    }
   ],
   "source": [
    "# condition on a single variable\n",
    "chicago_data.f <- filter(chicago_data, pm25tmean2 > 30)\n",
    "head(chicago_data.f)"
   ]
  },
  {
   "cell_type": "code",
   "execution_count": 115,
   "metadata": {},
   "outputs": [
    {
     "data": {
      "text/html": [
       "<table>\n",
       "<caption>A data.frame: 6 × 8</caption>\n",
       "<thead>\n",
       "\t<tr><th scope=col>city</th><th scope=col>tmpd</th><th scope=col>dptp</th><th scope=col>date</th><th scope=col>pm25tmean2</th><th scope=col>pm10tmean2</th><th scope=col>o3tmean2</th><th scope=col>no2tmean2</th></tr>\n",
       "\t<tr><th scope=col>&lt;chr&gt;</th><th scope=col>&lt;dbl&gt;</th><th scope=col>&lt;dbl&gt;</th><th scope=col>&lt;date&gt;</th><th scope=col>&lt;dbl&gt;</th><th scope=col>&lt;dbl&gt;</th><th scope=col>&lt;dbl&gt;</th><th scope=col>&lt;dbl&gt;</th></tr>\n",
       "</thead>\n",
       "<tbody>\n",
       "\t<tr><td>chic</td><td>81</td><td>71.2</td><td>1998-08-23</td><td>39.6000</td><td>59.0</td><td>45.86364</td><td>14.32639</td></tr>\n",
       "\t<tr><td>chic</td><td>81</td><td>70.4</td><td>1998-09-06</td><td>31.5000</td><td>50.5</td><td>50.66250</td><td>20.31250</td></tr>\n",
       "\t<tr><td>chic</td><td>82</td><td>72.2</td><td>2001-07-20</td><td>32.3000</td><td>58.5</td><td>33.00380</td><td>33.67500</td></tr>\n",
       "\t<tr><td>chic</td><td>84</td><td>72.9</td><td>2001-08-01</td><td>43.7000</td><td>81.5</td><td>45.17736</td><td>27.44239</td></tr>\n",
       "\t<tr><td>chic</td><td>85</td><td>72.6</td><td>2001-08-08</td><td>38.8375</td><td>70.0</td><td>37.98047</td><td>27.62743</td></tr>\n",
       "\t<tr><td>chic</td><td>84</td><td>72.6</td><td>2001-08-09</td><td>38.2000</td><td>66.0</td><td>36.73245</td><td>26.46742</td></tr>\n",
       "</tbody>\n",
       "</table>\n"
      ],
      "text/latex": [
       "A data.frame: 6 × 8\n",
       "\\begin{tabular}{r|llllllll}\n",
       " city & tmpd & dptp & date & pm25tmean2 & pm10tmean2 & o3tmean2 & no2tmean2\\\\\n",
       " <chr> & <dbl> & <dbl> & <date> & <dbl> & <dbl> & <dbl> & <dbl>\\\\\n",
       "\\hline\n",
       "\t chic & 81 & 71.2 & 1998-08-23 & 39.6000 & 59.0 & 45.86364 & 14.32639\\\\\n",
       "\t chic & 81 & 70.4 & 1998-09-06 & 31.5000 & 50.5 & 50.66250 & 20.31250\\\\\n",
       "\t chic & 82 & 72.2 & 2001-07-20 & 32.3000 & 58.5 & 33.00380 & 33.67500\\\\\n",
       "\t chic & 84 & 72.9 & 2001-08-01 & 43.7000 & 81.5 & 45.17736 & 27.44239\\\\\n",
       "\t chic & 85 & 72.6 & 2001-08-08 & 38.8375 & 70.0 & 37.98047 & 27.62743\\\\\n",
       "\t chic & 84 & 72.6 & 2001-08-09 & 38.2000 & 66.0 & 36.73245 & 26.46742\\\\\n",
       "\\end{tabular}\n"
      ],
      "text/markdown": [
       "\n",
       "A data.frame: 6 × 8\n",
       "\n",
       "| city &lt;chr&gt; | tmpd &lt;dbl&gt; | dptp &lt;dbl&gt; | date &lt;date&gt; | pm25tmean2 &lt;dbl&gt; | pm10tmean2 &lt;dbl&gt; | o3tmean2 &lt;dbl&gt; | no2tmean2 &lt;dbl&gt; |\n",
       "|---|---|---|---|---|---|---|---|\n",
       "| chic | 81 | 71.2 | 1998-08-23 | 39.6000 | 59.0 | 45.86364 | 14.32639 |\n",
       "| chic | 81 | 70.4 | 1998-09-06 | 31.5000 | 50.5 | 50.66250 | 20.31250 |\n",
       "| chic | 82 | 72.2 | 2001-07-20 | 32.3000 | 58.5 | 33.00380 | 33.67500 |\n",
       "| chic | 84 | 72.9 | 2001-08-01 | 43.7000 | 81.5 | 45.17736 | 27.44239 |\n",
       "| chic | 85 | 72.6 | 2001-08-08 | 38.8375 | 70.0 | 37.98047 | 27.62743 |\n",
       "| chic | 84 | 72.6 | 2001-08-09 | 38.2000 | 66.0 | 36.73245 | 26.46742 |\n",
       "\n"
      ],
      "text/plain": [
       "  city tmpd dptp date       pm25tmean2 pm10tmean2 o3tmean2 no2tmean2\n",
       "1 chic 81   71.2 1998-08-23 39.6000    59.0       45.86364 14.32639 \n",
       "2 chic 81   70.4 1998-09-06 31.5000    50.5       50.66250 20.31250 \n",
       "3 chic 82   72.2 2001-07-20 32.3000    58.5       33.00380 33.67500 \n",
       "4 chic 84   72.9 2001-08-01 43.7000    81.5       45.17736 27.44239 \n",
       "5 chic 85   72.6 2001-08-08 38.8375    70.0       37.98047 27.62743 \n",
       "6 chic 84   72.6 2001-08-09 38.2000    66.0       36.73245 26.46742 "
      ]
     },
     "metadata": {},
     "output_type": "display_data"
    }
   ],
   "source": [
    "# condition on multiple variables\n",
    "chicago_data.f <- filter(chicago_data, pm25tmean2 > 30 & tmpd > 80)\n",
    "head(chicago_data.f)"
   ]
  },
  {
   "cell_type": "markdown",
   "metadata": {},
   "source": [
    "**`arrange`** to sort df"
   ]
  },
  {
   "cell_type": "code",
   "execution_count": 116,
   "metadata": {},
   "outputs": [
    {
     "data": {
      "text/html": [
       "<table>\n",
       "<caption>A data.frame: 6 × 8</caption>\n",
       "<thead>\n",
       "\t<tr><th scope=col>city</th><th scope=col>tmpd</th><th scope=col>dptp</th><th scope=col>date</th><th scope=col>pm25tmean2</th><th scope=col>pm10tmean2</th><th scope=col>o3tmean2</th><th scope=col>no2tmean2</th></tr>\n",
       "\t<tr><th scope=col>&lt;chr&gt;</th><th scope=col>&lt;dbl&gt;</th><th scope=col>&lt;dbl&gt;</th><th scope=col>&lt;date&gt;</th><th scope=col>&lt;dbl&gt;</th><th scope=col>&lt;dbl&gt;</th><th scope=col>&lt;dbl&gt;</th><th scope=col>&lt;dbl&gt;</th></tr>\n",
       "</thead>\n",
       "<tbody>\n",
       "\t<tr><td>chic</td><td>31.5</td><td>31.500</td><td>1987-01-01</td><td>NA</td><td>34.00000</td><td>4.250000</td><td>19.98810</td></tr>\n",
       "\t<tr><td>chic</td><td>33.0</td><td>29.875</td><td>1987-01-02</td><td>NA</td><td>      NA</td><td>3.304348</td><td>23.19099</td></tr>\n",
       "\t<tr><td>chic</td><td>33.0</td><td>27.375</td><td>1987-01-03</td><td>NA</td><td>34.16667</td><td>3.333333</td><td>23.81548</td></tr>\n",
       "\t<tr><td>chic</td><td>29.0</td><td>28.625</td><td>1987-01-04</td><td>NA</td><td>47.00000</td><td>4.375000</td><td>30.43452</td></tr>\n",
       "\t<tr><td>chic</td><td>32.0</td><td>28.875</td><td>1987-01-05</td><td>NA</td><td>      NA</td><td>4.750000</td><td>30.33333</td></tr>\n",
       "\t<tr><td>chic</td><td>40.0</td><td>35.125</td><td>1987-01-06</td><td>NA</td><td>48.00000</td><td>5.833333</td><td>25.77233</td></tr>\n",
       "</tbody>\n",
       "</table>\n"
      ],
      "text/latex": [
       "A data.frame: 6 × 8\n",
       "\\begin{tabular}{r|llllllll}\n",
       " city & tmpd & dptp & date & pm25tmean2 & pm10tmean2 & o3tmean2 & no2tmean2\\\\\n",
       " <chr> & <dbl> & <dbl> & <date> & <dbl> & <dbl> & <dbl> & <dbl>\\\\\n",
       "\\hline\n",
       "\t chic & 31.5 & 31.500 & 1987-01-01 & NA & 34.00000 & 4.250000 & 19.98810\\\\\n",
       "\t chic & 33.0 & 29.875 & 1987-01-02 & NA &       NA & 3.304348 & 23.19099\\\\\n",
       "\t chic & 33.0 & 27.375 & 1987-01-03 & NA & 34.16667 & 3.333333 & 23.81548\\\\\n",
       "\t chic & 29.0 & 28.625 & 1987-01-04 & NA & 47.00000 & 4.375000 & 30.43452\\\\\n",
       "\t chic & 32.0 & 28.875 & 1987-01-05 & NA &       NA & 4.750000 & 30.33333\\\\\n",
       "\t chic & 40.0 & 35.125 & 1987-01-06 & NA & 48.00000 & 5.833333 & 25.77233\\\\\n",
       "\\end{tabular}\n"
      ],
      "text/markdown": [
       "\n",
       "A data.frame: 6 × 8\n",
       "\n",
       "| city &lt;chr&gt; | tmpd &lt;dbl&gt; | dptp &lt;dbl&gt; | date &lt;date&gt; | pm25tmean2 &lt;dbl&gt; | pm10tmean2 &lt;dbl&gt; | o3tmean2 &lt;dbl&gt; | no2tmean2 &lt;dbl&gt; |\n",
       "|---|---|---|---|---|---|---|---|\n",
       "| chic | 31.5 | 31.500 | 1987-01-01 | NA | 34.00000 | 4.250000 | 19.98810 |\n",
       "| chic | 33.0 | 29.875 | 1987-01-02 | NA |       NA | 3.304348 | 23.19099 |\n",
       "| chic | 33.0 | 27.375 | 1987-01-03 | NA | 34.16667 | 3.333333 | 23.81548 |\n",
       "| chic | 29.0 | 28.625 | 1987-01-04 | NA | 47.00000 | 4.375000 | 30.43452 |\n",
       "| chic | 32.0 | 28.875 | 1987-01-05 | NA |       NA | 4.750000 | 30.33333 |\n",
       "| chic | 40.0 | 35.125 | 1987-01-06 | NA | 48.00000 | 5.833333 | 25.77233 |\n",
       "\n"
      ],
      "text/plain": [
       "  city tmpd dptp   date       pm25tmean2 pm10tmean2 o3tmean2 no2tmean2\n",
       "1 chic 31.5 31.500 1987-01-01 NA         34.00000   4.250000 19.98810 \n",
       "2 chic 33.0 29.875 1987-01-02 NA               NA   3.304348 23.19099 \n",
       "3 chic 33.0 27.375 1987-01-03 NA         34.16667   3.333333 23.81548 \n",
       "4 chic 29.0 28.625 1987-01-04 NA         47.00000   4.375000 30.43452 \n",
       "5 chic 32.0 28.875 1987-01-05 NA               NA   4.750000 30.33333 \n",
       "6 chic 40.0 35.125 1987-01-06 NA         48.00000   5.833333 25.77233 "
      ]
     },
     "metadata": {},
     "output_type": "display_data"
    }
   ],
   "source": [
    "chicago_data <- arrange(chicago_data, date)\n",
    "head(chicago_data)"
   ]
  },
  {
   "cell_type": "code",
   "execution_count": 117,
   "metadata": {},
   "outputs": [
    {
     "data": {
      "text/html": [
       "<table>\n",
       "<caption>A data.frame: 6 × 8</caption>\n",
       "<thead>\n",
       "\t<tr><th scope=col>city</th><th scope=col>tmpd</th><th scope=col>dptp</th><th scope=col>date</th><th scope=col>pm25tmean2</th><th scope=col>pm10tmean2</th><th scope=col>o3tmean2</th><th scope=col>no2tmean2</th></tr>\n",
       "\t<tr><th scope=col>&lt;chr&gt;</th><th scope=col>&lt;dbl&gt;</th><th scope=col>&lt;dbl&gt;</th><th scope=col>&lt;date&gt;</th><th scope=col>&lt;dbl&gt;</th><th scope=col>&lt;dbl&gt;</th><th scope=col>&lt;dbl&gt;</th><th scope=col>&lt;dbl&gt;</th></tr>\n",
       "</thead>\n",
       "<tbody>\n",
       "\t<tr><td>chic</td><td>35</td><td>30.1</td><td>2005-12-31</td><td>15.00000</td><td>23.5</td><td> 2.531250</td><td>13.25000</td></tr>\n",
       "\t<tr><td>chic</td><td>36</td><td>31.0</td><td>2005-12-30</td><td>15.05714</td><td>19.2</td><td> 3.034420</td><td>22.80556</td></tr>\n",
       "\t<tr><td>chic</td><td>35</td><td>29.4</td><td>2005-12-29</td><td> 7.45000</td><td>23.5</td><td> 6.794837</td><td>19.97222</td></tr>\n",
       "\t<tr><td>chic</td><td>37</td><td>34.5</td><td>2005-12-28</td><td>17.75000</td><td>27.5</td><td> 3.260417</td><td>19.28563</td></tr>\n",
       "\t<tr><td>chic</td><td>40</td><td>33.6</td><td>2005-12-27</td><td>23.56000</td><td>27.0</td><td> 4.468750</td><td>23.50000</td></tr>\n",
       "\t<tr><td>chic</td><td>35</td><td>29.6</td><td>2005-12-26</td><td> 8.40000</td><td> 8.5</td><td>14.041667</td><td>16.81944</td></tr>\n",
       "</tbody>\n",
       "</table>\n"
      ],
      "text/latex": [
       "A data.frame: 6 × 8\n",
       "\\begin{tabular}{r|llllllll}\n",
       " city & tmpd & dptp & date & pm25tmean2 & pm10tmean2 & o3tmean2 & no2tmean2\\\\\n",
       " <chr> & <dbl> & <dbl> & <date> & <dbl> & <dbl> & <dbl> & <dbl>\\\\\n",
       "\\hline\n",
       "\t chic & 35 & 30.1 & 2005-12-31 & 15.00000 & 23.5 &  2.531250 & 13.25000\\\\\n",
       "\t chic & 36 & 31.0 & 2005-12-30 & 15.05714 & 19.2 &  3.034420 & 22.80556\\\\\n",
       "\t chic & 35 & 29.4 & 2005-12-29 &  7.45000 & 23.5 &  6.794837 & 19.97222\\\\\n",
       "\t chic & 37 & 34.5 & 2005-12-28 & 17.75000 & 27.5 &  3.260417 & 19.28563\\\\\n",
       "\t chic & 40 & 33.6 & 2005-12-27 & 23.56000 & 27.0 &  4.468750 & 23.50000\\\\\n",
       "\t chic & 35 & 29.6 & 2005-12-26 &  8.40000 &  8.5 & 14.041667 & 16.81944\\\\\n",
       "\\end{tabular}\n"
      ],
      "text/markdown": [
       "\n",
       "A data.frame: 6 × 8\n",
       "\n",
       "| city &lt;chr&gt; | tmpd &lt;dbl&gt; | dptp &lt;dbl&gt; | date &lt;date&gt; | pm25tmean2 &lt;dbl&gt; | pm10tmean2 &lt;dbl&gt; | o3tmean2 &lt;dbl&gt; | no2tmean2 &lt;dbl&gt; |\n",
       "|---|---|---|---|---|---|---|---|\n",
       "| chic | 35 | 30.1 | 2005-12-31 | 15.00000 | 23.5 |  2.531250 | 13.25000 |\n",
       "| chic | 36 | 31.0 | 2005-12-30 | 15.05714 | 19.2 |  3.034420 | 22.80556 |\n",
       "| chic | 35 | 29.4 | 2005-12-29 |  7.45000 | 23.5 |  6.794837 | 19.97222 |\n",
       "| chic | 37 | 34.5 | 2005-12-28 | 17.75000 | 27.5 |  3.260417 | 19.28563 |\n",
       "| chic | 40 | 33.6 | 2005-12-27 | 23.56000 | 27.0 |  4.468750 | 23.50000 |\n",
       "| chic | 35 | 29.6 | 2005-12-26 |  8.40000 |  8.5 | 14.041667 | 16.81944 |\n",
       "\n"
      ],
      "text/plain": [
       "  city tmpd dptp date       pm25tmean2 pm10tmean2 o3tmean2  no2tmean2\n",
       "1 chic 35   30.1 2005-12-31 15.00000   23.5        2.531250 13.25000 \n",
       "2 chic 36   31.0 2005-12-30 15.05714   19.2        3.034420 22.80556 \n",
       "3 chic 35   29.4 2005-12-29  7.45000   23.5        6.794837 19.97222 \n",
       "4 chic 37   34.5 2005-12-28 17.75000   27.5        3.260417 19.28563 \n",
       "5 chic 40   33.6 2005-12-27 23.56000   27.0        4.468750 23.50000 \n",
       "6 chic 35   29.6 2005-12-26  8.40000    8.5       14.041667 16.81944 "
      ]
     },
     "metadata": {},
     "output_type": "display_data"
    }
   ],
   "source": [
    "chicago_data <- arrange(chicago_data, desc(date))\n",
    "head(chicago_data)"
   ]
  },
  {
   "cell_type": "markdown",
   "metadata": {},
   "source": [
    "**`rename`**"
   ]
  },
  {
   "cell_type": "code",
   "execution_count": 119,
   "metadata": {},
   "outputs": [
    {
     "data": {
      "text/html": [
       "<table>\n",
       "<caption>A data.frame: 6 × 8</caption>\n",
       "<thead>\n",
       "\t<tr><th scope=col>city</th><th scope=col>tmpd</th><th scope=col>dewpoint</th><th scope=col>date</th><th scope=col>pm25</th><th scope=col>pm10tmean2</th><th scope=col>o3tmean2</th><th scope=col>no2tmean2</th></tr>\n",
       "\t<tr><th scope=col>&lt;chr&gt;</th><th scope=col>&lt;dbl&gt;</th><th scope=col>&lt;dbl&gt;</th><th scope=col>&lt;date&gt;</th><th scope=col>&lt;dbl&gt;</th><th scope=col>&lt;dbl&gt;</th><th scope=col>&lt;dbl&gt;</th><th scope=col>&lt;dbl&gt;</th></tr>\n",
       "</thead>\n",
       "<tbody>\n",
       "\t<tr><td>chic</td><td>35</td><td>30.1</td><td>2005-12-31</td><td>15.00000</td><td>23.5</td><td> 2.531250</td><td>13.25000</td></tr>\n",
       "\t<tr><td>chic</td><td>36</td><td>31.0</td><td>2005-12-30</td><td>15.05714</td><td>19.2</td><td> 3.034420</td><td>22.80556</td></tr>\n",
       "\t<tr><td>chic</td><td>35</td><td>29.4</td><td>2005-12-29</td><td> 7.45000</td><td>23.5</td><td> 6.794837</td><td>19.97222</td></tr>\n",
       "\t<tr><td>chic</td><td>37</td><td>34.5</td><td>2005-12-28</td><td>17.75000</td><td>27.5</td><td> 3.260417</td><td>19.28563</td></tr>\n",
       "\t<tr><td>chic</td><td>40</td><td>33.6</td><td>2005-12-27</td><td>23.56000</td><td>27.0</td><td> 4.468750</td><td>23.50000</td></tr>\n",
       "\t<tr><td>chic</td><td>35</td><td>29.6</td><td>2005-12-26</td><td> 8.40000</td><td> 8.5</td><td>14.041667</td><td>16.81944</td></tr>\n",
       "</tbody>\n",
       "</table>\n"
      ],
      "text/latex": [
       "A data.frame: 6 × 8\n",
       "\\begin{tabular}{r|llllllll}\n",
       " city & tmpd & dewpoint & date & pm25 & pm10tmean2 & o3tmean2 & no2tmean2\\\\\n",
       " <chr> & <dbl> & <dbl> & <date> & <dbl> & <dbl> & <dbl> & <dbl>\\\\\n",
       "\\hline\n",
       "\t chic & 35 & 30.1 & 2005-12-31 & 15.00000 & 23.5 &  2.531250 & 13.25000\\\\\n",
       "\t chic & 36 & 31.0 & 2005-12-30 & 15.05714 & 19.2 &  3.034420 & 22.80556\\\\\n",
       "\t chic & 35 & 29.4 & 2005-12-29 &  7.45000 & 23.5 &  6.794837 & 19.97222\\\\\n",
       "\t chic & 37 & 34.5 & 2005-12-28 & 17.75000 & 27.5 &  3.260417 & 19.28563\\\\\n",
       "\t chic & 40 & 33.6 & 2005-12-27 & 23.56000 & 27.0 &  4.468750 & 23.50000\\\\\n",
       "\t chic & 35 & 29.6 & 2005-12-26 &  8.40000 &  8.5 & 14.041667 & 16.81944\\\\\n",
       "\\end{tabular}\n"
      ],
      "text/markdown": [
       "\n",
       "A data.frame: 6 × 8\n",
       "\n",
       "| city &lt;chr&gt; | tmpd &lt;dbl&gt; | dewpoint &lt;dbl&gt; | date &lt;date&gt; | pm25 &lt;dbl&gt; | pm10tmean2 &lt;dbl&gt; | o3tmean2 &lt;dbl&gt; | no2tmean2 &lt;dbl&gt; |\n",
       "|---|---|---|---|---|---|---|---|\n",
       "| chic | 35 | 30.1 | 2005-12-31 | 15.00000 | 23.5 |  2.531250 | 13.25000 |\n",
       "| chic | 36 | 31.0 | 2005-12-30 | 15.05714 | 19.2 |  3.034420 | 22.80556 |\n",
       "| chic | 35 | 29.4 | 2005-12-29 |  7.45000 | 23.5 |  6.794837 | 19.97222 |\n",
       "| chic | 37 | 34.5 | 2005-12-28 | 17.75000 | 27.5 |  3.260417 | 19.28563 |\n",
       "| chic | 40 | 33.6 | 2005-12-27 | 23.56000 | 27.0 |  4.468750 | 23.50000 |\n",
       "| chic | 35 | 29.6 | 2005-12-26 |  8.40000 |  8.5 | 14.041667 | 16.81944 |\n",
       "\n"
      ],
      "text/plain": [
       "  city tmpd dewpoint date       pm25     pm10tmean2 o3tmean2  no2tmean2\n",
       "1 chic 35   30.1     2005-12-31 15.00000 23.5        2.531250 13.25000 \n",
       "2 chic 36   31.0     2005-12-30 15.05714 19.2        3.034420 22.80556 \n",
       "3 chic 35   29.4     2005-12-29  7.45000 23.5        6.794837 19.97222 \n",
       "4 chic 37   34.5     2005-12-28 17.75000 27.5        3.260417 19.28563 \n",
       "5 chic 40   33.6     2005-12-27 23.56000 27.0        4.468750 23.50000 \n",
       "6 chic 35   29.6     2005-12-26  8.40000  8.5       14.041667 16.81944 "
      ]
     },
     "metadata": {},
     "output_type": "display_data"
    }
   ],
   "source": [
    "chicago_data <- rename(chicago_data, pm25 = pm25tmean2, dewpoint = dptp)\n",
    "head(chicago_data)"
   ]
  },
  {
   "cell_type": "markdown",
   "metadata": {},
   "source": [
    "**`mutate`** to transform or create new variables"
   ]
  },
  {
   "cell_type": "code",
   "execution_count": 120,
   "metadata": {},
   "outputs": [
    {
     "data": {
      "text/html": [
       "<table>\n",
       "<caption>A data.frame: 6 × 2</caption>\n",
       "<thead>\n",
       "\t<tr><th scope=col>pm25</th><th scope=col>pm25detrend</th></tr>\n",
       "\t<tr><th scope=col>&lt;dbl&gt;</th><th scope=col>&lt;dbl&gt;</th></tr>\n",
       "</thead>\n",
       "<tbody>\n",
       "\t<tr><td>15.00000</td><td>-1.230958</td></tr>\n",
       "\t<tr><td>15.05714</td><td>-1.173815</td></tr>\n",
       "\t<tr><td> 7.45000</td><td>-8.780958</td></tr>\n",
       "\t<tr><td>17.75000</td><td> 1.519042</td></tr>\n",
       "\t<tr><td>23.56000</td><td> 7.329042</td></tr>\n",
       "\t<tr><td> 8.40000</td><td>-7.830958</td></tr>\n",
       "</tbody>\n",
       "</table>\n"
      ],
      "text/latex": [
       "A data.frame: 6 × 2\n",
       "\\begin{tabular}{r|ll}\n",
       " pm25 & pm25detrend\\\\\n",
       " <dbl> & <dbl>\\\\\n",
       "\\hline\n",
       "\t 15.00000 & -1.230958\\\\\n",
       "\t 15.05714 & -1.173815\\\\\n",
       "\t  7.45000 & -8.780958\\\\\n",
       "\t 17.75000 &  1.519042\\\\\n",
       "\t 23.56000 &  7.329042\\\\\n",
       "\t  8.40000 & -7.830958\\\\\n",
       "\\end{tabular}\n"
      ],
      "text/markdown": [
       "\n",
       "A data.frame: 6 × 2\n",
       "\n",
       "| pm25 &lt;dbl&gt; | pm25detrend &lt;dbl&gt; |\n",
       "|---|---|\n",
       "| 15.00000 | -1.230958 |\n",
       "| 15.05714 | -1.173815 |\n",
       "|  7.45000 | -8.780958 |\n",
       "| 17.75000 |  1.519042 |\n",
       "| 23.56000 |  7.329042 |\n",
       "|  8.40000 | -7.830958 |\n",
       "\n"
      ],
      "text/plain": [
       "  pm25     pm25detrend\n",
       "1 15.00000 -1.230958  \n",
       "2 15.05714 -1.173815  \n",
       "3  7.45000 -8.780958  \n",
       "4 17.75000  1.519042  \n",
       "5 23.56000  7.329042  \n",
       "6  8.40000 -7.830958  "
      ]
     },
     "metadata": {},
     "output_type": "display_data"
    }
   ],
   "source": [
    "chicago_data <- mutate(chicago_data, pm25detrend = pm25 - mean(pm25, na.rm = TRUE))\n",
    "head(select(chicago_data, pm25, pm25detrend))"
   ]
  },
  {
   "cell_type": "markdown",
   "metadata": {},
   "source": [
    "**`group_by`**"
   ]
  },
  {
   "cell_type": "code",
   "execution_count": 124,
   "metadata": {
    "scrolled": true
   },
   "outputs": [
    {
     "name": "stderr",
     "output_type": "stream",
     "text": [
      "Warning message:\n",
      "“Factor `tempcat` contains implicit NA, consider using `forcats::fct_explicit_na`”"
     ]
    },
    {
     "data": {
      "text/html": [
       "<table>\n",
       "<caption>A grouped_df: 6940 × 10</caption>\n",
       "<thead>\n",
       "\t<tr><th scope=col>city</th><th scope=col>tmpd</th><th scope=col>dewpoint</th><th scope=col>date</th><th scope=col>pm25</th><th scope=col>pm10tmean2</th><th scope=col>o3tmean2</th><th scope=col>no2tmean2</th><th scope=col>pm25detrend</th><th scope=col>tempcat</th></tr>\n",
       "\t<tr><th scope=col>&lt;chr&gt;</th><th scope=col>&lt;dbl&gt;</th><th scope=col>&lt;dbl&gt;</th><th scope=col>&lt;date&gt;</th><th scope=col>&lt;dbl&gt;</th><th scope=col>&lt;dbl&gt;</th><th scope=col>&lt;dbl&gt;</th><th scope=col>&lt;dbl&gt;</th><th scope=col>&lt;dbl&gt;</th><th scope=col>&lt;fct&gt;</th></tr>\n",
       "</thead>\n",
       "<tbody>\n",
       "\t<tr><td>chic</td><td>35</td><td>30.1</td><td>2005-12-31</td><td>15.00000</td><td>23.50</td><td> 2.531250</td><td>13.25000</td><td>-1.2309575</td><td>cold</td></tr>\n",
       "\t<tr><td>chic</td><td>36</td><td>31.0</td><td>2005-12-30</td><td>15.05714</td><td>19.20</td><td> 3.034420</td><td>22.80556</td><td>-1.1738147</td><td>cold</td></tr>\n",
       "\t<tr><td>chic</td><td>35</td><td>29.4</td><td>2005-12-29</td><td> 7.45000</td><td>23.50</td><td> 6.794837</td><td>19.97222</td><td>-8.7809575</td><td>cold</td></tr>\n",
       "\t<tr><td>chic</td><td>37</td><td>34.5</td><td>2005-12-28</td><td>17.75000</td><td>27.50</td><td> 3.260417</td><td>19.28563</td><td> 1.5190425</td><td>cold</td></tr>\n",
       "\t<tr><td>chic</td><td>40</td><td>33.6</td><td>2005-12-27</td><td>23.56000</td><td>27.00</td><td> 4.468750</td><td>23.50000</td><td> 7.3290425</td><td>cold</td></tr>\n",
       "\t<tr><td>chic</td><td>35</td><td>29.6</td><td>2005-12-26</td><td> 8.40000</td><td> 8.50</td><td>14.041667</td><td>16.81944</td><td>-7.8309575</td><td>cold</td></tr>\n",
       "\t<tr><td>chic</td><td>35</td><td>32.1</td><td>2005-12-25</td><td> 6.70000</td><td> 8.00</td><td>14.354167</td><td>13.79167</td><td>-9.5309575</td><td>cold</td></tr>\n",
       "\t<tr><td>chic</td><td>37</td><td>35.2</td><td>2005-12-24</td><td>30.77143</td><td>25.20</td><td> 1.770833</td><td>31.98611</td><td>14.5404710</td><td>cold</td></tr>\n",
       "\t<tr><td>chic</td><td>41</td><td>32.6</td><td>2005-12-23</td><td>32.90000</td><td>34.50</td><td> 6.906250</td><td>29.08333</td><td>16.6690425</td><td>cold</td></tr>\n",
       "\t<tr><td>chic</td><td>22</td><td>23.3</td><td>2005-12-22</td><td>36.65000</td><td>42.50</td><td> 5.385417</td><td>33.73026</td><td>20.4190425</td><td>cold</td></tr>\n",
       "\t<tr><td>chic</td><td>12</td><td> 7.7</td><td>2005-12-21</td><td>37.92857</td><td>59.50</td><td> 3.663949</td><td>34.86111</td><td>21.6976139</td><td>cold</td></tr>\n",
       "\t<tr><td>chic</td><td>13</td><td> 7.7</td><td>2005-12-20</td><td>25.75000</td><td>32.00</td><td> 3.849185</td><td>32.89773</td><td> 9.5190425</td><td>cold</td></tr>\n",
       "\t<tr><td>chic</td><td> 5</td><td>-0.3</td><td>2005-12-19</td><td>21.15000</td><td>21.00</td><td> 8.058877</td><td>31.79167</td><td> 4.9190425</td><td>cold</td></tr>\n",
       "\t<tr><td>chic</td><td>10</td><td> 1.9</td><td>2005-12-18</td><td>12.20000</td><td>17.50</td><td>13.552083</td><td>19.11111</td><td>-4.0309575</td><td>cold</td></tr>\n",
       "\t<tr><td>chic</td><td>16</td><td> 7.3</td><td>2005-12-17</td><td>13.80000</td><td>20.00</td><td> 8.593750</td><td>20.73611</td><td>-2.4309575</td><td>cold</td></tr>\n",
       "\t<tr><td>chic</td><td>21</td><td>14.7</td><td>2005-12-16</td><td>11.00000</td><td>22.00</td><td>11.166667</td><td>16.87500</td><td>-5.2309575</td><td>cold</td></tr>\n",
       "\t<tr><td>chic</td><td>30</td><td>27.9</td><td>2005-12-15</td><td>14.40000</td><td>16.50</td><td> 4.895833</td><td>25.43056</td><td>-1.8309575</td><td>cold</td></tr>\n",
       "\t<tr><td>chic</td><td>32</td><td>27.4</td><td>2005-12-14</td><td>26.90000</td><td>16.00</td><td> 3.802083</td><td>30.63384</td><td>10.6690425</td><td>cold</td></tr>\n",
       "\t<tr><td>chic</td><td>26</td><td>19.8</td><td>2005-12-13</td><td>26.50000</td><td>21.00</td><td> 6.628623</td><td>29.56944</td><td>10.2690425</td><td>cold</td></tr>\n",
       "\t<tr><td>chic</td><td>19</td><td>11.6</td><td>2005-12-12</td><td>19.22500</td><td>28.75</td><td> 5.031250</td><td>39.74621</td><td> 2.9940425</td><td>cold</td></tr>\n",
       "\t<tr><td>chic</td><td>20</td><td>17.2</td><td>2005-12-11</td><td>10.60000</td><td>14.00</td><td>11.333333</td><td>22.55556</td><td>-5.6309575</td><td>cold</td></tr>\n",
       "\t<tr><td>chic</td><td>22</td><td>16.2</td><td>2005-12-10</td><td>18.20000</td><td>30.00</td><td> 9.135417</td><td>28.70833</td><td> 1.9690425</td><td>cold</td></tr>\n",
       "\t<tr><td>chic</td><td>20</td><td>10.9</td><td>2005-12-09</td><td>25.45000</td><td>22.00</td><td> 5.958333</td><td>31.41667</td><td> 9.2190425</td><td>cold</td></tr>\n",
       "\t<tr><td>chic</td><td>16</td><td>15.6</td><td>2005-12-08</td><td>24.30000</td><td>31.00</td><td> 5.995265</td><td>34.22222</td><td> 8.0690425</td><td>cold</td></tr>\n",
       "\t<tr><td>chic</td><td> 8</td><td>-1.8</td><td>2005-12-07</td><td>37.80000</td><td>39.00</td><td> 3.916214</td><td>34.30952</td><td>21.5690425</td><td>cold</td></tr>\n",
       "\t<tr><td>chic</td><td>11</td><td> 3.2</td><td>2005-12-06</td><td>24.61667</td><td>33.00</td><td> 4.701540</td><td>29.08333</td><td> 8.3857091</td><td>cold</td></tr>\n",
       "\t<tr><td>chic</td><td>11</td><td> 2.8</td><td>2005-12-05</td><td>      NA</td><td>30.00</td><td> 6.447917</td><td>28.38889</td><td>        NA</td><td>cold</td></tr>\n",
       "\t<tr><td>chic</td><td>20</td><td>15.8</td><td>2005-12-04</td><td>15.30000</td><td>15.50</td><td>13.177083</td><td>21.70833</td><td>-0.9309575</td><td>cold</td></tr>\n",
       "\t<tr><td>chic</td><td>25</td><td>19.0</td><td>2005-12-03</td><td>13.34286</td><td>20.00</td><td>10.333333</td><td>25.19444</td><td>-2.8881004</td><td>cold</td></tr>\n",
       "\t<tr><td>chic</td><td>19</td><td> 8.5</td><td>2005-12-02</td><td>      NA</td><td>19.50</td><td> 9.156250</td><td>23.29167</td><td>        NA</td><td>cold</td></tr>\n",
       "\t<tr><td>⋮</td><td>⋮</td><td>⋮</td><td>⋮</td><td>⋮</td><td>⋮</td><td>⋮</td><td>⋮</td><td>⋮</td><td>⋮</td></tr>\n",
       "\t<tr><td>chic</td><td>32.5</td><td> 24.125</td><td>1987-01-30</td><td>NA</td><td>59.00000</td><td> 8.791667</td><td>19.79861</td><td>NA</td><td>cold</td></tr>\n",
       "\t<tr><td>chic</td><td>29.5</td><td> 32.875</td><td>1987-01-29</td><td>NA</td><td>35.00000</td><td> 2.916667</td><td>28.14529</td><td>NA</td><td>cold</td></tr>\n",
       "\t<tr><td>chic</td><td>29.5</td><td> 18.250</td><td>1987-01-28</td><td>NA</td><td>47.00000</td><td> 6.875000</td><td>29.12943</td><td>NA</td><td>cold</td></tr>\n",
       "\t<tr><td>chic</td><td>17.5</td><td> 17.750</td><td>1987-01-27</td><td>NA</td><td>39.33333</td><td> 6.000000</td><td>30.69306</td><td>NA</td><td>cold</td></tr>\n",
       "\t<tr><td>chic</td><td>16.0</td><td>  4.750</td><td>1987-01-26</td><td>NA</td><td>71.00000</td><td> 4.583333</td><td>32.42143</td><td>NA</td><td>cold</td></tr>\n",
       "\t<tr><td>chic</td><td> 9.5</td><td> -5.250</td><td>1987-01-25</td><td>NA</td><td>      NA</td><td> 6.666667</td><td>26.30417</td><td>NA</td><td>cold</td></tr>\n",
       "\t<tr><td>chic</td><td> 2.0</td><td> -5.625</td><td>1987-01-24</td><td>NA</td><td>38.00000</td><td>10.083333</td><td>18.69167</td><td>NA</td><td>cold</td></tr>\n",
       "\t<tr><td>chic</td><td> 2.5</td><td>-12.250</td><td>1987-01-23</td><td>NA</td><td>55.00000</td><td>14.625000</td><td>14.66250</td><td>NA</td><td>cold</td></tr>\n",
       "\t<tr><td>chic</td><td>19.5</td><td>  7.375</td><td>1987-01-22</td><td>NA</td><td>52.00000</td><td>10.500000</td><td>16.98798</td><td>NA</td><td>cold</td></tr>\n",
       "\t<tr><td>chic</td><td>22.0</td><td> 20.625</td><td>1987-01-21</td><td>NA</td><td>32.85714</td><td> 8.913043</td><td>24.52083</td><td>NA</td><td>cold</td></tr>\n",
       "\t<tr><td>chic</td><td>20.5</td><td> 11.500</td><td>1987-01-20</td><td>NA</td><td>38.00000</td><td> 7.250000</td><td>21.61021</td><td>NA</td><td>cold</td></tr>\n",
       "\t<tr><td>chic</td><td>23.0</td><td> 15.750</td><td>1987-01-19</td><td>NA</td><td>32.00000</td><td>14.875000</td><td>17.17409</td><td>NA</td><td>cold</td></tr>\n",
       "\t<tr><td>chic</td><td>17.5</td><td> 11.125</td><td>1987-01-18</td><td>NA</td><td>39.00000</td><td> 6.375000</td><td>21.03333</td><td>NA</td><td>cold</td></tr>\n",
       "\t<tr><td>chic</td><td>27.0</td><td> 24.750</td><td>1987-01-17</td><td>NA</td><td>      NA</td><td> 5.833333</td><td>20.70833</td><td>NA</td><td>cold</td></tr>\n",
       "\t<tr><td>chic</td><td>25.0</td><td> 21.500</td><td>1987-01-16</td><td>NA</td><td>19.00000</td><td> 7.916667</td><td>19.46667</td><td>NA</td><td>cold</td></tr>\n",
       "\t<tr><td>chic</td><td>32.5</td><td> 24.250</td><td>1987-01-15</td><td>NA</td><td>28.83333</td><td> 4.458333</td><td>18.87131</td><td>NA</td><td>cold</td></tr>\n",
       "\t<tr><td>chic</td><td>37.5</td><td> 36.375</td><td>1987-01-14</td><td>NA</td><td>43.00000</td><td> 4.208333</td><td>32.19444</td><td>NA</td><td>cold</td></tr>\n",
       "\t<tr><td>chic</td><td>34.0</td><td> 32.250</td><td>1987-01-13</td><td>NA</td><td>53.00000</td><td> 4.958333</td><td>38.06142</td><td>NA</td><td>cold</td></tr>\n",
       "\t<tr><td>chic</td><td>34.5</td><td> 26.000</td><td>1987-01-12</td><td>NA</td><td>26.00000</td><td> 8.000000</td><td>33.02083</td><td>NA</td><td>cold</td></tr>\n",
       "\t<tr><td>chic</td><td>29.5</td><td> 20.125</td><td>1987-01-11</td><td>NA</td><td>22.00000</td><td>17.541667</td><td>13.70139</td><td>NA</td><td>cold</td></tr>\n",
       "\t<tr><td>chic</td><td>32.5</td><td> 27.750</td><td>1987-01-10</td><td>NA</td><td>      NA</td><td> 4.958333</td><td>19.54167</td><td>NA</td><td>cold</td></tr>\n",
       "\t<tr><td>chic</td><td>26.5</td><td> 29.000</td><td>1987-01-09</td><td>NA</td><td>33.28571</td><td> 4.500000</td><td>23.38889</td><td>NA</td><td>cold</td></tr>\n",
       "\t<tr><td>chic</td><td>29.0</td><td> 22.000</td><td>1987-01-08</td><td>NA</td><td>36.00000</td><td>11.291667</td><td>17.03723</td><td>NA</td><td>cold</td></tr>\n",
       "\t<tr><td>chic</td><td>34.5</td><td> 26.750</td><td>1987-01-07</td><td>NA</td><td>41.00000</td><td> 9.291667</td><td>20.58171</td><td>NA</td><td>cold</td></tr>\n",
       "\t<tr><td>chic</td><td>40.0</td><td> 35.125</td><td>1987-01-06</td><td>NA</td><td>48.00000</td><td> 5.833333</td><td>25.77233</td><td>NA</td><td>cold</td></tr>\n",
       "\t<tr><td>chic</td><td>32.0</td><td> 28.875</td><td>1987-01-05</td><td>NA</td><td>      NA</td><td> 4.750000</td><td>30.33333</td><td>NA</td><td>cold</td></tr>\n",
       "\t<tr><td>chic</td><td>29.0</td><td> 28.625</td><td>1987-01-04</td><td>NA</td><td>47.00000</td><td> 4.375000</td><td>30.43452</td><td>NA</td><td>cold</td></tr>\n",
       "\t<tr><td>chic</td><td>33.0</td><td> 27.375</td><td>1987-01-03</td><td>NA</td><td>34.16667</td><td> 3.333333</td><td>23.81548</td><td>NA</td><td>cold</td></tr>\n",
       "\t<tr><td>chic</td><td>33.0</td><td> 29.875</td><td>1987-01-02</td><td>NA</td><td>      NA</td><td> 3.304348</td><td>23.19099</td><td>NA</td><td>cold</td></tr>\n",
       "\t<tr><td>chic</td><td>31.5</td><td> 31.500</td><td>1987-01-01</td><td>NA</td><td>34.00000</td><td> 4.250000</td><td>19.98810</td><td>NA</td><td>cold</td></tr>\n",
       "</tbody>\n",
       "</table>\n"
      ],
      "text/latex": [
       "A grouped_df: 6940 × 10\n",
       "\\begin{tabular}{r|llllllllll}\n",
       " city & tmpd & dewpoint & date & pm25 & pm10tmean2 & o3tmean2 & no2tmean2 & pm25detrend & tempcat\\\\\n",
       " <chr> & <dbl> & <dbl> & <date> & <dbl> & <dbl> & <dbl> & <dbl> & <dbl> & <fct>\\\\\n",
       "\\hline\n",
       "\t chic & 35 & 30.1 & 2005-12-31 & 15.00000 & 23.50 &  2.531250 & 13.25000 & -1.2309575 & cold\\\\\n",
       "\t chic & 36 & 31.0 & 2005-12-30 & 15.05714 & 19.20 &  3.034420 & 22.80556 & -1.1738147 & cold\\\\\n",
       "\t chic & 35 & 29.4 & 2005-12-29 &  7.45000 & 23.50 &  6.794837 & 19.97222 & -8.7809575 & cold\\\\\n",
       "\t chic & 37 & 34.5 & 2005-12-28 & 17.75000 & 27.50 &  3.260417 & 19.28563 &  1.5190425 & cold\\\\\n",
       "\t chic & 40 & 33.6 & 2005-12-27 & 23.56000 & 27.00 &  4.468750 & 23.50000 &  7.3290425 & cold\\\\\n",
       "\t chic & 35 & 29.6 & 2005-12-26 &  8.40000 &  8.50 & 14.041667 & 16.81944 & -7.8309575 & cold\\\\\n",
       "\t chic & 35 & 32.1 & 2005-12-25 &  6.70000 &  8.00 & 14.354167 & 13.79167 & -9.5309575 & cold\\\\\n",
       "\t chic & 37 & 35.2 & 2005-12-24 & 30.77143 & 25.20 &  1.770833 & 31.98611 & 14.5404710 & cold\\\\\n",
       "\t chic & 41 & 32.6 & 2005-12-23 & 32.90000 & 34.50 &  6.906250 & 29.08333 & 16.6690425 & cold\\\\\n",
       "\t chic & 22 & 23.3 & 2005-12-22 & 36.65000 & 42.50 &  5.385417 & 33.73026 & 20.4190425 & cold\\\\\n",
       "\t chic & 12 &  7.7 & 2005-12-21 & 37.92857 & 59.50 &  3.663949 & 34.86111 & 21.6976139 & cold\\\\\n",
       "\t chic & 13 &  7.7 & 2005-12-20 & 25.75000 & 32.00 &  3.849185 & 32.89773 &  9.5190425 & cold\\\\\n",
       "\t chic &  5 & -0.3 & 2005-12-19 & 21.15000 & 21.00 &  8.058877 & 31.79167 &  4.9190425 & cold\\\\\n",
       "\t chic & 10 &  1.9 & 2005-12-18 & 12.20000 & 17.50 & 13.552083 & 19.11111 & -4.0309575 & cold\\\\\n",
       "\t chic & 16 &  7.3 & 2005-12-17 & 13.80000 & 20.00 &  8.593750 & 20.73611 & -2.4309575 & cold\\\\\n",
       "\t chic & 21 & 14.7 & 2005-12-16 & 11.00000 & 22.00 & 11.166667 & 16.87500 & -5.2309575 & cold\\\\\n",
       "\t chic & 30 & 27.9 & 2005-12-15 & 14.40000 & 16.50 &  4.895833 & 25.43056 & -1.8309575 & cold\\\\\n",
       "\t chic & 32 & 27.4 & 2005-12-14 & 26.90000 & 16.00 &  3.802083 & 30.63384 & 10.6690425 & cold\\\\\n",
       "\t chic & 26 & 19.8 & 2005-12-13 & 26.50000 & 21.00 &  6.628623 & 29.56944 & 10.2690425 & cold\\\\\n",
       "\t chic & 19 & 11.6 & 2005-12-12 & 19.22500 & 28.75 &  5.031250 & 39.74621 &  2.9940425 & cold\\\\\n",
       "\t chic & 20 & 17.2 & 2005-12-11 & 10.60000 & 14.00 & 11.333333 & 22.55556 & -5.6309575 & cold\\\\\n",
       "\t chic & 22 & 16.2 & 2005-12-10 & 18.20000 & 30.00 &  9.135417 & 28.70833 &  1.9690425 & cold\\\\\n",
       "\t chic & 20 & 10.9 & 2005-12-09 & 25.45000 & 22.00 &  5.958333 & 31.41667 &  9.2190425 & cold\\\\\n",
       "\t chic & 16 & 15.6 & 2005-12-08 & 24.30000 & 31.00 &  5.995265 & 34.22222 &  8.0690425 & cold\\\\\n",
       "\t chic &  8 & -1.8 & 2005-12-07 & 37.80000 & 39.00 &  3.916214 & 34.30952 & 21.5690425 & cold\\\\\n",
       "\t chic & 11 &  3.2 & 2005-12-06 & 24.61667 & 33.00 &  4.701540 & 29.08333 &  8.3857091 & cold\\\\\n",
       "\t chic & 11 &  2.8 & 2005-12-05 &       NA & 30.00 &  6.447917 & 28.38889 &         NA & cold\\\\\n",
       "\t chic & 20 & 15.8 & 2005-12-04 & 15.30000 & 15.50 & 13.177083 & 21.70833 & -0.9309575 & cold\\\\\n",
       "\t chic & 25 & 19.0 & 2005-12-03 & 13.34286 & 20.00 & 10.333333 & 25.19444 & -2.8881004 & cold\\\\\n",
       "\t chic & 19 &  8.5 & 2005-12-02 &       NA & 19.50 &  9.156250 & 23.29167 &         NA & cold\\\\\n",
       "\t ⋮ & ⋮ & ⋮ & ⋮ & ⋮ & ⋮ & ⋮ & ⋮ & ⋮ & ⋮\\\\\n",
       "\t chic & 32.5 &  24.125 & 1987-01-30 & NA & 59.00000 &  8.791667 & 19.79861 & NA & cold\\\\\n",
       "\t chic & 29.5 &  32.875 & 1987-01-29 & NA & 35.00000 &  2.916667 & 28.14529 & NA & cold\\\\\n",
       "\t chic & 29.5 &  18.250 & 1987-01-28 & NA & 47.00000 &  6.875000 & 29.12943 & NA & cold\\\\\n",
       "\t chic & 17.5 &  17.750 & 1987-01-27 & NA & 39.33333 &  6.000000 & 30.69306 & NA & cold\\\\\n",
       "\t chic & 16.0 &   4.750 & 1987-01-26 & NA & 71.00000 &  4.583333 & 32.42143 & NA & cold\\\\\n",
       "\t chic &  9.5 &  -5.250 & 1987-01-25 & NA &       NA &  6.666667 & 26.30417 & NA & cold\\\\\n",
       "\t chic &  2.0 &  -5.625 & 1987-01-24 & NA & 38.00000 & 10.083333 & 18.69167 & NA & cold\\\\\n",
       "\t chic &  2.5 & -12.250 & 1987-01-23 & NA & 55.00000 & 14.625000 & 14.66250 & NA & cold\\\\\n",
       "\t chic & 19.5 &   7.375 & 1987-01-22 & NA & 52.00000 & 10.500000 & 16.98798 & NA & cold\\\\\n",
       "\t chic & 22.0 &  20.625 & 1987-01-21 & NA & 32.85714 &  8.913043 & 24.52083 & NA & cold\\\\\n",
       "\t chic & 20.5 &  11.500 & 1987-01-20 & NA & 38.00000 &  7.250000 & 21.61021 & NA & cold\\\\\n",
       "\t chic & 23.0 &  15.750 & 1987-01-19 & NA & 32.00000 & 14.875000 & 17.17409 & NA & cold\\\\\n",
       "\t chic & 17.5 &  11.125 & 1987-01-18 & NA & 39.00000 &  6.375000 & 21.03333 & NA & cold\\\\\n",
       "\t chic & 27.0 &  24.750 & 1987-01-17 & NA &       NA &  5.833333 & 20.70833 & NA & cold\\\\\n",
       "\t chic & 25.0 &  21.500 & 1987-01-16 & NA & 19.00000 &  7.916667 & 19.46667 & NA & cold\\\\\n",
       "\t chic & 32.5 &  24.250 & 1987-01-15 & NA & 28.83333 &  4.458333 & 18.87131 & NA & cold\\\\\n",
       "\t chic & 37.5 &  36.375 & 1987-01-14 & NA & 43.00000 &  4.208333 & 32.19444 & NA & cold\\\\\n",
       "\t chic & 34.0 &  32.250 & 1987-01-13 & NA & 53.00000 &  4.958333 & 38.06142 & NA & cold\\\\\n",
       "\t chic & 34.5 &  26.000 & 1987-01-12 & NA & 26.00000 &  8.000000 & 33.02083 & NA & cold\\\\\n",
       "\t chic & 29.5 &  20.125 & 1987-01-11 & NA & 22.00000 & 17.541667 & 13.70139 & NA & cold\\\\\n",
       "\t chic & 32.5 &  27.750 & 1987-01-10 & NA &       NA &  4.958333 & 19.54167 & NA & cold\\\\\n",
       "\t chic & 26.5 &  29.000 & 1987-01-09 & NA & 33.28571 &  4.500000 & 23.38889 & NA & cold\\\\\n",
       "\t chic & 29.0 &  22.000 & 1987-01-08 & NA & 36.00000 & 11.291667 & 17.03723 & NA & cold\\\\\n",
       "\t chic & 34.5 &  26.750 & 1987-01-07 & NA & 41.00000 &  9.291667 & 20.58171 & NA & cold\\\\\n",
       "\t chic & 40.0 &  35.125 & 1987-01-06 & NA & 48.00000 &  5.833333 & 25.77233 & NA & cold\\\\\n",
       "\t chic & 32.0 &  28.875 & 1987-01-05 & NA &       NA &  4.750000 & 30.33333 & NA & cold\\\\\n",
       "\t chic & 29.0 &  28.625 & 1987-01-04 & NA & 47.00000 &  4.375000 & 30.43452 & NA & cold\\\\\n",
       "\t chic & 33.0 &  27.375 & 1987-01-03 & NA & 34.16667 &  3.333333 & 23.81548 & NA & cold\\\\\n",
       "\t chic & 33.0 &  29.875 & 1987-01-02 & NA &       NA &  3.304348 & 23.19099 & NA & cold\\\\\n",
       "\t chic & 31.5 &  31.500 & 1987-01-01 & NA & 34.00000 &  4.250000 & 19.98810 & NA & cold\\\\\n",
       "\\end{tabular}\n"
      ],
      "text/markdown": [
       "\n",
       "A grouped_df: 6940 × 10\n",
       "\n",
       "| city &lt;chr&gt; | tmpd &lt;dbl&gt; | dewpoint &lt;dbl&gt; | date &lt;date&gt; | pm25 &lt;dbl&gt; | pm10tmean2 &lt;dbl&gt; | o3tmean2 &lt;dbl&gt; | no2tmean2 &lt;dbl&gt; | pm25detrend &lt;dbl&gt; | tempcat &lt;fct&gt; |\n",
       "|---|---|---|---|---|---|---|---|---|---|\n",
       "| chic | 35 | 30.1 | 2005-12-31 | 15.00000 | 23.50 |  2.531250 | 13.25000 | -1.2309575 | cold |\n",
       "| chic | 36 | 31.0 | 2005-12-30 | 15.05714 | 19.20 |  3.034420 | 22.80556 | -1.1738147 | cold |\n",
       "| chic | 35 | 29.4 | 2005-12-29 |  7.45000 | 23.50 |  6.794837 | 19.97222 | -8.7809575 | cold |\n",
       "| chic | 37 | 34.5 | 2005-12-28 | 17.75000 | 27.50 |  3.260417 | 19.28563 |  1.5190425 | cold |\n",
       "| chic | 40 | 33.6 | 2005-12-27 | 23.56000 | 27.00 |  4.468750 | 23.50000 |  7.3290425 | cold |\n",
       "| chic | 35 | 29.6 | 2005-12-26 |  8.40000 |  8.50 | 14.041667 | 16.81944 | -7.8309575 | cold |\n",
       "| chic | 35 | 32.1 | 2005-12-25 |  6.70000 |  8.00 | 14.354167 | 13.79167 | -9.5309575 | cold |\n",
       "| chic | 37 | 35.2 | 2005-12-24 | 30.77143 | 25.20 |  1.770833 | 31.98611 | 14.5404710 | cold |\n",
       "| chic | 41 | 32.6 | 2005-12-23 | 32.90000 | 34.50 |  6.906250 | 29.08333 | 16.6690425 | cold |\n",
       "| chic | 22 | 23.3 | 2005-12-22 | 36.65000 | 42.50 |  5.385417 | 33.73026 | 20.4190425 | cold |\n",
       "| chic | 12 |  7.7 | 2005-12-21 | 37.92857 | 59.50 |  3.663949 | 34.86111 | 21.6976139 | cold |\n",
       "| chic | 13 |  7.7 | 2005-12-20 | 25.75000 | 32.00 |  3.849185 | 32.89773 |  9.5190425 | cold |\n",
       "| chic |  5 | -0.3 | 2005-12-19 | 21.15000 | 21.00 |  8.058877 | 31.79167 |  4.9190425 | cold |\n",
       "| chic | 10 |  1.9 | 2005-12-18 | 12.20000 | 17.50 | 13.552083 | 19.11111 | -4.0309575 | cold |\n",
       "| chic | 16 |  7.3 | 2005-12-17 | 13.80000 | 20.00 |  8.593750 | 20.73611 | -2.4309575 | cold |\n",
       "| chic | 21 | 14.7 | 2005-12-16 | 11.00000 | 22.00 | 11.166667 | 16.87500 | -5.2309575 | cold |\n",
       "| chic | 30 | 27.9 | 2005-12-15 | 14.40000 | 16.50 |  4.895833 | 25.43056 | -1.8309575 | cold |\n",
       "| chic | 32 | 27.4 | 2005-12-14 | 26.90000 | 16.00 |  3.802083 | 30.63384 | 10.6690425 | cold |\n",
       "| chic | 26 | 19.8 | 2005-12-13 | 26.50000 | 21.00 |  6.628623 | 29.56944 | 10.2690425 | cold |\n",
       "| chic | 19 | 11.6 | 2005-12-12 | 19.22500 | 28.75 |  5.031250 | 39.74621 |  2.9940425 | cold |\n",
       "| chic | 20 | 17.2 | 2005-12-11 | 10.60000 | 14.00 | 11.333333 | 22.55556 | -5.6309575 | cold |\n",
       "| chic | 22 | 16.2 | 2005-12-10 | 18.20000 | 30.00 |  9.135417 | 28.70833 |  1.9690425 | cold |\n",
       "| chic | 20 | 10.9 | 2005-12-09 | 25.45000 | 22.00 |  5.958333 | 31.41667 |  9.2190425 | cold |\n",
       "| chic | 16 | 15.6 | 2005-12-08 | 24.30000 | 31.00 |  5.995265 | 34.22222 |  8.0690425 | cold |\n",
       "| chic |  8 | -1.8 | 2005-12-07 | 37.80000 | 39.00 |  3.916214 | 34.30952 | 21.5690425 | cold |\n",
       "| chic | 11 |  3.2 | 2005-12-06 | 24.61667 | 33.00 |  4.701540 | 29.08333 |  8.3857091 | cold |\n",
       "| chic | 11 |  2.8 | 2005-12-05 |       NA | 30.00 |  6.447917 | 28.38889 |         NA | cold |\n",
       "| chic | 20 | 15.8 | 2005-12-04 | 15.30000 | 15.50 | 13.177083 | 21.70833 | -0.9309575 | cold |\n",
       "| chic | 25 | 19.0 | 2005-12-03 | 13.34286 | 20.00 | 10.333333 | 25.19444 | -2.8881004 | cold |\n",
       "| chic | 19 |  8.5 | 2005-12-02 |       NA | 19.50 |  9.156250 | 23.29167 |         NA | cold |\n",
       "| ⋮ | ⋮ | ⋮ | ⋮ | ⋮ | ⋮ | ⋮ | ⋮ | ⋮ | ⋮ |\n",
       "| chic | 32.5 |  24.125 | 1987-01-30 | NA | 59.00000 |  8.791667 | 19.79861 | NA | cold |\n",
       "| chic | 29.5 |  32.875 | 1987-01-29 | NA | 35.00000 |  2.916667 | 28.14529 | NA | cold |\n",
       "| chic | 29.5 |  18.250 | 1987-01-28 | NA | 47.00000 |  6.875000 | 29.12943 | NA | cold |\n",
       "| chic | 17.5 |  17.750 | 1987-01-27 | NA | 39.33333 |  6.000000 | 30.69306 | NA | cold |\n",
       "| chic | 16.0 |   4.750 | 1987-01-26 | NA | 71.00000 |  4.583333 | 32.42143 | NA | cold |\n",
       "| chic |  9.5 |  -5.250 | 1987-01-25 | NA |       NA |  6.666667 | 26.30417 | NA | cold |\n",
       "| chic |  2.0 |  -5.625 | 1987-01-24 | NA | 38.00000 | 10.083333 | 18.69167 | NA | cold |\n",
       "| chic |  2.5 | -12.250 | 1987-01-23 | NA | 55.00000 | 14.625000 | 14.66250 | NA | cold |\n",
       "| chic | 19.5 |   7.375 | 1987-01-22 | NA | 52.00000 | 10.500000 | 16.98798 | NA | cold |\n",
       "| chic | 22.0 |  20.625 | 1987-01-21 | NA | 32.85714 |  8.913043 | 24.52083 | NA | cold |\n",
       "| chic | 20.5 |  11.500 | 1987-01-20 | NA | 38.00000 |  7.250000 | 21.61021 | NA | cold |\n",
       "| chic | 23.0 |  15.750 | 1987-01-19 | NA | 32.00000 | 14.875000 | 17.17409 | NA | cold |\n",
       "| chic | 17.5 |  11.125 | 1987-01-18 | NA | 39.00000 |  6.375000 | 21.03333 | NA | cold |\n",
       "| chic | 27.0 |  24.750 | 1987-01-17 | NA |       NA |  5.833333 | 20.70833 | NA | cold |\n",
       "| chic | 25.0 |  21.500 | 1987-01-16 | NA | 19.00000 |  7.916667 | 19.46667 | NA | cold |\n",
       "| chic | 32.5 |  24.250 | 1987-01-15 | NA | 28.83333 |  4.458333 | 18.87131 | NA | cold |\n",
       "| chic | 37.5 |  36.375 | 1987-01-14 | NA | 43.00000 |  4.208333 | 32.19444 | NA | cold |\n",
       "| chic | 34.0 |  32.250 | 1987-01-13 | NA | 53.00000 |  4.958333 | 38.06142 | NA | cold |\n",
       "| chic | 34.5 |  26.000 | 1987-01-12 | NA | 26.00000 |  8.000000 | 33.02083 | NA | cold |\n",
       "| chic | 29.5 |  20.125 | 1987-01-11 | NA | 22.00000 | 17.541667 | 13.70139 | NA | cold |\n",
       "| chic | 32.5 |  27.750 | 1987-01-10 | NA |       NA |  4.958333 | 19.54167 | NA | cold |\n",
       "| chic | 26.5 |  29.000 | 1987-01-09 | NA | 33.28571 |  4.500000 | 23.38889 | NA | cold |\n",
       "| chic | 29.0 |  22.000 | 1987-01-08 | NA | 36.00000 | 11.291667 | 17.03723 | NA | cold |\n",
       "| chic | 34.5 |  26.750 | 1987-01-07 | NA | 41.00000 |  9.291667 | 20.58171 | NA | cold |\n",
       "| chic | 40.0 |  35.125 | 1987-01-06 | NA | 48.00000 |  5.833333 | 25.77233 | NA | cold |\n",
       "| chic | 32.0 |  28.875 | 1987-01-05 | NA |       NA |  4.750000 | 30.33333 | NA | cold |\n",
       "| chic | 29.0 |  28.625 | 1987-01-04 | NA | 47.00000 |  4.375000 | 30.43452 | NA | cold |\n",
       "| chic | 33.0 |  27.375 | 1987-01-03 | NA | 34.16667 |  3.333333 | 23.81548 | NA | cold |\n",
       "| chic | 33.0 |  29.875 | 1987-01-02 | NA |       NA |  3.304348 | 23.19099 | NA | cold |\n",
       "| chic | 31.5 |  31.500 | 1987-01-01 | NA | 34.00000 |  4.250000 | 19.98810 | NA | cold |\n",
       "\n"
      ],
      "text/plain": [
       "     city tmpd dewpoint date       pm25     pm10tmean2 o3tmean2  no2tmean2\n",
       "1    chic 35   30.1     2005-12-31 15.00000 23.50       2.531250 13.25000 \n",
       "2    chic 36   31.0     2005-12-30 15.05714 19.20       3.034420 22.80556 \n",
       "3    chic 35   29.4     2005-12-29  7.45000 23.50       6.794837 19.97222 \n",
       "4    chic 37   34.5     2005-12-28 17.75000 27.50       3.260417 19.28563 \n",
       "5    chic 40   33.6     2005-12-27 23.56000 27.00       4.468750 23.50000 \n",
       "6    chic 35   29.6     2005-12-26  8.40000  8.50      14.041667 16.81944 \n",
       "7    chic 35   32.1     2005-12-25  6.70000  8.00      14.354167 13.79167 \n",
       "8    chic 37   35.2     2005-12-24 30.77143 25.20       1.770833 31.98611 \n",
       "9    chic 41   32.6     2005-12-23 32.90000 34.50       6.906250 29.08333 \n",
       "10   chic 22   23.3     2005-12-22 36.65000 42.50       5.385417 33.73026 \n",
       "11   chic 12    7.7     2005-12-21 37.92857 59.50       3.663949 34.86111 \n",
       "12   chic 13    7.7     2005-12-20 25.75000 32.00       3.849185 32.89773 \n",
       "13   chic  5   -0.3     2005-12-19 21.15000 21.00       8.058877 31.79167 \n",
       "14   chic 10    1.9     2005-12-18 12.20000 17.50      13.552083 19.11111 \n",
       "15   chic 16    7.3     2005-12-17 13.80000 20.00       8.593750 20.73611 \n",
       "16   chic 21   14.7     2005-12-16 11.00000 22.00      11.166667 16.87500 \n",
       "17   chic 30   27.9     2005-12-15 14.40000 16.50       4.895833 25.43056 \n",
       "18   chic 32   27.4     2005-12-14 26.90000 16.00       3.802083 30.63384 \n",
       "19   chic 26   19.8     2005-12-13 26.50000 21.00       6.628623 29.56944 \n",
       "20   chic 19   11.6     2005-12-12 19.22500 28.75       5.031250 39.74621 \n",
       "21   chic 20   17.2     2005-12-11 10.60000 14.00      11.333333 22.55556 \n",
       "22   chic 22   16.2     2005-12-10 18.20000 30.00       9.135417 28.70833 \n",
       "23   chic 20   10.9     2005-12-09 25.45000 22.00       5.958333 31.41667 \n",
       "24   chic 16   15.6     2005-12-08 24.30000 31.00       5.995265 34.22222 \n",
       "25   chic  8   -1.8     2005-12-07 37.80000 39.00       3.916214 34.30952 \n",
       "26   chic 11    3.2     2005-12-06 24.61667 33.00       4.701540 29.08333 \n",
       "27   chic 11    2.8     2005-12-05       NA 30.00       6.447917 28.38889 \n",
       "28   chic 20   15.8     2005-12-04 15.30000 15.50      13.177083 21.70833 \n",
       "29   chic 25   19.0     2005-12-03 13.34286 20.00      10.333333 25.19444 \n",
       "30   chic 19    8.5     2005-12-02       NA 19.50       9.156250 23.29167 \n",
       "⋮    ⋮    ⋮    ⋮        ⋮          ⋮        ⋮          ⋮         ⋮        \n",
       "6911 chic 32.5  24.125  1987-01-30 NA       59.00000    8.791667 19.79861 \n",
       "6912 chic 29.5  32.875  1987-01-29 NA       35.00000    2.916667 28.14529 \n",
       "6913 chic 29.5  18.250  1987-01-28 NA       47.00000    6.875000 29.12943 \n",
       "6914 chic 17.5  17.750  1987-01-27 NA       39.33333    6.000000 30.69306 \n",
       "6915 chic 16.0   4.750  1987-01-26 NA       71.00000    4.583333 32.42143 \n",
       "6916 chic  9.5  -5.250  1987-01-25 NA             NA    6.666667 26.30417 \n",
       "6917 chic  2.0  -5.625  1987-01-24 NA       38.00000   10.083333 18.69167 \n",
       "6918 chic  2.5 -12.250  1987-01-23 NA       55.00000   14.625000 14.66250 \n",
       "6919 chic 19.5   7.375  1987-01-22 NA       52.00000   10.500000 16.98798 \n",
       "6920 chic 22.0  20.625  1987-01-21 NA       32.85714    8.913043 24.52083 \n",
       "6921 chic 20.5  11.500  1987-01-20 NA       38.00000    7.250000 21.61021 \n",
       "6922 chic 23.0  15.750  1987-01-19 NA       32.00000   14.875000 17.17409 \n",
       "6923 chic 17.5  11.125  1987-01-18 NA       39.00000    6.375000 21.03333 \n",
       "6924 chic 27.0  24.750  1987-01-17 NA             NA    5.833333 20.70833 \n",
       "6925 chic 25.0  21.500  1987-01-16 NA       19.00000    7.916667 19.46667 \n",
       "6926 chic 32.5  24.250  1987-01-15 NA       28.83333    4.458333 18.87131 \n",
       "6927 chic 37.5  36.375  1987-01-14 NA       43.00000    4.208333 32.19444 \n",
       "6928 chic 34.0  32.250  1987-01-13 NA       53.00000    4.958333 38.06142 \n",
       "6929 chic 34.5  26.000  1987-01-12 NA       26.00000    8.000000 33.02083 \n",
       "6930 chic 29.5  20.125  1987-01-11 NA       22.00000   17.541667 13.70139 \n",
       "6931 chic 32.5  27.750  1987-01-10 NA             NA    4.958333 19.54167 \n",
       "6932 chic 26.5  29.000  1987-01-09 NA       33.28571    4.500000 23.38889 \n",
       "6933 chic 29.0  22.000  1987-01-08 NA       36.00000   11.291667 17.03723 \n",
       "6934 chic 34.5  26.750  1987-01-07 NA       41.00000    9.291667 20.58171 \n",
       "6935 chic 40.0  35.125  1987-01-06 NA       48.00000    5.833333 25.77233 \n",
       "6936 chic 32.0  28.875  1987-01-05 NA             NA    4.750000 30.33333 \n",
       "6937 chic 29.0  28.625  1987-01-04 NA       47.00000    4.375000 30.43452 \n",
       "6938 chic 33.0  27.375  1987-01-03 NA       34.16667    3.333333 23.81548 \n",
       "6939 chic 33.0  29.875  1987-01-02 NA             NA    3.304348 23.19099 \n",
       "6940 chic 31.5  31.500  1987-01-01 NA       34.00000    4.250000 19.98810 \n",
       "     pm25detrend tempcat\n",
       "1    -1.2309575  cold   \n",
       "2    -1.1738147  cold   \n",
       "3    -8.7809575  cold   \n",
       "4     1.5190425  cold   \n",
       "5     7.3290425  cold   \n",
       "6    -7.8309575  cold   \n",
       "7    -9.5309575  cold   \n",
       "8    14.5404710  cold   \n",
       "9    16.6690425  cold   \n",
       "10   20.4190425  cold   \n",
       "11   21.6976139  cold   \n",
       "12    9.5190425  cold   \n",
       "13    4.9190425  cold   \n",
       "14   -4.0309575  cold   \n",
       "15   -2.4309575  cold   \n",
       "16   -5.2309575  cold   \n",
       "17   -1.8309575  cold   \n",
       "18   10.6690425  cold   \n",
       "19   10.2690425  cold   \n",
       "20    2.9940425  cold   \n",
       "21   -5.6309575  cold   \n",
       "22    1.9690425  cold   \n",
       "23    9.2190425  cold   \n",
       "24    8.0690425  cold   \n",
       "25   21.5690425  cold   \n",
       "26    8.3857091  cold   \n",
       "27           NA  cold   \n",
       "28   -0.9309575  cold   \n",
       "29   -2.8881004  cold   \n",
       "30           NA  cold   \n",
       "⋮    ⋮           ⋮      \n",
       "6911 NA          cold   \n",
       "6912 NA          cold   \n",
       "6913 NA          cold   \n",
       "6914 NA          cold   \n",
       "6915 NA          cold   \n",
       "6916 NA          cold   \n",
       "6917 NA          cold   \n",
       "6918 NA          cold   \n",
       "6919 NA          cold   \n",
       "6920 NA          cold   \n",
       "6921 NA          cold   \n",
       "6922 NA          cold   \n",
       "6923 NA          cold   \n",
       "6924 NA          cold   \n",
       "6925 NA          cold   \n",
       "6926 NA          cold   \n",
       "6927 NA          cold   \n",
       "6928 NA          cold   \n",
       "6929 NA          cold   \n",
       "6930 NA          cold   \n",
       "6931 NA          cold   \n",
       "6932 NA          cold   \n",
       "6933 NA          cold   \n",
       "6934 NA          cold   \n",
       "6935 NA          cold   \n",
       "6936 NA          cold   \n",
       "6937 NA          cold   \n",
       "6938 NA          cold   \n",
       "6939 NA          cold   \n",
       "6940 NA          cold   "
      ]
     },
     "metadata": {},
     "output_type": "display_data"
    }
   ],
   "source": [
    "chicago_data <- mutate(chicago_data, tempcat = factor(1 * (tmpd > 80), labels = c('cold', 'hot')))\n",
    "hotcold <- group_by(chicago_data, tempcat)\n",
    "hotcold"
   ]
  },
  {
   "cell_type": "code",
   "execution_count": 127,
   "metadata": {},
   "outputs": [
    {
     "data": {
      "text/html": [
       "<table>\n",
       "<caption>A tibble: 3 × 4</caption>\n",
       "<thead>\n",
       "\t<tr><th scope=col>tempcat</th><th scope=col>pm25</th><th scope=col>o3</th><th scope=col>no2</th></tr>\n",
       "\t<tr><th scope=col>&lt;fct&gt;</th><th scope=col>&lt;dbl&gt;</th><th scope=col>&lt;dbl&gt;</th><th scope=col>&lt;dbl&gt;</th></tr>\n",
       "</thead>\n",
       "<tbody>\n",
       "\t<tr><td>cold</td><td>15.97807</td><td>66.587500</td><td>24.54924</td></tr>\n",
       "\t<tr><td>hot </td><td>26.48118</td><td>62.969656</td><td>24.93870</td></tr>\n",
       "\t<tr><td>NA  </td><td>47.73750</td><td> 9.416667</td><td>37.44444</td></tr>\n",
       "</tbody>\n",
       "</table>\n"
      ],
      "text/latex": [
       "A tibble: 3 × 4\n",
       "\\begin{tabular}{r|llll}\n",
       " tempcat & pm25 & o3 & no2\\\\\n",
       " <fct> & <dbl> & <dbl> & <dbl>\\\\\n",
       "\\hline\n",
       "\t cold & 15.97807 & 66.587500 & 24.54924\\\\\n",
       "\t hot  & 26.48118 & 62.969656 & 24.93870\\\\\n",
       "\t NA   & 47.73750 &  9.416667 & 37.44444\\\\\n",
       "\\end{tabular}\n"
      ],
      "text/markdown": [
       "\n",
       "A tibble: 3 × 4\n",
       "\n",
       "| tempcat &lt;fct&gt; | pm25 &lt;dbl&gt; | o3 &lt;dbl&gt; | no2 &lt;dbl&gt; |\n",
       "|---|---|---|---|\n",
       "| cold | 15.97807 | 66.587500 | 24.54924 |\n",
       "| hot  | 26.48118 | 62.969656 | 24.93870 |\n",
       "| NA   | 47.73750 |  9.416667 | 37.44444 |\n",
       "\n"
      ],
      "text/plain": [
       "  tempcat pm25     o3        no2     \n",
       "1 cold    15.97807 66.587500 24.54924\n",
       "2 hot     26.48118 62.969656 24.93870\n",
       "3 NA      47.73750  9.416667 37.44444"
      ]
     },
     "metadata": {},
     "output_type": "display_data"
    }
   ],
   "source": [
    "summarize(hotcold, pm25 = mean(pm25, na.rm = TRUE), o3 = max(o3tmean2), no2 = median(no2tmean2))"
   ]
  },
  {
   "cell_type": "code",
   "execution_count": 129,
   "metadata": {},
   "outputs": [
    {
     "data": {
      "text/html": [
       "<table>\n",
       "<caption>A tibble: 19 × 4</caption>\n",
       "<thead>\n",
       "\t<tr><th scope=col>year</th><th scope=col>pm25</th><th scope=col>o3</th><th scope=col>no2</th></tr>\n",
       "\t<tr><th scope=col>&lt;dbl&gt;</th><th scope=col>&lt;dbl&gt;</th><th scope=col>&lt;dbl&gt;</th><th scope=col>&lt;dbl&gt;</th></tr>\n",
       "</thead>\n",
       "<tbody>\n",
       "\t<tr><td>1987</td><td>     NaN</td><td>62.96966</td><td>23.49369</td></tr>\n",
       "\t<tr><td>1988</td><td>     NaN</td><td>61.67708</td><td>24.52296</td></tr>\n",
       "\t<tr><td>1989</td><td>     NaN</td><td>59.72727</td><td>26.14062</td></tr>\n",
       "\t<tr><td>1990</td><td>     NaN</td><td>52.22917</td><td>22.59583</td></tr>\n",
       "\t<tr><td>1991</td><td>     NaN</td><td>63.10417</td><td>21.38194</td></tr>\n",
       "\t<tr><td>1992</td><td>     NaN</td><td>50.82870</td><td>24.78921</td></tr>\n",
       "\t<tr><td>1993</td><td>     NaN</td><td>44.30093</td><td>25.76993</td></tr>\n",
       "\t<tr><td>1994</td><td>     NaN</td><td>52.17844</td><td>28.47500</td></tr>\n",
       "\t<tr><td>1995</td><td>     NaN</td><td>66.58750</td><td>27.26042</td></tr>\n",
       "\t<tr><td>1996</td><td>     NaN</td><td>58.39583</td><td>26.38715</td></tr>\n",
       "\t<tr><td>1997</td><td>     NaN</td><td>56.54167</td><td>25.48143</td></tr>\n",
       "\t<tr><td>1998</td><td>18.26467</td><td>50.66250</td><td>24.58649</td></tr>\n",
       "\t<tr><td>1999</td><td>18.49646</td><td>57.48864</td><td>24.66667</td></tr>\n",
       "\t<tr><td>2000</td><td>16.93806</td><td>55.76103</td><td>23.46082</td></tr>\n",
       "\t<tr><td>2001</td><td>16.92632</td><td>51.81984</td><td>25.06522</td></tr>\n",
       "\t<tr><td>2002</td><td>15.27335</td><td>54.88043</td><td>22.73750</td></tr>\n",
       "\t<tr><td>2003</td><td>15.23183</td><td>56.16608</td><td>24.62500</td></tr>\n",
       "\t<tr><td>2004</td><td>14.62864</td><td>44.48240</td><td>23.39130</td></tr>\n",
       "\t<tr><td>2005</td><td>16.18556</td><td>58.84126</td><td>22.62387</td></tr>\n",
       "</tbody>\n",
       "</table>\n"
      ],
      "text/latex": [
       "A tibble: 19 × 4\n",
       "\\begin{tabular}{r|llll}\n",
       " year & pm25 & o3 & no2\\\\\n",
       " <dbl> & <dbl> & <dbl> & <dbl>\\\\\n",
       "\\hline\n",
       "\t 1987 &      NaN & 62.96966 & 23.49369\\\\\n",
       "\t 1988 &      NaN & 61.67708 & 24.52296\\\\\n",
       "\t 1989 &      NaN & 59.72727 & 26.14062\\\\\n",
       "\t 1990 &      NaN & 52.22917 & 22.59583\\\\\n",
       "\t 1991 &      NaN & 63.10417 & 21.38194\\\\\n",
       "\t 1992 &      NaN & 50.82870 & 24.78921\\\\\n",
       "\t 1993 &      NaN & 44.30093 & 25.76993\\\\\n",
       "\t 1994 &      NaN & 52.17844 & 28.47500\\\\\n",
       "\t 1995 &      NaN & 66.58750 & 27.26042\\\\\n",
       "\t 1996 &      NaN & 58.39583 & 26.38715\\\\\n",
       "\t 1997 &      NaN & 56.54167 & 25.48143\\\\\n",
       "\t 1998 & 18.26467 & 50.66250 & 24.58649\\\\\n",
       "\t 1999 & 18.49646 & 57.48864 & 24.66667\\\\\n",
       "\t 2000 & 16.93806 & 55.76103 & 23.46082\\\\\n",
       "\t 2001 & 16.92632 & 51.81984 & 25.06522\\\\\n",
       "\t 2002 & 15.27335 & 54.88043 & 22.73750\\\\\n",
       "\t 2003 & 15.23183 & 56.16608 & 24.62500\\\\\n",
       "\t 2004 & 14.62864 & 44.48240 & 23.39130\\\\\n",
       "\t 2005 & 16.18556 & 58.84126 & 22.62387\\\\\n",
       "\\end{tabular}\n"
      ],
      "text/markdown": [
       "\n",
       "A tibble: 19 × 4\n",
       "\n",
       "| year &lt;dbl&gt; | pm25 &lt;dbl&gt; | o3 &lt;dbl&gt; | no2 &lt;dbl&gt; |\n",
       "|---|---|---|---|\n",
       "| 1987 |      NaN | 62.96966 | 23.49369 |\n",
       "| 1988 |      NaN | 61.67708 | 24.52296 |\n",
       "| 1989 |      NaN | 59.72727 | 26.14062 |\n",
       "| 1990 |      NaN | 52.22917 | 22.59583 |\n",
       "| 1991 |      NaN | 63.10417 | 21.38194 |\n",
       "| 1992 |      NaN | 50.82870 | 24.78921 |\n",
       "| 1993 |      NaN | 44.30093 | 25.76993 |\n",
       "| 1994 |      NaN | 52.17844 | 28.47500 |\n",
       "| 1995 |      NaN | 66.58750 | 27.26042 |\n",
       "| 1996 |      NaN | 58.39583 | 26.38715 |\n",
       "| 1997 |      NaN | 56.54167 | 25.48143 |\n",
       "| 1998 | 18.26467 | 50.66250 | 24.58649 |\n",
       "| 1999 | 18.49646 | 57.48864 | 24.66667 |\n",
       "| 2000 | 16.93806 | 55.76103 | 23.46082 |\n",
       "| 2001 | 16.92632 | 51.81984 | 25.06522 |\n",
       "| 2002 | 15.27335 | 54.88043 | 22.73750 |\n",
       "| 2003 | 15.23183 | 56.16608 | 24.62500 |\n",
       "| 2004 | 14.62864 | 44.48240 | 23.39130 |\n",
       "| 2005 | 16.18556 | 58.84126 | 22.62387 |\n",
       "\n"
      ],
      "text/plain": [
       "   year pm25     o3       no2     \n",
       "1  1987      NaN 62.96966 23.49369\n",
       "2  1988      NaN 61.67708 24.52296\n",
       "3  1989      NaN 59.72727 26.14062\n",
       "4  1990      NaN 52.22917 22.59583\n",
       "5  1991      NaN 63.10417 21.38194\n",
       "6  1992      NaN 50.82870 24.78921\n",
       "7  1993      NaN 44.30093 25.76993\n",
       "8  1994      NaN 52.17844 28.47500\n",
       "9  1995      NaN 66.58750 27.26042\n",
       "10 1996      NaN 58.39583 26.38715\n",
       "11 1997      NaN 56.54167 25.48143\n",
       "12 1998 18.26467 50.66250 24.58649\n",
       "13 1999 18.49646 57.48864 24.66667\n",
       "14 2000 16.93806 55.76103 23.46082\n",
       "15 2001 16.92632 51.81984 25.06522\n",
       "16 2002 15.27335 54.88043 22.73750\n",
       "17 2003 15.23183 56.16608 24.62500\n",
       "18 2004 14.62864 44.48240 23.39130\n",
       "19 2005 16.18556 58.84126 22.62387"
      ]
     },
     "metadata": {},
     "output_type": "display_data"
    }
   ],
   "source": [
    "chicago_data <- mutate(chicago_data, year = as.POSIXlt(date)$year + 1900)\n",
    "years <- group_by(chicago_data, year)\n",
    "summarize(years, pm25 = mean(pm25, na.rm = TRUE), o3 = max(o3tmean2), no2 = median(no2tmean2))"
   ]
  },
  {
   "cell_type": "markdown",
   "metadata": {},
   "source": [
    "**pipe**"
   ]
  },
  {
   "cell_type": "code",
   "execution_count": 132,
   "metadata": {},
   "outputs": [
    {
     "data": {
      "text/html": [
       "<table>\n",
       "<caption>A tibble: 12 × 4</caption>\n",
       "<thead>\n",
       "\t<tr><th scope=col>month</th><th scope=col>pm25</th><th scope=col>o3</th><th scope=col>no2</th></tr>\n",
       "\t<tr><th scope=col>&lt;dbl&gt;</th><th scope=col>&lt;dbl&gt;</th><th scope=col>&lt;dbl&gt;</th><th scope=col>&lt;dbl&gt;</th></tr>\n",
       "</thead>\n",
       "<tbody>\n",
       "\t<tr><td> 1</td><td>17.76996</td><td>28.22222</td><td>25.35417</td></tr>\n",
       "\t<tr><td> 2</td><td>20.37513</td><td>37.37500</td><td>26.78034</td></tr>\n",
       "\t<tr><td> 3</td><td>17.40818</td><td>39.05000</td><td>26.76984</td></tr>\n",
       "\t<tr><td> 4</td><td>13.85879</td><td>47.94907</td><td>25.03125</td></tr>\n",
       "\t<tr><td> 5</td><td>14.07420</td><td>52.75000</td><td>24.22222</td></tr>\n",
       "\t<tr><td> 6</td><td>15.86461</td><td>66.58750</td><td>25.01140</td></tr>\n",
       "\t<tr><td> 7</td><td>16.57087</td><td>59.54167</td><td>22.38442</td></tr>\n",
       "\t<tr><td> 8</td><td>16.93380</td><td>53.96701</td><td>22.98333</td></tr>\n",
       "\t<tr><td> 9</td><td>15.91279</td><td>57.48864</td><td>24.47917</td></tr>\n",
       "\t<tr><td>10</td><td>14.23557</td><td>47.09275</td><td>24.15217</td></tr>\n",
       "\t<tr><td>11</td><td>15.15794</td><td>29.45833</td><td>23.56537</td></tr>\n",
       "\t<tr><td>12</td><td>17.52221</td><td>27.70833</td><td>24.45773</td></tr>\n",
       "</tbody>\n",
       "</table>\n"
      ],
      "text/latex": [
       "A tibble: 12 × 4\n",
       "\\begin{tabular}{r|llll}\n",
       " month & pm25 & o3 & no2\\\\\n",
       " <dbl> & <dbl> & <dbl> & <dbl>\\\\\n",
       "\\hline\n",
       "\t  1 & 17.76996 & 28.22222 & 25.35417\\\\\n",
       "\t  2 & 20.37513 & 37.37500 & 26.78034\\\\\n",
       "\t  3 & 17.40818 & 39.05000 & 26.76984\\\\\n",
       "\t  4 & 13.85879 & 47.94907 & 25.03125\\\\\n",
       "\t  5 & 14.07420 & 52.75000 & 24.22222\\\\\n",
       "\t  6 & 15.86461 & 66.58750 & 25.01140\\\\\n",
       "\t  7 & 16.57087 & 59.54167 & 22.38442\\\\\n",
       "\t  8 & 16.93380 & 53.96701 & 22.98333\\\\\n",
       "\t  9 & 15.91279 & 57.48864 & 24.47917\\\\\n",
       "\t 10 & 14.23557 & 47.09275 & 24.15217\\\\\n",
       "\t 11 & 15.15794 & 29.45833 & 23.56537\\\\\n",
       "\t 12 & 17.52221 & 27.70833 & 24.45773\\\\\n",
       "\\end{tabular}\n"
      ],
      "text/markdown": [
       "\n",
       "A tibble: 12 × 4\n",
       "\n",
       "| month &lt;dbl&gt; | pm25 &lt;dbl&gt; | o3 &lt;dbl&gt; | no2 &lt;dbl&gt; |\n",
       "|---|---|---|---|\n",
       "|  1 | 17.76996 | 28.22222 | 25.35417 |\n",
       "|  2 | 20.37513 | 37.37500 | 26.78034 |\n",
       "|  3 | 17.40818 | 39.05000 | 26.76984 |\n",
       "|  4 | 13.85879 | 47.94907 | 25.03125 |\n",
       "|  5 | 14.07420 | 52.75000 | 24.22222 |\n",
       "|  6 | 15.86461 | 66.58750 | 25.01140 |\n",
       "|  7 | 16.57087 | 59.54167 | 22.38442 |\n",
       "|  8 | 16.93380 | 53.96701 | 22.98333 |\n",
       "|  9 | 15.91279 | 57.48864 | 24.47917 |\n",
       "| 10 | 14.23557 | 47.09275 | 24.15217 |\n",
       "| 11 | 15.15794 | 29.45833 | 23.56537 |\n",
       "| 12 | 17.52221 | 27.70833 | 24.45773 |\n",
       "\n"
      ],
      "text/plain": [
       "   month pm25     o3       no2     \n",
       "1   1    17.76996 28.22222 25.35417\n",
       "2   2    20.37513 37.37500 26.78034\n",
       "3   3    17.40818 39.05000 26.76984\n",
       "4   4    13.85879 47.94907 25.03125\n",
       "5   5    14.07420 52.75000 24.22222\n",
       "6   6    15.86461 66.58750 25.01140\n",
       "7   7    16.57087 59.54167 22.38442\n",
       "8   8    16.93380 53.96701 22.98333\n",
       "9   9    15.91279 57.48864 24.47917\n",
       "10 10    14.23557 47.09275 24.15217\n",
       "11 11    15.15794 29.45833 23.56537\n",
       "12 12    17.52221 27.70833 24.45773"
      ]
     },
     "metadata": {},
     "output_type": "display_data"
    }
   ],
   "source": [
    "chicago_data %>% mutate(month = as.POSIXlt(date)$mon + 1) %>% group_by(month) %>% summarize(pm25 = mean(pm25, na.rm = TRUE), o3 = max(o3tmean2), no2 = median(no2tmean2))"
   ]
  },
  {
   "cell_type": "markdown",
   "metadata": {},
   "source": [
    "## Merging data"
   ]
  },
  {
   "cell_type": "code",
   "execution_count": 135,
   "metadata": {},
   "outputs": [],
   "source": [
    "url1 <- 'https://raw.githubusercontent.com/jtleek/dataanalysis/master/week2/007summarizingData/data/reviews.csv'\n",
    "url2 <- 'https://raw.githubusercontent.com/jtleek/dataanalysis/master/week2/007summarizingData/data/solutions.csv'\n",
    "download.file(url = url1, destfile = './data/review.csv', method = 'curl', extra = '-L')\n",
    "download.file(url = url2, destfile = './data/solution.csv', method = 'curl', extra = '-L')\n",
    "review_data = read.csv('./data/review.csv')\n",
    "solution_data = read.csv('./data/solution.csv')"
   ]
  },
  {
   "cell_type": "code",
   "execution_count": 136,
   "metadata": {},
   "outputs": [
    {
     "data": {
      "text/html": [
       "<table>\n",
       "<caption>A data.frame: 6 × 7</caption>\n",
       "<thead>\n",
       "\t<tr><th scope=col>id</th><th scope=col>solution_id</th><th scope=col>reviewer_id</th><th scope=col>start</th><th scope=col>stop</th><th scope=col>time_left</th><th scope=col>accept</th></tr>\n",
       "\t<tr><th scope=col>&lt;int&gt;</th><th scope=col>&lt;int&gt;</th><th scope=col>&lt;int&gt;</th><th scope=col>&lt;int&gt;</th><th scope=col>&lt;int&gt;</th><th scope=col>&lt;int&gt;</th><th scope=col>&lt;int&gt;</th></tr>\n",
       "</thead>\n",
       "<tbody>\n",
       "\t<tr><td>1</td><td> 3</td><td>27</td><td>1304095698</td><td>1304095758</td><td>1754</td><td>1</td></tr>\n",
       "\t<tr><td>2</td><td> 4</td><td>22</td><td>1304095188</td><td>1304095206</td><td>2306</td><td>1</td></tr>\n",
       "\t<tr><td>3</td><td> 5</td><td>28</td><td>1304095276</td><td>1304095320</td><td>2192</td><td>1</td></tr>\n",
       "\t<tr><td>4</td><td> 1</td><td>26</td><td>1304095267</td><td>1304095423</td><td>2089</td><td>1</td></tr>\n",
       "\t<tr><td>5</td><td>10</td><td>29</td><td>1304095456</td><td>1304095469</td><td>2043</td><td>1</td></tr>\n",
       "\t<tr><td>6</td><td> 2</td><td>29</td><td>1304095471</td><td>1304095513</td><td>1999</td><td>1</td></tr>\n",
       "</tbody>\n",
       "</table>\n"
      ],
      "text/latex": [
       "A data.frame: 6 × 7\n",
       "\\begin{tabular}{r|lllllll}\n",
       " id & solution\\_id & reviewer\\_id & start & stop & time\\_left & accept\\\\\n",
       " <int> & <int> & <int> & <int> & <int> & <int> & <int>\\\\\n",
       "\\hline\n",
       "\t 1 &  3 & 27 & 1304095698 & 1304095758 & 1754 & 1\\\\\n",
       "\t 2 &  4 & 22 & 1304095188 & 1304095206 & 2306 & 1\\\\\n",
       "\t 3 &  5 & 28 & 1304095276 & 1304095320 & 2192 & 1\\\\\n",
       "\t 4 &  1 & 26 & 1304095267 & 1304095423 & 2089 & 1\\\\\n",
       "\t 5 & 10 & 29 & 1304095456 & 1304095469 & 2043 & 1\\\\\n",
       "\t 6 &  2 & 29 & 1304095471 & 1304095513 & 1999 & 1\\\\\n",
       "\\end{tabular}\n"
      ],
      "text/markdown": [
       "\n",
       "A data.frame: 6 × 7\n",
       "\n",
       "| id &lt;int&gt; | solution_id &lt;int&gt; | reviewer_id &lt;int&gt; | start &lt;int&gt; | stop &lt;int&gt; | time_left &lt;int&gt; | accept &lt;int&gt; |\n",
       "|---|---|---|---|---|---|---|\n",
       "| 1 |  3 | 27 | 1304095698 | 1304095758 | 1754 | 1 |\n",
       "| 2 |  4 | 22 | 1304095188 | 1304095206 | 2306 | 1 |\n",
       "| 3 |  5 | 28 | 1304095276 | 1304095320 | 2192 | 1 |\n",
       "| 4 |  1 | 26 | 1304095267 | 1304095423 | 2089 | 1 |\n",
       "| 5 | 10 | 29 | 1304095456 | 1304095469 | 2043 | 1 |\n",
       "| 6 |  2 | 29 | 1304095471 | 1304095513 | 1999 | 1 |\n",
       "\n"
      ],
      "text/plain": [
       "  id solution_id reviewer_id start      stop       time_left accept\n",
       "1 1   3          27          1304095698 1304095758 1754      1     \n",
       "2 2   4          22          1304095188 1304095206 2306      1     \n",
       "3 3   5          28          1304095276 1304095320 2192      1     \n",
       "4 4   1          26          1304095267 1304095423 2089      1     \n",
       "5 5  10          29          1304095456 1304095469 2043      1     \n",
       "6 6   2          29          1304095471 1304095513 1999      1     "
      ]
     },
     "metadata": {},
     "output_type": "display_data"
    }
   ],
   "source": [
    "head(review_data)"
   ]
  },
  {
   "cell_type": "code",
   "execution_count": 137,
   "metadata": {},
   "outputs": [
    {
     "data": {
      "text/html": [
       "<table>\n",
       "<caption>A data.frame: 6 × 7</caption>\n",
       "<thead>\n",
       "\t<tr><th scope=col>id</th><th scope=col>problem_id</th><th scope=col>subject_id</th><th scope=col>start</th><th scope=col>stop</th><th scope=col>time_left</th><th scope=col>answer</th></tr>\n",
       "\t<tr><th scope=col>&lt;int&gt;</th><th scope=col>&lt;int&gt;</th><th scope=col>&lt;int&gt;</th><th scope=col>&lt;int&gt;</th><th scope=col>&lt;int&gt;</th><th scope=col>&lt;int&gt;</th><th scope=col>&lt;fct&gt;</th></tr>\n",
       "</thead>\n",
       "<tbody>\n",
       "\t<tr><td>1</td><td>156</td><td>29</td><td>1304095119</td><td>1304095169</td><td>2343</td><td>B</td></tr>\n",
       "\t<tr><td>2</td><td>269</td><td>25</td><td>1304095119</td><td>1304095183</td><td>2329</td><td>C</td></tr>\n",
       "\t<tr><td>3</td><td> 34</td><td>22</td><td>1304095127</td><td>1304095146</td><td>2366</td><td>C</td></tr>\n",
       "\t<tr><td>4</td><td> 19</td><td>23</td><td>1304095127</td><td>1304095150</td><td>2362</td><td>D</td></tr>\n",
       "\t<tr><td>5</td><td>605</td><td>26</td><td>1304095127</td><td>1304095167</td><td>2345</td><td>A</td></tr>\n",
       "\t<tr><td>6</td><td>384</td><td>27</td><td>1304095131</td><td>1304095270</td><td>2242</td><td>C</td></tr>\n",
       "</tbody>\n",
       "</table>\n"
      ],
      "text/latex": [
       "A data.frame: 6 × 7\n",
       "\\begin{tabular}{r|lllllll}\n",
       " id & problem\\_id & subject\\_id & start & stop & time\\_left & answer\\\\\n",
       " <int> & <int> & <int> & <int> & <int> & <int> & <fct>\\\\\n",
       "\\hline\n",
       "\t 1 & 156 & 29 & 1304095119 & 1304095169 & 2343 & B\\\\\n",
       "\t 2 & 269 & 25 & 1304095119 & 1304095183 & 2329 & C\\\\\n",
       "\t 3 &  34 & 22 & 1304095127 & 1304095146 & 2366 & C\\\\\n",
       "\t 4 &  19 & 23 & 1304095127 & 1304095150 & 2362 & D\\\\\n",
       "\t 5 & 605 & 26 & 1304095127 & 1304095167 & 2345 & A\\\\\n",
       "\t 6 & 384 & 27 & 1304095131 & 1304095270 & 2242 & C\\\\\n",
       "\\end{tabular}\n"
      ],
      "text/markdown": [
       "\n",
       "A data.frame: 6 × 7\n",
       "\n",
       "| id &lt;int&gt; | problem_id &lt;int&gt; | subject_id &lt;int&gt; | start &lt;int&gt; | stop &lt;int&gt; | time_left &lt;int&gt; | answer &lt;fct&gt; |\n",
       "|---|---|---|---|---|---|---|\n",
       "| 1 | 156 | 29 | 1304095119 | 1304095169 | 2343 | B |\n",
       "| 2 | 269 | 25 | 1304095119 | 1304095183 | 2329 | C |\n",
       "| 3 |  34 | 22 | 1304095127 | 1304095146 | 2366 | C |\n",
       "| 4 |  19 | 23 | 1304095127 | 1304095150 | 2362 | D |\n",
       "| 5 | 605 | 26 | 1304095127 | 1304095167 | 2345 | A |\n",
       "| 6 | 384 | 27 | 1304095131 | 1304095270 | 2242 | C |\n",
       "\n"
      ],
      "text/plain": [
       "  id problem_id subject_id start      stop       time_left answer\n",
       "1 1  156        29         1304095119 1304095169 2343      B     \n",
       "2 2  269        25         1304095119 1304095183 2329      C     \n",
       "3 3   34        22         1304095127 1304095146 2366      C     \n",
       "4 4   19        23         1304095127 1304095150 2362      D     \n",
       "5 5  605        26         1304095127 1304095167 2345      A     \n",
       "6 6  384        27         1304095131 1304095270 2242      C     "
      ]
     },
     "metadata": {},
     "output_type": "display_data"
    }
   ],
   "source": [
    "head(solution_data)"
   ]
  },
  {
   "cell_type": "code",
   "execution_count": 138,
   "metadata": {},
   "outputs": [
    {
     "data": {
      "text/html": [
       "<table>\n",
       "<caption>A data.frame: 6 × 13</caption>\n",
       "<thead>\n",
       "\t<tr><th scope=col>solution_id</th><th scope=col>id</th><th scope=col>reviewer_id</th><th scope=col>start.x</th><th scope=col>stop.x</th><th scope=col>time_left.x</th><th scope=col>accept</th><th scope=col>problem_id</th><th scope=col>subject_id</th><th scope=col>start.y</th><th scope=col>stop.y</th><th scope=col>time_left.y</th><th scope=col>answer</th></tr>\n",
       "\t<tr><th scope=col>&lt;int&gt;</th><th scope=col>&lt;int&gt;</th><th scope=col>&lt;int&gt;</th><th scope=col>&lt;int&gt;</th><th scope=col>&lt;int&gt;</th><th scope=col>&lt;int&gt;</th><th scope=col>&lt;int&gt;</th><th scope=col>&lt;int&gt;</th><th scope=col>&lt;int&gt;</th><th scope=col>&lt;int&gt;</th><th scope=col>&lt;int&gt;</th><th scope=col>&lt;int&gt;</th><th scope=col>&lt;fct&gt;</th></tr>\n",
       "</thead>\n",
       "<tbody>\n",
       "\t<tr><td>1</td><td> 4</td><td>26</td><td>1304095267</td><td>1304095423</td><td>2089</td><td>1</td><td>156</td><td>29</td><td>1304095119</td><td>1304095169</td><td>2343</td><td>B</td></tr>\n",
       "\t<tr><td>2</td><td> 6</td><td>29</td><td>1304095471</td><td>1304095513</td><td>1999</td><td>1</td><td>269</td><td>25</td><td>1304095119</td><td>1304095183</td><td>2329</td><td>C</td></tr>\n",
       "\t<tr><td>3</td><td> 1</td><td>27</td><td>1304095698</td><td>1304095758</td><td>1754</td><td>1</td><td> 34</td><td>22</td><td>1304095127</td><td>1304095146</td><td>2366</td><td>C</td></tr>\n",
       "\t<tr><td>4</td><td> 2</td><td>22</td><td>1304095188</td><td>1304095206</td><td>2306</td><td>1</td><td> 19</td><td>23</td><td>1304095127</td><td>1304095150</td><td>2362</td><td>D</td></tr>\n",
       "\t<tr><td>5</td><td> 3</td><td>28</td><td>1304095276</td><td>1304095320</td><td>2192</td><td>1</td><td>605</td><td>26</td><td>1304095127</td><td>1304095167</td><td>2345</td><td>A</td></tr>\n",
       "\t<tr><td>6</td><td>16</td><td>22</td><td>1304095303</td><td>1304095471</td><td>2041</td><td>1</td><td>384</td><td>27</td><td>1304095131</td><td>1304095270</td><td>2242</td><td>C</td></tr>\n",
       "</tbody>\n",
       "</table>\n"
      ],
      "text/latex": [
       "A data.frame: 6 × 13\n",
       "\\begin{tabular}{r|lllllllllllll}\n",
       " solution\\_id & id & reviewer\\_id & start.x & stop.x & time\\_left.x & accept & problem\\_id & subject\\_id & start.y & stop.y & time\\_left.y & answer\\\\\n",
       " <int> & <int> & <int> & <int> & <int> & <int> & <int> & <int> & <int> & <int> & <int> & <int> & <fct>\\\\\n",
       "\\hline\n",
       "\t 1 &  4 & 26 & 1304095267 & 1304095423 & 2089 & 1 & 156 & 29 & 1304095119 & 1304095169 & 2343 & B\\\\\n",
       "\t 2 &  6 & 29 & 1304095471 & 1304095513 & 1999 & 1 & 269 & 25 & 1304095119 & 1304095183 & 2329 & C\\\\\n",
       "\t 3 &  1 & 27 & 1304095698 & 1304095758 & 1754 & 1 &  34 & 22 & 1304095127 & 1304095146 & 2366 & C\\\\\n",
       "\t 4 &  2 & 22 & 1304095188 & 1304095206 & 2306 & 1 &  19 & 23 & 1304095127 & 1304095150 & 2362 & D\\\\\n",
       "\t 5 &  3 & 28 & 1304095276 & 1304095320 & 2192 & 1 & 605 & 26 & 1304095127 & 1304095167 & 2345 & A\\\\\n",
       "\t 6 & 16 & 22 & 1304095303 & 1304095471 & 2041 & 1 & 384 & 27 & 1304095131 & 1304095270 & 2242 & C\\\\\n",
       "\\end{tabular}\n"
      ],
      "text/markdown": [
       "\n",
       "A data.frame: 6 × 13\n",
       "\n",
       "| solution_id &lt;int&gt; | id &lt;int&gt; | reviewer_id &lt;int&gt; | start.x &lt;int&gt; | stop.x &lt;int&gt; | time_left.x &lt;int&gt; | accept &lt;int&gt; | problem_id &lt;int&gt; | subject_id &lt;int&gt; | start.y &lt;int&gt; | stop.y &lt;int&gt; | time_left.y &lt;int&gt; | answer &lt;fct&gt; |\n",
       "|---|---|---|---|---|---|---|---|---|---|---|---|---|\n",
       "| 1 |  4 | 26 | 1304095267 | 1304095423 | 2089 | 1 | 156 | 29 | 1304095119 | 1304095169 | 2343 | B |\n",
       "| 2 |  6 | 29 | 1304095471 | 1304095513 | 1999 | 1 | 269 | 25 | 1304095119 | 1304095183 | 2329 | C |\n",
       "| 3 |  1 | 27 | 1304095698 | 1304095758 | 1754 | 1 |  34 | 22 | 1304095127 | 1304095146 | 2366 | C |\n",
       "| 4 |  2 | 22 | 1304095188 | 1304095206 | 2306 | 1 |  19 | 23 | 1304095127 | 1304095150 | 2362 | D |\n",
       "| 5 |  3 | 28 | 1304095276 | 1304095320 | 2192 | 1 | 605 | 26 | 1304095127 | 1304095167 | 2345 | A |\n",
       "| 6 | 16 | 22 | 1304095303 | 1304095471 | 2041 | 1 | 384 | 27 | 1304095131 | 1304095270 | 2242 | C |\n",
       "\n"
      ],
      "text/plain": [
       "  solution_id id reviewer_id start.x    stop.x     time_left.x accept\n",
       "1 1            4 26          1304095267 1304095423 2089        1     \n",
       "2 2            6 29          1304095471 1304095513 1999        1     \n",
       "3 3            1 27          1304095698 1304095758 1754        1     \n",
       "4 4            2 22          1304095188 1304095206 2306        1     \n",
       "5 5            3 28          1304095276 1304095320 2192        1     \n",
       "6 6           16 22          1304095303 1304095471 2041        1     \n",
       "  problem_id subject_id start.y    stop.y     time_left.y answer\n",
       "1 156        29         1304095119 1304095169 2343        B     \n",
       "2 269        25         1304095119 1304095183 2329        C     \n",
       "3  34        22         1304095127 1304095146 2366        C     \n",
       "4  19        23         1304095127 1304095150 2362        D     \n",
       "5 605        26         1304095127 1304095167 2345        A     \n",
       "6 384        27         1304095131 1304095270 2242        C     "
      ]
     },
     "metadata": {},
     "output_type": "display_data"
    }
   ],
   "source": [
    "merged_data <- merge(review_data, solution_data, by.x = 'solution_id', by.y = 'id', all = TRUE)\n",
    "head(merged_data)"
   ]
  },
  {
   "cell_type": "code",
   "execution_count": 139,
   "metadata": {},
   "outputs": [
    {
     "data": {
      "text/html": [
       "<ol class=list-inline>\n",
       "\t<li>'id'</li>\n",
       "\t<li>'start'</li>\n",
       "\t<li>'stop'</li>\n",
       "\t<li>'time_left'</li>\n",
       "</ol>\n"
      ],
      "text/latex": [
       "\\begin{enumerate*}\n",
       "\\item 'id'\n",
       "\\item 'start'\n",
       "\\item 'stop'\n",
       "\\item 'time\\_left'\n",
       "\\end{enumerate*}\n"
      ],
      "text/markdown": [
       "1. 'id'\n",
       "2. 'start'\n",
       "3. 'stop'\n",
       "4. 'time_left'\n",
       "\n",
       "\n"
      ],
      "text/plain": [
       "[1] \"id\"        \"start\"     \"stop\"      \"time_left\""
      ]
     },
     "metadata": {},
     "output_type": "display_data"
    }
   ],
   "source": [
    "# by default, merge is performed using common columns\n",
    "intersect(names(review_data), names(solution_data))"
   ]
  },
  {
   "cell_type": "code",
   "execution_count": 140,
   "metadata": {},
   "outputs": [
    {
     "data": {
      "text/html": [
       "<table>\n",
       "<caption>A data.frame: 6 × 10</caption>\n",
       "<thead>\n",
       "\t<tr><th scope=col>id</th><th scope=col>start</th><th scope=col>stop</th><th scope=col>time_left</th><th scope=col>solution_id</th><th scope=col>reviewer_id</th><th scope=col>accept</th><th scope=col>problem_id</th><th scope=col>subject_id</th><th scope=col>answer</th></tr>\n",
       "\t<tr><th scope=col>&lt;int&gt;</th><th scope=col>&lt;int&gt;</th><th scope=col>&lt;int&gt;</th><th scope=col>&lt;int&gt;</th><th scope=col>&lt;int&gt;</th><th scope=col>&lt;int&gt;</th><th scope=col>&lt;int&gt;</th><th scope=col>&lt;int&gt;</th><th scope=col>&lt;int&gt;</th><th scope=col>&lt;fct&gt;</th></tr>\n",
       "</thead>\n",
       "<tbody>\n",
       "\t<tr><td>1</td><td>1304095119</td><td>1304095169</td><td>2343</td><td>NA</td><td>NA</td><td>NA</td><td>156</td><td>29</td><td>B </td></tr>\n",
       "\t<tr><td>1</td><td>1304095698</td><td>1304095758</td><td>1754</td><td> 3</td><td>27</td><td> 1</td><td> NA</td><td>NA</td><td>NA</td></tr>\n",
       "\t<tr><td>2</td><td>1304095119</td><td>1304095183</td><td>2329</td><td>NA</td><td>NA</td><td>NA</td><td>269</td><td>25</td><td>C </td></tr>\n",
       "\t<tr><td>2</td><td>1304095188</td><td>1304095206</td><td>2306</td><td> 4</td><td>22</td><td> 1</td><td> NA</td><td>NA</td><td>NA</td></tr>\n",
       "\t<tr><td>3</td><td>1304095127</td><td>1304095146</td><td>2366</td><td>NA</td><td>NA</td><td>NA</td><td> 34</td><td>22</td><td>C </td></tr>\n",
       "\t<tr><td>3</td><td>1304095276</td><td>1304095320</td><td>2192</td><td> 5</td><td>28</td><td> 1</td><td> NA</td><td>NA</td><td>NA</td></tr>\n",
       "</tbody>\n",
       "</table>\n"
      ],
      "text/latex": [
       "A data.frame: 6 × 10\n",
       "\\begin{tabular}{r|llllllllll}\n",
       " id & start & stop & time\\_left & solution\\_id & reviewer\\_id & accept & problem\\_id & subject\\_id & answer\\\\\n",
       " <int> & <int> & <int> & <int> & <int> & <int> & <int> & <int> & <int> & <fct>\\\\\n",
       "\\hline\n",
       "\t 1 & 1304095119 & 1304095169 & 2343 & NA & NA & NA & 156 & 29 & B \\\\\n",
       "\t 1 & 1304095698 & 1304095758 & 1754 &  3 & 27 &  1 &  NA & NA & NA\\\\\n",
       "\t 2 & 1304095119 & 1304095183 & 2329 & NA & NA & NA & 269 & 25 & C \\\\\n",
       "\t 2 & 1304095188 & 1304095206 & 2306 &  4 & 22 &  1 &  NA & NA & NA\\\\\n",
       "\t 3 & 1304095127 & 1304095146 & 2366 & NA & NA & NA &  34 & 22 & C \\\\\n",
       "\t 3 & 1304095276 & 1304095320 & 2192 &  5 & 28 &  1 &  NA & NA & NA\\\\\n",
       "\\end{tabular}\n"
      ],
      "text/markdown": [
       "\n",
       "A data.frame: 6 × 10\n",
       "\n",
       "| id &lt;int&gt; | start &lt;int&gt; | stop &lt;int&gt; | time_left &lt;int&gt; | solution_id &lt;int&gt; | reviewer_id &lt;int&gt; | accept &lt;int&gt; | problem_id &lt;int&gt; | subject_id &lt;int&gt; | answer &lt;fct&gt; |\n",
       "|---|---|---|---|---|---|---|---|---|---|\n",
       "| 1 | 1304095119 | 1304095169 | 2343 | NA | NA | NA | 156 | 29 | B  |\n",
       "| 1 | 1304095698 | 1304095758 | 1754 |  3 | 27 |  1 |  NA | NA | NA |\n",
       "| 2 | 1304095119 | 1304095183 | 2329 | NA | NA | NA | 269 | 25 | C  |\n",
       "| 2 | 1304095188 | 1304095206 | 2306 |  4 | 22 |  1 |  NA | NA | NA |\n",
       "| 3 | 1304095127 | 1304095146 | 2366 | NA | NA | NA |  34 | 22 | C  |\n",
       "| 3 | 1304095276 | 1304095320 | 2192 |  5 | 28 |  1 |  NA | NA | NA |\n",
       "\n"
      ],
      "text/plain": [
       "  id start      stop       time_left solution_id reviewer_id accept problem_id\n",
       "1 1  1304095119 1304095169 2343      NA          NA          NA     156       \n",
       "2 1  1304095698 1304095758 1754       3          27           1      NA       \n",
       "3 2  1304095119 1304095183 2329      NA          NA          NA     269       \n",
       "4 2  1304095188 1304095206 2306       4          22           1      NA       \n",
       "5 3  1304095127 1304095146 2366      NA          NA          NA      34       \n",
       "6 3  1304095276 1304095320 2192       5          28           1      NA       \n",
       "  subject_id answer\n",
       "1 29         B     \n",
       "2 NA         NA    \n",
       "3 25         C     \n",
       "4 NA         NA    \n",
       "5 22         C     \n",
       "6 NA         NA    "
      ]
     },
     "metadata": {},
     "output_type": "display_data"
    }
   ],
   "source": [
    "merged_data2 <- merge(review_data, solution_data, all = TRUE)\n",
    "head(merged_data2)"
   ]
  },
  {
   "cell_type": "code",
   "execution_count": 141,
   "metadata": {},
   "outputs": [
    {
     "name": "stderr",
     "output_type": "stream",
     "text": [
      "Joining by: id\n"
     ]
    },
    {
     "data": {
      "text/html": [
       "<table>\n",
       "<caption>A data.frame: 10 × 3</caption>\n",
       "<thead>\n",
       "\t<tr><th scope=col>id</th><th scope=col>x</th><th scope=col>y</th></tr>\n",
       "\t<tr><th scope=col>&lt;int&gt;</th><th scope=col>&lt;dbl&gt;</th><th scope=col>&lt;dbl&gt;</th></tr>\n",
       "</thead>\n",
       "<tbody>\n",
       "\t<tr><td> 1</td><td> 0.46524006</td><td>-1.7816059</td></tr>\n",
       "\t<tr><td> 2</td><td>-1.14718305</td><td>-0.2181791</td></tr>\n",
       "\t<tr><td> 3</td><td> 0.38657543</td><td>-0.9709636</td></tr>\n",
       "\t<tr><td> 4</td><td>-0.08967292</td><td> 0.9014842</td></tr>\n",
       "\t<tr><td> 5</td><td>-0.49346770</td><td> 0.2299196</td></tr>\n",
       "\t<tr><td> 6</td><td> 0.19153312</td><td> 1.2285539</td></tr>\n",
       "\t<tr><td> 7</td><td>-0.53830686</td><td> 0.8730263</td></tr>\n",
       "\t<tr><td> 8</td><td>-1.58824328</td><td>-0.3198427</td></tr>\n",
       "\t<tr><td> 9</td><td>-0.07711692</td><td>-1.0302366</td></tr>\n",
       "\t<tr><td>10</td><td> 1.70491055</td><td> 0.4022299</td></tr>\n",
       "</tbody>\n",
       "</table>\n"
      ],
      "text/latex": [
       "A data.frame: 10 × 3\n",
       "\\begin{tabular}{r|lll}\n",
       " id & x & y\\\\\n",
       " <int> & <dbl> & <dbl>\\\\\n",
       "\\hline\n",
       "\t  1 &  0.46524006 & -1.7816059\\\\\n",
       "\t  2 & -1.14718305 & -0.2181791\\\\\n",
       "\t  3 &  0.38657543 & -0.9709636\\\\\n",
       "\t  4 & -0.08967292 &  0.9014842\\\\\n",
       "\t  5 & -0.49346770 &  0.2299196\\\\\n",
       "\t  6 &  0.19153312 &  1.2285539\\\\\n",
       "\t  7 & -0.53830686 &  0.8730263\\\\\n",
       "\t  8 & -1.58824328 & -0.3198427\\\\\n",
       "\t  9 & -0.07711692 & -1.0302366\\\\\n",
       "\t 10 &  1.70491055 &  0.4022299\\\\\n",
       "\\end{tabular}\n"
      ],
      "text/markdown": [
       "\n",
       "A data.frame: 10 × 3\n",
       "\n",
       "| id &lt;int&gt; | x &lt;dbl&gt; | y &lt;dbl&gt; |\n",
       "|---|---|---|\n",
       "|  1 |  0.46524006 | -1.7816059 |\n",
       "|  2 | -1.14718305 | -0.2181791 |\n",
       "|  3 |  0.38657543 | -0.9709636 |\n",
       "|  4 | -0.08967292 |  0.9014842 |\n",
       "|  5 | -0.49346770 |  0.2299196 |\n",
       "|  6 |  0.19153312 |  1.2285539 |\n",
       "|  7 | -0.53830686 |  0.8730263 |\n",
       "|  8 | -1.58824328 | -0.3198427 |\n",
       "|  9 | -0.07711692 | -1.0302366 |\n",
       "| 10 |  1.70491055 |  0.4022299 |\n",
       "\n"
      ],
      "text/plain": [
       "   id x           y         \n",
       "1   1  0.46524006 -1.7816059\n",
       "2   2 -1.14718305 -0.2181791\n",
       "3   3  0.38657543 -0.9709636\n",
       "4   4 -0.08967292  0.9014842\n",
       "5   5 -0.49346770  0.2299196\n",
       "6   6  0.19153312  1.2285539\n",
       "7   7 -0.53830686  0.8730263\n",
       "8   8 -1.58824328 -0.3198427\n",
       "9   9 -0.07711692 -1.0302366\n",
       "10 10  1.70491055  0.4022299"
      ]
     },
     "metadata": {},
     "output_type": "display_data"
    }
   ],
   "source": [
    "# using join in dplyr package\n",
    "df1 <- data.frame(id = sample(1:10), x=rnorm(10))\n",
    "df2 <- data.frame(id = sample(1:10), y=rnorm(10))\n",
    "arrange(join(df1, df2), id)"
   ]
  },
  {
   "cell_type": "code",
   "execution_count": 142,
   "metadata": {},
   "outputs": [
    {
     "name": "stderr",
     "output_type": "stream",
     "text": [
      "Joining by: id\n",
      "Joining by: id\n"
     ]
    },
    {
     "data": {
      "text/html": [
       "<table>\n",
       "<caption>A data.frame: 10 × 4</caption>\n",
       "<thead>\n",
       "\t<tr><th scope=col>id</th><th scope=col>x</th><th scope=col>y</th><th scope=col>z</th></tr>\n",
       "\t<tr><th scope=col>&lt;int&gt;</th><th scope=col>&lt;dbl&gt;</th><th scope=col>&lt;dbl&gt;</th><th scope=col>&lt;dbl&gt;</th></tr>\n",
       "</thead>\n",
       "<tbody>\n",
       "\t<tr><td> 2</td><td>-1.14718305</td><td>-0.2181791</td><td> 0.29610854</td></tr>\n",
       "\t<tr><td> 9</td><td>-0.07711692</td><td>-1.0302366</td><td>-1.10331178</td></tr>\n",
       "\t<tr><td> 5</td><td>-0.49346770</td><td> 0.2299196</td><td> 0.22986575</td></tr>\n",
       "\t<tr><td> 3</td><td> 0.38657543</td><td>-0.9709636</td><td> 0.12606857</td></tr>\n",
       "\t<tr><td> 8</td><td>-1.58824328</td><td>-0.3198427</td><td>-0.06915628</td></tr>\n",
       "\t<tr><td> 4</td><td>-0.08967292</td><td> 0.9014842</td><td> 1.53168420</td></tr>\n",
       "\t<tr><td>10</td><td> 1.70491055</td><td> 0.4022299</td><td> 1.12106887</td></tr>\n",
       "\t<tr><td> 7</td><td>-0.53830686</td><td> 0.8730263</td><td>-0.42757382</td></tr>\n",
       "\t<tr><td> 6</td><td> 0.19153312</td><td> 1.2285539</td><td>-0.66797525</td></tr>\n",
       "\t<tr><td> 1</td><td> 0.46524006</td><td>-1.7816059</td><td>-0.67057394</td></tr>\n",
       "</tbody>\n",
       "</table>\n"
      ],
      "text/latex": [
       "A data.frame: 10 × 4\n",
       "\\begin{tabular}{r|llll}\n",
       " id & x & y & z\\\\\n",
       " <int> & <dbl> & <dbl> & <dbl>\\\\\n",
       "\\hline\n",
       "\t  2 & -1.14718305 & -0.2181791 &  0.29610854\\\\\n",
       "\t  9 & -0.07711692 & -1.0302366 & -1.10331178\\\\\n",
       "\t  5 & -0.49346770 &  0.2299196 &  0.22986575\\\\\n",
       "\t  3 &  0.38657543 & -0.9709636 &  0.12606857\\\\\n",
       "\t  8 & -1.58824328 & -0.3198427 & -0.06915628\\\\\n",
       "\t  4 & -0.08967292 &  0.9014842 &  1.53168420\\\\\n",
       "\t 10 &  1.70491055 &  0.4022299 &  1.12106887\\\\\n",
       "\t  7 & -0.53830686 &  0.8730263 & -0.42757382\\\\\n",
       "\t  6 &  0.19153312 &  1.2285539 & -0.66797525\\\\\n",
       "\t  1 &  0.46524006 & -1.7816059 & -0.67057394\\\\\n",
       "\\end{tabular}\n"
      ],
      "text/markdown": [
       "\n",
       "A data.frame: 10 × 4\n",
       "\n",
       "| id &lt;int&gt; | x &lt;dbl&gt; | y &lt;dbl&gt; | z &lt;dbl&gt; |\n",
       "|---|---|---|---|\n",
       "|  2 | -1.14718305 | -0.2181791 |  0.29610854 |\n",
       "|  9 | -0.07711692 | -1.0302366 | -1.10331178 |\n",
       "|  5 | -0.49346770 |  0.2299196 |  0.22986575 |\n",
       "|  3 |  0.38657543 | -0.9709636 |  0.12606857 |\n",
       "|  8 | -1.58824328 | -0.3198427 | -0.06915628 |\n",
       "|  4 | -0.08967292 |  0.9014842 |  1.53168420 |\n",
       "| 10 |  1.70491055 |  0.4022299 |  1.12106887 |\n",
       "|  7 | -0.53830686 |  0.8730263 | -0.42757382 |\n",
       "|  6 |  0.19153312 |  1.2285539 | -0.66797525 |\n",
       "|  1 |  0.46524006 | -1.7816059 | -0.67057394 |\n",
       "\n"
      ],
      "text/plain": [
       "   id x           y          z          \n",
       "1   2 -1.14718305 -0.2181791  0.29610854\n",
       "2   9 -0.07711692 -1.0302366 -1.10331178\n",
       "3   5 -0.49346770  0.2299196  0.22986575\n",
       "4   3  0.38657543 -0.9709636  0.12606857\n",
       "5   8 -1.58824328 -0.3198427 -0.06915628\n",
       "6   4 -0.08967292  0.9014842  1.53168420\n",
       "7  10  1.70491055  0.4022299  1.12106887\n",
       "8   7 -0.53830686  0.8730263 -0.42757382\n",
       "9   6  0.19153312  1.2285539 -0.66797525\n",
       "10  1  0.46524006 -1.7816059 -0.67057394"
      ]
     },
     "metadata": {},
     "output_type": "display_data"
    }
   ],
   "source": [
    "# if we have multiple data frames\n",
    "df3 <- data.frame(id = sample(1:10), z=rnorm(10))\n",
    "df_list = list(df1, df2, df3)\n",
    "join_all(df_list)"
   ]
  },
  {
   "cell_type": "code",
   "execution_count": null,
   "metadata": {},
   "outputs": [],
   "source": []
  }
 ],
 "metadata": {
  "kernelspec": {
   "display_name": "R",
   "language": "R",
   "name": "ir"
  },
  "language_info": {
   "codemirror_mode": "r",
   "file_extension": ".r",
   "mimetype": "text/x-r-source",
   "name": "R",
   "pygments_lexer": "r",
   "version": "3.6.0"
  },
  "toc": {
   "base_numbering": 1,
   "nav_menu": {},
   "number_sections": false,
   "sideBar": false,
   "skip_h1_title": false,
   "title_cell": "Table of Contents",
   "title_sidebar": "Contents",
   "toc_cell": false,
   "toc_position": {},
   "toc_section_display": false,
   "toc_window_display": false
  }
 },
 "nbformat": 4,
 "nbformat_minor": 2
}
