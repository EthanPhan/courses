{
 "cells": [
  {
   "cell_type": "markdown",
   "metadata": {},
   "source": [
    "## MySQL"
   ]
  },
  {
   "cell_type": "code",
   "execution_count": 1,
   "metadata": {},
   "outputs": [
    {
     "name": "stderr",
     "output_type": "stream",
     "text": [
      "also installing the dependency ‘DBI’\n",
      "\n"
     ]
    },
    {
     "name": "stdout",
     "output_type": "stream",
     "text": [
      "\n",
      "The downloaded binary packages are in\n",
      "\t/var/folders/1x/hdfy228j1m56sj_h_wlzdd6c0000gn/T//RtmpPYzBSW/downloaded_packages\n"
     ]
    }
   ],
   "source": [
    "install.packages('RMySQL')"
   ]
  },
  {
   "cell_type": "code",
   "execution_count": 2,
   "metadata": {},
   "outputs": [
    {
     "name": "stderr",
     "output_type": "stream",
     "text": [
      "Loading required package: DBI\n"
     ]
    }
   ],
   "source": [
    "library(RMySQL)"
   ]
  },
  {
   "cell_type": "code",
   "execution_count": 3,
   "metadata": {},
   "outputs": [
    {
     "data": {
      "text/html": [
       "TRUE"
      ],
      "text/latex": [
       "TRUE"
      ],
      "text/markdown": [
       "TRUE"
      ],
      "text/plain": [
       "[1] TRUE"
      ]
     },
     "metadata": {},
     "output_type": "display_data"
    }
   ],
   "source": [
    "ucsc_db <- dbConnect(MySQL(), user='genome', host='genome-mysql.soe.ucsc.edu')\n",
    "result <- dbGetQuery(ucsc_db, 'show databases;'); dbDisconnect(ucsc_db)"
   ]
  },
  {
   "cell_type": "code",
   "execution_count": 4,
   "metadata": {
    "scrolled": true
   },
   "outputs": [
    {
     "data": {
      "text/html": [
       "<table>\n",
       "<caption>A data.frame: 324 × 1</caption>\n",
       "<thead>\n",
       "\t<tr><th scope=col>Database</th></tr>\n",
       "\t<tr><th scope=col>&lt;chr&gt;</th></tr>\n",
       "</thead>\n",
       "<tbody>\n",
       "\t<tr><td>acaChl1</td></tr>\n",
       "\t<tr><td>ailMel1</td></tr>\n",
       "\t<tr><td>allMis1</td></tr>\n",
       "\t<tr><td>allSin1</td></tr>\n",
       "\t<tr><td>amaVit1</td></tr>\n",
       "\t<tr><td>anaPla1</td></tr>\n",
       "\t<tr><td>ancCey1</td></tr>\n",
       "\t<tr><td>angJap1</td></tr>\n",
       "\t<tr><td>anoCar1</td></tr>\n",
       "\t<tr><td>anoCar2</td></tr>\n",
       "\t<tr><td>anoGam1</td></tr>\n",
       "\t<tr><td>anoGam3</td></tr>\n",
       "\t<tr><td>apaSpi1</td></tr>\n",
       "\t<tr><td>apaVit1</td></tr>\n",
       "\t<tr><td>apiMel1</td></tr>\n",
       "\t<tr><td>apiMel2</td></tr>\n",
       "\t<tr><td>aplCal1</td></tr>\n",
       "\t<tr><td>aptFor1</td></tr>\n",
       "\t<tr><td>aptMan1</td></tr>\n",
       "\t<tr><td>aquChr2</td></tr>\n",
       "\t<tr><td>araMac1</td></tr>\n",
       "\t<tr><td>ascSuu1</td></tr>\n",
       "\t<tr><td>balAcu1</td></tr>\n",
       "\t<tr><td>balPav1</td></tr>\n",
       "\t<tr><td>bisBis1</td></tr>\n",
       "\t<tr><td>bosTau2</td></tr>\n",
       "\t<tr><td>bosTau3</td></tr>\n",
       "\t<tr><td>bosTau4</td></tr>\n",
       "\t<tr><td>bosTau5</td></tr>\n",
       "\t<tr><td>bosTau6</td></tr>\n",
       "\t<tr><td>⋮</td></tr>\n",
       "\t<tr><td>strRat2 </td></tr>\n",
       "\t<tr><td>susScr11</td></tr>\n",
       "\t<tr><td>susScr2 </td></tr>\n",
       "\t<tr><td>susScr3 </td></tr>\n",
       "\t<tr><td>taeGut1 </td></tr>\n",
       "\t<tr><td>taeGut2 </td></tr>\n",
       "\t<tr><td>tarSyr1 </td></tr>\n",
       "\t<tr><td>tarSyr2 </td></tr>\n",
       "\t<tr><td>tauEry1 </td></tr>\n",
       "\t<tr><td>tetNig1 </td></tr>\n",
       "\t<tr><td>tetNig2 </td></tr>\n",
       "\t<tr><td>thaSir1 </td></tr>\n",
       "\t<tr><td>tinGut2 </td></tr>\n",
       "\t<tr><td>triMan1 </td></tr>\n",
       "\t<tr><td>triSpi1 </td></tr>\n",
       "\t<tr><td>triSui1 </td></tr>\n",
       "\t<tr><td>tupBel1 </td></tr>\n",
       "\t<tr><td>turTru2 </td></tr>\n",
       "\t<tr><td>tytAlb1 </td></tr>\n",
       "\t<tr><td>uniProt </td></tr>\n",
       "\t<tr><td>vicPac1 </td></tr>\n",
       "\t<tr><td>vicPac2 </td></tr>\n",
       "\t<tr><td>visiGene</td></tr>\n",
       "\t<tr><td>xenLae2 </td></tr>\n",
       "\t<tr><td>xenTro1 </td></tr>\n",
       "\t<tr><td>xenTro2 </td></tr>\n",
       "\t<tr><td>xenTro3 </td></tr>\n",
       "\t<tr><td>xenTro7 </td></tr>\n",
       "\t<tr><td>xenTro9 </td></tr>\n",
       "\t<tr><td>zonAlb1 </td></tr>\n",
       "</tbody>\n",
       "</table>\n"
      ],
      "text/latex": [
       "A data.frame: 324 × 1\n",
       "\\begin{tabular}{r|l}\n",
       " Database\\\\\n",
       " <chr>\\\\\n",
       "\\hline\n",
       "\t acaChl1\\\\\n",
       "\t ailMel1\\\\\n",
       "\t allMis1\\\\\n",
       "\t allSin1\\\\\n",
       "\t amaVit1\\\\\n",
       "\t anaPla1\\\\\n",
       "\t ancCey1\\\\\n",
       "\t angJap1\\\\\n",
       "\t anoCar1\\\\\n",
       "\t anoCar2\\\\\n",
       "\t anoGam1\\\\\n",
       "\t anoGam3\\\\\n",
       "\t apaSpi1\\\\\n",
       "\t apaVit1\\\\\n",
       "\t apiMel1\\\\\n",
       "\t apiMel2\\\\\n",
       "\t aplCal1\\\\\n",
       "\t aptFor1\\\\\n",
       "\t aptMan1\\\\\n",
       "\t aquChr2\\\\\n",
       "\t araMac1\\\\\n",
       "\t ascSuu1\\\\\n",
       "\t balAcu1\\\\\n",
       "\t balPav1\\\\\n",
       "\t bisBis1\\\\\n",
       "\t bosTau2\\\\\n",
       "\t bosTau3\\\\\n",
       "\t bosTau4\\\\\n",
       "\t bosTau5\\\\\n",
       "\t bosTau6\\\\\n",
       "\t ⋮\\\\\n",
       "\t strRat2 \\\\\n",
       "\t susScr11\\\\\n",
       "\t susScr2 \\\\\n",
       "\t susScr3 \\\\\n",
       "\t taeGut1 \\\\\n",
       "\t taeGut2 \\\\\n",
       "\t tarSyr1 \\\\\n",
       "\t tarSyr2 \\\\\n",
       "\t tauEry1 \\\\\n",
       "\t tetNig1 \\\\\n",
       "\t tetNig2 \\\\\n",
       "\t thaSir1 \\\\\n",
       "\t tinGut2 \\\\\n",
       "\t triMan1 \\\\\n",
       "\t triSpi1 \\\\\n",
       "\t triSui1 \\\\\n",
       "\t tupBel1 \\\\\n",
       "\t turTru2 \\\\\n",
       "\t tytAlb1 \\\\\n",
       "\t uniProt \\\\\n",
       "\t vicPac1 \\\\\n",
       "\t vicPac2 \\\\\n",
       "\t visiGene\\\\\n",
       "\t xenLae2 \\\\\n",
       "\t xenTro1 \\\\\n",
       "\t xenTro2 \\\\\n",
       "\t xenTro3 \\\\\n",
       "\t xenTro7 \\\\\n",
       "\t xenTro9 \\\\\n",
       "\t zonAlb1 \\\\\n",
       "\\end{tabular}\n"
      ],
      "text/markdown": [
       "\n",
       "A data.frame: 324 × 1\n",
       "\n",
       "| Database &lt;chr&gt; |\n",
       "|---|\n",
       "| acaChl1 |\n",
       "| ailMel1 |\n",
       "| allMis1 |\n",
       "| allSin1 |\n",
       "| amaVit1 |\n",
       "| anaPla1 |\n",
       "| ancCey1 |\n",
       "| angJap1 |\n",
       "| anoCar1 |\n",
       "| anoCar2 |\n",
       "| anoGam1 |\n",
       "| anoGam3 |\n",
       "| apaSpi1 |\n",
       "| apaVit1 |\n",
       "| apiMel1 |\n",
       "| apiMel2 |\n",
       "| aplCal1 |\n",
       "| aptFor1 |\n",
       "| aptMan1 |\n",
       "| aquChr2 |\n",
       "| araMac1 |\n",
       "| ascSuu1 |\n",
       "| balAcu1 |\n",
       "| balPav1 |\n",
       "| bisBis1 |\n",
       "| bosTau2 |\n",
       "| bosTau3 |\n",
       "| bosTau4 |\n",
       "| bosTau5 |\n",
       "| bosTau6 |\n",
       "| ⋮ |\n",
       "| strRat2  |\n",
       "| susScr11 |\n",
       "| susScr2  |\n",
       "| susScr3  |\n",
       "| taeGut1  |\n",
       "| taeGut2  |\n",
       "| tarSyr1  |\n",
       "| tarSyr2  |\n",
       "| tauEry1  |\n",
       "| tetNig1  |\n",
       "| tetNig2  |\n",
       "| thaSir1  |\n",
       "| tinGut2  |\n",
       "| triMan1  |\n",
       "| triSpi1  |\n",
       "| triSui1  |\n",
       "| tupBel1  |\n",
       "| turTru2  |\n",
       "| tytAlb1  |\n",
       "| uniProt  |\n",
       "| vicPac1  |\n",
       "| vicPac2  |\n",
       "| visiGene |\n",
       "| xenLae2  |\n",
       "| xenTro1  |\n",
       "| xenTro2  |\n",
       "| xenTro3  |\n",
       "| xenTro7  |\n",
       "| xenTro9  |\n",
       "| zonAlb1  |\n",
       "\n"
      ],
      "text/plain": [
       "    Database\n",
       "1   acaChl1 \n",
       "2   ailMel1 \n",
       "3   allMis1 \n",
       "4   allSin1 \n",
       "5   amaVit1 \n",
       "6   anaPla1 \n",
       "7   ancCey1 \n",
       "8   angJap1 \n",
       "9   anoCar1 \n",
       "10  anoCar2 \n",
       "11  anoGam1 \n",
       "12  anoGam3 \n",
       "13  apaSpi1 \n",
       "14  apaVit1 \n",
       "15  apiMel1 \n",
       "16  apiMel2 \n",
       "17  aplCal1 \n",
       "18  aptFor1 \n",
       "19  aptMan1 \n",
       "20  aquChr2 \n",
       "21  araMac1 \n",
       "22  ascSuu1 \n",
       "23  balAcu1 \n",
       "24  balPav1 \n",
       "25  bisBis1 \n",
       "26  bosTau2 \n",
       "27  bosTau3 \n",
       "28  bosTau4 \n",
       "29  bosTau5 \n",
       "30  bosTau6 \n",
       "⋮   ⋮       \n",
       "295 strRat2 \n",
       "296 susScr11\n",
       "297 susScr2 \n",
       "298 susScr3 \n",
       "299 taeGut1 \n",
       "300 taeGut2 \n",
       "301 tarSyr1 \n",
       "302 tarSyr2 \n",
       "303 tauEry1 \n",
       "304 tetNig1 \n",
       "305 tetNig2 \n",
       "306 thaSir1 \n",
       "307 tinGut2 \n",
       "308 triMan1 \n",
       "309 triSpi1 \n",
       "310 triSui1 \n",
       "311 tupBel1 \n",
       "312 turTru2 \n",
       "313 tytAlb1 \n",
       "314 uniProt \n",
       "315 vicPac1 \n",
       "316 vicPac2 \n",
       "317 visiGene\n",
       "318 xenLae2 \n",
       "319 xenTro1 \n",
       "320 xenTro2 \n",
       "321 xenTro3 \n",
       "322 xenTro7 \n",
       "323 xenTro9 \n",
       "324 zonAlb1 "
      ]
     },
     "metadata": {},
     "output_type": "display_data"
    }
   ],
   "source": [
    "result"
   ]
  },
  {
   "cell_type": "code",
   "execution_count": 7,
   "metadata": {},
   "outputs": [
    {
     "data": {
      "text/html": [
       "12423"
      ],
      "text/latex": [
       "12423"
      ],
      "text/markdown": [
       "12423"
      ],
      "text/plain": [
       "[1] 12423"
      ]
     },
     "metadata": {},
     "output_type": "display_data"
    }
   ],
   "source": [
    "# we are only interted in hg19 db\n",
    "hg19 <- dbConnect(MySQL(), user='genome', db = 'hg19', host='genome-mysql.soe.ucsc.edu')\n",
    "all_tables <- dbListTables(hg19)\n",
    "length(all_tables)"
   ]
  },
  {
   "cell_type": "code",
   "execution_count": 8,
   "metadata": {},
   "outputs": [
    {
     "data": {
      "text/html": [
       "<ol class=list-inline>\n",
       "\t<li>'HInv'</li>\n",
       "\t<li>'HInvGeneMrna'</li>\n",
       "\t<li>'acembly'</li>\n",
       "\t<li>'acemblyClass'</li>\n",
       "\t<li>'acemblyPep'</li>\n",
       "</ol>\n"
      ],
      "text/latex": [
       "\\begin{enumerate*}\n",
       "\\item 'HInv'\n",
       "\\item 'HInvGeneMrna'\n",
       "\\item 'acembly'\n",
       "\\item 'acemblyClass'\n",
       "\\item 'acemblyPep'\n",
       "\\end{enumerate*}\n"
      ],
      "text/markdown": [
       "1. 'HInv'\n",
       "2. 'HInvGeneMrna'\n",
       "3. 'acembly'\n",
       "4. 'acemblyClass'\n",
       "5. 'acemblyPep'\n",
       "\n",
       "\n"
      ],
      "text/plain": [
       "[1] \"HInv\"         \"HInvGeneMrna\" \"acembly\"      \"acemblyClass\" \"acemblyPep\"  "
      ]
     },
     "metadata": {},
     "output_type": "display_data"
    }
   ],
   "source": [
    "all_tables[1:5]"
   ]
  },
  {
   "cell_type": "code",
   "execution_count": 12,
   "metadata": {},
   "outputs": [
    {
     "data": {
      "text/html": [
       "TRUE"
      ],
      "text/latex": [
       "TRUE"
      ],
      "text/markdown": [
       "TRUE"
      ],
      "text/plain": [
       "[1] TRUE"
      ]
     },
     "metadata": {},
     "output_type": "display_data"
    },
    {
     "data": {
      "text/html": [
       "<ol class=list-inline>\n",
       "\t<li>'bin'</li>\n",
       "\t<li>'matches'</li>\n",
       "\t<li>'misMatches'</li>\n",
       "\t<li>'repMatches'</li>\n",
       "\t<li>'nCount'</li>\n",
       "\t<li>'qNumInsert'</li>\n",
       "\t<li>'qBaseInsert'</li>\n",
       "\t<li>'tNumInsert'</li>\n",
       "\t<li>'tBaseInsert'</li>\n",
       "\t<li>'strand'</li>\n",
       "\t<li>'qName'</li>\n",
       "\t<li>'qSize'</li>\n",
       "\t<li>'qStart'</li>\n",
       "\t<li>'qEnd'</li>\n",
       "\t<li>'tName'</li>\n",
       "\t<li>'tSize'</li>\n",
       "\t<li>'tStart'</li>\n",
       "\t<li>'tEnd'</li>\n",
       "\t<li>'blockCount'</li>\n",
       "\t<li>'blockSizes'</li>\n",
       "\t<li>'qStarts'</li>\n",
       "\t<li>'tStarts'</li>\n",
       "</ol>\n"
      ],
      "text/latex": [
       "\\begin{enumerate*}\n",
       "\\item 'bin'\n",
       "\\item 'matches'\n",
       "\\item 'misMatches'\n",
       "\\item 'repMatches'\n",
       "\\item 'nCount'\n",
       "\\item 'qNumInsert'\n",
       "\\item 'qBaseInsert'\n",
       "\\item 'tNumInsert'\n",
       "\\item 'tBaseInsert'\n",
       "\\item 'strand'\n",
       "\\item 'qName'\n",
       "\\item 'qSize'\n",
       "\\item 'qStart'\n",
       "\\item 'qEnd'\n",
       "\\item 'tName'\n",
       "\\item 'tSize'\n",
       "\\item 'tStart'\n",
       "\\item 'tEnd'\n",
       "\\item 'blockCount'\n",
       "\\item 'blockSizes'\n",
       "\\item 'qStarts'\n",
       "\\item 'tStarts'\n",
       "\\end{enumerate*}\n"
      ],
      "text/markdown": [
       "1. 'bin'\n",
       "2. 'matches'\n",
       "3. 'misMatches'\n",
       "4. 'repMatches'\n",
       "5. 'nCount'\n",
       "6. 'qNumInsert'\n",
       "7. 'qBaseInsert'\n",
       "8. 'tNumInsert'\n",
       "9. 'tBaseInsert'\n",
       "10. 'strand'\n",
       "11. 'qName'\n",
       "12. 'qSize'\n",
       "13. 'qStart'\n",
       "14. 'qEnd'\n",
       "15. 'tName'\n",
       "16. 'tSize'\n",
       "17. 'tStart'\n",
       "18. 'tEnd'\n",
       "19. 'blockCount'\n",
       "20. 'blockSizes'\n",
       "21. 'qStarts'\n",
       "22. 'tStarts'\n",
       "\n",
       "\n"
      ],
      "text/plain": [
       " [1] \"bin\"         \"matches\"     \"misMatches\"  \"repMatches\"  \"nCount\"     \n",
       " [6] \"qNumInsert\"  \"qBaseInsert\" \"tNumInsert\"  \"tBaseInsert\" \"strand\"     \n",
       "[11] \"qName\"       \"qSize\"       \"qStart\"      \"qEnd\"        \"tName\"      \n",
       "[16] \"tSize\"       \"tStart\"      \"tEnd\"        \"blockCount\"  \"blockSizes\" \n",
       "[21] \"qStarts\"     \"tStarts\"    "
      ]
     },
     "metadata": {},
     "output_type": "display_data"
    }
   ],
   "source": [
    "# get dimension of a specific table\n",
    "dbListFields(hg19, 'affyU133Plus2')"
   ]
  },
  {
   "cell_type": "code",
   "execution_count": 14,
   "metadata": {},
   "outputs": [
    {
     "data": {
      "text/html": [
       "<table>\n",
       "<caption>A data.frame: 1 × 1</caption>\n",
       "<thead>\n",
       "\t<tr><th scope=col>count(*)</th></tr>\n",
       "\t<tr><th scope=col>&lt;dbl&gt;</th></tr>\n",
       "</thead>\n",
       "<tbody>\n",
       "\t<tr><td>58463</td></tr>\n",
       "</tbody>\n",
       "</table>\n"
      ],
      "text/latex": [
       "A data.frame: 1 × 1\n",
       "\\begin{tabular}{r|l}\n",
       " count(*)\\\\\n",
       " <dbl>\\\\\n",
       "\\hline\n",
       "\t 58463\\\\\n",
       "\\end{tabular}\n"
      ],
      "text/markdown": [
       "\n",
       "A data.frame: 1 × 1\n",
       "\n",
       "| count(*) &lt;dbl&gt; |\n",
       "|---|\n",
       "| 58463 |\n",
       "\n"
      ],
      "text/plain": [
       "  count(*)\n",
       "1 58463   "
      ]
     },
     "metadata": {},
     "output_type": "display_data"
    }
   ],
   "source": [
    "result <- dbGetQuery(hg19, 'select count(*) from affyU133Plus2;')\n",
    "result"
   ]
  },
  {
   "cell_type": "code",
   "execution_count": 15,
   "metadata": {},
   "outputs": [
    {
     "name": "stderr",
     "output_type": "stream",
     "text": [
      "Warning message in .local(conn, statement, ...):\n",
      "“Unsigned INTEGER in col 0 imported as numeric”Warning message in .local(conn, statement, ...):\n",
      "“Unsigned INTEGER in col 1 imported as numeric”Warning message in .local(conn, statement, ...):\n",
      "“Unsigned INTEGER in col 2 imported as numeric”Warning message in .local(conn, statement, ...):\n",
      "“Unsigned INTEGER in col 3 imported as numeric”Warning message in .local(conn, statement, ...):\n",
      "“Unsigned INTEGER in col 4 imported as numeric”Warning message in .local(conn, statement, ...):\n",
      "“Unsigned INTEGER in col 5 imported as numeric”Warning message in .local(conn, statement, ...):\n",
      "“Unsigned INTEGER in col 6 imported as numeric”Warning message in .local(conn, statement, ...):\n",
      "“Unsigned INTEGER in col 7 imported as numeric”Warning message in .local(conn, statement, ...):\n",
      "“Unsigned INTEGER in col 8 imported as numeric”Warning message in .local(conn, statement, ...):\n",
      "“Unsigned INTEGER in col 11 imported as numeric”Warning message in .local(conn, statement, ...):\n",
      "“Unsigned INTEGER in col 12 imported as numeric”Warning message in .local(conn, statement, ...):\n",
      "“Unsigned INTEGER in col 13 imported as numeric”Warning message in .local(conn, statement, ...):\n",
      "“Unsigned INTEGER in col 15 imported as numeric”Warning message in .local(conn, statement, ...):\n",
      "“Unsigned INTEGER in col 16 imported as numeric”Warning message in .local(conn, statement, ...):\n",
      "“Unsigned INTEGER in col 17 imported as numeric”Warning message in .local(conn, statement, ...):\n",
      "“Unsigned INTEGER in col 18 imported as numeric”"
     ]
    },
    {
     "data": {
      "text/html": [
       "<table>\n",
       "<caption>A data.frame: 6 × 22</caption>\n",
       "<thead>\n",
       "\t<tr><th scope=col>bin</th><th scope=col>matches</th><th scope=col>misMatches</th><th scope=col>repMatches</th><th scope=col>nCount</th><th scope=col>qNumInsert</th><th scope=col>qBaseInsert</th><th scope=col>tNumInsert</th><th scope=col>tBaseInsert</th><th scope=col>strand</th><th scope=col>⋯</th><th scope=col>qStart</th><th scope=col>qEnd</th><th scope=col>tName</th><th scope=col>tSize</th><th scope=col>tStart</th><th scope=col>tEnd</th><th scope=col>blockCount</th><th scope=col>blockSizes</th><th scope=col>qStarts</th><th scope=col>tStarts</th></tr>\n",
       "\t<tr><th scope=col>&lt;dbl&gt;</th><th scope=col>&lt;dbl&gt;</th><th scope=col>&lt;dbl&gt;</th><th scope=col>&lt;dbl&gt;</th><th scope=col>&lt;dbl&gt;</th><th scope=col>&lt;dbl&gt;</th><th scope=col>&lt;dbl&gt;</th><th scope=col>&lt;dbl&gt;</th><th scope=col>&lt;dbl&gt;</th><th scope=col>&lt;chr&gt;</th><th scope=col>⋯</th><th scope=col>&lt;dbl&gt;</th><th scope=col>&lt;dbl&gt;</th><th scope=col>&lt;chr&gt;</th><th scope=col>&lt;dbl&gt;</th><th scope=col>&lt;dbl&gt;</th><th scope=col>&lt;dbl&gt;</th><th scope=col>&lt;dbl&gt;</th><th scope=col>&lt;chr&gt;</th><th scope=col>&lt;chr&gt;</th><th scope=col>&lt;chr&gt;</th></tr>\n",
       "</thead>\n",
       "<tbody>\n",
       "\t<tr><td>585</td><td> 530</td><td> 4</td><td>0</td><td> 23</td><td> 3</td><td>41</td><td>3</td><td>  898</td><td>-</td><td>⋯</td><td> 5</td><td> 603</td><td>chr1</td><td>249250621</td><td>14361</td><td>15816</td><td> 5</td><td>93,144,229,70,21,                                                         </td><td>34,132,278,541,611,                                                                                   </td><td>14361,14454,14599,14968,15795,                                                                                                            </td></tr>\n",
       "\t<tr><td>585</td><td>3355</td><td>17</td><td>0</td><td>109</td><td> 9</td><td>67</td><td>9</td><td>11621</td><td>-</td><td>⋯</td><td> 0</td><td>3548</td><td>chr1</td><td>249250621</td><td>14381</td><td>29483</td><td>17</td><td>73,375,71,165,303,360,198,661,201,1,260,250,74,73,98,155,163,             </td><td>87,165,540,647,818,1123,1484,1682,2343,2545,2546,2808,3058,3133,3206,3317,3472,                       </td><td>14381,14454,14969,15075,15240,15543,15903,16104,16853,17054,17232,17492,17914,17988,18267,24736,29320,                                    </td></tr>\n",
       "\t<tr><td>585</td><td>4156</td><td>14</td><td>0</td><td> 83</td><td>16</td><td>18</td><td>2</td><td>   93</td><td>-</td><td>⋯</td><td> 3</td><td>4274</td><td>chr1</td><td>249250621</td><td>14399</td><td>18745</td><td>18</td><td>690,10,32,33,376,4,5,15,5,11,7,41,277,859,141,51,443,1253,                </td><td>44,735,746,779,813,1190,1195,1201,1217,1223,1235,1243,1285,1564,2423,2565,2617,3062,                  </td><td>14399,15089,15099,15131,15164,15540,15544,15549,15564,15569,15580,15587,15628,15906,16857,16998,17049,17492,                              </td></tr>\n",
       "\t<tr><td>585</td><td>4667</td><td> 9</td><td>0</td><td> 68</td><td>21</td><td>42</td><td>3</td><td> 5743</td><td>-</td><td>⋯</td><td>48</td><td>4834</td><td>chr1</td><td>249250621</td><td>14406</td><td>24893</td><td>23</td><td>99,352,286,24,49,14,6,5,8,149,14,44,98,12,10,355,837,59,8,1500,133,624,58,</td><td>0,99,452,739,764,814,829,836,842,851,1001,1016,1061,1160,1173,1184,1540,2381,2441,2450,3951,4103,4728,</td><td>14406,20227,20579,20865,20889,20938,20952,20958,20963,20971,21120,21134,21178,21276,21288,21298,21653,22492,22551,22559,24059,24211,24835,</td></tr>\n",
       "\t<tr><td>585</td><td>5180</td><td>14</td><td>0</td><td>167</td><td>10</td><td>38</td><td>1</td><td>   29</td><td>-</td><td>⋯</td><td> 0</td><td>5399</td><td>chr1</td><td>249250621</td><td>19688</td><td>25078</td><td>11</td><td>131,26,1300,6,4,11,4,7,358,3359,155,                                      </td><td>0,132,159,1460,1467,1472,1484,1489,1497,1856,5244,                                                    </td><td>19688,19819,19845,21145,21151,21155,21166,21170,21177,21535,24923,                                                                        </td></tr>\n",
       "\t<tr><td>585</td><td> 468</td><td> 5</td><td>0</td><td> 14</td><td> 0</td><td> 0</td><td>0</td><td>    0</td><td>-</td><td>⋯</td><td> 0</td><td> 487</td><td>chr1</td><td>249250621</td><td>27542</td><td>28029</td><td> 1</td><td>487,                                                                      </td><td>0,                                                                                                    </td><td>27542,                                                                                                                                    </td></tr>\n",
       "</tbody>\n",
       "</table>\n"
      ],
      "text/latex": [
       "A data.frame: 6 × 22\n",
       "\\begin{tabular}{r|llllllllllllllllllllll}\n",
       " bin & matches & misMatches & repMatches & nCount & qNumInsert & qBaseInsert & tNumInsert & tBaseInsert & strand & qName & qSize & qStart & qEnd & tName & tSize & tStart & tEnd & blockCount & blockSizes & qStarts & tStarts\\\\\n",
       " <dbl> & <dbl> & <dbl> & <dbl> & <dbl> & <dbl> & <dbl> & <dbl> & <dbl> & <chr> & <chr> & <dbl> & <dbl> & <dbl> & <chr> & <dbl> & <dbl> & <dbl> & <dbl> & <chr> & <chr> & <chr>\\\\\n",
       "\\hline\n",
       "\t 585 &  530 &  4 & 0 &  23 &  3 & 41 & 3 &   898 & - & 225995\\_x\\_at  &  637 &  5 &  603 & chr1 & 249250621 & 14361 & 15816 &  5 & 93,144,229,70,21,                                                          & 34,132,278,541,611,                                                                                    & 14361,14454,14599,14968,15795,                                                                                                            \\\\\n",
       "\t 585 & 3355 & 17 & 0 & 109 &  9 & 67 & 9 & 11621 & - & 225035\\_x\\_at  & 3635 &  0 & 3548 & chr1 & 249250621 & 14381 & 29483 & 17 & 73,375,71,165,303,360,198,661,201,1,260,250,74,73,98,155,163,              & 87,165,540,647,818,1123,1484,1682,2343,2545,2546,2808,3058,3133,3206,3317,3472,                        & 14381,14454,14969,15075,15240,15543,15903,16104,16853,17054,17232,17492,17914,17988,18267,24736,29320,                                    \\\\\n",
       "\t 585 & 4156 & 14 & 0 &  83 & 16 & 18 & 2 &    93 & - & 226340\\_x\\_at  & 4318 &  3 & 4274 & chr1 & 249250621 & 14399 & 18745 & 18 & 690,10,32,33,376,4,5,15,5,11,7,41,277,859,141,51,443,1253,                 & 44,735,746,779,813,1190,1195,1201,1217,1223,1235,1243,1285,1564,2423,2565,2617,3062,                   & 14399,15089,15099,15131,15164,15540,15544,15549,15564,15569,15580,15587,15628,15906,16857,16998,17049,17492,                              \\\\\n",
       "\t 585 & 4667 &  9 & 0 &  68 & 21 & 42 & 3 &  5743 & - & 1557034\\_s\\_at & 4834 & 48 & 4834 & chr1 & 249250621 & 14406 & 24893 & 23 & 99,352,286,24,49,14,6,5,8,149,14,44,98,12,10,355,837,59,8,1500,133,624,58, & 0,99,452,739,764,814,829,836,842,851,1001,1016,1061,1160,1173,1184,1540,2381,2441,2450,3951,4103,4728, & 14406,20227,20579,20865,20889,20938,20952,20958,20963,20971,21120,21134,21178,21276,21288,21298,21653,22492,22551,22559,24059,24211,24835,\\\\\n",
       "\t 585 & 5180 & 14 & 0 & 167 & 10 & 38 & 1 &    29 & - & 231811\\_at    & 5399 &  0 & 5399 & chr1 & 249250621 & 19688 & 25078 & 11 & 131,26,1300,6,4,11,4,7,358,3359,155,                                       & 0,132,159,1460,1467,1472,1484,1489,1497,1856,5244,                                                     & 19688,19819,19845,21145,21151,21155,21166,21170,21177,21535,24923,                                                                        \\\\\n",
       "\t 585 &  468 &  5 & 0 &  14 &  0 &  0 & 0 &     0 & - & 236841\\_at    &  487 &  0 &  487 & chr1 & 249250621 & 27542 & 28029 &  1 & 487,                                                                       & 0,                                                                                                     & 27542,                                                                                                                                    \\\\\n",
       "\\end{tabular}\n"
      ],
      "text/markdown": [
       "\n",
       "A data.frame: 6 × 22\n",
       "\n",
       "| bin &lt;dbl&gt; | matches &lt;dbl&gt; | misMatches &lt;dbl&gt; | repMatches &lt;dbl&gt; | nCount &lt;dbl&gt; | qNumInsert &lt;dbl&gt; | qBaseInsert &lt;dbl&gt; | tNumInsert &lt;dbl&gt; | tBaseInsert &lt;dbl&gt; | strand &lt;chr&gt; | ⋯ ⋯ | qStart &lt;dbl&gt; | qEnd &lt;dbl&gt; | tName &lt;chr&gt; | tSize &lt;dbl&gt; | tStart &lt;dbl&gt; | tEnd &lt;dbl&gt; | blockCount &lt;dbl&gt; | blockSizes &lt;chr&gt; | qStarts &lt;chr&gt; | tStarts &lt;chr&gt; |\n",
       "|---|---|---|---|---|---|---|---|---|---|---|---|---|---|---|---|---|---|---|---|---|\n",
       "| 585 |  530 |  4 | 0 |  23 |  3 | 41 | 3 |   898 | - | ⋯ |  5 |  603 | chr1 | 249250621 | 14361 | 15816 |  5 | 93,144,229,70,21,                                                          | 34,132,278,541,611,                                                                                    | 14361,14454,14599,14968,15795,                                                                                                             |\n",
       "| 585 | 3355 | 17 | 0 | 109 |  9 | 67 | 9 | 11621 | - | ⋯ |  0 | 3548 | chr1 | 249250621 | 14381 | 29483 | 17 | 73,375,71,165,303,360,198,661,201,1,260,250,74,73,98,155,163,              | 87,165,540,647,818,1123,1484,1682,2343,2545,2546,2808,3058,3133,3206,3317,3472,                        | 14381,14454,14969,15075,15240,15543,15903,16104,16853,17054,17232,17492,17914,17988,18267,24736,29320,                                     |\n",
       "| 585 | 4156 | 14 | 0 |  83 | 16 | 18 | 2 |    93 | - | ⋯ |  3 | 4274 | chr1 | 249250621 | 14399 | 18745 | 18 | 690,10,32,33,376,4,5,15,5,11,7,41,277,859,141,51,443,1253,                 | 44,735,746,779,813,1190,1195,1201,1217,1223,1235,1243,1285,1564,2423,2565,2617,3062,                   | 14399,15089,15099,15131,15164,15540,15544,15549,15564,15569,15580,15587,15628,15906,16857,16998,17049,17492,                               |\n",
       "| 585 | 4667 |  9 | 0 |  68 | 21 | 42 | 3 |  5743 | - | ⋯ | 48 | 4834 | chr1 | 249250621 | 14406 | 24893 | 23 | 99,352,286,24,49,14,6,5,8,149,14,44,98,12,10,355,837,59,8,1500,133,624,58, | 0,99,452,739,764,814,829,836,842,851,1001,1016,1061,1160,1173,1184,1540,2381,2441,2450,3951,4103,4728, | 14406,20227,20579,20865,20889,20938,20952,20958,20963,20971,21120,21134,21178,21276,21288,21298,21653,22492,22551,22559,24059,24211,24835, |\n",
       "| 585 | 5180 | 14 | 0 | 167 | 10 | 38 | 1 |    29 | - | ⋯ |  0 | 5399 | chr1 | 249250621 | 19688 | 25078 | 11 | 131,26,1300,6,4,11,4,7,358,3359,155,                                       | 0,132,159,1460,1467,1472,1484,1489,1497,1856,5244,                                                     | 19688,19819,19845,21145,21151,21155,21166,21170,21177,21535,24923,                                                                         |\n",
       "| 585 |  468 |  5 | 0 |  14 |  0 |  0 | 0 |     0 | - | ⋯ |  0 |  487 | chr1 | 249250621 | 27542 | 28029 |  1 | 487,                                                                       | 0,                                                                                                     | 27542,                                                                                                                                     |\n",
       "\n"
      ],
      "text/plain": [
       "  bin matches misMatches repMatches nCount qNumInsert qBaseInsert tNumInsert\n",
       "1 585  530     4         0           23     3         41          3         \n",
       "2 585 3355    17         0          109     9         67          9         \n",
       "3 585 4156    14         0           83    16         18          2         \n",
       "4 585 4667     9         0           68    21         42          3         \n",
       "5 585 5180    14         0          167    10         38          1         \n",
       "6 585  468     5         0           14     0          0          0         \n",
       "  tBaseInsert strand ⋯ qStart qEnd tName tSize     tStart tEnd  blockCount\n",
       "1   898       -      ⋯  5      603 chr1  249250621 14361  15816  5        \n",
       "2 11621       -      ⋯  0     3548 chr1  249250621 14381  29483 17        \n",
       "3    93       -      ⋯  3     4274 chr1  249250621 14399  18745 18        \n",
       "4  5743       -      ⋯ 48     4834 chr1  249250621 14406  24893 23        \n",
       "5    29       -      ⋯  0     5399 chr1  249250621 19688  25078 11        \n",
       "6     0       -      ⋯  0      487 chr1  249250621 27542  28029  1        \n",
       "  blockSizes                                                                \n",
       "1 93,144,229,70,21,                                                         \n",
       "2 73,375,71,165,303,360,198,661,201,1,260,250,74,73,98,155,163,             \n",
       "3 690,10,32,33,376,4,5,15,5,11,7,41,277,859,141,51,443,1253,                \n",
       "4 99,352,286,24,49,14,6,5,8,149,14,44,98,12,10,355,837,59,8,1500,133,624,58,\n",
       "5 131,26,1300,6,4,11,4,7,358,3359,155,                                      \n",
       "6 487,                                                                      \n",
       "  qStarts                                                                                               \n",
       "1 34,132,278,541,611,                                                                                   \n",
       "2 87,165,540,647,818,1123,1484,1682,2343,2545,2546,2808,3058,3133,3206,3317,3472,                       \n",
       "3 44,735,746,779,813,1190,1195,1201,1217,1223,1235,1243,1285,1564,2423,2565,2617,3062,                  \n",
       "4 0,99,452,739,764,814,829,836,842,851,1001,1016,1061,1160,1173,1184,1540,2381,2441,2450,3951,4103,4728,\n",
       "5 0,132,159,1460,1467,1472,1484,1489,1497,1856,5244,                                                    \n",
       "6 0,                                                                                                    \n",
       "  tStarts                                                                                                                                   \n",
       "1 14361,14454,14599,14968,15795,                                                                                                            \n",
       "2 14381,14454,14969,15075,15240,15543,15903,16104,16853,17054,17232,17492,17914,17988,18267,24736,29320,                                    \n",
       "3 14399,15089,15099,15131,15164,15540,15544,15549,15564,15569,15580,15587,15628,15906,16857,16998,17049,17492,                              \n",
       "4 14406,20227,20579,20865,20889,20938,20952,20958,20963,20971,21120,21134,21178,21276,21288,21298,21653,22492,22551,22559,24059,24211,24835,\n",
       "5 19688,19819,19845,21145,21151,21155,21166,21170,21177,21535,24923,                                                                        \n",
       "6 27542,                                                                                                                                    "
      ]
     },
     "metadata": {},
     "output_type": "display_data"
    }
   ],
   "source": [
    "# Read from tehe table\n",
    "affy_data <- dbReadTable(hg19, 'affyU133Plus2')\n",
    "head(affy_data)"
   ]
  },
  {
   "cell_type": "code",
   "execution_count": 18,
   "metadata": {},
   "outputs": [
    {
     "data": {
      "text/html": [
       "<dl class=dl-horizontal>\n",
       "\t<dt>0%</dt>\n",
       "\t\t<dd>1</dd>\n",
       "\t<dt>25%</dt>\n",
       "\t\t<dd>1</dd>\n",
       "\t<dt>50%</dt>\n",
       "\t\t<dd>2</dd>\n",
       "\t<dt>75%</dt>\n",
       "\t\t<dd>2</dd>\n",
       "\t<dt>100%</dt>\n",
       "\t\t<dd>3</dd>\n",
       "</dl>\n"
      ],
      "text/latex": [
       "\\begin{description*}\n",
       "\\item[0\\textbackslash{}\\%] 1\n",
       "\\item[25\\textbackslash{}\\%] 1\n",
       "\\item[50\\textbackslash{}\\%] 2\n",
       "\\item[75\\textbackslash{}\\%] 2\n",
       "\\item[100\\textbackslash{}\\%] 3\n",
       "\\end{description*}\n"
      ],
      "text/markdown": [
       "0%\n",
       ":   125%\n",
       ":   150%\n",
       ":   275%\n",
       ":   2100%\n",
       ":   3\n",
       "\n"
      ],
      "text/plain": [
       "  0%  25%  50%  75% 100% \n",
       "   1    1    2    2    3 "
      ]
     },
     "metadata": {},
     "output_type": "display_data"
    }
   ],
   "source": [
    "# Select a subset from a table\n",
    "query <- dbSendQuery(hg19, 'select * from affyU133Plus2 where misMatches between 1 and 3 ')\n",
    "affy_mis <- fetch(query); quantile(affy_mis$misMatches)"
   ]
  },
  {
   "cell_type": "code",
   "execution_count": 19,
   "metadata": {},
   "outputs": [
    {
     "data": {
      "text/html": [
       "TRUE"
      ],
      "text/latex": [
       "TRUE"
      ],
      "text/markdown": [
       "TRUE"
      ],
      "text/plain": [
       "[1] TRUE"
      ]
     },
     "metadata": {},
     "output_type": "display_data"
    },
    {
     "data": {
      "text/html": [
       "<ol class=list-inline>\n",
       "\t<li>10</li>\n",
       "\t<li>22</li>\n",
       "</ol>\n"
      ],
      "text/latex": [
       "\\begin{enumerate*}\n",
       "\\item 10\n",
       "\\item 22\n",
       "\\end{enumerate*}\n"
      ],
      "text/markdown": [
       "1. 10\n",
       "2. 22\n",
       "\n",
       "\n"
      ],
      "text/plain": [
       "[1] 10 22"
      ]
     },
     "metadata": {},
     "output_type": "display_data"
    }
   ],
   "source": [
    "affy_mis_small <- fetch(query, n=10); dbClearResult(query); dim(affy_mis_small)"
   ]
  },
  {
   "cell_type": "code",
   "execution_count": 20,
   "metadata": {},
   "outputs": [
    {
     "data": {
      "text/html": [
       "TRUE"
      ],
      "text/latex": [
       "TRUE"
      ],
      "text/markdown": [
       "TRUE"
      ],
      "text/plain": [
       "[1] TRUE"
      ]
     },
     "metadata": {},
     "output_type": "display_data"
    }
   ],
   "source": [
    "dbDisconnect(hg19)"
   ]
  },
  {
   "cell_type": "markdown",
   "metadata": {},
   "source": [
    "## Reading form HDF5"
   ]
  },
  {
   "cell_type": "raw",
   "metadata": {},
   "source": [
    "if (!requireNamespace(\"BiocManager\", quietly = TRUE))\n",
    "    install.packages(\"BiocManager\")\n",
    "BiocManager::install()\n",
    "\n",
    "BiocManager::install(c(\"rhdf5\"))"
   ]
  },
  {
   "cell_type": "code",
   "execution_count": 23,
   "metadata": {},
   "outputs": [],
   "source": [
    "library(rhdf5)"
   ]
  },
  {
   "cell_type": "code",
   "execution_count": 24,
   "metadata": {},
   "outputs": [
    {
     "data": {
      "text/html": [
       "TRUE"
      ],
      "text/latex": [
       "TRUE"
      ],
      "text/markdown": [
       "TRUE"
      ],
      "text/plain": [
       "[1] TRUE"
      ]
     },
     "metadata": {},
     "output_type": "display_data"
    }
   ],
   "source": [
    "created <- h5createFile('example.h5')\n",
    "created"
   ]
  },
  {
   "cell_type": "code",
   "execution_count": 25,
   "metadata": {},
   "outputs": [
    {
     "data": {
      "text/html": [
       "<table>\n",
       "<caption>A data.frame: 3 × 5</caption>\n",
       "<thead>\n",
       "\t<tr><th></th><th scope=col>group</th><th scope=col>name</th><th scope=col>otype</th><th scope=col>dclass</th><th scope=col>dim</th></tr>\n",
       "\t<tr><th></th><th scope=col>&lt;chr&gt;</th><th scope=col>&lt;chr&gt;</th><th scope=col>&lt;chr&gt;</th><th scope=col>&lt;chr&gt;</th><th scope=col>&lt;chr&gt;</th></tr>\n",
       "</thead>\n",
       "<tbody>\n",
       "\t<tr><th scope=row>0</th><td>/  </td><td>g1  </td><td>H5I_GROUP</td><td></td><td></td></tr>\n",
       "\t<tr><th scope=row>1</th><td>/  </td><td>g2  </td><td>H5I_GROUP</td><td></td><td></td></tr>\n",
       "\t<tr><th scope=row>2</th><td>/g2</td><td>g2_1</td><td>H5I_GROUP</td><td></td><td></td></tr>\n",
       "</tbody>\n",
       "</table>\n"
      ],
      "text/latex": [
       "A data.frame: 3 × 5\n",
       "\\begin{tabular}{r|lllll}\n",
       "  & group & name & otype & dclass & dim\\\\\n",
       "  & <chr> & <chr> & <chr> & <chr> & <chr>\\\\\n",
       "\\hline\n",
       "\t0 & /   & g1   & H5I\\_GROUP &  & \\\\\n",
       "\t1 & /   & g2   & H5I\\_GROUP &  & \\\\\n",
       "\t2 & /g2 & g2\\_1 & H5I\\_GROUP &  & \\\\\n",
       "\\end{tabular}\n"
      ],
      "text/markdown": [
       "\n",
       "A data.frame: 3 × 5\n",
       "\n",
       "| <!--/--> | group &lt;chr&gt; | name &lt;chr&gt; | otype &lt;chr&gt; | dclass &lt;chr&gt; | dim &lt;chr&gt; |\n",
       "|---|---|---|---|---|---|\n",
       "| 0 | /   | g1   | H5I_GROUP | <!----> | <!----> |\n",
       "| 1 | /   | g2   | H5I_GROUP | <!----> | <!----> |\n",
       "| 2 | /g2 | g2_1 | H5I_GROUP | <!----> | <!----> |\n",
       "\n"
      ],
      "text/plain": [
       "  group name otype     dclass dim\n",
       "0 /     g1   H5I_GROUP           \n",
       "1 /     g2   H5I_GROUP           \n",
       "2 /g2   g2_1 H5I_GROUP           "
      ]
     },
     "metadata": {},
     "output_type": "display_data"
    }
   ],
   "source": [
    "created <- h5createGroup('example.h5', 'g1')\n",
    "created <- h5createGroup('example.h5', 'g2')\n",
    "created <- h5createGroup('example.h5', 'g2/g2_1')\n",
    "h5ls('example.h5')"
   ]
  },
  {
   "cell_type": "code",
   "execution_count": 26,
   "metadata": {},
   "outputs": [
    {
     "data": {
      "text/html": [
       "<table>\n",
       "<caption>A data.frame: 5 × 5</caption>\n",
       "<thead>\n",
       "\t<tr><th></th><th scope=col>group</th><th scope=col>name</th><th scope=col>otype</th><th scope=col>dclass</th><th scope=col>dim</th></tr>\n",
       "\t<tr><th></th><th scope=col>&lt;chr&gt;</th><th scope=col>&lt;chr&gt;</th><th scope=col>&lt;chr&gt;</th><th scope=col>&lt;chr&gt;</th><th scope=col>&lt;chr&gt;</th></tr>\n",
       "</thead>\n",
       "<tbody>\n",
       "\t<tr><th scope=row>0</th><td>/       </td><td>g1  </td><td>H5I_GROUP  </td><td>       </td><td>         </td></tr>\n",
       "\t<tr><th scope=row>1</th><td>/g1     </td><td>A   </td><td>H5I_DATASET</td><td>INTEGER</td><td>5 x 2    </td></tr>\n",
       "\t<tr><th scope=row>2</th><td>/       </td><td>g2  </td><td>H5I_GROUP  </td><td>       </td><td>         </td></tr>\n",
       "\t<tr><th scope=row>3</th><td>/g2     </td><td>g2_1</td><td>H5I_GROUP  </td><td>       </td><td>         </td></tr>\n",
       "\t<tr><th scope=row>4</th><td>/g2/g2_1</td><td>B   </td><td>H5I_DATASET</td><td>FLOAT  </td><td>5 x 2 x 2</td></tr>\n",
       "</tbody>\n",
       "</table>\n"
      ],
      "text/latex": [
       "A data.frame: 5 × 5\n",
       "\\begin{tabular}{r|lllll}\n",
       "  & group & name & otype & dclass & dim\\\\\n",
       "  & <chr> & <chr> & <chr> & <chr> & <chr>\\\\\n",
       "\\hline\n",
       "\t0 & /        & g1   & H5I\\_GROUP   &         &          \\\\\n",
       "\t1 & /g1      & A    & H5I\\_DATASET & INTEGER & 5 x 2    \\\\\n",
       "\t2 & /        & g2   & H5I\\_GROUP   &         &          \\\\\n",
       "\t3 & /g2      & g2\\_1 & H5I\\_GROUP   &         &          \\\\\n",
       "\t4 & /g2/g2\\_1 & B    & H5I\\_DATASET & FLOAT   & 5 x 2 x 2\\\\\n",
       "\\end{tabular}\n"
      ],
      "text/markdown": [
       "\n",
       "A data.frame: 5 × 5\n",
       "\n",
       "| <!--/--> | group &lt;chr&gt; | name &lt;chr&gt; | otype &lt;chr&gt; | dclass &lt;chr&gt; | dim &lt;chr&gt; |\n",
       "|---|---|---|---|---|---|\n",
       "| 0 | /        | g1   | H5I_GROUP   | <!----> | <!----> |\n",
       "| 1 | /g1      | A    | H5I_DATASET | INTEGER | 5 x 2     |\n",
       "| 2 | /        | g2   | H5I_GROUP   | <!----> | <!----> |\n",
       "| 3 | /g2      | g2_1 | H5I_GROUP   | <!----> | <!----> |\n",
       "| 4 | /g2/g2_1 | B    | H5I_DATASET | FLOAT   | 5 x 2 x 2 |\n",
       "\n"
      ],
      "text/plain": [
       "  group    name otype       dclass  dim      \n",
       "0 /        g1   H5I_GROUP                    \n",
       "1 /g1      A    H5I_DATASET INTEGER 5 x 2    \n",
       "2 /        g2   H5I_GROUP                    \n",
       "3 /g2      g2_1 H5I_GROUP                    \n",
       "4 /g2/g2_1 B    H5I_DATASET FLOAT   5 x 2 x 2"
      ]
     },
     "metadata": {},
     "output_type": "display_data"
    }
   ],
   "source": [
    "# Write to groups\n",
    "A = matrix(1:10, nr = 5, nc = 2)\n",
    "h5write(A, 'example.h5', 'g1/A')\n",
    "B = array(seq(0.1, 2.0, by=0.1), dim=c(5, 2, 2))\n",
    "attr(B, 'scale') <- 'liter'\n",
    "h5write(B, 'example.h5', 'g2/g2_1/B')\n",
    "h5ls('example.h5')"
   ]
  },
  {
   "cell_type": "code",
   "execution_count": 28,
   "metadata": {},
   "outputs": [
    {
     "data": {
      "text/html": [
       "<table>\n",
       "<caption>A data.frame: 6 × 5</caption>\n",
       "<thead>\n",
       "\t<tr><th></th><th scope=col>group</th><th scope=col>name</th><th scope=col>otype</th><th scope=col>dclass</th><th scope=col>dim</th></tr>\n",
       "\t<tr><th></th><th scope=col>&lt;chr&gt;</th><th scope=col>&lt;chr&gt;</th><th scope=col>&lt;chr&gt;</th><th scope=col>&lt;chr&gt;</th><th scope=col>&lt;chr&gt;</th></tr>\n",
       "</thead>\n",
       "<tbody>\n",
       "\t<tr><th scope=row>0</th><td>/       </td><td>df  </td><td>H5I_DATASET</td><td>COMPOUND</td><td>5        </td></tr>\n",
       "\t<tr><th scope=row>1</th><td>/       </td><td>g1  </td><td>H5I_GROUP  </td><td>        </td><td>         </td></tr>\n",
       "\t<tr><th scope=row>2</th><td>/g1     </td><td>A   </td><td>H5I_DATASET</td><td>INTEGER </td><td>5 x 2    </td></tr>\n",
       "\t<tr><th scope=row>3</th><td>/       </td><td>g2  </td><td>H5I_GROUP  </td><td>        </td><td>         </td></tr>\n",
       "\t<tr><th scope=row>4</th><td>/g2     </td><td>g2_1</td><td>H5I_GROUP  </td><td>        </td><td>         </td></tr>\n",
       "\t<tr><th scope=row>5</th><td>/g2/g2_1</td><td>B   </td><td>H5I_DATASET</td><td>FLOAT   </td><td>5 x 2 x 2</td></tr>\n",
       "</tbody>\n",
       "</table>\n"
      ],
      "text/latex": [
       "A data.frame: 6 × 5\n",
       "\\begin{tabular}{r|lllll}\n",
       "  & group & name & otype & dclass & dim\\\\\n",
       "  & <chr> & <chr> & <chr> & <chr> & <chr>\\\\\n",
       "\\hline\n",
       "\t0 & /        & df   & H5I\\_DATASET & COMPOUND & 5        \\\\\n",
       "\t1 & /        & g1   & H5I\\_GROUP   &          &          \\\\\n",
       "\t2 & /g1      & A    & H5I\\_DATASET & INTEGER  & 5 x 2    \\\\\n",
       "\t3 & /        & g2   & H5I\\_GROUP   &          &          \\\\\n",
       "\t4 & /g2      & g2\\_1 & H5I\\_GROUP   &          &          \\\\\n",
       "\t5 & /g2/g2\\_1 & B    & H5I\\_DATASET & FLOAT    & 5 x 2 x 2\\\\\n",
       "\\end{tabular}\n"
      ],
      "text/markdown": [
       "\n",
       "A data.frame: 6 × 5\n",
       "\n",
       "| <!--/--> | group &lt;chr&gt; | name &lt;chr&gt; | otype &lt;chr&gt; | dclass &lt;chr&gt; | dim &lt;chr&gt; |\n",
       "|---|---|---|---|---|---|\n",
       "| 0 | /        | df   | H5I_DATASET | COMPOUND | 5         |\n",
       "| 1 | /        | g1   | H5I_GROUP   | <!----> | <!----> |\n",
       "| 2 | /g1      | A    | H5I_DATASET | INTEGER  | 5 x 2     |\n",
       "| 3 | /        | g2   | H5I_GROUP   | <!----> | <!----> |\n",
       "| 4 | /g2      | g2_1 | H5I_GROUP   | <!----> | <!----> |\n",
       "| 5 | /g2/g2_1 | B    | H5I_DATASET | FLOAT    | 5 x 2 x 2 |\n",
       "\n"
      ],
      "text/plain": [
       "  group    name otype       dclass   dim      \n",
       "0 /        df   H5I_DATASET COMPOUND 5        \n",
       "1 /        g1   H5I_GROUP                     \n",
       "2 /g1      A    H5I_DATASET INTEGER  5 x 2    \n",
       "3 /        g2   H5I_GROUP                     \n",
       "4 /g2      g2_1 H5I_GROUP                     \n",
       "5 /g2/g2_1 B    H5I_DATASET FLOAT    5 x 2 x 2"
      ]
     },
     "metadata": {},
     "output_type": "display_data"
    }
   ],
   "source": [
    "# Write a dataset\n",
    "df = data.frame(1L:5L, seq(0, 1, length.out=5), c('ab', 'cd', 'efg', 'hadf', 'a'), stringsAsFactors = FALSE)\n",
    "h5write(df, 'example.h5', 'df')\n",
    "h5ls('example.h5')"
   ]
  },
  {
   "cell_type": "code",
   "execution_count": 29,
   "metadata": {},
   "outputs": [
    {
     "data": {
      "text/html": [
       "<table>\n",
       "<caption>A matrix: 5 × 2 of type int</caption>\n",
       "<tbody>\n",
       "\t<tr><td>5</td><td> 6</td></tr>\n",
       "\t<tr><td>8</td><td> 7</td></tr>\n",
       "\t<tr><td>9</td><td> 8</td></tr>\n",
       "\t<tr><td>4</td><td> 9</td></tr>\n",
       "\t<tr><td>5</td><td>10</td></tr>\n",
       "</tbody>\n",
       "</table>\n"
      ],
      "text/latex": [
       "A matrix: 5 × 2 of type int\n",
       "\\begin{tabular}{ll}\n",
       "\t 5 &  6\\\\\n",
       "\t 8 &  7\\\\\n",
       "\t 9 &  8\\\\\n",
       "\t 4 &  9\\\\\n",
       "\t 5 & 10\\\\\n",
       "\\end{tabular}\n"
      ],
      "text/markdown": [
       "\n",
       "A matrix: 5 × 2 of type int\n",
       "\n",
       "| 5 |  6 |\n",
       "| 8 |  7 |\n",
       "| 9 |  8 |\n",
       "| 4 |  9 |\n",
       "| 5 | 10 |\n",
       "\n"
      ],
      "text/plain": [
       "     [,1] [,2]\n",
       "[1,] 5     6  \n",
       "[2,] 8     7  \n",
       "[3,] 9     8  \n",
       "[4,] 4     9  \n",
       "[5,] 5    10  "
      ]
     },
     "metadata": {},
     "output_type": "display_data"
    }
   ],
   "source": [
    "# Reading and writing chunks\n",
    "h5write(c(5, 8, 9), 'example.h5', 'g1/A', index=list(1:3, 1))\n",
    "h5read('example.h5', 'g1/A')"
   ]
  }
 ],
 "metadata": {
  "kernelspec": {
   "display_name": "R",
   "language": "R",
   "name": "ir"
  },
  "language_info": {
   "codemirror_mode": "r",
   "file_extension": ".r",
   "mimetype": "text/x-r-source",
   "name": "R",
   "pygments_lexer": "r",
   "version": "3.6.0"
  },
  "toc": {
   "base_numbering": 1,
   "nav_menu": {},
   "number_sections": false,
   "sideBar": false,
   "skip_h1_title": false,
   "title_cell": "Table of Contents",
   "title_sidebar": "Contents",
   "toc_cell": false,
   "toc_position": {},
   "toc_section_display": false,
   "toc_window_display": false
  }
 },
 "nbformat": 4,
 "nbformat_minor": 2
}
